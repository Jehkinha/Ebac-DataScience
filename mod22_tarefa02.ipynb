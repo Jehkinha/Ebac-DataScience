{
 "cells": [
  {
   "cell_type": "markdown",
   "metadata": {},
   "source": [
    "# Tarefa 02\n",
    "\n",
    "- Leia os enunciados com atenção\n",
    "- Saiba que pode haver mais de uma resposta correta\n",
    "- Insira novas células de código sempre que achar necessário\n",
    "- Em caso de dúvidas, procure os monitores\n",
    "- Divirta-se :)"
   ]
  },
  {
   "cell_type": "markdown",
   "metadata": {},
   "source": [
    "#### 1. Carregue os dados da tarefa anterior"
   ]
  },
  {
   "cell_type": "code",
   "execution_count": 587,
   "metadata": {},
   "outputs": [],
   "source": [
    "import pandas as pd\n",
    "from datetime import datetime\n",
    "\n",
    "\n",
    "from pandas_datareader import data as pdr\n",
    "import yfinance as yf\n",
    "import plotly.express as px\n",
    "from plotly import graph_objects\n",
    "from plotly.graph_objs import Layout"
   ]
  },
  {
   "cell_type": "code",
   "execution_count": 589,
   "metadata": {},
   "outputs": [],
   "source": [
    "df = pd.read_csv('dados_historicos_acoes.csv', header=[0,1], index_col=0)"
   ]
  },
  {
   "cell_type": "code",
   "execution_count": 591,
   "metadata": {},
   "outputs": [
    {
     "data": {
      "text/html": [
       "<div>\n",
       "<style scoped>\n",
       "    .dataframe tbody tr th:only-of-type {\n",
       "        vertical-align: middle;\n",
       "    }\n",
       "\n",
       "    .dataframe tbody tr th {\n",
       "        vertical-align: top;\n",
       "    }\n",
       "\n",
       "    .dataframe thead tr th {\n",
       "        text-align: left;\n",
       "    }\n",
       "\n",
       "    .dataframe thead tr:last-of-type th {\n",
       "        text-align: right;\n",
       "    }\n",
       "</style>\n",
       "<table border=\"1\" class=\"dataframe\">\n",
       "  <thead>\n",
       "    <tr>\n",
       "      <th>Price</th>\n",
       "      <th colspan=\"3\" halign=\"left\">Close</th>\n",
       "      <th colspan=\"3\" halign=\"left\">High</th>\n",
       "      <th colspan=\"3\" halign=\"left\">Low</th>\n",
       "      <th colspan=\"3\" halign=\"left\">Open</th>\n",
       "      <th colspan=\"3\" halign=\"left\">Volume</th>\n",
       "    </tr>\n",
       "    <tr>\n",
       "      <th>Ticker</th>\n",
       "      <th>MGLU3.SA</th>\n",
       "      <th>MSFT</th>\n",
       "      <th>NVDA</th>\n",
       "      <th>MGLU3.SA</th>\n",
       "      <th>MSFT</th>\n",
       "      <th>NVDA</th>\n",
       "      <th>MGLU3.SA</th>\n",
       "      <th>MSFT</th>\n",
       "      <th>NVDA</th>\n",
       "      <th>MGLU3.SA</th>\n",
       "      <th>MSFT</th>\n",
       "      <th>NVDA</th>\n",
       "      <th>MGLU3.SA</th>\n",
       "      <th>MSFT</th>\n",
       "      <th>NVDA</th>\n",
       "    </tr>\n",
       "    <tr>\n",
       "      <th>Date</th>\n",
       "      <th></th>\n",
       "      <th></th>\n",
       "      <th></th>\n",
       "      <th></th>\n",
       "      <th></th>\n",
       "      <th></th>\n",
       "      <th></th>\n",
       "      <th></th>\n",
       "      <th></th>\n",
       "      <th></th>\n",
       "      <th></th>\n",
       "      <th></th>\n",
       "      <th></th>\n",
       "      <th></th>\n",
       "      <th></th>\n",
       "    </tr>\n",
       "  </thead>\n",
       "  <tbody>\n",
       "    <tr>\n",
       "      <th>2021-01-04</th>\n",
       "      <td>235.530670</td>\n",
       "      <td>210.423126</td>\n",
       "      <td>13.080303</td>\n",
       "      <td>239.082324</td>\n",
       "      <td>215.555867</td>\n",
       "      <td>13.617939</td>\n",
       "      <td>232.446344</td>\n",
       "      <td>207.639261</td>\n",
       "      <td>12.929685</td>\n",
       "      <td>236.091466</td>\n",
       "      <td>215.101555</td>\n",
       "      <td>13.071077</td>\n",
       "      <td>2748365.0</td>\n",
       "      <td>37130100.0</td>\n",
       "      <td>560640000.0</td>\n",
       "    </tr>\n",
       "    <tr>\n",
       "      <th>2021-01-05</th>\n",
       "      <td>231.418228</td>\n",
       "      <td>210.626068</td>\n",
       "      <td>13.370817</td>\n",
       "      <td>235.343741</td>\n",
       "      <td>211.225381</td>\n",
       "      <td>13.409469</td>\n",
       "      <td>227.492715</td>\n",
       "      <td>208.499511</td>\n",
       "      <td>13.053872</td>\n",
       "      <td>234.596023</td>\n",
       "      <td>210.007433</td>\n",
       "      <td>13.066589</td>\n",
       "      <td>2719049.0</td>\n",
       "      <td>23823000.0</td>\n",
       "      <td>322760000.0</td>\n",
       "    </tr>\n",
       "    <tr>\n",
       "      <th>2021-01-06</th>\n",
       "      <td>219.267838</td>\n",
       "      <td>205.164719</td>\n",
       "      <td>12.582567</td>\n",
       "      <td>230.483596</td>\n",
       "      <td>209.263185</td>\n",
       "      <td>13.211471</td>\n",
       "      <td>218.893978</td>\n",
       "      <td>204.865069</td>\n",
       "      <td>12.554140</td>\n",
       "      <td>230.390128</td>\n",
       "      <td>205.087387</td>\n",
       "      <td>13.189028</td>\n",
       "      <td>5538084.0</td>\n",
       "      <td>35930700.0</td>\n",
       "      <td>580424000.0</td>\n",
       "    </tr>\n",
       "    <tr>\n",
       "      <th>2021-01-07</th>\n",
       "      <td>216.463898</td>\n",
       "      <td>211.003067</td>\n",
       "      <td>13.310217</td>\n",
       "      <td>222.912956</td>\n",
       "      <td>212.018019</td>\n",
       "      <td>13.343882</td>\n",
       "      <td>214.501149</td>\n",
       "      <td>206.575969</td>\n",
       "      <td>12.853876</td>\n",
       "      <td>220.950207</td>\n",
       "      <td>206.894940</td>\n",
       "      <td>12.934670</td>\n",
       "      <td>4506099.0</td>\n",
       "      <td>27694500.0</td>\n",
       "      <td>461480000.0</td>\n",
       "    </tr>\n",
       "    <tr>\n",
       "      <th>2021-01-08</th>\n",
       "      <td>222.819489</td>\n",
       "      <td>212.288681</td>\n",
       "      <td>13.243138</td>\n",
       "      <td>227.118861</td>\n",
       "      <td>213.216641</td>\n",
       "      <td>13.387023</td>\n",
       "      <td>215.155399</td>\n",
       "      <td>209.785143</td>\n",
       "      <td>13.008983</td>\n",
       "      <td>216.744304</td>\n",
       "      <td>211.380058</td>\n",
       "      <td>13.328672</td>\n",
       "      <td>4702983.0</td>\n",
       "      <td>22956200.0</td>\n",
       "      <td>292528000.0</td>\n",
       "    </tr>\n",
       "    <tr>\n",
       "      <th>...</th>\n",
       "      <td>...</td>\n",
       "      <td>...</td>\n",
       "      <td>...</td>\n",
       "      <td>...</td>\n",
       "      <td>...</td>\n",
       "      <td>...</td>\n",
       "      <td>...</td>\n",
       "      <td>...</td>\n",
       "      <td>...</td>\n",
       "      <td>...</td>\n",
       "      <td>...</td>\n",
       "      <td>...</td>\n",
       "      <td>...</td>\n",
       "      <td>...</td>\n",
       "      <td>...</td>\n",
       "    </tr>\n",
       "    <tr>\n",
       "      <th>2023-12-21</th>\n",
       "      <td>19.548258</td>\n",
       "      <td>370.767426</td>\n",
       "      <td>48.976116</td>\n",
       "      <td>20.109451</td>\n",
       "      <td>371.630963</td>\n",
       "      <td>49.081086</td>\n",
       "      <td>19.267660</td>\n",
       "      <td>367.293404</td>\n",
       "      <td>48.405275</td>\n",
       "      <td>20.015919</td>\n",
       "      <td>369.794689</td>\n",
       "      <td>48.797166</td>\n",
       "      <td>13106996.0</td>\n",
       "      <td>17708000.0</td>\n",
       "      <td>300425000.0</td>\n",
       "    </tr>\n",
       "    <tr>\n",
       "      <th>2023-12-22</th>\n",
       "      <td>19.828854</td>\n",
       "      <td>371.799744</td>\n",
       "      <td>48.816162</td>\n",
       "      <td>19.922386</td>\n",
       "      <td>372.395296</td>\n",
       "      <td>49.369003</td>\n",
       "      <td>19.267660</td>\n",
       "      <td>369.943628</td>\n",
       "      <td>48.453262</td>\n",
       "      <td>19.641790</td>\n",
       "      <td>370.906430</td>\n",
       "      <td>49.181057</td>\n",
       "      <td>8595562.0</td>\n",
       "      <td>17091100.0</td>\n",
       "      <td>252507000.0</td>\n",
       "    </tr>\n",
       "    <tr>\n",
       "      <th>2023-12-26</th>\n",
       "      <td>19.735323</td>\n",
       "      <td>371.879120</td>\n",
       "      <td>49.265030</td>\n",
       "      <td>20.109451</td>\n",
       "      <td>374.142196</td>\n",
       "      <td>49.585938</td>\n",
       "      <td>19.548258</td>\n",
       "      <td>370.727726</td>\n",
       "      <td>48.946120</td>\n",
       "      <td>20.015919</td>\n",
       "      <td>372.216593</td>\n",
       "      <td>48.954117</td>\n",
       "      <td>7100571.0</td>\n",
       "      <td>12673100.0</td>\n",
       "      <td>244200000.0</td>\n",
       "    </tr>\n",
       "    <tr>\n",
       "      <th>2023-12-27</th>\n",
       "      <td>21.044775</td>\n",
       "      <td>371.293518</td>\n",
       "      <td>49.402992</td>\n",
       "      <td>21.231838</td>\n",
       "      <td>372.276160</td>\n",
       "      <td>49.665918</td>\n",
       "      <td>19.548258</td>\n",
       "      <td>370.042861</td>\n",
       "      <td>49.071086</td>\n",
       "      <td>19.828854</td>\n",
       "      <td>370.916334</td>\n",
       "      <td>49.496967</td>\n",
       "      <td>13867300.0</td>\n",
       "      <td>14905400.0</td>\n",
       "      <td>233648000.0</td>\n",
       "    </tr>\n",
       "    <tr>\n",
       "      <th>2023-12-28</th>\n",
       "      <td>20.202984</td>\n",
       "      <td>372.494507</td>\n",
       "      <td>49.507965</td>\n",
       "      <td>20.857710</td>\n",
       "      <td>373.665741</td>\n",
       "      <td>49.869862</td>\n",
       "      <td>20.109451</td>\n",
       "      <td>371.382825</td>\n",
       "      <td>49.397996</td>\n",
       "      <td>20.670645</td>\n",
       "      <td>372.583835</td>\n",
       "      <td>49.628933</td>\n",
       "      <td>12859371.0</td>\n",
       "      <td>14327000.0</td>\n",
       "      <td>246587000.0</td>\n",
       "    </tr>\n",
       "  </tbody>\n",
       "</table>\n",
       "<p>725 rows × 15 columns</p>\n",
       "</div>"
      ],
      "text/plain": [
       "Price            Close                               High              \\\n",
       "Ticker        MGLU3.SA        MSFT       NVDA    MGLU3.SA        MSFT   \n",
       "Date                                                                    \n",
       "2021-01-04  235.530670  210.423126  13.080303  239.082324  215.555867   \n",
       "2021-01-05  231.418228  210.626068  13.370817  235.343741  211.225381   \n",
       "2021-01-06  219.267838  205.164719  12.582567  230.483596  209.263185   \n",
       "2021-01-07  216.463898  211.003067  13.310217  222.912956  212.018019   \n",
       "2021-01-08  222.819489  212.288681  13.243138  227.118861  213.216641   \n",
       "...                ...         ...        ...         ...         ...   \n",
       "2023-12-21   19.548258  370.767426  48.976116   20.109451  371.630963   \n",
       "2023-12-22   19.828854  371.799744  48.816162   19.922386  372.395296   \n",
       "2023-12-26   19.735323  371.879120  49.265030   20.109451  374.142196   \n",
       "2023-12-27   21.044775  371.293518  49.402992   21.231838  372.276160   \n",
       "2023-12-28   20.202984  372.494507  49.507965   20.857710  373.665741   \n",
       "\n",
       "Price                         Low                               Open  \\\n",
       "Ticker           NVDA    MGLU3.SA        MSFT       NVDA    MGLU3.SA   \n",
       "Date                                                                   \n",
       "2021-01-04  13.617939  232.446344  207.639261  12.929685  236.091466   \n",
       "2021-01-05  13.409469  227.492715  208.499511  13.053872  234.596023   \n",
       "2021-01-06  13.211471  218.893978  204.865069  12.554140  230.390128   \n",
       "2021-01-07  13.343882  214.501149  206.575969  12.853876  220.950207   \n",
       "2021-01-08  13.387023  215.155399  209.785143  13.008983  216.744304   \n",
       "...               ...         ...         ...        ...         ...   \n",
       "2023-12-21  49.081086   19.267660  367.293404  48.405275   20.015919   \n",
       "2023-12-22  49.369003   19.267660  369.943628  48.453262   19.641790   \n",
       "2023-12-26  49.585938   19.548258  370.727726  48.946120   20.015919   \n",
       "2023-12-27  49.665918   19.548258  370.042861  49.071086   19.828854   \n",
       "2023-12-28  49.869862   20.109451  371.382825  49.397996   20.670645   \n",
       "\n",
       "Price                                  Volume                           \n",
       "Ticker            MSFT       NVDA    MGLU3.SA        MSFT         NVDA  \n",
       "Date                                                                    \n",
       "2021-01-04  215.101555  13.071077   2748365.0  37130100.0  560640000.0  \n",
       "2021-01-05  210.007433  13.066589   2719049.0  23823000.0  322760000.0  \n",
       "2021-01-06  205.087387  13.189028   5538084.0  35930700.0  580424000.0  \n",
       "2021-01-07  206.894940  12.934670   4506099.0  27694500.0  461480000.0  \n",
       "2021-01-08  211.380058  13.328672   4702983.0  22956200.0  292528000.0  \n",
       "...                ...        ...         ...         ...          ...  \n",
       "2023-12-21  369.794689  48.797166  13106996.0  17708000.0  300425000.0  \n",
       "2023-12-22  370.906430  49.181057   8595562.0  17091100.0  252507000.0  \n",
       "2023-12-26  372.216593  48.954117   7100571.0  12673100.0  244200000.0  \n",
       "2023-12-27  370.916334  49.496967  13867300.0  14905400.0  233648000.0  \n",
       "2023-12-28  372.583835  49.628933  12859371.0  14327000.0  246587000.0  \n",
       "\n",
       "[725 rows x 15 columns]"
      ]
     },
     "execution_count": 591,
     "metadata": {},
     "output_type": "execute_result"
    }
   ],
   "source": [
    "df =df.dropna()\n",
    "df"
   ]
  },
  {
   "cell_type": "markdown",
   "metadata": {},
   "source": [
    "#### 2. Média móvel\n",
    "\n",
    "1. Faça uma média móvel  em 90 dias dos valores de fechamento ajustados dos ativos que você escolheu\n",
    "2. Utilizando a fução ```rolling()```, calcule o desvio pardão desses ativos ao longo do tempo, utilizando a mesma janela móvel do item acima\n",
    "2. Monte um gráfico de linhas para as médias móveis dos ativos da sua base\n",
    "4. Monte um gráfico de linhas para os desvios padrão em janela móvel\n",
    "5. Compare os dois gráficos que você fez com o da tarefa anterior. Veja se eles apontam conclusões semelhantes quanto aos períodos de maior volatilidade (variação) dos ativos."
   ]
  },
  {
   "cell_type": "code",
   "execution_count": 594,
   "metadata": {},
   "outputs": [
    {
     "data": {
      "text/html": [
       "<div>\n",
       "<style scoped>\n",
       "    .dataframe tbody tr th:only-of-type {\n",
       "        vertical-align: middle;\n",
       "    }\n",
       "\n",
       "    .dataframe tbody tr th {\n",
       "        vertical-align: top;\n",
       "    }\n",
       "\n",
       "    .dataframe thead tr th {\n",
       "        text-align: left;\n",
       "    }\n",
       "\n",
       "    .dataframe thead tr:last-of-type th {\n",
       "        text-align: right;\n",
       "    }\n",
       "</style>\n",
       "<table border=\"1\" class=\"dataframe\">\n",
       "  <thead>\n",
       "    <tr>\n",
       "      <th>Price</th>\n",
       "      <th colspan=\"3\" halign=\"left\">Close</th>\n",
       "      <th colspan=\"3\" halign=\"left\">High</th>\n",
       "      <th colspan=\"3\" halign=\"left\">Low</th>\n",
       "      <th colspan=\"3\" halign=\"left\">Open</th>\n",
       "      <th colspan=\"3\" halign=\"left\">Volume</th>\n",
       "    </tr>\n",
       "    <tr>\n",
       "      <th>Ticker</th>\n",
       "      <th>MGLU3.SA</th>\n",
       "      <th>MSFT</th>\n",
       "      <th>NVDA</th>\n",
       "      <th>MGLU3.SA</th>\n",
       "      <th>MSFT</th>\n",
       "      <th>NVDA</th>\n",
       "      <th>MGLU3.SA</th>\n",
       "      <th>MSFT</th>\n",
       "      <th>NVDA</th>\n",
       "      <th>MGLU3.SA</th>\n",
       "      <th>MSFT</th>\n",
       "      <th>NVDA</th>\n",
       "      <th>MGLU3.SA</th>\n",
       "      <th>MSFT</th>\n",
       "      <th>NVDA</th>\n",
       "    </tr>\n",
       "    <tr>\n",
       "      <th>Date</th>\n",
       "      <th></th>\n",
       "      <th></th>\n",
       "      <th></th>\n",
       "      <th></th>\n",
       "      <th></th>\n",
       "      <th></th>\n",
       "      <th></th>\n",
       "      <th></th>\n",
       "      <th></th>\n",
       "      <th></th>\n",
       "      <th></th>\n",
       "      <th></th>\n",
       "      <th></th>\n",
       "      <th></th>\n",
       "      <th></th>\n",
       "    </tr>\n",
       "  </thead>\n",
       "  <tbody>\n",
       "    <tr>\n",
       "      <th>2021-01-04</th>\n",
       "      <td>NaN</td>\n",
       "      <td>NaN</td>\n",
       "      <td>NaN</td>\n",
       "      <td>NaN</td>\n",
       "      <td>NaN</td>\n",
       "      <td>NaN</td>\n",
       "      <td>NaN</td>\n",
       "      <td>NaN</td>\n",
       "      <td>NaN</td>\n",
       "      <td>NaN</td>\n",
       "      <td>NaN</td>\n",
       "      <td>NaN</td>\n",
       "      <td>NaN</td>\n",
       "      <td>NaN</td>\n",
       "      <td>NaN</td>\n",
       "    </tr>\n",
       "    <tr>\n",
       "      <th>2021-01-05</th>\n",
       "      <td>NaN</td>\n",
       "      <td>NaN</td>\n",
       "      <td>NaN</td>\n",
       "      <td>NaN</td>\n",
       "      <td>NaN</td>\n",
       "      <td>NaN</td>\n",
       "      <td>NaN</td>\n",
       "      <td>NaN</td>\n",
       "      <td>NaN</td>\n",
       "      <td>NaN</td>\n",
       "      <td>NaN</td>\n",
       "      <td>NaN</td>\n",
       "      <td>NaN</td>\n",
       "      <td>NaN</td>\n",
       "      <td>NaN</td>\n",
       "    </tr>\n",
       "    <tr>\n",
       "      <th>2021-01-06</th>\n",
       "      <td>NaN</td>\n",
       "      <td>NaN</td>\n",
       "      <td>NaN</td>\n",
       "      <td>NaN</td>\n",
       "      <td>NaN</td>\n",
       "      <td>NaN</td>\n",
       "      <td>NaN</td>\n",
       "      <td>NaN</td>\n",
       "      <td>NaN</td>\n",
       "      <td>NaN</td>\n",
       "      <td>NaN</td>\n",
       "      <td>NaN</td>\n",
       "      <td>NaN</td>\n",
       "      <td>NaN</td>\n",
       "      <td>NaN</td>\n",
       "    </tr>\n",
       "    <tr>\n",
       "      <th>2021-01-07</th>\n",
       "      <td>NaN</td>\n",
       "      <td>NaN</td>\n",
       "      <td>NaN</td>\n",
       "      <td>NaN</td>\n",
       "      <td>NaN</td>\n",
       "      <td>NaN</td>\n",
       "      <td>NaN</td>\n",
       "      <td>NaN</td>\n",
       "      <td>NaN</td>\n",
       "      <td>NaN</td>\n",
       "      <td>NaN</td>\n",
       "      <td>NaN</td>\n",
       "      <td>NaN</td>\n",
       "      <td>NaN</td>\n",
       "      <td>NaN</td>\n",
       "    </tr>\n",
       "    <tr>\n",
       "      <th>2021-01-08</th>\n",
       "      <td>NaN</td>\n",
       "      <td>NaN</td>\n",
       "      <td>NaN</td>\n",
       "      <td>NaN</td>\n",
       "      <td>NaN</td>\n",
       "      <td>NaN</td>\n",
       "      <td>NaN</td>\n",
       "      <td>NaN</td>\n",
       "      <td>NaN</td>\n",
       "      <td>NaN</td>\n",
       "      <td>NaN</td>\n",
       "      <td>NaN</td>\n",
       "      <td>NaN</td>\n",
       "      <td>NaN</td>\n",
       "      <td>NaN</td>\n",
       "    </tr>\n",
       "    <tr>\n",
       "      <th>...</th>\n",
       "      <td>...</td>\n",
       "      <td>...</td>\n",
       "      <td>...</td>\n",
       "      <td>...</td>\n",
       "      <td>...</td>\n",
       "      <td>...</td>\n",
       "      <td>...</td>\n",
       "      <td>...</td>\n",
       "      <td>...</td>\n",
       "      <td>...</td>\n",
       "      <td>...</td>\n",
       "      <td>...</td>\n",
       "      <td>...</td>\n",
       "      <td>...</td>\n",
       "      <td>...</td>\n",
       "    </tr>\n",
       "    <tr>\n",
       "      <th>2023-12-21</th>\n",
       "      <td>4.520056</td>\n",
       "      <td>22.930705</td>\n",
       "      <td>2.686449</td>\n",
       "      <td>4.514948</td>\n",
       "      <td>22.374906</td>\n",
       "      <td>2.630336</td>\n",
       "      <td>4.501643</td>\n",
       "      <td>22.629722</td>\n",
       "      <td>2.705285</td>\n",
       "      <td>4.603511</td>\n",
       "      <td>22.553951</td>\n",
       "      <td>2.740842</td>\n",
       "      <td>8.494721e+06</td>\n",
       "      <td>9.321129e+06</td>\n",
       "      <td>1.474358e+08</td>\n",
       "    </tr>\n",
       "    <tr>\n",
       "      <th>2023-12-22</th>\n",
       "      <td>4.471652</td>\n",
       "      <td>23.069650</td>\n",
       "      <td>2.686305</td>\n",
       "      <td>4.455893</td>\n",
       "      <td>22.510044</td>\n",
       "      <td>2.634651</td>\n",
       "      <td>4.444297</td>\n",
       "      <td>22.806015</td>\n",
       "      <td>2.714035</td>\n",
       "      <td>4.536329</td>\n",
       "      <td>22.715491</td>\n",
       "      <td>2.743000</td>\n",
       "      <td>8.510497e+06</td>\n",
       "      <td>9.342564e+06</td>\n",
       "      <td>1.493297e+08</td>\n",
       "    </tr>\n",
       "    <tr>\n",
       "      <th>2023-12-26</th>\n",
       "      <td>4.416880</td>\n",
       "      <td>23.173165</td>\n",
       "      <td>2.664013</td>\n",
       "      <td>4.403426</td>\n",
       "      <td>22.594049</td>\n",
       "      <td>2.616150</td>\n",
       "      <td>4.384501</td>\n",
       "      <td>22.958181</td>\n",
       "      <td>2.710018</td>\n",
       "      <td>4.486934</td>\n",
       "      <td>22.823101</td>\n",
       "      <td>2.733448</td>\n",
       "      <td>8.527341e+06</td>\n",
       "      <td>9.425042e+06</td>\n",
       "      <td>1.511693e+08</td>\n",
       "    </tr>\n",
       "    <tr>\n",
       "      <th>2023-12-27</th>\n",
       "      <td>4.366811</td>\n",
       "      <td>23.284689</td>\n",
       "      <td>2.683296</td>\n",
       "      <td>4.352550</td>\n",
       "      <td>22.654078</td>\n",
       "      <td>2.623369</td>\n",
       "      <td>4.327437</td>\n",
       "      <td>23.091630</td>\n",
       "      <td>2.698604</td>\n",
       "      <td>4.432811</td>\n",
       "      <td>22.907386</td>\n",
       "      <td>2.704590</td>\n",
       "      <td>8.500611e+06</td>\n",
       "      <td>9.459903e+06</td>\n",
       "      <td>1.514299e+08</td>\n",
       "    </tr>\n",
       "    <tr>\n",
       "      <th>2023-12-28</th>\n",
       "      <td>4.324614</td>\n",
       "      <td>23.375240</td>\n",
       "      <td>2.704103</td>\n",
       "      <td>4.316955</td>\n",
       "      <td>22.730536</td>\n",
       "      <td>2.644335</td>\n",
       "      <td>4.306035</td>\n",
       "      <td>23.238096</td>\n",
       "      <td>2.733287</td>\n",
       "      <td>4.388684</td>\n",
       "      <td>23.018496</td>\n",
       "      <td>2.730895</td>\n",
       "      <td>8.477966e+06</td>\n",
       "      <td>9.486951e+06</td>\n",
       "      <td>1.515313e+08</td>\n",
       "    </tr>\n",
       "  </tbody>\n",
       "</table>\n",
       "<p>725 rows × 15 columns</p>\n",
       "</div>"
      ],
      "text/plain": [
       "Price          Close                           High                       \\\n",
       "Ticker      MGLU3.SA       MSFT      NVDA  MGLU3.SA       MSFT      NVDA   \n",
       "Date                                                                       \n",
       "2021-01-04       NaN        NaN       NaN       NaN        NaN       NaN   \n",
       "2021-01-05       NaN        NaN       NaN       NaN        NaN       NaN   \n",
       "2021-01-06       NaN        NaN       NaN       NaN        NaN       NaN   \n",
       "2021-01-07       NaN        NaN       NaN       NaN        NaN       NaN   \n",
       "2021-01-08       NaN        NaN       NaN       NaN        NaN       NaN   \n",
       "...              ...        ...       ...       ...        ...       ...   \n",
       "2023-12-21  4.520056  22.930705  2.686449  4.514948  22.374906  2.630336   \n",
       "2023-12-22  4.471652  23.069650  2.686305  4.455893  22.510044  2.634651   \n",
       "2023-12-26  4.416880  23.173165  2.664013  4.403426  22.594049  2.616150   \n",
       "2023-12-27  4.366811  23.284689  2.683296  4.352550  22.654078  2.623369   \n",
       "2023-12-28  4.324614  23.375240  2.704103  4.316955  22.730536  2.644335   \n",
       "\n",
       "Price            Low                           Open                       \\\n",
       "Ticker      MGLU3.SA       MSFT      NVDA  MGLU3.SA       MSFT      NVDA   \n",
       "Date                                                                       \n",
       "2021-01-04       NaN        NaN       NaN       NaN        NaN       NaN   \n",
       "2021-01-05       NaN        NaN       NaN       NaN        NaN       NaN   \n",
       "2021-01-06       NaN        NaN       NaN       NaN        NaN       NaN   \n",
       "2021-01-07       NaN        NaN       NaN       NaN        NaN       NaN   \n",
       "2021-01-08       NaN        NaN       NaN       NaN        NaN       NaN   \n",
       "...              ...        ...       ...       ...        ...       ...   \n",
       "2023-12-21  4.501643  22.629722  2.705285  4.603511  22.553951  2.740842   \n",
       "2023-12-22  4.444297  22.806015  2.714035  4.536329  22.715491  2.743000   \n",
       "2023-12-26  4.384501  22.958181  2.710018  4.486934  22.823101  2.733448   \n",
       "2023-12-27  4.327437  23.091630  2.698604  4.432811  22.907386  2.704590   \n",
       "2023-12-28  4.306035  23.238096  2.733287  4.388684  23.018496  2.730895   \n",
       "\n",
       "Price             Volume                              \n",
       "Ticker          MGLU3.SA          MSFT          NVDA  \n",
       "Date                                                  \n",
       "2021-01-04           NaN           NaN           NaN  \n",
       "2021-01-05           NaN           NaN           NaN  \n",
       "2021-01-06           NaN           NaN           NaN  \n",
       "2021-01-07           NaN           NaN           NaN  \n",
       "2021-01-08           NaN           NaN           NaN  \n",
       "...                  ...           ...           ...  \n",
       "2023-12-21  8.494721e+06  9.321129e+06  1.474358e+08  \n",
       "2023-12-22  8.510497e+06  9.342564e+06  1.493297e+08  \n",
       "2023-12-26  8.527341e+06  9.425042e+06  1.511693e+08  \n",
       "2023-12-27  8.500611e+06  9.459903e+06  1.514299e+08  \n",
       "2023-12-28  8.477966e+06  9.486951e+06  1.515313e+08  \n",
       "\n",
       "[725 rows x 15 columns]"
      ]
     },
     "execution_count": 594,
     "metadata": {},
     "output_type": "execute_result"
    }
   ],
   "source": [
    "df_std = df.rolling(90).std()\n",
    "df_std"
   ]
  },
  {
   "cell_type": "code",
   "execution_count": 596,
   "metadata": {},
   "outputs": [
    {
     "data": {
      "text/plain": [
       "Price   Ticker  \n",
       "Close   MGLU3.SA    6.326517e+01\n",
       "        MSFT        3.076667e+01\n",
       "        NVDA        9.279425e+00\n",
       "High    MGLU3.SA    6.434495e+01\n",
       "        MSFT        3.101843e+01\n",
       "        NVDA        9.428503e+00\n",
       "Low     MGLU3.SA    6.235463e+01\n",
       "        MSFT        3.062240e+01\n",
       "        NVDA        9.149365e+00\n",
       "Open    MGLU3.SA    6.350295e+01\n",
       "        MSFT        3.090981e+01\n",
       "        NVDA        9.306374e+00\n",
       "Volume  MGLU3.SA    5.909756e+06\n",
       "        MSFT        3.647895e+06\n",
       "        NVDA        7.998689e+07\n",
       "dtype: float64"
      ]
     },
     "execution_count": 596,
     "metadata": {},
     "output_type": "execute_result"
    }
   ],
   "source": [
    "df_mw.std()"
   ]
  },
  {
   "cell_type": "code",
   "execution_count": 598,
   "metadata": {},
   "outputs": [
    {
     "name": "stderr",
     "output_type": "stream",
     "text": [
      "/var/folders/dc/lt16pv3d6151yyg_m796mdn80000gn/T/ipykernel_56346/2149103295.py:1: FutureWarning:\n",
      "\n",
      "The previous implementation of stack is deprecated and will be removed in a future version of pandas. See the What's New notes for pandas 2.1.0 for details. Specify future_stack=True to adopt the new implementation and silence this warning.\n",
      "\n"
     ]
    },
    {
     "data": {
      "text/html": [
       "<div>\n",
       "<style scoped>\n",
       "    .dataframe tbody tr th:only-of-type {\n",
       "        vertical-align: middle;\n",
       "    }\n",
       "\n",
       "    .dataframe tbody tr th {\n",
       "        vertical-align: top;\n",
       "    }\n",
       "\n",
       "    .dataframe thead th {\n",
       "        text-align: right;\n",
       "    }\n",
       "</style>\n",
       "<table border=\"1\" class=\"dataframe\">\n",
       "  <thead>\n",
       "    <tr style=\"text-align: right;\">\n",
       "      <th>Price</th>\n",
       "      <th>Data</th>\n",
       "      <th>Ticker</th>\n",
       "      <th>Close</th>\n",
       "      <th>High</th>\n",
       "      <th>Low</th>\n",
       "      <th>Open</th>\n",
       "      <th>Volume</th>\n",
       "    </tr>\n",
       "  </thead>\n",
       "  <tbody>\n",
       "    <tr>\n",
       "      <th>0</th>\n",
       "      <td>2021-05-17</td>\n",
       "      <td>MGLU3.SA</td>\n",
       "      <td>214.100289</td>\n",
       "      <td>218.264656</td>\n",
       "      <td>210.387670</td>\n",
       "      <td>214.767004</td>\n",
       "      <td>3.615006e+06</td>\n",
       "    </tr>\n",
       "    <tr>\n",
       "      <th>1</th>\n",
       "      <td>2021-05-17</td>\n",
       "      <td>MSFT</td>\n",
       "      <td>231.328000</td>\n",
       "      <td>233.465807</td>\n",
       "      <td>229.108206</td>\n",
       "      <td>231.146641</td>\n",
       "      <td>2.949627e+07</td>\n",
       "    </tr>\n",
       "    <tr>\n",
       "      <th>2</th>\n",
       "      <td>2021-05-17</td>\n",
       "      <td>NVDA</td>\n",
       "      <td>13.835773</td>\n",
       "      <td>14.072585</td>\n",
       "      <td>13.598032</td>\n",
       "      <td>13.853606</td>\n",
       "      <td>3.261663e+08</td>\n",
       "    </tr>\n",
       "    <tr>\n",
       "      <th>3</th>\n",
       "      <td>2021-05-18</td>\n",
       "      <td>MGLU3.SA</td>\n",
       "      <td>213.453307</td>\n",
       "      <td>217.623904</td>\n",
       "      <td>209.754188</td>\n",
       "      <td>214.099252</td>\n",
       "      <td>3.605989e+06</td>\n",
       "    </tr>\n",
       "    <tr>\n",
       "      <th>4</th>\n",
       "      <td>2021-05-18</td>\n",
       "      <td>MSFT</td>\n",
       "      <td>231.606706</td>\n",
       "      <td>233.723330</td>\n",
       "      <td>229.415906</td>\n",
       "      <td>231.407705</td>\n",
       "      <td>2.930780e+07</td>\n",
       "    </tr>\n",
       "    <tr>\n",
       "      <th>...</th>\n",
       "      <td>...</td>\n",
       "      <td>...</td>\n",
       "      <td>...</td>\n",
       "      <td>...</td>\n",
       "      <td>...</td>\n",
       "      <td>...</td>\n",
       "      <td>...</td>\n",
       "    </tr>\n",
       "    <tr>\n",
       "      <th>1903</th>\n",
       "      <td>2023-12-27</td>\n",
       "      <td>MSFT</td>\n",
       "      <td>341.560779</td>\n",
       "      <td>344.262550</td>\n",
       "      <td>338.417892</td>\n",
       "      <td>341.374578</td>\n",
       "      <td>2.430207e+07</td>\n",
       "    </tr>\n",
       "    <tr>\n",
       "      <th>1904</th>\n",
       "      <td>2023-12-27</td>\n",
       "      <td>NVDA</td>\n",
       "      <td>45.790281</td>\n",
       "      <td>46.469757</td>\n",
       "      <td>45.043605</td>\n",
       "      <td>45.805859</td>\n",
       "      <td>4.671163e+08</td>\n",
       "    </tr>\n",
       "    <tr>\n",
       "      <th>1905</th>\n",
       "      <td>2023-12-28</td>\n",
       "      <td>MGLU3.SA</td>\n",
       "      <td>20.163492</td>\n",
       "      <td>20.917986</td>\n",
       "      <td>19.553454</td>\n",
       "      <td>20.260142</td>\n",
       "      <td>1.561616e+07</td>\n",
       "    </tr>\n",
       "    <tr>\n",
       "      <th>1906</th>\n",
       "      <td>2023-12-28</td>\n",
       "      <td>MSFT</td>\n",
       "      <td>342.164603</td>\n",
       "      <td>344.843912</td>\n",
       "      <td>339.019907</td>\n",
       "      <td>341.966874</td>\n",
       "      <td>2.427275e+07</td>\n",
       "    </tr>\n",
       "    <tr>\n",
       "      <th>1907</th>\n",
       "      <td>2023-12-28</td>\n",
       "      <td>NVDA</td>\n",
       "      <td>45.852368</td>\n",
       "      <td>46.521116</td>\n",
       "      <td>45.107025</td>\n",
       "      <td>45.862405</td>\n",
       "      <td>4.623393e+08</td>\n",
       "    </tr>\n",
       "  </tbody>\n",
       "</table>\n",
       "<p>1908 rows × 7 columns</p>\n",
       "</div>"
      ],
      "text/plain": [
       "Price        Data    Ticker       Close        High         Low        Open  \\\n",
       "0      2021-05-17  MGLU3.SA  214.100289  218.264656  210.387670  214.767004   \n",
       "1      2021-05-17      MSFT  231.328000  233.465807  229.108206  231.146641   \n",
       "2      2021-05-17      NVDA   13.835773   14.072585   13.598032   13.853606   \n",
       "3      2021-05-18  MGLU3.SA  213.453307  217.623904  209.754188  214.099252   \n",
       "4      2021-05-18      MSFT  231.606706  233.723330  229.415906  231.407705   \n",
       "...           ...       ...         ...         ...         ...         ...   \n",
       "1903   2023-12-27      MSFT  341.560779  344.262550  338.417892  341.374578   \n",
       "1904   2023-12-27      NVDA   45.790281   46.469757   45.043605   45.805859   \n",
       "1905   2023-12-28  MGLU3.SA   20.163492   20.917986   19.553454   20.260142   \n",
       "1906   2023-12-28      MSFT  342.164603  344.843912  339.019907  341.966874   \n",
       "1907   2023-12-28      NVDA   45.852368   46.521116   45.107025   45.862405   \n",
       "\n",
       "Price        Volume  \n",
       "0      3.615006e+06  \n",
       "1      2.949627e+07  \n",
       "2      3.261663e+08  \n",
       "3      3.605989e+06  \n",
       "4      2.930780e+07  \n",
       "...             ...  \n",
       "1903   2.430207e+07  \n",
       "1904   4.671163e+08  \n",
       "1905   1.561616e+07  \n",
       "1906   2.427275e+07  \n",
       "1907   4.623393e+08  \n",
       "\n",
       "[1908 rows x 7 columns]"
      ]
     },
     "execution_count": 598,
     "metadata": {},
     "output_type": "execute_result"
    }
   ],
   "source": [
    "df_media_movel = df_mw.stack().reset_index()\n",
    "df_media_movel.rename(columns={'Date' : 'Data' , 'Price' : 'Ativo'}, inplace=True)\n",
    "df_media_movel"
   ]
  },
  {
   "cell_type": "code",
   "execution_count": 600,
   "metadata": {},
   "outputs": [
    {
     "data": {
      "application/vnd.plotly.v1+json": {
       "config": {
        "plotlyServerURL": "https://plot.ly"
       },
       "data": [
        {
         "hovertemplate": "Ticker=MGLU3.SA<br>Data=%{x}<br>Close=%{y}<extra></extra>",
         "legendgroup": "MGLU3.SA",
         "line": {
          "color": "#636efa",
          "dash": "solid"
         },
         "marker": {
          "symbol": "circle"
         },
         "mode": "lines",
         "name": "MGLU3.SA",
         "showlegend": true,
         "type": "scattergl",
         "x": [
          "2021-05-17",
          "2021-05-18",
          "2021-05-19",
          "2021-05-20",
          "2021-05-21",
          "2021-05-24",
          "2021-05-25",
          "2021-05-26",
          "2021-05-27",
          "2021-05-28",
          "2021-06-01",
          "2021-06-02",
          "2021-06-04",
          "2021-06-07",
          "2021-06-08",
          "2021-06-09",
          "2021-06-10",
          "2021-06-11",
          "2021-06-14",
          "2021-06-15",
          "2021-06-16",
          "2021-06-17",
          "2021-06-18",
          "2021-06-21",
          "2021-06-22",
          "2021-06-23",
          "2021-06-24",
          "2021-06-25",
          "2021-06-28",
          "2021-06-29",
          "2021-06-30",
          "2021-07-01",
          "2021-07-02",
          "2021-07-06",
          "2021-07-07",
          "2021-07-08",
          "2021-07-12",
          "2021-07-13",
          "2021-07-14",
          "2021-07-15",
          "2021-07-16",
          "2021-07-19",
          "2021-07-20",
          "2021-07-21",
          "2021-07-22",
          "2021-07-23",
          "2021-07-26",
          "2021-07-27",
          "2021-07-28",
          "2021-07-29",
          "2021-07-30",
          "2021-08-02",
          "2021-08-03",
          "2021-08-04",
          "2021-08-05",
          "2021-08-06",
          "2021-08-09",
          "2021-08-10",
          "2021-08-11",
          "2021-08-12",
          "2021-08-13",
          "2021-08-16",
          "2021-08-17",
          "2021-08-18",
          "2021-08-19",
          "2021-08-20",
          "2021-08-23",
          "2021-08-24",
          "2021-08-25",
          "2021-08-26",
          "2021-08-27",
          "2021-08-30",
          "2021-08-31",
          "2021-09-01",
          "2021-09-02",
          "2021-09-03",
          "2021-09-08",
          "2021-09-09",
          "2021-09-10",
          "2021-09-13",
          "2021-09-14",
          "2021-09-15",
          "2021-09-16",
          "2021-09-17",
          "2021-09-20",
          "2021-09-21",
          "2021-09-22",
          "2021-09-23",
          "2021-09-24",
          "2021-09-27",
          "2021-09-28",
          "2021-09-29",
          "2021-09-30",
          "2021-10-01",
          "2021-10-04",
          "2021-10-05",
          "2021-10-06",
          "2021-10-07",
          "2021-10-08",
          "2021-10-11",
          "2021-10-13",
          "2021-10-14",
          "2021-10-15",
          "2021-10-18",
          "2021-10-19",
          "2021-10-20",
          "2021-10-21",
          "2021-10-22",
          "2021-10-25",
          "2021-10-26",
          "2021-10-27",
          "2021-10-28",
          "2021-10-29",
          "2021-11-01",
          "2021-11-03",
          "2021-11-04",
          "2021-11-05",
          "2021-11-08",
          "2021-11-09",
          "2021-11-10",
          "2021-11-11",
          "2021-11-12",
          "2021-11-16",
          "2021-11-17",
          "2021-11-18",
          "2021-11-19",
          "2021-11-22",
          "2021-11-23",
          "2021-11-24",
          "2021-11-26",
          "2021-11-29",
          "2021-11-30",
          "2021-12-01",
          "2021-12-02",
          "2021-12-03",
          "2021-12-06",
          "2021-12-07",
          "2021-12-08",
          "2021-12-09",
          "2021-12-10",
          "2021-12-13",
          "2021-12-14",
          "2021-12-15",
          "2021-12-16",
          "2021-12-17",
          "2021-12-20",
          "2021-12-21",
          "2021-12-22",
          "2021-12-23",
          "2021-12-27",
          "2021-12-28",
          "2021-12-29",
          "2021-12-30",
          "2022-01-03",
          "2022-01-04",
          "2022-01-05",
          "2022-01-06",
          "2022-01-07",
          "2022-01-10",
          "2022-01-11",
          "2022-01-12",
          "2022-01-13",
          "2022-01-14",
          "2022-01-18",
          "2022-01-19",
          "2022-01-20",
          "2022-01-21",
          "2022-01-24",
          "2022-01-25",
          "2022-01-26",
          "2022-01-27",
          "2022-01-28",
          "2022-01-31",
          "2022-02-01",
          "2022-02-02",
          "2022-02-03",
          "2022-02-04",
          "2022-02-07",
          "2022-02-08",
          "2022-02-09",
          "2022-02-10",
          "2022-02-11",
          "2022-02-14",
          "2022-02-15",
          "2022-02-16",
          "2022-02-17",
          "2022-02-18",
          "2022-02-22",
          "2022-02-23",
          "2022-02-24",
          "2022-02-25",
          "2022-03-02",
          "2022-03-03",
          "2022-03-04",
          "2022-03-07",
          "2022-03-08",
          "2022-03-09",
          "2022-03-10",
          "2022-03-11",
          "2022-03-14",
          "2022-03-15",
          "2022-03-16",
          "2022-03-17",
          "2022-03-18",
          "2022-03-21",
          "2022-03-22",
          "2022-03-23",
          "2022-03-24",
          "2022-03-25",
          "2022-03-28",
          "2022-03-29",
          "2022-03-30",
          "2022-03-31",
          "2022-04-01",
          "2022-04-04",
          "2022-04-05",
          "2022-04-06",
          "2022-04-07",
          "2022-04-08",
          "2022-04-11",
          "2022-04-12",
          "2022-04-13",
          "2022-04-14",
          "2022-04-18",
          "2022-04-19",
          "2022-04-20",
          "2022-04-22",
          "2022-04-25",
          "2022-04-26",
          "2022-04-27",
          "2022-04-28",
          "2022-04-29",
          "2022-05-02",
          "2022-05-03",
          "2022-05-04",
          "2022-05-05",
          "2022-05-06",
          "2022-05-09",
          "2022-05-10",
          "2022-05-11",
          "2022-05-12",
          "2022-05-13",
          "2022-05-16",
          "2022-05-17",
          "2022-05-18",
          "2022-05-19",
          "2022-05-20",
          "2022-05-23",
          "2022-05-24",
          "2022-05-25",
          "2022-05-26",
          "2022-05-27",
          "2022-05-31",
          "2022-06-01",
          "2022-06-02",
          "2022-06-03",
          "2022-06-06",
          "2022-06-07",
          "2022-06-08",
          "2022-06-09",
          "2022-06-10",
          "2022-06-13",
          "2022-06-14",
          "2022-06-15",
          "2022-06-17",
          "2022-06-21",
          "2022-06-22",
          "2022-06-23",
          "2022-06-24",
          "2022-06-27",
          "2022-06-28",
          "2022-06-29",
          "2022-06-30",
          "2022-07-01",
          "2022-07-05",
          "2022-07-06",
          "2022-07-07",
          "2022-07-08",
          "2022-07-11",
          "2022-07-12",
          "2022-07-13",
          "2022-07-14",
          "2022-07-15",
          "2022-07-18",
          "2022-07-19",
          "2022-07-20",
          "2022-07-21",
          "2022-07-22",
          "2022-07-25",
          "2022-07-26",
          "2022-07-27",
          "2022-07-28",
          "2022-07-29",
          "2022-08-01",
          "2022-08-02",
          "2022-08-03",
          "2022-08-04",
          "2022-08-05",
          "2022-08-08",
          "2022-08-09",
          "2022-08-10",
          "2022-08-11",
          "2022-08-12",
          "2022-08-15",
          "2022-08-16",
          "2022-08-17",
          "2022-08-18",
          "2022-08-19",
          "2022-08-22",
          "2022-08-23",
          "2022-08-24",
          "2022-08-25",
          "2022-08-26",
          "2022-08-29",
          "2022-08-30",
          "2022-08-31",
          "2022-09-01",
          "2022-09-02",
          "2022-09-06",
          "2022-09-08",
          "2022-09-09",
          "2022-09-12",
          "2022-09-13",
          "2022-09-14",
          "2022-09-15",
          "2022-09-16",
          "2022-09-19",
          "2022-09-20",
          "2022-09-21",
          "2022-09-22",
          "2022-09-23",
          "2022-09-26",
          "2022-09-27",
          "2022-09-28",
          "2022-09-29",
          "2022-09-30",
          "2022-10-03",
          "2022-10-04",
          "2022-10-05",
          "2022-10-06",
          "2022-10-07",
          "2022-10-10",
          "2022-10-11",
          "2022-10-13",
          "2022-10-14",
          "2022-10-17",
          "2022-10-18",
          "2022-10-19",
          "2022-10-20",
          "2022-10-21",
          "2022-10-24",
          "2022-10-25",
          "2022-10-26",
          "2022-10-27",
          "2022-10-28",
          "2022-10-31",
          "2022-11-01",
          "2022-11-03",
          "2022-11-04",
          "2022-11-07",
          "2022-11-08",
          "2022-11-09",
          "2022-11-10",
          "2022-11-11",
          "2022-11-14",
          "2022-11-16",
          "2022-11-17",
          "2022-11-18",
          "2022-11-21",
          "2022-11-22",
          "2022-11-23",
          "2022-11-25",
          "2022-11-28",
          "2022-11-29",
          "2022-11-30",
          "2022-12-01",
          "2022-12-02",
          "2022-12-05",
          "2022-12-06",
          "2022-12-07",
          "2022-12-08",
          "2022-12-09",
          "2022-12-12",
          "2022-12-13",
          "2022-12-14",
          "2022-12-15",
          "2022-12-16",
          "2022-12-19",
          "2022-12-20",
          "2022-12-21",
          "2022-12-22",
          "2022-12-23",
          "2022-12-27",
          "2022-12-28",
          "2022-12-29",
          "2023-01-03",
          "2023-01-04",
          "2023-01-05",
          "2023-01-06",
          "2023-01-09",
          "2023-01-10",
          "2023-01-11",
          "2023-01-12",
          "2023-01-13",
          "2023-01-17",
          "2023-01-18",
          "2023-01-19",
          "2023-01-20",
          "2023-01-23",
          "2023-01-24",
          "2023-01-25",
          "2023-01-26",
          "2023-01-27",
          "2023-01-30",
          "2023-01-31",
          "2023-02-01",
          "2023-02-02",
          "2023-02-03",
          "2023-02-06",
          "2023-02-07",
          "2023-02-08",
          "2023-02-09",
          "2023-02-10",
          "2023-02-13",
          "2023-02-14",
          "2023-02-15",
          "2023-02-16",
          "2023-02-17",
          "2023-02-22",
          "2023-02-23",
          "2023-02-24",
          "2023-02-27",
          "2023-02-28",
          "2023-03-01",
          "2023-03-02",
          "2023-03-03",
          "2023-03-06",
          "2023-03-07",
          "2023-03-08",
          "2023-03-09",
          "2023-03-10",
          "2023-03-13",
          "2023-03-14",
          "2023-03-15",
          "2023-03-16",
          "2023-03-17",
          "2023-03-20",
          "2023-03-21",
          "2023-03-22",
          "2023-03-23",
          "2023-03-24",
          "2023-03-27",
          "2023-03-28",
          "2023-03-29",
          "2023-03-30",
          "2023-03-31",
          "2023-04-03",
          "2023-04-04",
          "2023-04-05",
          "2023-04-06",
          "2023-04-10",
          "2023-04-11",
          "2023-04-12",
          "2023-04-13",
          "2023-04-14",
          "2023-04-17",
          "2023-04-18",
          "2023-04-19",
          "2023-04-20",
          "2023-04-24",
          "2023-04-25",
          "2023-04-26",
          "2023-04-27",
          "2023-04-28",
          "2023-05-02",
          "2023-05-03",
          "2023-05-04",
          "2023-05-05",
          "2023-05-08",
          "2023-05-09",
          "2023-05-10",
          "2023-05-11",
          "2023-05-12",
          "2023-05-15",
          "2023-05-16",
          "2023-05-17",
          "2023-05-18",
          "2023-05-19",
          "2023-05-22",
          "2023-05-23",
          "2023-05-24",
          "2023-05-25",
          "2023-05-26",
          "2023-05-30",
          "2023-05-31",
          "2023-06-01",
          "2023-06-02",
          "2023-06-05",
          "2023-06-06",
          "2023-06-07",
          "2023-06-09",
          "2023-06-12",
          "2023-06-13",
          "2023-06-14",
          "2023-06-15",
          "2023-06-16",
          "2023-06-20",
          "2023-06-21",
          "2023-06-22",
          "2023-06-23",
          "2023-06-26",
          "2023-06-27",
          "2023-06-28",
          "2023-06-29",
          "2023-06-30",
          "2023-07-03",
          "2023-07-05",
          "2023-07-06",
          "2023-07-07",
          "2023-07-10",
          "2023-07-11",
          "2023-07-12",
          "2023-07-13",
          "2023-07-14",
          "2023-07-17",
          "2023-07-18",
          "2023-07-19",
          "2023-07-20",
          "2023-07-21",
          "2023-07-24",
          "2023-07-25",
          "2023-07-26",
          "2023-07-27",
          "2023-07-28",
          "2023-07-31",
          "2023-08-01",
          "2023-08-02",
          "2023-08-03",
          "2023-08-04",
          "2023-08-07",
          "2023-08-08",
          "2023-08-09",
          "2023-08-10",
          "2023-08-11",
          "2023-08-14",
          "2023-08-15",
          "2023-08-16",
          "2023-08-17",
          "2023-08-18",
          "2023-08-21",
          "2023-08-22",
          "2023-08-23",
          "2023-08-24",
          "2023-08-25",
          "2023-08-28",
          "2023-08-29",
          "2023-08-30",
          "2023-08-31",
          "2023-09-01",
          "2023-09-05",
          "2023-09-06",
          "2023-09-08",
          "2023-09-11",
          "2023-09-12",
          "2023-09-13",
          "2023-09-14",
          "2023-09-15",
          "2023-09-18",
          "2023-09-19",
          "2023-09-20",
          "2023-09-21",
          "2023-09-22",
          "2023-09-25",
          "2023-09-26",
          "2023-09-27",
          "2023-09-28",
          "2023-09-29",
          "2023-10-02",
          "2023-10-03",
          "2023-10-04",
          "2023-10-05",
          "2023-10-06",
          "2023-10-09",
          "2023-10-10",
          "2023-10-11",
          "2023-10-13",
          "2023-10-16",
          "2023-10-17",
          "2023-10-18",
          "2023-10-19",
          "2023-10-20",
          "2023-10-23",
          "2023-10-24",
          "2023-10-25",
          "2023-10-26",
          "2023-10-27",
          "2023-10-30",
          "2023-10-31",
          "2023-11-01",
          "2023-11-03",
          "2023-11-06",
          "2023-11-07",
          "2023-11-08",
          "2023-11-09",
          "2023-11-10",
          "2023-11-13",
          "2023-11-14",
          "2023-11-16",
          "2023-11-17",
          "2023-11-20",
          "2023-11-21",
          "2023-11-22",
          "2023-11-24",
          "2023-11-27",
          "2023-11-28",
          "2023-11-29",
          "2023-11-30",
          "2023-12-01",
          "2023-12-04",
          "2023-12-05",
          "2023-12-06",
          "2023-12-07",
          "2023-12-08",
          "2023-12-11",
          "2023-12-12",
          "2023-12-13",
          "2023-12-14",
          "2023-12-15",
          "2023-12-18",
          "2023-12-19",
          "2023-12-20",
          "2023-12-21",
          "2023-12-22",
          "2023-12-26",
          "2023-12-27",
          "2023-12-28"
         ],
         "xaxis": "x",
         "y": [
          214.10028940836588,
          213.45330691867406,
          212.821901957194,
          212.33173234727647,
          211.85090925428602,
          211.45212724473743,
          211.09176940917968,
          210.62133110894098,
          210.16127794053818,
          209.7998816596137,
          209.42498491075304,
          209.05320366753472,
          208.5786114162869,
          208.09155731201173,
          207.5785407172309,
          207.00944535997178,
          206.43723466661243,
          205.83386908637152,
          205.34785342746312,
          204.9283014933268,
          204.41009233262804,
          203.95938551161024,
          203.5190638224284,
          203.0434331258138,
          202.50445404052735,
          201.91666581895618,
          201.53761494954426,
          201.0952160305447,
          200.6403550889757,
          200.24261152479383,
          199.83863711886937,
          199.39727664523656,
          199.12622951931422,
          198.734226820204,
          198.46276024712458,
          198.2432115342882,
          198.02886895073786,
          197.81663275824653,
          197.6792012532552,
          197.5355982462565,
          197.37747005886501,
          197.17047373453775,
          197.2002731323242,
          197.19891696506076,
          197.02931637234158,
          196.80254940456814,
          196.54146999782986,
          196.3073472764757,
          196.03688303629556,
          195.80797271728517,
          195.635056898329,
          195.46422034369576,
          195.3120619032118,
          195.15259840223524,
          195.16348571777343,
          195.20450592041016,
          195.25901217990452,
          195.33843570285373,
          195.42828267415365,
          195.50567203097873,
          195.48954433865018,
          195.3871573554145,
          195.25464579264323,
          195.11690639919703,
          194.81717003716363,
          194.52677324083118,
          194.16258850097657,
          193.8566428290473,
          193.59122195773654,
          193.2395494249132,
          192.94085761176214,
          192.6546164618598,
          192.3070558336046,
          192.0519543117947,
          191.6669906616211,
          191.37659691704644,
          191.15369703504774,
          190.968187628852,
          190.64962514241537,
          190.38196834988065,
          190.0561250474718,
          189.73232777913412,
          189.36697184244792,
          189.06809471978082,
          188.67052137586805,
          188.37993876139322,
          188.07169782850477,
          187.79042239718967,
          187.4281263563368,
          186.99931979709203,
          186.51437208387586,
          185.99305911593967,
          185.5434322781033,
          185.10939856635198,
          184.60987650553386,
          183.9545778910319,
          183.3782636006673,
          182.79360902574328,
          182.3149516635471,
          181.70643810696072,
          181.10001059638128,
          180.4437102423774,
          179.79159350925022,
          179.11557015313042,
          178.35642589992946,
          177.63047875298395,
          176.81411760118272,
          175.98841094970703,
          175.13258192274304,
          174.20818506876628,
          173.30452948676216,
          172.25025829739042,
          171.18557637532552,
          170.15104785495333,
          169.17365544637045,
          168.18791961669922,
          167.23240263197158,
          166.25088492499458,
          165.37953804863824,
          164.4822203742133,
          163.70437706841363,
          162.7144925435384,
          161.47941699557833,
          160.25310414632162,
          158.9000030517578,
          157.58535419040257,
          156.2073112487793,
          154.76379555596245,
          153.29741651746963,
          151.66995400322807,
          150.02170639038087,
          148.42957831488715,
          146.7158580356174,
          144.99070608350965,
          143.3071240319146,
          141.7170743730333,
          140.21847852071127,
          138.6970191531711,
          137.11216579013401,
          135.5169199625651,
          134.0048139360216,
          132.45737347073026,
          130.97540554470487,
          129.56618508232964,
          128.13202260335285,
          126.64070150587294,
          125.17847934299046,
          123.6985900455051,
          122.16985600789388,
          120.69516292148167,
          119.29841338263617,
          117.9827252705892,
          116.72627427842882,
          115.46670549180773,
          114.18427323235406,
          112.89144855075412,
          111.65682165357802,
          110.30372060139975,
          108.86851887173123,
          107.52477099100749,
          106.20284729003906,
          104.87364883422852,
          103.63590422736274,
          102.30670585632325,
          101.09078547159831,
          99.81770651075576,
          98.58204044765897,
          97.28713717990452,
          96.20008358425564,
          95.08912726508247,
          94.06962475246853,
          93.03972977532281,
          92.06595429314507,
          91.07243300543891,
          90.08099021911622,
          89.05629149542915,
          88.01600409613715,
          87.02248293558756,
          86.07780634562174,
          85.20379867553712,
          84.45138303968642,
          83.6625936296251,
          82.84574457804362,
          82.04448432922364,
          81.32844229804145,
          80.5957723405626,
          79.75398131476508,
          78.9267397986518,
          77.98518104553223,
          77.12676205105252,
          76.2444403330485,
          75.42759136623806,
          74.57021166483561,
          73.73985231187609,
          72.92092480129666,
          72.1705876244439,
          71.5283322652181,
          70.85697792900933,
          70.1658779144287,
          69.47477789984809,
          68.77536392211914,
          68.14973653157553,
          67.60205277336968,
          67.032544793023,
          66.42666308085124,
          65.87897928025987,
          65.20970344543457,
          64.65578414069282,
          63.970919630262586,
          63.290212080213756,
          62.59911202324761,
          62.15431382921007,
          61.85085334777832,
          61.65131763882107,
          61.464252938164606,
          61.21899036831326,
          60.98827722337511,
          60.77627059088813,
          60.49671279059516,
          60.290941619873045,
          60.07581723531087,
          59.8918702867296,
          59.80145573086209,
          59.71104117499458,
          59.595684644911024,
          59.420051701863606,
          59.204927359686955,
          59.0625503540039,
          58.94823307461209,
          58.81624853346083,
          58.72583393520779,
          58.63645863003201,
          58.49408162434896,
          58.307016923692494,
          58.12930547926161,
          57.930809063381616,
          57.71048846774631,
          57.47665761311849,
          57.242826758490665,
          56.946641031901045,
          56.67124027676053,
          56.423899247911244,
          56.12875281439887,
          55.839841800265845,
          55.539499113294816,
          55.25994139777289,
          54.991815397474504,
          54.729924858940976,
          54.51895751953125,
          54.29447992112902,
          54.061688317192925,
          53.844485473632815,
          53.57324172125922,
          53.346685621473526,
          53.08583433363173,
          52.76782438490126,
          52.40408755408393,
          52.081920602586536,
          51.71818372938368,
          51.32950494554308,
          50.88054976993137,
          50.460693507724336,
          49.997188822428384,
          49.533684179517955,
          49.1044746822781,
          48.68669692145453,
          48.28242939843072,
          47.89167209201389,
          47.46869807773166,
          47.035331620110405,
          46.56143447028266,
          46.15197069380019,
          45.72172196706136,
          45.23951081169976,
          44.77808462778727,
          44.34887515174018,
          43.95396084255643,
          43.59542024400499,
          43.25454682244195,
          42.923026657104494,
          42.59254574245877,
          42.239201376173234,
          41.872346772087944,
          41.506531439887155,
          41.188521512349446,
          40.87882554796007,
          40.54418767293294,
          40.22202074262831,
          39.92063878377279,
          39.63796329498291,
          39.412446445888946,
          39.1619876437717,
          38.85437018076579,
          38.53220325046115,
          38.219389576382106,
          37.92008609771729,
          37.64364609188504,
          37.286144744025336,
          36.94631059434679,
          36.59400547875298,
          36.20844440460205,
          35.810412343343096,
          35.47369592454698,
          35.129704835679796,
          34.81377338833279,
          34.51343065897624,
          34.24426540798611,
          33.95535443623861,
          33.71528811984592,
          33.51471324496799,
          33.36194377475314,
          33.22164527045356,
          33.073032760620116,
          32.930655754937064,
          32.78204328748915,
          32.64278403388129,
          32.520152748955624,
          32.39752146402995,
          32.274890179104275,
          32.19071108500163,
          32.10757124159071,
          32.098217985365125,
          32.087825520833334,
          32.074315304226346,
          32.01092118157281,
          32.015078184339735,
          32.042098659939235,
          32.09925732082791,
          32.18239716423882,
          32.25202679104275,
          32.29879294501411,
          32.3091854095459,
          32.28840043809679,
          32.328931130303275,
          32.363226318359374,
          32.44116990831163,
          32.57003665500217,
          32.71449211968316,
          32.86102608574761,
          33.03354127671984,
          33.1624080657959,
          33.29958881802029,
          33.450279786851674,
          33.576028781467016,
          33.63526594373915,
          33.716327328152126,
          33.81193815867106,
          33.905470508999294,
          33.99588508605957,
          34.11435936821832,
          34.23699067433675,
          34.40534886254205,
          34.54772584703233,
          34.72128030988905,
          34.929129960801866,
          35.132822587754994,
          35.35314320458306,
          35.59424879286024,
          35.83951136271159,
          36.058792728847926,
          36.292623562282984,
          36.50670867496066,
          36.677145364549425,
          36.80809063381619,
          36.93695740169949,
          37.023214997185605,
          37.109472592671715,
          37.164552752176924,
          37.24249636332194,
          37.285105556911894,
          37.3422641966078,
          37.395265854729544,
          37.451385264926486,
          37.51270090738932,
          37.57713428073459,
          37.58025203280979,
          37.60415473514133,
          37.627018207973904,
          37.66131339603,
          37.6956085840861,
          37.71015805138482,
          37.71847203572591,
          37.741335487365724,
          37.74964947170682,
          37.741335487365724,
          37.707040299309625,
          37.606233236524794,
          37.54907459682889,
          37.502308421664765,
          37.45346376630995,
          37.381755638122556,
          37.34434271918403,
          37.23418244255914,
          37.09388391706678,
          36.94734992980957,
          36.79354118771023,
          36.639732445610896,
          36.52333666483561,
          36.41317636701796,
          36.275995614793565,
          36.12530462476942,
          35.95382868448893,
          35.809373219807945,
          35.69609514872233,
          35.62126926845974,
          35.54748263888889,
          35.48928472730849,
          35.443557824028865,
          35.44771482679579,
          35.45810733371311,
          35.45498958163791,
          35.40198792351617,
          35.384320704142254,
          35.37288898891873,
          35.38224220275879,
          35.36457498338488,
          35.3417115105523,
          35.32196578979492,
          35.25753241644965,
          35.200373797946504,
          35.15776464674208,
          35.11931245591905,
          35.09956673516167,
          35.07878176371256,
          35.079821014404295,
          35.0185053507487,
          34.90418807135688,
          34.755575603908966,
          34.58929591708713,
          34.40119196573893,
          34.22451977199978,
          34.05096533033583,
          33.88676410251193,
          33.71113118065728,
          33.58434289296468,
          33.44404436747233,
          33.32660933600532,
          33.22580225202773,
          33.15721187591553,
          33.07822901407878,
          33.007560115390355,
          32.948322995503744,
          32.92961656782362,
          32.88700737423367,
          32.83608417510986,
          32.76437604692247,
          32.676039950052896,
          32.554447915818955,
          32.42558112674289,
          32.27696861690945,
          32.13147388034397,
          32.01403884887695,
          31.951683955722384,
          31.9402522193061,
          31.92154574924045,
          31.91946724785699,
          31.911153263515896,
          31.918427997165256,
          31.9080355114407,
          31.911153242323135,
          31.90803549024794,
          31.94544840918647,
          32.003646320766876,
          32.05560872819689,
          32.089903895060225,
          32.148101785447864,
          32.179279242621526,
          32.196946461995445,
          32.21565291086833,
          32.26241906483968,
          32.308145968119305,
          32.34036265479194,
          32.3819325764974,
          32.43805198669433,
          32.501446130540636,
          32.57835051218669,
          32.70306029849582,
          32.8277700636122,
          32.93689113193088,
          33.095896085103355,
          33.27152902815077,
          33.445083469814726,
          33.631108877393935,
          33.806741841634114,
          33.873253716362846,
          33.95847208234999,
          34.06135766771104,
          34.16320398118761,
          34.2712857776218,
          34.35754337310791,
          34.41781976487901,
          34.49368485344781,
          34.55915747748481,
          34.59033495585124,
          34.591374206542966,
          34.64333665635851,
          34.669317881266274,
          34.67659259372287,
          34.67139634026422,
          34.61839468214247,
          34.57890324062771,
          34.545647303263344,
          34.4656251695421,
          34.408466508653426,
          34.33779763115777,
          34.27752126057943,
          34.20893088446723,
          34.155929226345485,
          34.09773135715061,
          34.048886659410265,
          33.963668293423126,
          33.88780318366157,
          33.821291287740074,
          33.75062241024441,
          33.67891426086426,
          33.632148106892906,
          33.59057818518745,
          33.5375765270657,
          33.50224208831787,
          33.44924045138889,
          33.39208181169298,
          33.32245218488905,
          33.26321504380968,
          33.234116088019476,
          33.2143703672621,
          33.20813488430447,
          33.182153680589465,
          33.1488977432251,
          33.10628857082791,
          33.06679715050591,
          33.032501962449814,
          32.96702931722005,
          32.908831405639646,
          32.84231953091091,
          32.78620014190674,
          32.749826452467175,
          32.71033501095242,
          32.65421560075548,
          32.59913546244304,
          32.58874299791124,
          32.56380104488797,
          32.525348854064944,
          32.470268715752496,
          32.421424060397676,
          32.359069188435875,
          32.302949799431694,
          32.26761536068386,
          32.22604543897841,
          32.19694650438097,
          32.1636905670166,
          32.13147388034397,
          32.05664802127414,
          31.967272652520073,
          31.869583320617675,
          31.785404226515027,
          31.70953909556071,
          31.64510570102268,
          31.594182544284397,
          31.54845561981201,
          31.47570824093289,
          31.40400013393826,
          31.341645261976453,
          31.27409413655599,
          31.199268256293404,
          31.134834861755373,
          31.05585199991862,
          30.942573928833006,
          30.81474641164144,
          30.67444790734185,
          30.506089719136558,
          30.304475593566895,
          30.085194227430556,
          29.86071662902832,
          29.623768043518066,
          29.484508811102973,
          29.34836728837755,
          29.20079402923584,
          29.03139659033881,
          28.827703963385687,
          28.64375703599718,
          28.454613876342773,
          28.248842748006187,
          28.04515012105306,
          27.864320924546984,
          27.667903031243217,
          27.435111427307127,
          27.199202071295844,
          26.970567501915827,
          26.735697417789034,
          26.49978807237413,
          26.24725077946981,
          25.992634985182022,
          25.74841168721517,
          25.502109877268474,
          25.265161323547364,
          25.031330468919542,
          24.791264131334092,
          24.53872684902615,
          24.305935245090062,
          24.08873240152995,
          23.88400051328871,
          23.716681575775148,
          23.553519619835747,
          23.372690455118814,
          23.209528499179417,
          23.031817075941298,
          22.859301884969074,
          22.759534072875976,
          22.659766239590116,
          22.579744148254395,
          22.48309406704373,
          22.389561737908256,
          22.2825191921658,
          22.179633627997504,
          22.070512580871583,
          21.958273781670464,
          21.86266295115153,
          21.786797841389973,
          21.680794546339246,
          21.59037994808621,
          21.49684761895074,
          21.41059002346463,
          21.302508205837675,
          21.204818873935274,
          21.093619346618652,
          21.00008701748318,
          20.90655468834771,
          20.80782610575358,
          20.71637225680881,
          20.628036159939235,
          20.535543081495497,
          20.44408925374349,
          20.368224122789172,
          20.28820203145345,
          20.226886388990614,
          20.163492245144315
         ],
         "yaxis": "y"
        },
        {
         "hovertemplate": "Ticker=MSFT<br>Data=%{x}<br>Close=%{y}<extra></extra>",
         "legendgroup": "MSFT",
         "line": {
          "color": "#EF553B",
          "dash": "solid"
         },
         "marker": {
          "symbol": "circle"
         },
         "mode": "lines",
         "name": "MSFT",
         "showlegend": true,
         "type": "scattergl",
         "x": [
          "2021-05-17",
          "2021-05-18",
          "2021-05-19",
          "2021-05-20",
          "2021-05-21",
          "2021-05-24",
          "2021-05-25",
          "2021-05-26",
          "2021-05-27",
          "2021-05-28",
          "2021-06-01",
          "2021-06-02",
          "2021-06-04",
          "2021-06-07",
          "2021-06-08",
          "2021-06-09",
          "2021-06-10",
          "2021-06-11",
          "2021-06-14",
          "2021-06-15",
          "2021-06-16",
          "2021-06-17",
          "2021-06-18",
          "2021-06-21",
          "2021-06-22",
          "2021-06-23",
          "2021-06-24",
          "2021-06-25",
          "2021-06-28",
          "2021-06-29",
          "2021-06-30",
          "2021-07-01",
          "2021-07-02",
          "2021-07-06",
          "2021-07-07",
          "2021-07-08",
          "2021-07-12",
          "2021-07-13",
          "2021-07-14",
          "2021-07-15",
          "2021-07-16",
          "2021-07-19",
          "2021-07-20",
          "2021-07-21",
          "2021-07-22",
          "2021-07-23",
          "2021-07-26",
          "2021-07-27",
          "2021-07-28",
          "2021-07-29",
          "2021-07-30",
          "2021-08-02",
          "2021-08-03",
          "2021-08-04",
          "2021-08-05",
          "2021-08-06",
          "2021-08-09",
          "2021-08-10",
          "2021-08-11",
          "2021-08-12",
          "2021-08-13",
          "2021-08-16",
          "2021-08-17",
          "2021-08-18",
          "2021-08-19",
          "2021-08-20",
          "2021-08-23",
          "2021-08-24",
          "2021-08-25",
          "2021-08-26",
          "2021-08-27",
          "2021-08-30",
          "2021-08-31",
          "2021-09-01",
          "2021-09-02",
          "2021-09-03",
          "2021-09-08",
          "2021-09-09",
          "2021-09-10",
          "2021-09-13",
          "2021-09-14",
          "2021-09-15",
          "2021-09-16",
          "2021-09-17",
          "2021-09-20",
          "2021-09-21",
          "2021-09-22",
          "2021-09-23",
          "2021-09-24",
          "2021-09-27",
          "2021-09-28",
          "2021-09-29",
          "2021-09-30",
          "2021-10-01",
          "2021-10-04",
          "2021-10-05",
          "2021-10-06",
          "2021-10-07",
          "2021-10-08",
          "2021-10-11",
          "2021-10-13",
          "2021-10-14",
          "2021-10-15",
          "2021-10-18",
          "2021-10-19",
          "2021-10-20",
          "2021-10-21",
          "2021-10-22",
          "2021-10-25",
          "2021-10-26",
          "2021-10-27",
          "2021-10-28",
          "2021-10-29",
          "2021-11-01",
          "2021-11-03",
          "2021-11-04",
          "2021-11-05",
          "2021-11-08",
          "2021-11-09",
          "2021-11-10",
          "2021-11-11",
          "2021-11-12",
          "2021-11-16",
          "2021-11-17",
          "2021-11-18",
          "2021-11-19",
          "2021-11-22",
          "2021-11-23",
          "2021-11-24",
          "2021-11-26",
          "2021-11-29",
          "2021-11-30",
          "2021-12-01",
          "2021-12-02",
          "2021-12-03",
          "2021-12-06",
          "2021-12-07",
          "2021-12-08",
          "2021-12-09",
          "2021-12-10",
          "2021-12-13",
          "2021-12-14",
          "2021-12-15",
          "2021-12-16",
          "2021-12-17",
          "2021-12-20",
          "2021-12-21",
          "2021-12-22",
          "2021-12-23",
          "2021-12-27",
          "2021-12-28",
          "2021-12-29",
          "2021-12-30",
          "2022-01-03",
          "2022-01-04",
          "2022-01-05",
          "2022-01-06",
          "2022-01-07",
          "2022-01-10",
          "2022-01-11",
          "2022-01-12",
          "2022-01-13",
          "2022-01-14",
          "2022-01-18",
          "2022-01-19",
          "2022-01-20",
          "2022-01-21",
          "2022-01-24",
          "2022-01-25",
          "2022-01-26",
          "2022-01-27",
          "2022-01-28",
          "2022-01-31",
          "2022-02-01",
          "2022-02-02",
          "2022-02-03",
          "2022-02-04",
          "2022-02-07",
          "2022-02-08",
          "2022-02-09",
          "2022-02-10",
          "2022-02-11",
          "2022-02-14",
          "2022-02-15",
          "2022-02-16",
          "2022-02-17",
          "2022-02-18",
          "2022-02-22",
          "2022-02-23",
          "2022-02-24",
          "2022-02-25",
          "2022-03-02",
          "2022-03-03",
          "2022-03-04",
          "2022-03-07",
          "2022-03-08",
          "2022-03-09",
          "2022-03-10",
          "2022-03-11",
          "2022-03-14",
          "2022-03-15",
          "2022-03-16",
          "2022-03-17",
          "2022-03-18",
          "2022-03-21",
          "2022-03-22",
          "2022-03-23",
          "2022-03-24",
          "2022-03-25",
          "2022-03-28",
          "2022-03-29",
          "2022-03-30",
          "2022-03-31",
          "2022-04-01",
          "2022-04-04",
          "2022-04-05",
          "2022-04-06",
          "2022-04-07",
          "2022-04-08",
          "2022-04-11",
          "2022-04-12",
          "2022-04-13",
          "2022-04-14",
          "2022-04-18",
          "2022-04-19",
          "2022-04-20",
          "2022-04-22",
          "2022-04-25",
          "2022-04-26",
          "2022-04-27",
          "2022-04-28",
          "2022-04-29",
          "2022-05-02",
          "2022-05-03",
          "2022-05-04",
          "2022-05-05",
          "2022-05-06",
          "2022-05-09",
          "2022-05-10",
          "2022-05-11",
          "2022-05-12",
          "2022-05-13",
          "2022-05-16",
          "2022-05-17",
          "2022-05-18",
          "2022-05-19",
          "2022-05-20",
          "2022-05-23",
          "2022-05-24",
          "2022-05-25",
          "2022-05-26",
          "2022-05-27",
          "2022-05-31",
          "2022-06-01",
          "2022-06-02",
          "2022-06-03",
          "2022-06-06",
          "2022-06-07",
          "2022-06-08",
          "2022-06-09",
          "2022-06-10",
          "2022-06-13",
          "2022-06-14",
          "2022-06-15",
          "2022-06-17",
          "2022-06-21",
          "2022-06-22",
          "2022-06-23",
          "2022-06-24",
          "2022-06-27",
          "2022-06-28",
          "2022-06-29",
          "2022-06-30",
          "2022-07-01",
          "2022-07-05",
          "2022-07-06",
          "2022-07-07",
          "2022-07-08",
          "2022-07-11",
          "2022-07-12",
          "2022-07-13",
          "2022-07-14",
          "2022-07-15",
          "2022-07-18",
          "2022-07-19",
          "2022-07-20",
          "2022-07-21",
          "2022-07-22",
          "2022-07-25",
          "2022-07-26",
          "2022-07-27",
          "2022-07-28",
          "2022-07-29",
          "2022-08-01",
          "2022-08-02",
          "2022-08-03",
          "2022-08-04",
          "2022-08-05",
          "2022-08-08",
          "2022-08-09",
          "2022-08-10",
          "2022-08-11",
          "2022-08-12",
          "2022-08-15",
          "2022-08-16",
          "2022-08-17",
          "2022-08-18",
          "2022-08-19",
          "2022-08-22",
          "2022-08-23",
          "2022-08-24",
          "2022-08-25",
          "2022-08-26",
          "2022-08-29",
          "2022-08-30",
          "2022-08-31",
          "2022-09-01",
          "2022-09-02",
          "2022-09-06",
          "2022-09-08",
          "2022-09-09",
          "2022-09-12",
          "2022-09-13",
          "2022-09-14",
          "2022-09-15",
          "2022-09-16",
          "2022-09-19",
          "2022-09-20",
          "2022-09-21",
          "2022-09-22",
          "2022-09-23",
          "2022-09-26",
          "2022-09-27",
          "2022-09-28",
          "2022-09-29",
          "2022-09-30",
          "2022-10-03",
          "2022-10-04",
          "2022-10-05",
          "2022-10-06",
          "2022-10-07",
          "2022-10-10",
          "2022-10-11",
          "2022-10-13",
          "2022-10-14",
          "2022-10-17",
          "2022-10-18",
          "2022-10-19",
          "2022-10-20",
          "2022-10-21",
          "2022-10-24",
          "2022-10-25",
          "2022-10-26",
          "2022-10-27",
          "2022-10-28",
          "2022-10-31",
          "2022-11-01",
          "2022-11-03",
          "2022-11-04",
          "2022-11-07",
          "2022-11-08",
          "2022-11-09",
          "2022-11-10",
          "2022-11-11",
          "2022-11-14",
          "2022-11-16",
          "2022-11-17",
          "2022-11-18",
          "2022-11-21",
          "2022-11-22",
          "2022-11-23",
          "2022-11-25",
          "2022-11-28",
          "2022-11-29",
          "2022-11-30",
          "2022-12-01",
          "2022-12-02",
          "2022-12-05",
          "2022-12-06",
          "2022-12-07",
          "2022-12-08",
          "2022-12-09",
          "2022-12-12",
          "2022-12-13",
          "2022-12-14",
          "2022-12-15",
          "2022-12-16",
          "2022-12-19",
          "2022-12-20",
          "2022-12-21",
          "2022-12-22",
          "2022-12-23",
          "2022-12-27",
          "2022-12-28",
          "2022-12-29",
          "2023-01-03",
          "2023-01-04",
          "2023-01-05",
          "2023-01-06",
          "2023-01-09",
          "2023-01-10",
          "2023-01-11",
          "2023-01-12",
          "2023-01-13",
          "2023-01-17",
          "2023-01-18",
          "2023-01-19",
          "2023-01-20",
          "2023-01-23",
          "2023-01-24",
          "2023-01-25",
          "2023-01-26",
          "2023-01-27",
          "2023-01-30",
          "2023-01-31",
          "2023-02-01",
          "2023-02-02",
          "2023-02-03",
          "2023-02-06",
          "2023-02-07",
          "2023-02-08",
          "2023-02-09",
          "2023-02-10",
          "2023-02-13",
          "2023-02-14",
          "2023-02-15",
          "2023-02-16",
          "2023-02-17",
          "2023-02-22",
          "2023-02-23",
          "2023-02-24",
          "2023-02-27",
          "2023-02-28",
          "2023-03-01",
          "2023-03-02",
          "2023-03-03",
          "2023-03-06",
          "2023-03-07",
          "2023-03-08",
          "2023-03-09",
          "2023-03-10",
          "2023-03-13",
          "2023-03-14",
          "2023-03-15",
          "2023-03-16",
          "2023-03-17",
          "2023-03-20",
          "2023-03-21",
          "2023-03-22",
          "2023-03-23",
          "2023-03-24",
          "2023-03-27",
          "2023-03-28",
          "2023-03-29",
          "2023-03-30",
          "2023-03-31",
          "2023-04-03",
          "2023-04-04",
          "2023-04-05",
          "2023-04-06",
          "2023-04-10",
          "2023-04-11",
          "2023-04-12",
          "2023-04-13",
          "2023-04-14",
          "2023-04-17",
          "2023-04-18",
          "2023-04-19",
          "2023-04-20",
          "2023-04-24",
          "2023-04-25",
          "2023-04-26",
          "2023-04-27",
          "2023-04-28",
          "2023-05-02",
          "2023-05-03",
          "2023-05-04",
          "2023-05-05",
          "2023-05-08",
          "2023-05-09",
          "2023-05-10",
          "2023-05-11",
          "2023-05-12",
          "2023-05-15",
          "2023-05-16",
          "2023-05-17",
          "2023-05-18",
          "2023-05-19",
          "2023-05-22",
          "2023-05-23",
          "2023-05-24",
          "2023-05-25",
          "2023-05-26",
          "2023-05-30",
          "2023-05-31",
          "2023-06-01",
          "2023-06-02",
          "2023-06-05",
          "2023-06-06",
          "2023-06-07",
          "2023-06-09",
          "2023-06-12",
          "2023-06-13",
          "2023-06-14",
          "2023-06-15",
          "2023-06-16",
          "2023-06-20",
          "2023-06-21",
          "2023-06-22",
          "2023-06-23",
          "2023-06-26",
          "2023-06-27",
          "2023-06-28",
          "2023-06-29",
          "2023-06-30",
          "2023-07-03",
          "2023-07-05",
          "2023-07-06",
          "2023-07-07",
          "2023-07-10",
          "2023-07-11",
          "2023-07-12",
          "2023-07-13",
          "2023-07-14",
          "2023-07-17",
          "2023-07-18",
          "2023-07-19",
          "2023-07-20",
          "2023-07-21",
          "2023-07-24",
          "2023-07-25",
          "2023-07-26",
          "2023-07-27",
          "2023-07-28",
          "2023-07-31",
          "2023-08-01",
          "2023-08-02",
          "2023-08-03",
          "2023-08-04",
          "2023-08-07",
          "2023-08-08",
          "2023-08-09",
          "2023-08-10",
          "2023-08-11",
          "2023-08-14",
          "2023-08-15",
          "2023-08-16",
          "2023-08-17",
          "2023-08-18",
          "2023-08-21",
          "2023-08-22",
          "2023-08-23",
          "2023-08-24",
          "2023-08-25",
          "2023-08-28",
          "2023-08-29",
          "2023-08-30",
          "2023-08-31",
          "2023-09-01",
          "2023-09-05",
          "2023-09-06",
          "2023-09-08",
          "2023-09-11",
          "2023-09-12",
          "2023-09-13",
          "2023-09-14",
          "2023-09-15",
          "2023-09-18",
          "2023-09-19",
          "2023-09-20",
          "2023-09-21",
          "2023-09-22",
          "2023-09-25",
          "2023-09-26",
          "2023-09-27",
          "2023-09-28",
          "2023-09-29",
          "2023-10-02",
          "2023-10-03",
          "2023-10-04",
          "2023-10-05",
          "2023-10-06",
          "2023-10-09",
          "2023-10-10",
          "2023-10-11",
          "2023-10-13",
          "2023-10-16",
          "2023-10-17",
          "2023-10-18",
          "2023-10-19",
          "2023-10-20",
          "2023-10-23",
          "2023-10-24",
          "2023-10-25",
          "2023-10-26",
          "2023-10-27",
          "2023-10-30",
          "2023-10-31",
          "2023-11-01",
          "2023-11-03",
          "2023-11-06",
          "2023-11-07",
          "2023-11-08",
          "2023-11-09",
          "2023-11-10",
          "2023-11-13",
          "2023-11-14",
          "2023-11-16",
          "2023-11-17",
          "2023-11-20",
          "2023-11-21",
          "2023-11-22",
          "2023-11-24",
          "2023-11-27",
          "2023-11-28",
          "2023-11-29",
          "2023-11-30",
          "2023-12-01",
          "2023-12-04",
          "2023-12-05",
          "2023-12-06",
          "2023-12-07",
          "2023-12-08",
          "2023-12-11",
          "2023-12-12",
          "2023-12-13",
          "2023-12-14",
          "2023-12-15",
          "2023-12-18",
          "2023-12-19",
          "2023-12-20",
          "2023-12-21",
          "2023-12-22",
          "2023-12-26",
          "2023-12-27",
          "2023-12-28"
         ],
         "xaxis": "x",
         "y": [
          231.3279995388455,
          231.60670572916666,
          231.88963097466362,
          232.26949140760632,
          232.57034708658855,
          232.91744842529297,
          233.29756910536025,
          233.70270300971137,
          234.0691716512044,
          234.47528991699218,
          234.86078135172525,
          235.2044886271159,
          235.50100470648871,
          235.8233391655816,
          236.12176937527127,
          236.36268259684246,
          236.63685658772786,
          236.85328013102213,
          237.16614295111762,
          237.3799055311415,
          237.5845976087782,
          237.78978695339626,
          237.9897476196289,
          238.22219492594402,
          238.48281707763672,
          238.72688683403862,
          238.9964816623264,
          239.23012068006727,
          239.4983127170139,
          239.79786512586804,
          240.0964360555013,
          240.43291727701822,
          240.9042185465495,
          241.38897688123916,
          241.8844484117296,
          242.41269056532118,
          242.90336100260416,
          243.38443366156685,
          243.9150639851888,
          244.49765065511068,
          245.08615214029948,
          245.58187340630425,
          246.14783952501085,
          246.66745995415582,
          247.25286577012804,
          247.82565595838759,
          248.40661197238498,
          248.9706047905816,
          249.4999267578125,
          250.03948211669922,
          250.62991587320963,
          251.22336171468098,
          251.7809100680881,
          252.31476084391275,
          252.9039089626736,
          253.5259974161784,
          254.09132690429686,
          254.6496114095052,
          255.24989251030817,
          255.83883293999565,
          256.3897420247396,
          256.8871921115451,
          257.3812672932943,
          257.8340323554145,
          258.3160291883681,
          258.85208808051215,
          259.390636867947,
          259.8794665866428,
          260.3929200914171,
          260.8327170477973,
          261.26597663031686,
          261.7626003689236,
          262.2459060668945,
          262.7404057820638,
          263.18470967610676,
          263.6246000501845,
          264.04991573757593,
          264.5229990641276,
          265.00150231255424,
          265.49739549424913,
          266.0270034790039,
          266.65480143229166,
          267.30113338894313,
          267.8545357598199,
          268.3183351304796,
          268.8443793402778,
          269.4215135362413,
          270.08707258436414,
          270.7069785224067,
          271.2157696194119,
          271.64140065511066,
          272.0948284573025,
          272.51929524739586,
          272.9851279364692,
          273.4003402709961,
          273.81610124376084,
          274.26874474419486,
          274.74268103705515,
          275.2401392618815,
          275.72690243191187,
          276.26075151231555,
          276.86529930962456,
          277.4479734632704,
          278.03135901557073,
          278.6382858276367,
          279.2253431532118,
          279.8092317369249,
          280.36881086561414,
          280.8956756591797,
          281.4604531182183,
          282.17698923746747,
          282.86830139160156,
          283.65406578911677,
          284.3809797498915,
          285.12687140570745,
          285.9017306857639,
          286.6571601019965,
          287.44066331651476,
          288.1730007595486,
          288.8207475450304,
          289.49151034884983,
          290.20109693739147,
          290.87556627061633,
          291.5524183485243,
          292.2280629475911,
          292.95071682400174,
          293.63892754448784,
          294.26436191134985,
          294.87577752007377,
          295.4140309651693,
          296.03057556152345,
          296.62205980088976,
          297.18309631347654,
          297.7153004964193,
          298.1261800130208,
          298.5334126790365,
          299.04188334147136,
          299.577976820204,
          300.0972710503472,
          300.715781656901,
          301.31744113498263,
          301.80028957790796,
          302.3266594780816,
          302.7540164523655,
          303.1369835747613,
          303.4784681532118,
          303.91207207573785,
          304.4300754123264,
          304.95871209038626,
          305.5405351426866,
          306.076559109158,
          306.60128241644964,
          307.1139231363932,
          307.59641994900176,
          307.95145602756077,
          308.08765597873264,
          308.19364352756077,
          308.3233106825087,
          308.462062242296,
          308.64006991916233,
          308.8468980577257,
          308.8660074869792,
          308.9620859781901,
          308.9769358317057,
          309.0065016004774,
          309.0174391004774,
          308.9781066894531,
          308.9744554307726,
          308.90210978190106,
          308.90495130750867,
          308.91142205132377,
          308.9547068277995,
          309.02312554253473,
          309.125336710612,
          309.3386647542318,
          309.41435072157117,
          309.49996676974826,
          309.5209448920356,
          309.58329094780817,
          309.7736562093099,
          309.9835228814019,
          310.10870530870227,
          310.25594143337673,
          310.38479885525174,
          310.574612765842,
          310.60817057291666,
          310.56431511773,
          310.4993696424696,
          310.3535722520616,
          310.36988762749564,
          310.3932362874349,
          310.3782206217448,
          310.30108167860243,
          310.1248796251085,
          309.8196790907118,
          309.49013366699216,
          309.26166008843313,
          309.01890157063804,
          308.7273701985677,
          308.3750396728516,
          307.9977562798394,
          307.68628980848524,
          307.30523986816405,
          307.0050554063585,
          306.6410356309679,
          306.3038160536024,
          305.9211079915365,
          305.5783769395616,
          305.24232991536456,
          305.03814324273003,
          304.8674513075087,
          304.63356018066406,
          304.3092763264974,
          303.99454786512587,
          303.7167670355903,
          303.37467074924047,
          302.9445939805773,
          302.55809733072914,
          302.12135925292966,
          301.64666883680553,
          301.06197950575086,
          300.60304565429686,
          300.065092976888,
          299.5410183376736,
          299.13899875217015,
          298.7140438503689,
          298.06072760687937,
          297.47947455512156,
          296.8045206705729,
          296.1684143066406,
          295.63587985568574,
          295.0917019314236,
          294.5546112060547,
          294.0939215766059,
          293.7341369628906,
          293.2794131808811,
          292.7163282606337,
          291.97908359103735,
          291.27909681532117,
          290.39793446858727,
          289.4733359442817,
          288.60377604166666,
          287.766823832194,
          287.0371014065213,
          286.23770480685766,
          285.5648683336046,
          284.9127990722656,
          284.3469970703125,
          283.7675018310547,
          283.2118621826172,
          282.65735880533856,
          282.3285824245877,
          281.92641974555124,
          281.6120076497396,
          281.31372816297744,
          280.9845815022787,
          280.70194363064235,
          280.4564168294271,
          280.27349751790365,
          279.94041917588976,
          279.445083448622,
          278.74183671739365,
          278.03338996039497,
          277.42806854248045,
          276.72713690863714,
          276.2246878729926,
          275.664810011122,
          275.22130584716797,
          274.8348644680447,
          274.34583553738065,
          273.8609539455838,
          273.4966844346788,
          273.0955374823676,
          272.6650636461046,
          272.273959520128,
          272.01458248562284,
          271.8094155205621,
          271.5984780205621,
          271.4341269599067,
          270.99644944932726,
          270.5189192030165,
          270.024927605523,
          269.6059936523437,
          269.22595842149525,
          269.0221950954861,
          268.8814459906684,
          268.63136698404946,
          268.36413625081383,
          268.1401696099175,
          267.88021358913846,
          267.6872095743815,
          267.4990663316515,
          267.3490168253581,
          267.11272871229386,
          266.85552283393014,
          266.62835472954646,
          266.4636191474067,
          266.24080352783204,
          265.99437204996747,
          265.69329240587024,
          265.4157201131185,
          265.1316906399197,
          264.9610861884223,
          264.79540456136067,
          264.5612228393555,
          264.3630362616645,
          264.2758163452148,
          264.12447933620876,
          263.929325527615,
          263.8469755384657,
          263.79226871066624,
          263.7105782402886,
          263.59613528781466,
          263.44302724202475,
          263.213407558865,
          262.95593109130857,
          262.8206042819553,
          262.56536271837024,
          262.39344228108723,
          262.13788553873695,
          261.87751634385853,
          261.77244533962676,
          261.43214060465493,
          261.1235361735026,
          260.65137769911024,
          260.3093112521701,
          259.9932800292969,
          259.76483764648435,
          259.4448467678494,
          259.2441168891059,
          259.06646304660376,
          258.8210656060113,
          258.5602072821723,
          258.2924116346571,
          258.11753963894313,
          257.90274844699434,
          257.7797303941515,
          257.6574449327257,
          257.5498509724935,
          257.3844401041667,
          257.0454540676541,
          256.57222849527994,
          256.0720462375217,
          255.66213734944662,
          255.16681315104168,
          254.81887512207032,
          254.49532521565754,
          254.1089631822374,
          253.74173889160156,
          253.50072784423827,
          253.443997531467,
          253.5411595662435,
          253.40323842366536,
          253.13641764322918,
          253.0137220594618,
          252.78401065402562,
          252.51776699490017,
          252.0374510023329,
          251.53880767822267,
          251.14136928982205,
          250.8463148328993,
          250.46261410183376,
          250.31756507025824,
          250.1876235961914,
          249.96150139702692,
          249.70821753607856,
          249.4305648803711,
          249.1559331258138,
          248.9246404012044,
          248.84384036593968,
          248.8012502034505,
          248.74288228352864,
          248.59315812852648,
          248.45467037624783,
          248.42064514160157,
          248.35189548068576,
          248.25879753960504,
          248.16174146864148,
          248.02579515245225,
          247.95703447129992,
          247.73821292453343,
          247.41431291368272,
          247.12081739637586,
          246.9052268134223,
          246.72761671278212,
          246.37704128689236,
          245.9664050632053,
          245.51746758355034,
          245.11146206325955,
          244.7126692030165,
          244.17103932698566,
          243.65859188503688,
          243.07360212537978,
          242.44507904052733,
          241.89566073947483,
          241.33900332980687,
          240.6803176879883,
          239.99122806125217,
          239.42234785291885,
          238.89168836805555,
          238.38702629937066,
          237.92465498182509,
          237.60953063964843,
          237.33345404730903,
          237.09425726996528,
          236.82178243001303,
          236.5185562133789,
          236.35326453314886,
          236.24440324571398,
          236.0721906873915,
          235.81959347195095,
          235.62390882703994,
          235.58978135850694,
          235.49356926812067,
          235.52767164442275,
          235.62275288899738,
          235.84977315266926,
          236.03103569878473,
          236.233179558648,
          236.53114742702908,
          236.85339931911892,
          237.1467770046658,
          237.44580722384984,
          237.78389739990234,
          238.17019602457682,
          238.582857937283,
          238.83147905137804,
          238.94654388427733,
          238.98633812798394,
          239.08813052707248,
          239.26590728759766,
          239.50838182237413,
          239.78460608588324,
          239.9300537109375,
          240.19046156141493,
          240.39889577229818,
          240.61407182481554,
          240.8214582655165,
          241.02751074896918,
          241.15336100260416,
          241.18241153293187,
          241.23270161946616,
          241.56910586886937,
          242.00628814697265,
          242.46197272406684,
          242.99382425944012,
          243.48993886311848,
          244.154781765408,
          244.7254628499349,
          245.2843558417426,
          245.86423831515842,
          246.44573109944662,
          246.8132802327474,
          247.19367133246527,
          247.67346649169923,
          248.19044935438367,
          248.69625345865884,
          249.20653788248697,
          249.67662489149305,
          250.1936989678277,
          250.65867750379775,
          251.05274810791016,
          251.51669023301866,
          252.06585489908855,
          252.4125725640191,
          252.7933607313368,
          253.16582878960503,
          253.59186520046657,
          254.04778951009115,
          254.4643500434028,
          254.7781982421875,
          255.33232421875,
          255.91261783175997,
          256.4713334825304,
          257.0064949883355,
          257.6203370836046,
          258.29247300889756,
          259.068384636773,
          259.80762074788413,
          260.500023566352,
          261.31883341471354,
          262.1076293945313,
          262.903281656901,
          263.7308675130208,
          264.5126029120551,
          265.3422604031033,
          266.33612569173175,
          267.40224100748696,
          268.47090725368923,
          269.45061357286244,
          270.3959209865994,
          271.3981465657552,
          272.4469707912869,
          273.46947309705945,
          274.44875979953343,
          275.52369571261937,
          276.672018093533,
          277.735647922092,
          278.7486568874783,
          279.6544436984592,
          280.61331532796225,
          281.5469753689236,
          282.505685933431,
          283.5574717203776,
          284.6716837565104,
          285.66852043999563,
          286.4888092041016,
          287.3281070285373,
          288.2522233751085,
          289.0068756103516,
          289.70008985731334,
          290.4928704155816,
          291.3053944905599,
          292.01927286783854,
          292.7841569688585,
          293.54481506347656,
          294.38580695258247,
          295.305888027615,
          296.2532704671224,
          297.10572764078773,
          298.02603691948786,
          298.9879945543077,
          300.01802893744576,
          301.11092071533204,
          302.15615234375,
          303.30670149061416,
          304.39149983723956,
          305.41593678792316,
          306.4112577650282,
          307.43641984727645,
          308.56692979600695,
          309.49394158257377,
          310.26823357476127,
          311.0755859375,
          311.7381103515625,
          312.3698499891493,
          312.98340488009984,
          313.5707472059462,
          314.18671942816843,
          314.76943155924477,
          315.27566290961374,
          315.7858567979601,
          316.31634148491753,
          316.7678755018446,
          317.2138932969835,
          317.5893920898437,
          317.9680314805773,
          318.30847710503474,
          318.67564392089844,
          319.0226813422309,
          319.4003221299913,
          319.8998229980469,
          320.3147172715929,
          320.6931498209635,
          321.12005547417533,
          321.5696499294705,
          322.02813890245227,
          322.4744144015842,
          322.95624050564237,
          323.53945007324216,
          324.18487447102865,
          324.62696431477866,
          325.00577426486547,
          325.290044148763,
          325.64180569118923,
          326.033693101671,
          326.3211778428819,
          326.5384701199002,
          326.7731679280599,
          326.9392188178168,
          327.0334282769097,
          327.12401292588976,
          327.23292371961804,
          327.2770311143663,
          327.30330539279515,
          327.30664503309464,
          327.2835642496745,
          327.3290486653646,
          327.250777859158,
          327.2988318549262,
          327.3667744954427,
          327.38910183376737,
          327.36305372450084,
          327.33971828884546,
          327.39171006944446,
          327.3460632324219,
          327.3234853108724,
          327.28859252929686,
          327.2570593939887,
          327.3519694010417,
          327.3582475450304,
          327.33811815049916,
          327.30450710720487,
          327.3490027533637,
          327.13465983072916,
          327.00482177734375,
          327.0045386420356,
          327.0623741997613,
          327.1402737087674,
          327.34375644259984,
          327.6588036431207,
          327.95230780707465,
          328.2611399332682,
          328.5511325412326,
          328.8796644422743,
          329.20329420301647,
          329.56467997233074,
          329.9651397705078,
          330.3403788248698,
          330.8585242377387,
          331.321445719401,
          331.7851335313585,
          332.18422241210936,
          332.56798875596786,
          332.9914805094401,
          333.2213853624132,
          333.500387234158,
          333.8210340711806,
          334.11650390625,
          334.43453301323785,
          334.6470648871528,
          335.02839525010853,
          335.5233303493924,
          335.9019307454427,
          336.341407945421,
          336.776161702474,
          337.21492377387153,
          337.7158498128255,
          338.22564934624563,
          338.71658596462674,
          339.2229977077908,
          339.8035681830512,
          340.3879208034939,
          340.9942426893446,
          341.560779147678,
          342.164603000217
         ],
         "yaxis": "y"
        },
        {
         "hovertemplate": "Ticker=NVDA<br>Data=%{x}<br>Close=%{y}<extra></extra>",
         "legendgroup": "NVDA",
         "line": {
          "color": "#00cc96",
          "dash": "solid"
         },
         "marker": {
          "symbol": "circle"
         },
         "mode": "lines",
         "name": "NVDA",
         "showlegend": true,
         "type": "scattergl",
         "x": [
          "2021-05-17",
          "2021-05-18",
          "2021-05-19",
          "2021-05-20",
          "2021-05-21",
          "2021-05-24",
          "2021-05-25",
          "2021-05-26",
          "2021-05-27",
          "2021-05-28",
          "2021-06-01",
          "2021-06-02",
          "2021-06-04",
          "2021-06-07",
          "2021-06-08",
          "2021-06-09",
          "2021-06-10",
          "2021-06-11",
          "2021-06-14",
          "2021-06-15",
          "2021-06-16",
          "2021-06-17",
          "2021-06-18",
          "2021-06-21",
          "2021-06-22",
          "2021-06-23",
          "2021-06-24",
          "2021-06-25",
          "2021-06-28",
          "2021-06-29",
          "2021-06-30",
          "2021-07-01",
          "2021-07-02",
          "2021-07-06",
          "2021-07-07",
          "2021-07-08",
          "2021-07-12",
          "2021-07-13",
          "2021-07-14",
          "2021-07-15",
          "2021-07-16",
          "2021-07-19",
          "2021-07-20",
          "2021-07-21",
          "2021-07-22",
          "2021-07-23",
          "2021-07-26",
          "2021-07-27",
          "2021-07-28",
          "2021-07-29",
          "2021-07-30",
          "2021-08-02",
          "2021-08-03",
          "2021-08-04",
          "2021-08-05",
          "2021-08-06",
          "2021-08-09",
          "2021-08-10",
          "2021-08-11",
          "2021-08-12",
          "2021-08-13",
          "2021-08-16",
          "2021-08-17",
          "2021-08-18",
          "2021-08-19",
          "2021-08-20",
          "2021-08-23",
          "2021-08-24",
          "2021-08-25",
          "2021-08-26",
          "2021-08-27",
          "2021-08-30",
          "2021-08-31",
          "2021-09-01",
          "2021-09-02",
          "2021-09-03",
          "2021-09-08",
          "2021-09-09",
          "2021-09-10",
          "2021-09-13",
          "2021-09-14",
          "2021-09-15",
          "2021-09-16",
          "2021-09-17",
          "2021-09-20",
          "2021-09-21",
          "2021-09-22",
          "2021-09-23",
          "2021-09-24",
          "2021-09-27",
          "2021-09-28",
          "2021-09-29",
          "2021-09-30",
          "2021-10-01",
          "2021-10-04",
          "2021-10-05",
          "2021-10-06",
          "2021-10-07",
          "2021-10-08",
          "2021-10-11",
          "2021-10-13",
          "2021-10-14",
          "2021-10-15",
          "2021-10-18",
          "2021-10-19",
          "2021-10-20",
          "2021-10-21",
          "2021-10-22",
          "2021-10-25",
          "2021-10-26",
          "2021-10-27",
          "2021-10-28",
          "2021-10-29",
          "2021-11-01",
          "2021-11-03",
          "2021-11-04",
          "2021-11-05",
          "2021-11-08",
          "2021-11-09",
          "2021-11-10",
          "2021-11-11",
          "2021-11-12",
          "2021-11-16",
          "2021-11-17",
          "2021-11-18",
          "2021-11-19",
          "2021-11-22",
          "2021-11-23",
          "2021-11-24",
          "2021-11-26",
          "2021-11-29",
          "2021-11-30",
          "2021-12-01",
          "2021-12-02",
          "2021-12-03",
          "2021-12-06",
          "2021-12-07",
          "2021-12-08",
          "2021-12-09",
          "2021-12-10",
          "2021-12-13",
          "2021-12-14",
          "2021-12-15",
          "2021-12-16",
          "2021-12-17",
          "2021-12-20",
          "2021-12-21",
          "2021-12-22",
          "2021-12-23",
          "2021-12-27",
          "2021-12-28",
          "2021-12-29",
          "2021-12-30",
          "2022-01-03",
          "2022-01-04",
          "2022-01-05",
          "2022-01-06",
          "2022-01-07",
          "2022-01-10",
          "2022-01-11",
          "2022-01-12",
          "2022-01-13",
          "2022-01-14",
          "2022-01-18",
          "2022-01-19",
          "2022-01-20",
          "2022-01-21",
          "2022-01-24",
          "2022-01-25",
          "2022-01-26",
          "2022-01-27",
          "2022-01-28",
          "2022-01-31",
          "2022-02-01",
          "2022-02-02",
          "2022-02-03",
          "2022-02-04",
          "2022-02-07",
          "2022-02-08",
          "2022-02-09",
          "2022-02-10",
          "2022-02-11",
          "2022-02-14",
          "2022-02-15",
          "2022-02-16",
          "2022-02-17",
          "2022-02-18",
          "2022-02-22",
          "2022-02-23",
          "2022-02-24",
          "2022-02-25",
          "2022-03-02",
          "2022-03-03",
          "2022-03-04",
          "2022-03-07",
          "2022-03-08",
          "2022-03-09",
          "2022-03-10",
          "2022-03-11",
          "2022-03-14",
          "2022-03-15",
          "2022-03-16",
          "2022-03-17",
          "2022-03-18",
          "2022-03-21",
          "2022-03-22",
          "2022-03-23",
          "2022-03-24",
          "2022-03-25",
          "2022-03-28",
          "2022-03-29",
          "2022-03-30",
          "2022-03-31",
          "2022-04-01",
          "2022-04-04",
          "2022-04-05",
          "2022-04-06",
          "2022-04-07",
          "2022-04-08",
          "2022-04-11",
          "2022-04-12",
          "2022-04-13",
          "2022-04-14",
          "2022-04-18",
          "2022-04-19",
          "2022-04-20",
          "2022-04-22",
          "2022-04-25",
          "2022-04-26",
          "2022-04-27",
          "2022-04-28",
          "2022-04-29",
          "2022-05-02",
          "2022-05-03",
          "2022-05-04",
          "2022-05-05",
          "2022-05-06",
          "2022-05-09",
          "2022-05-10",
          "2022-05-11",
          "2022-05-12",
          "2022-05-13",
          "2022-05-16",
          "2022-05-17",
          "2022-05-18",
          "2022-05-19",
          "2022-05-20",
          "2022-05-23",
          "2022-05-24",
          "2022-05-25",
          "2022-05-26",
          "2022-05-27",
          "2022-05-31",
          "2022-06-01",
          "2022-06-02",
          "2022-06-03",
          "2022-06-06",
          "2022-06-07",
          "2022-06-08",
          "2022-06-09",
          "2022-06-10",
          "2022-06-13",
          "2022-06-14",
          "2022-06-15",
          "2022-06-17",
          "2022-06-21",
          "2022-06-22",
          "2022-06-23",
          "2022-06-24",
          "2022-06-27",
          "2022-06-28",
          "2022-06-29",
          "2022-06-30",
          "2022-07-01",
          "2022-07-05",
          "2022-07-06",
          "2022-07-07",
          "2022-07-08",
          "2022-07-11",
          "2022-07-12",
          "2022-07-13",
          "2022-07-14",
          "2022-07-15",
          "2022-07-18",
          "2022-07-19",
          "2022-07-20",
          "2022-07-21",
          "2022-07-22",
          "2022-07-25",
          "2022-07-26",
          "2022-07-27",
          "2022-07-28",
          "2022-07-29",
          "2022-08-01",
          "2022-08-02",
          "2022-08-03",
          "2022-08-04",
          "2022-08-05",
          "2022-08-08",
          "2022-08-09",
          "2022-08-10",
          "2022-08-11",
          "2022-08-12",
          "2022-08-15",
          "2022-08-16",
          "2022-08-17",
          "2022-08-18",
          "2022-08-19",
          "2022-08-22",
          "2022-08-23",
          "2022-08-24",
          "2022-08-25",
          "2022-08-26",
          "2022-08-29",
          "2022-08-30",
          "2022-08-31",
          "2022-09-01",
          "2022-09-02",
          "2022-09-06",
          "2022-09-08",
          "2022-09-09",
          "2022-09-12",
          "2022-09-13",
          "2022-09-14",
          "2022-09-15",
          "2022-09-16",
          "2022-09-19",
          "2022-09-20",
          "2022-09-21",
          "2022-09-22",
          "2022-09-23",
          "2022-09-26",
          "2022-09-27",
          "2022-09-28",
          "2022-09-29",
          "2022-09-30",
          "2022-10-03",
          "2022-10-04",
          "2022-10-05",
          "2022-10-06",
          "2022-10-07",
          "2022-10-10",
          "2022-10-11",
          "2022-10-13",
          "2022-10-14",
          "2022-10-17",
          "2022-10-18",
          "2022-10-19",
          "2022-10-20",
          "2022-10-21",
          "2022-10-24",
          "2022-10-25",
          "2022-10-26",
          "2022-10-27",
          "2022-10-28",
          "2022-10-31",
          "2022-11-01",
          "2022-11-03",
          "2022-11-04",
          "2022-11-07",
          "2022-11-08",
          "2022-11-09",
          "2022-11-10",
          "2022-11-11",
          "2022-11-14",
          "2022-11-16",
          "2022-11-17",
          "2022-11-18",
          "2022-11-21",
          "2022-11-22",
          "2022-11-23",
          "2022-11-25",
          "2022-11-28",
          "2022-11-29",
          "2022-11-30",
          "2022-12-01",
          "2022-12-02",
          "2022-12-05",
          "2022-12-06",
          "2022-12-07",
          "2022-12-08",
          "2022-12-09",
          "2022-12-12",
          "2022-12-13",
          "2022-12-14",
          "2022-12-15",
          "2022-12-16",
          "2022-12-19",
          "2022-12-20",
          "2022-12-21",
          "2022-12-22",
          "2022-12-23",
          "2022-12-27",
          "2022-12-28",
          "2022-12-29",
          "2023-01-03",
          "2023-01-04",
          "2023-01-05",
          "2023-01-06",
          "2023-01-09",
          "2023-01-10",
          "2023-01-11",
          "2023-01-12",
          "2023-01-13",
          "2023-01-17",
          "2023-01-18",
          "2023-01-19",
          "2023-01-20",
          "2023-01-23",
          "2023-01-24",
          "2023-01-25",
          "2023-01-26",
          "2023-01-27",
          "2023-01-30",
          "2023-01-31",
          "2023-02-01",
          "2023-02-02",
          "2023-02-03",
          "2023-02-06",
          "2023-02-07",
          "2023-02-08",
          "2023-02-09",
          "2023-02-10",
          "2023-02-13",
          "2023-02-14",
          "2023-02-15",
          "2023-02-16",
          "2023-02-17",
          "2023-02-22",
          "2023-02-23",
          "2023-02-24",
          "2023-02-27",
          "2023-02-28",
          "2023-03-01",
          "2023-03-02",
          "2023-03-03",
          "2023-03-06",
          "2023-03-07",
          "2023-03-08",
          "2023-03-09",
          "2023-03-10",
          "2023-03-13",
          "2023-03-14",
          "2023-03-15",
          "2023-03-16",
          "2023-03-17",
          "2023-03-20",
          "2023-03-21",
          "2023-03-22",
          "2023-03-23",
          "2023-03-24",
          "2023-03-27",
          "2023-03-28",
          "2023-03-29",
          "2023-03-30",
          "2023-03-31",
          "2023-04-03",
          "2023-04-04",
          "2023-04-05",
          "2023-04-06",
          "2023-04-10",
          "2023-04-11",
          "2023-04-12",
          "2023-04-13",
          "2023-04-14",
          "2023-04-17",
          "2023-04-18",
          "2023-04-19",
          "2023-04-20",
          "2023-04-24",
          "2023-04-25",
          "2023-04-26",
          "2023-04-27",
          "2023-04-28",
          "2023-05-02",
          "2023-05-03",
          "2023-05-04",
          "2023-05-05",
          "2023-05-08",
          "2023-05-09",
          "2023-05-10",
          "2023-05-11",
          "2023-05-12",
          "2023-05-15",
          "2023-05-16",
          "2023-05-17",
          "2023-05-18",
          "2023-05-19",
          "2023-05-22",
          "2023-05-23",
          "2023-05-24",
          "2023-05-25",
          "2023-05-26",
          "2023-05-30",
          "2023-05-31",
          "2023-06-01",
          "2023-06-02",
          "2023-06-05",
          "2023-06-06",
          "2023-06-07",
          "2023-06-09",
          "2023-06-12",
          "2023-06-13",
          "2023-06-14",
          "2023-06-15",
          "2023-06-16",
          "2023-06-20",
          "2023-06-21",
          "2023-06-22",
          "2023-06-23",
          "2023-06-26",
          "2023-06-27",
          "2023-06-28",
          "2023-06-29",
          "2023-06-30",
          "2023-07-03",
          "2023-07-05",
          "2023-07-06",
          "2023-07-07",
          "2023-07-10",
          "2023-07-11",
          "2023-07-12",
          "2023-07-13",
          "2023-07-14",
          "2023-07-17",
          "2023-07-18",
          "2023-07-19",
          "2023-07-20",
          "2023-07-21",
          "2023-07-24",
          "2023-07-25",
          "2023-07-26",
          "2023-07-27",
          "2023-07-28",
          "2023-07-31",
          "2023-08-01",
          "2023-08-02",
          "2023-08-03",
          "2023-08-04",
          "2023-08-07",
          "2023-08-08",
          "2023-08-09",
          "2023-08-10",
          "2023-08-11",
          "2023-08-14",
          "2023-08-15",
          "2023-08-16",
          "2023-08-17",
          "2023-08-18",
          "2023-08-21",
          "2023-08-22",
          "2023-08-23",
          "2023-08-24",
          "2023-08-25",
          "2023-08-28",
          "2023-08-29",
          "2023-08-30",
          "2023-08-31",
          "2023-09-01",
          "2023-09-05",
          "2023-09-06",
          "2023-09-08",
          "2023-09-11",
          "2023-09-12",
          "2023-09-13",
          "2023-09-14",
          "2023-09-15",
          "2023-09-18",
          "2023-09-19",
          "2023-09-20",
          "2023-09-21",
          "2023-09-22",
          "2023-09-25",
          "2023-09-26",
          "2023-09-27",
          "2023-09-28",
          "2023-09-29",
          "2023-10-02",
          "2023-10-03",
          "2023-10-04",
          "2023-10-05",
          "2023-10-06",
          "2023-10-09",
          "2023-10-10",
          "2023-10-11",
          "2023-10-13",
          "2023-10-16",
          "2023-10-17",
          "2023-10-18",
          "2023-10-19",
          "2023-10-20",
          "2023-10-23",
          "2023-10-24",
          "2023-10-25",
          "2023-10-26",
          "2023-10-27",
          "2023-10-30",
          "2023-10-31",
          "2023-11-01",
          "2023-11-03",
          "2023-11-06",
          "2023-11-07",
          "2023-11-08",
          "2023-11-09",
          "2023-11-10",
          "2023-11-13",
          "2023-11-14",
          "2023-11-16",
          "2023-11-17",
          "2023-11-20",
          "2023-11-21",
          "2023-11-22",
          "2023-11-24",
          "2023-11-27",
          "2023-11-28",
          "2023-11-29",
          "2023-11-30",
          "2023-12-01",
          "2023-12-04",
          "2023-12-05",
          "2023-12-06",
          "2023-12-07",
          "2023-12-08",
          "2023-12-11",
          "2023-12-12",
          "2023-12-13",
          "2023-12-14",
          "2023-12-15",
          "2023-12-18",
          "2023-12-19",
          "2023-12-20",
          "2023-12-21",
          "2023-12-22",
          "2023-12-26",
          "2023-12-27",
          "2023-12-28"
         ],
         "xaxis": "x",
         "y": [
          13.835772853427462,
          13.845826085408529,
          13.853205733829075,
          13.875405438741048,
          13.893724780612521,
          13.919666067759197,
          13.942182805803087,
          13.966794459025065,
          13.988534800211589,
          14.022336292266846,
          14.060136053297255,
          14.101794687906901,
          14.148549016316732,
          14.190194214714898,
          14.231761264801026,
          14.275350337558322,
          14.325415049658881,
          14.37844149271647,
          14.434292560153537,
          14.484849951002333,
          14.532104799482557,
          14.58904324637519,
          14.644294198354086,
          14.698011610243055,
          14.747428968217637,
          14.800682099660238,
          14.850026713477241,
          14.892044300503201,
          14.94784967634413,
          15.00473034116957,
          15.06219547059801,
          15.12090326944987,
          15.188986206054688,
          15.261783589257135,
          15.327000872294109,
          15.400222672356499,
          15.475695376925998,
          15.546846845414903,
          15.618294938405354,
          15.686703501807319,
          15.750997882419162,
          15.821142525143093,
          15.899049663543702,
          15.975484307607015,
          16.054535897572837,
          16.127364974551732,
          16.198790889316136,
          16.26554625829061,
          16.334464263916015,
          16.404591125912138,
          16.479770459069147,
          16.55636674033271,
          16.62990879482693,
          16.70982135136922,
          16.79850171407064,
          16.885371483696833,
          16.968083551194933,
          17.045606072743734,
          17.121348571777343,
          17.194092570410834,
          17.264836099412705,
          17.33099185095893,
          17.393088595072427,
          17.447423542870414,
          17.508240625593398,
          17.579426447550457,
          17.65430711110433,
          17.722141636742485,
          17.799096149868436,
          17.864905293782552,
          17.93950496249729,
          18.02078734503852,
          18.1008654806349,
          18.185123591952852,
          18.264281601376005,
          18.346038627624512,
          18.423272800445556,
          18.499874273935955,
          18.57928206125895,
          18.658569208780925,
          18.74076985253228,
          18.82945112652249,
          18.915845330556234,
          18.997731177012124,
          19.067681323157416,
          19.145165559980605,
          19.229909229278565,
          19.326726055145265,
          19.420129140218098,
          19.50245739618937,
          19.57498613993327,
          19.64715650346544,
          19.720979679955377,
          19.789029524061416,
          19.841672537061903,
          19.89541352589925,
          19.951519955529108,
          20.011206309000652,
          20.070536783006457,
          20.11997169918484,
          20.171891106499565,
          20.227065383063422,
          20.27465680440267,
          20.325789324442546,
          20.37947203318278,
          20.432131406995985,
          20.490583356221517,
          20.544973924424912,
          20.602098846435545,
          20.678979767693413,
          20.752669186062285,
          20.822400707668727,
          20.899280484517416,
          20.981389405992296,
          21.06695416768392,
          21.186153623792862,
          21.30316556294759,
          21.433780712551542,
          21.552186181810168,
          21.656841320461698,
          21.772091378106012,
          21.885018179151746,
          21.992821375528973,
          22.08783113691542,
          22.213238800896537,
          22.358376926845974,
          22.485340372721353,
          22.612885602315266,
          22.755253495110406,
          22.894339476691353,
          23.06312919192844,
          23.217293400234645,
          23.359596273634168,
          23.500714810689292,
          23.623897213406032,
          23.74020199245877,
          23.885945913526747,
          24.02597671084934,
          24.14791643354628,
          24.26485390133328,
          24.361003091600207,
          24.456321228875055,
          24.57445714738634,
          24.66451909806993,
          24.74405534532335,
          24.825687175326877,
          24.92314796447754,
          25.0281949573093,
          25.13853234185113,
          25.261061244540745,
          25.373541174994575,
          25.485099644131132,
          25.597510634528266,
          25.72049151526557,
          25.825848706563313,
          25.901214684380424,
          25.970283804999458,
          26.030855433146158,
          26.08846664428711,
          26.152311515808105,
          26.21187646653917,
          26.255068821377225,
          26.305648422241212,
          26.34408164554172,
          26.37374053531223,
          26.388269657558865,
          26.39978090922038,
          26.413066736857097,
          26.41138899061415,
          26.418296517266167,
          26.415021091037325,
          26.42058669196235,
          26.445508808559843,
          26.475910271538627,
          26.521740510728623,
          26.551741706000435,
          26.578149859110514,
          26.6030945248074,
          26.636702028910317,
          26.69269387986925,
          26.74957186381022,
          26.787669732835557,
          26.827087910970054,
          26.89093212551541,
          26.966156069437663,
          27.011175685458714,
          27.043838416205514,
          27.069546529981825,
          27.086834971110026,
          27.120728958977594,
          27.156453598870172,
          27.183972104390463,
          27.204590225219725,
          27.212583923339842,
          27.202249675326875,
          27.19578675164117,
          27.19943290286594,
          27.19875225490994,
          27.187000677320693,
          27.149503707885742,
          27.133185365464954,
          27.128329277038574,
          27.119525612725152,
          27.126554679870605,
          27.128149943881564,
          27.091889932420518,
          27.046299256218806,
          27.01695442199707,
          26.98415862189399,
          26.97049706776937,
          26.951357799106173,
          26.921501244439018,
          26.88923653496636,
          26.861051559448242,
          26.8132814195421,
          26.735127533806693,
          26.651478576660157,
          26.567950926886663,
          26.462048636542427,
          26.3557985941569,
          26.22419244978163,
          26.108105341593426,
          25.995255512661405,
          25.880565367804632,
          25.78637515174018,
          25.691518020629882,
          25.548326365152995,
          25.416095140245226,
          25.28632435268826,
          25.15565431382921,
          25.062746302286783,
          24.954184171888564,
          24.83302273220486,
          24.735610686408148,
          24.652820184495713,
          24.554408433702257,
          24.439080047607423,
          24.301008415222167,
          24.16743055979411,
          24.008670573764377,
          23.851773240831164,
          23.71542241838243,
          23.57877123090956,
          23.446314811706543,
          23.309330198499893,
          23.19311146206326,
          23.06575484805637,
          22.950988833109538,
          22.82627133263482,
          22.706036800808377,
          22.593502214219836,
          22.507414372762046,
          22.415713416205513,
          22.33163242340088,
          22.270937093098958,
          22.210739347669815,
          22.15988169776069,
          22.110599517822266,
          22.06990189022488,
          22.01757655673557,
          21.962517929077148,
          21.882794676886665,
          21.786910194820827,
          21.69700763490465,
          21.59322543674045,
          21.511409589979383,
          21.42319236331516,
          21.328940200805665,
          21.24047107696533,
          21.131435118781194,
          21.022328843010797,
          20.92913867102729,
          20.828170914120143,
          20.695431094699437,
          20.56740748087565,
          20.46345565583971,
          20.377177503373886,
          20.293472819858128,
          20.213281610276965,
          20.117216481102837,
          20.01752438015408,
          19.919395860036214,
          19.831208928426108,
          19.755415386623806,
          19.707082960340713,
          19.6659972720676,
          19.61096623738607,
          19.5517730500963,
          19.495497088962132,
          19.442315313551163,
          19.384853998819988,
          19.31264845530192,
          19.23943369123671,
          19.150587378607856,
          19.059566709730362,
          18.97494845920139,
          18.90377752516005,
          18.80218482547336,
          18.69240156809489,
          18.56892598470052,
          18.451821094089084,
          18.3437134636773,
          18.248599349127876,
          18.163437822129993,
          18.069389152526856,
          17.98515796661377,
          17.922695244683158,
          17.85218685997857,
          17.78471647898356,
          17.73221295674642,
          17.684746487935385,
          17.63719287448459,
          17.581780433654785,
          17.515449863009984,
          17.440819803873698,
          17.369983206854926,
          17.308130486806235,
          17.238766045040556,
          17.179741297827828,
          17.13072683546278,
          17.070952924092612,
          17.02619061999851,
          16.955237346225314,
          16.883485338422986,
          16.80140314102173,
          16.73883778254191,
          16.680189832051596,
          16.638393338521322,
          16.59038437737359,
          16.5453115357293,
          16.504787233140732,
          16.444080268012154,
          16.390330674913194,
          16.33003708521525,
          16.277761957380505,
          16.22252410252889,
          16.176197316911484,
          16.134877830081514,
          16.102278889550103,
          16.059694396124947,
          15.995691500769722,
          15.916531128353542,
          15.837980471716987,
          15.767486604054769,
          15.674744044409858,
          15.599013137817384,
          15.523426893022325,
          15.44721982744005,
          15.375640614827473,
          15.313738875918919,
          15.265231460995144,
          15.238797982533773,
          15.206215646531847,
          15.16907335917155,
          15.146414693196615,
          15.112402809990776,
          15.081187523735894,
          15.050116062164307,
          15.017204984029133,
          14.988755321502685,
          14.973489740159776,
          14.95393803914388,
          14.960548231336805,
          14.980620861053467,
          14.99544456270006,
          15.004152615865072,
          15.002195782131619,
          14.997486040327285,
          14.999367554982504,
          15.01002909342448,
          15.025119855668809,
          15.035138532850478,
          15.035912026299371,
          15.030836857689751,
          15.030175071292453,
          15.02282313240899,
          15.009898980458578,
          15.002133189307319,
          14.990723800659179,
          14.986239708794487,
          14.979453913370769,
          14.968649991353352,
          14.961788770887587,
          14.957804934183757,
          14.948458841111925,
          14.927023802863227,
          14.897785335116916,
          14.867535018920899,
          14.848680284288195,
          14.842289861043295,
          14.811778736114501,
          14.78151093588935,
          14.730685053931342,
          14.675331083933512,
          14.627970388200549,
          14.583448674943712,
          14.53888529671563,
          14.499201573265923,
          14.475157027774387,
          14.45801944732666,
          14.443546856774224,
          14.422427802615696,
          14.425314447614882,
          14.437602583567301,
          14.462501684824625,
          14.487942579057481,
          14.519427511427137,
          14.566055191887749,
          14.629736010233561,
          14.688344224294026,
          14.743189673953585,
          14.802043639289009,
          14.882400311364067,
          14.949433305528428,
          15.022838910420736,
          15.10886942545573,
          15.201362408532036,
          15.28938029607137,
          15.376332484351265,
          15.483090506659615,
          15.590703339046902,
          15.70297867457072,
          15.80129796134101,
          15.901838768853082,
          16.02124222649468,
          16.139246453179254,
          16.244649781121147,
          16.335965241326225,
          16.41977515750461,
          16.5367718272739,
          16.66127111646864,
          16.79266425238715,
          16.921825451321073,
          17.041083759731716,
          17.175318060980903,
          17.308610418107776,
          17.43729527791341,
          17.562138250139025,
          17.695310582054987,
          17.817190488179524,
          17.93236363728841,
          18.04019955529107,
          18.164269129435223,
          18.28706300523546,
          18.417133723364937,
          18.55298850801256,
          18.690276029374864,
          18.832238133748373,
          18.969028780195448,
          19.11223879920112,
          19.24753238889906,
          19.389240762922498,
          19.50769362979465,
          19.62611590491401,
          19.74932426876492,
          19.881181547376844,
          20.01771286858453,
          20.151533317565917,
          20.28002300262451,
          20.40224181281196,
          20.52514031728109,
          20.646249728732638,
          20.764791817135283,
          20.885065375434028,
          20.994314172532825,
          21.103918711344402,
          21.22378372616238,
          21.349533886379668,
          21.473017427656387,
          21.594335757361517,
          21.69511194229126,
          21.805693467458088,
          21.913344309065078,
          22.02084074020386,
          22.137875525156655,
          22.25839588377211,
          22.380481327904594,
          22.51850175857544,
          22.663628991444906,
          22.79769648445977,
          22.948152690463594,
          23.096676360236273,
          23.25460385216607,
          23.42028242746989,
          23.582552888658313,
          23.758737246195476,
          23.94676028357612,
          24.135559696621364,
          24.31678670247396,
          24.484056271447077,
          24.64654017554389,
          24.89064540863037,
          25.139815478854707,
          25.39761479695638,
          25.621212471856012,
          25.869917721218535,
          26.120498530069987,
          26.357422426011826,
          26.573571480645075,
          26.77587144639757,
          26.99190983242459,
          27.2105373594496,
          27.4400172551473,
          27.704788547092015,
          27.961575762430826,
          28.20318520863851,
          28.44868412017822,
          28.692470847235786,
          28.93615765041775,
          29.158746168348525,
          29.36346509721544,
          29.580534383985732,
          29.80107661353217,
          30.012535688612196,
          30.22729680803087,
          30.44558902316623,
          30.671275668674046,
          30.90140283372667,
          31.143011728922527,
          31.348723517523872,
          31.56113115946452,
          31.787777413262262,
          32.04063320159912,
          32.29359849294027,
          32.55074138641358,
          32.81296162075466,
          33.07428118387858,
          33.32121802435981,
          33.54478880564372,
          33.77999784681532,
          34.0322875128852,
          34.28204502529568,
          34.52459595998128,
          34.774754736158584,
          35.01009941101074,
          35.24093526204427,
          35.444972377353245,
          35.64842126634386,
          35.850715446472165,
          36.053165944417316,
          36.251828871832956,
          36.42981188032362,
          36.60729505750868,
          36.76137843661838,
          36.943216281467016,
          37.12275564405653,
          37.295165104336206,
          37.47168320549859,
          37.65405351850722,
          37.87542853885227,
          38.07635790506999,
          38.29792194366455,
          38.52749262915717,
          38.74470225440131,
          38.96770956251356,
          39.209653006659615,
          39.44954259660509,
          39.687511168585885,
          39.925267706976996,
          40.164145935906305,
          40.39544756147597,
          40.6022708468967,
          40.801719665527344,
          40.99193958706326,
          41.183871036105685,
          41.38139953613281,
          41.56292232937283,
          41.73276290893555,
          41.89241932762994,
          42.044288614061145,
          42.17909812927246,
          42.32390333811442,
          42.478148969014484,
          42.622133021884494,
          42.769416385226776,
          42.912881003485786,
          43.0442420747545,
          43.194450844658746,
          43.33158645629883,
          43.47996139526367,
          43.63718821207682,
          43.72370122273763,
          43.7940554300944,
          43.857303619384766,
          43.95703353881836,
          44.02032542758518,
          44.09557876586914,
          44.14860653347439,
          44.18802727593316,
          44.23944257100423,
          44.26854502360026,
          44.30737787882487,
          44.336748886108396,
          44.323259904649525,
          44.297452969021265,
          44.273145548502605,
          44.24378547668457,
          44.218667560153534,
          44.210932074652774,
          44.24202584160699,
          44.298919677734375,
          44.34426341586643,
          44.40491188897027,
          44.47301283942328,
          44.54006000094944,
          44.60903990003798,
          44.690592702229814,
          44.772567452324765,
          44.848078367445204,
          44.939516364203556,
          45.023290718926326,
          45.076799901326496,
          45.096823416815866,
          45.12766465081109,
          45.14281268649631,
          45.15003128051758,
          45.146664471096464,
          45.16053428649902,
          45.17391425238715,
          45.1957036336263,
          45.193834982977975,
          45.20662841796875,
          45.22455461290148,
          45.22327673170302,
          45.233673350016275,
          45.25132310655382,
          45.29673843383789,
          45.34541998969184,
          45.40545416937934,
          45.452049085828996,
          45.490422609117296,
          45.561994001600475,
          45.63363168504503,
          45.72728237575955,
          45.79028061760796,
          45.852368375990125
         ],
         "yaxis": "y"
        }
       ],
       "layout": {
        "autosize": true,
        "legend": {
         "title": {
          "text": "Ticker"
         },
         "tracegroupgap": 0
        },
        "margin": {
         "t": 60
        },
        "template": {
         "data": {
          "bar": [
           {
            "error_x": {
             "color": "#f2f5fa"
            },
            "error_y": {
             "color": "#f2f5fa"
            },
            "marker": {
             "line": {
              "color": "rgb(17,17,17)",
              "width": 0.5
             },
             "pattern": {
              "fillmode": "overlay",
              "size": 10,
              "solidity": 0.2
             }
            },
            "type": "bar"
           }
          ],
          "barpolar": [
           {
            "marker": {
             "line": {
              "color": "rgb(17,17,17)",
              "width": 0.5
             },
             "pattern": {
              "fillmode": "overlay",
              "size": 10,
              "solidity": 0.2
             }
            },
            "type": "barpolar"
           }
          ],
          "carpet": [
           {
            "aaxis": {
             "endlinecolor": "#A2B1C6",
             "gridcolor": "#506784",
             "linecolor": "#506784",
             "minorgridcolor": "#506784",
             "startlinecolor": "#A2B1C6"
            },
            "baxis": {
             "endlinecolor": "#A2B1C6",
             "gridcolor": "#506784",
             "linecolor": "#506784",
             "minorgridcolor": "#506784",
             "startlinecolor": "#A2B1C6"
            },
            "type": "carpet"
           }
          ],
          "choropleth": [
           {
            "colorbar": {
             "outlinewidth": 0,
             "ticks": ""
            },
            "type": "choropleth"
           }
          ],
          "contour": [
           {
            "colorbar": {
             "outlinewidth": 0,
             "ticks": ""
            },
            "colorscale": [
             [
              0,
              "#0d0887"
             ],
             [
              0.1111111111111111,
              "#46039f"
             ],
             [
              0.2222222222222222,
              "#7201a8"
             ],
             [
              0.3333333333333333,
              "#9c179e"
             ],
             [
              0.4444444444444444,
              "#bd3786"
             ],
             [
              0.5555555555555556,
              "#d8576b"
             ],
             [
              0.6666666666666666,
              "#ed7953"
             ],
             [
              0.7777777777777778,
              "#fb9f3a"
             ],
             [
              0.8888888888888888,
              "#fdca26"
             ],
             [
              1,
              "#f0f921"
             ]
            ],
            "type": "contour"
           }
          ],
          "contourcarpet": [
           {
            "colorbar": {
             "outlinewidth": 0,
             "ticks": ""
            },
            "type": "contourcarpet"
           }
          ],
          "heatmap": [
           {
            "colorbar": {
             "outlinewidth": 0,
             "ticks": ""
            },
            "colorscale": [
             [
              0,
              "#0d0887"
             ],
             [
              0.1111111111111111,
              "#46039f"
             ],
             [
              0.2222222222222222,
              "#7201a8"
             ],
             [
              0.3333333333333333,
              "#9c179e"
             ],
             [
              0.4444444444444444,
              "#bd3786"
             ],
             [
              0.5555555555555556,
              "#d8576b"
             ],
             [
              0.6666666666666666,
              "#ed7953"
             ],
             [
              0.7777777777777778,
              "#fb9f3a"
             ],
             [
              0.8888888888888888,
              "#fdca26"
             ],
             [
              1,
              "#f0f921"
             ]
            ],
            "type": "heatmap"
           }
          ],
          "heatmapgl": [
           {
            "colorbar": {
             "outlinewidth": 0,
             "ticks": ""
            },
            "colorscale": [
             [
              0,
              "#0d0887"
             ],
             [
              0.1111111111111111,
              "#46039f"
             ],
             [
              0.2222222222222222,
              "#7201a8"
             ],
             [
              0.3333333333333333,
              "#9c179e"
             ],
             [
              0.4444444444444444,
              "#bd3786"
             ],
             [
              0.5555555555555556,
              "#d8576b"
             ],
             [
              0.6666666666666666,
              "#ed7953"
             ],
             [
              0.7777777777777778,
              "#fb9f3a"
             ],
             [
              0.8888888888888888,
              "#fdca26"
             ],
             [
              1,
              "#f0f921"
             ]
            ],
            "type": "heatmapgl"
           }
          ],
          "histogram": [
           {
            "marker": {
             "pattern": {
              "fillmode": "overlay",
              "size": 10,
              "solidity": 0.2
             }
            },
            "type": "histogram"
           }
          ],
          "histogram2d": [
           {
            "colorbar": {
             "outlinewidth": 0,
             "ticks": ""
            },
            "colorscale": [
             [
              0,
              "#0d0887"
             ],
             [
              0.1111111111111111,
              "#46039f"
             ],
             [
              0.2222222222222222,
              "#7201a8"
             ],
             [
              0.3333333333333333,
              "#9c179e"
             ],
             [
              0.4444444444444444,
              "#bd3786"
             ],
             [
              0.5555555555555556,
              "#d8576b"
             ],
             [
              0.6666666666666666,
              "#ed7953"
             ],
             [
              0.7777777777777778,
              "#fb9f3a"
             ],
             [
              0.8888888888888888,
              "#fdca26"
             ],
             [
              1,
              "#f0f921"
             ]
            ],
            "type": "histogram2d"
           }
          ],
          "histogram2dcontour": [
           {
            "colorbar": {
             "outlinewidth": 0,
             "ticks": ""
            },
            "colorscale": [
             [
              0,
              "#0d0887"
             ],
             [
              0.1111111111111111,
              "#46039f"
             ],
             [
              0.2222222222222222,
              "#7201a8"
             ],
             [
              0.3333333333333333,
              "#9c179e"
             ],
             [
              0.4444444444444444,
              "#bd3786"
             ],
             [
              0.5555555555555556,
              "#d8576b"
             ],
             [
              0.6666666666666666,
              "#ed7953"
             ],
             [
              0.7777777777777778,
              "#fb9f3a"
             ],
             [
              0.8888888888888888,
              "#fdca26"
             ],
             [
              1,
              "#f0f921"
             ]
            ],
            "type": "histogram2dcontour"
           }
          ],
          "mesh3d": [
           {
            "colorbar": {
             "outlinewidth": 0,
             "ticks": ""
            },
            "type": "mesh3d"
           }
          ],
          "parcoords": [
           {
            "line": {
             "colorbar": {
              "outlinewidth": 0,
              "ticks": ""
             }
            },
            "type": "parcoords"
           }
          ],
          "pie": [
           {
            "automargin": true,
            "type": "pie"
           }
          ],
          "scatter": [
           {
            "marker": {
             "line": {
              "color": "#283442"
             }
            },
            "type": "scatter"
           }
          ],
          "scatter3d": [
           {
            "line": {
             "colorbar": {
              "outlinewidth": 0,
              "ticks": ""
             }
            },
            "marker": {
             "colorbar": {
              "outlinewidth": 0,
              "ticks": ""
             }
            },
            "type": "scatter3d"
           }
          ],
          "scattercarpet": [
           {
            "marker": {
             "colorbar": {
              "outlinewidth": 0,
              "ticks": ""
             }
            },
            "type": "scattercarpet"
           }
          ],
          "scattergeo": [
           {
            "marker": {
             "colorbar": {
              "outlinewidth": 0,
              "ticks": ""
             }
            },
            "type": "scattergeo"
           }
          ],
          "scattergl": [
           {
            "marker": {
             "line": {
              "color": "#283442"
             }
            },
            "type": "scattergl"
           }
          ],
          "scattermapbox": [
           {
            "marker": {
             "colorbar": {
              "outlinewidth": 0,
              "ticks": ""
             }
            },
            "type": "scattermapbox"
           }
          ],
          "scatterpolar": [
           {
            "marker": {
             "colorbar": {
              "outlinewidth": 0,
              "ticks": ""
             }
            },
            "type": "scatterpolar"
           }
          ],
          "scatterpolargl": [
           {
            "marker": {
             "colorbar": {
              "outlinewidth": 0,
              "ticks": ""
             }
            },
            "type": "scatterpolargl"
           }
          ],
          "scatterternary": [
           {
            "marker": {
             "colorbar": {
              "outlinewidth": 0,
              "ticks": ""
             }
            },
            "type": "scatterternary"
           }
          ],
          "surface": [
           {
            "colorbar": {
             "outlinewidth": 0,
             "ticks": ""
            },
            "colorscale": [
             [
              0,
              "#0d0887"
             ],
             [
              0.1111111111111111,
              "#46039f"
             ],
             [
              0.2222222222222222,
              "#7201a8"
             ],
             [
              0.3333333333333333,
              "#9c179e"
             ],
             [
              0.4444444444444444,
              "#bd3786"
             ],
             [
              0.5555555555555556,
              "#d8576b"
             ],
             [
              0.6666666666666666,
              "#ed7953"
             ],
             [
              0.7777777777777778,
              "#fb9f3a"
             ],
             [
              0.8888888888888888,
              "#fdca26"
             ],
             [
              1,
              "#f0f921"
             ]
            ],
            "type": "surface"
           }
          ],
          "table": [
           {
            "cells": {
             "fill": {
              "color": "#506784"
             },
             "line": {
              "color": "rgb(17,17,17)"
             }
            },
            "header": {
             "fill": {
              "color": "#2a3f5f"
             },
             "line": {
              "color": "rgb(17,17,17)"
             }
            },
            "type": "table"
           }
          ]
         },
         "layout": {
          "annotationdefaults": {
           "arrowcolor": "#f2f5fa",
           "arrowhead": 0,
           "arrowwidth": 1
          },
          "autotypenumbers": "strict",
          "coloraxis": {
           "colorbar": {
            "outlinewidth": 0,
            "ticks": ""
           }
          },
          "colorscale": {
           "diverging": [
            [
             0,
             "#8e0152"
            ],
            [
             0.1,
             "#c51b7d"
            ],
            [
             0.2,
             "#de77ae"
            ],
            [
             0.3,
             "#f1b6da"
            ],
            [
             0.4,
             "#fde0ef"
            ],
            [
             0.5,
             "#f7f7f7"
            ],
            [
             0.6,
             "#e6f5d0"
            ],
            [
             0.7,
             "#b8e186"
            ],
            [
             0.8,
             "#7fbc41"
            ],
            [
             0.9,
             "#4d9221"
            ],
            [
             1,
             "#276419"
            ]
           ],
           "sequential": [
            [
             0,
             "#0d0887"
            ],
            [
             0.1111111111111111,
             "#46039f"
            ],
            [
             0.2222222222222222,
             "#7201a8"
            ],
            [
             0.3333333333333333,
             "#9c179e"
            ],
            [
             0.4444444444444444,
             "#bd3786"
            ],
            [
             0.5555555555555556,
             "#d8576b"
            ],
            [
             0.6666666666666666,
             "#ed7953"
            ],
            [
             0.7777777777777778,
             "#fb9f3a"
            ],
            [
             0.8888888888888888,
             "#fdca26"
            ],
            [
             1,
             "#f0f921"
            ]
           ],
           "sequentialminus": [
            [
             0,
             "#0d0887"
            ],
            [
             0.1111111111111111,
             "#46039f"
            ],
            [
             0.2222222222222222,
             "#7201a8"
            ],
            [
             0.3333333333333333,
             "#9c179e"
            ],
            [
             0.4444444444444444,
             "#bd3786"
            ],
            [
             0.5555555555555556,
             "#d8576b"
            ],
            [
             0.6666666666666666,
             "#ed7953"
            ],
            [
             0.7777777777777778,
             "#fb9f3a"
            ],
            [
             0.8888888888888888,
             "#fdca26"
            ],
            [
             1,
             "#f0f921"
            ]
           ]
          },
          "colorway": [
           "#636efa",
           "#EF553B",
           "#00cc96",
           "#ab63fa",
           "#FFA15A",
           "#19d3f3",
           "#FF6692",
           "#B6E880",
           "#FF97FF",
           "#FECB52"
          ],
          "font": {
           "color": "#f2f5fa"
          },
          "geo": {
           "bgcolor": "rgb(17,17,17)",
           "lakecolor": "rgb(17,17,17)",
           "landcolor": "rgb(17,17,17)",
           "showlakes": true,
           "showland": true,
           "subunitcolor": "#506784"
          },
          "hoverlabel": {
           "align": "left"
          },
          "hovermode": "closest",
          "mapbox": {
           "style": "dark"
          },
          "paper_bgcolor": "rgb(17,17,17)",
          "plot_bgcolor": "rgb(17,17,17)",
          "polar": {
           "angularaxis": {
            "gridcolor": "#506784",
            "linecolor": "#506784",
            "ticks": ""
           },
           "bgcolor": "rgb(17,17,17)",
           "radialaxis": {
            "gridcolor": "#506784",
            "linecolor": "#506784",
            "ticks": ""
           }
          },
          "scene": {
           "xaxis": {
            "backgroundcolor": "rgb(17,17,17)",
            "gridcolor": "#506784",
            "gridwidth": 2,
            "linecolor": "#506784",
            "showbackground": true,
            "ticks": "",
            "zerolinecolor": "#C8D4E3"
           },
           "yaxis": {
            "backgroundcolor": "rgb(17,17,17)",
            "gridcolor": "#506784",
            "gridwidth": 2,
            "linecolor": "#506784",
            "showbackground": true,
            "ticks": "",
            "zerolinecolor": "#C8D4E3"
           },
           "zaxis": {
            "backgroundcolor": "rgb(17,17,17)",
            "gridcolor": "#506784",
            "gridwidth": 2,
            "linecolor": "#506784",
            "showbackground": true,
            "ticks": "",
            "zerolinecolor": "#C8D4E3"
           }
          },
          "shapedefaults": {
           "line": {
            "color": "#f2f5fa"
           }
          },
          "sliderdefaults": {
           "bgcolor": "#C8D4E3",
           "bordercolor": "rgb(17,17,17)",
           "borderwidth": 1,
           "tickwidth": 0
          },
          "ternary": {
           "aaxis": {
            "gridcolor": "#506784",
            "linecolor": "#506784",
            "ticks": ""
           },
           "baxis": {
            "gridcolor": "#506784",
            "linecolor": "#506784",
            "ticks": ""
           },
           "bgcolor": "rgb(17,17,17)",
           "caxis": {
            "gridcolor": "#506784",
            "linecolor": "#506784",
            "ticks": ""
           }
          },
          "title": {
           "x": 0.05
          },
          "updatemenudefaults": {
           "bgcolor": "#506784",
           "borderwidth": 0
          },
          "xaxis": {
           "automargin": true,
           "gridcolor": "#283442",
           "linecolor": "#506784",
           "ticks": "",
           "title": {
            "standoff": 15
           },
           "zerolinecolor": "#283442",
           "zerolinewidth": 2
          },
          "yaxis": {
           "automargin": true,
           "gridcolor": "#283442",
           "linecolor": "#506784",
           "ticks": "",
           "title": {
            "standoff": 15
           },
           "zerolinecolor": "#283442",
           "zerolinewidth": 2
          }
         }
        },
        "xaxis": {
         "anchor": "y",
         "autorange": true,
         "domain": [
          0,
          1
         ],
         "range": [
          "2021-05-17",
          "2023-12-28"
         ],
         "title": {
          "text": "Data"
         },
         "type": "date"
        },
        "yaxis": {
         "anchor": "x",
         "autorange": true,
         "domain": [
          0,
          1
         ],
         "range": [
          -4.404717710283071,
          360.40509356392755
         ],
         "title": {
          "text": "Close"
         },
         "type": "linear"
        }
       }
      },
      "image/png": "[encoded data removed]",
      "text/html": [
       "<div>                            <div id=\"36adeaeb-f45c-47a5-8d0f-b70ac07bd112\" class=\"plotly-graph-div\" style=\"height:525px; width:100%;\"></div>            <script type=\"text/javascript\">                require([\"plotly\"], function(Plotly) {                    window.PLOTLYENV=window.PLOTLYENV || {};                                    if (document.getElementById(\"36adeaeb-f45c-47a5-8d0f-b70ac07bd112\")) {                    Plotly.newPlot(                        \"36adeaeb-f45c-47a5-8d0f-b70ac07bd112\",                        [{\"hovertemplate\":\"Ticker=MGLU3.SA\\u003cbr\\u003eData=%{x}\\u003cbr\\u003eClose=%{y}\\u003cextra\\u003e\\u003c\\u002fextra\\u003e\",\"legendgroup\":\"MGLU3.SA\",\"line\":{\"color\":\"#636efa\",\"dash\":\"solid\"},\"marker\":{\"symbol\":\"circle\"},\"mode\":\"lines\",\"name\":\"MGLU3.SA\",\"showlegend\":true,\"x\":[\"2021-05-17\",\"2021-05-18\",\"2021-05-19\",\"2021-05-20\",\"2021-05-21\",\"2021-05-24\",\"2021-05-25\",\"2021-05-26\",\"2021-05-27\",\"2021-05-28\",\"2021-06-01\",\"2021-06-02\",\"2021-06-04\",\"2021-06-07\",\"2021-06-08\",\"2021-06-09\",\"2021-06-10\",\"2021-06-11\",\"2021-06-14\",\"2021-06-15\",\"2021-06-16\",\"2021-06-17\",\"2021-06-18\",\"2021-06-21\",\"2021-06-22\",\"2021-06-23\",\"2021-06-24\",\"2021-06-25\",\"2021-06-28\",\"2021-06-29\",\"2021-06-30\",\"2021-07-01\",\"2021-07-02\",\"2021-07-06\",\"2021-07-07\",\"2021-07-08\",\"2021-07-12\",\"2021-07-13\",\"2021-07-14\",\"2021-07-15\",\"2021-07-16\",\"2021-07-19\",\"2021-07-20\",\"2021-07-21\",\"2021-07-22\",\"2021-07-23\",\"2021-07-26\",\"2021-07-27\",\"2021-07-28\",\"2021-07-29\",\"2021-07-30\",\"2021-08-02\",\"2021-08-03\",\"2021-08-04\",\"2021-08-05\",\"2021-08-06\",\"2021-08-09\",\"2021-08-10\",\"2021-08-11\",\"2021-08-12\",\"2021-08-13\",\"2021-08-16\",\"2021-08-17\",\"2021-08-18\",\"2021-08-19\",\"2021-08-20\",\"2021-08-23\",\"2021-08-24\",\"2021-08-25\",\"2021-08-26\",\"2021-08-27\",\"2021-08-30\",\"2021-08-31\",\"2021-09-01\",\"2021-09-02\",\"2021-09-03\",\"2021-09-08\",\"2021-09-09\",\"2021-09-10\",\"2021-09-13\",\"2021-09-14\",\"2021-09-15\",\"2021-09-16\",\"2021-09-17\",\"2021-09-20\",\"2021-09-21\",\"2021-09-22\",\"2021-09-23\",\"2021-09-24\",\"2021-09-27\",\"2021-09-28\",\"2021-09-29\",\"2021-09-30\",\"2021-10-01\",\"2021-10-04\",\"2021-10-05\",\"2021-10-06\",\"2021-10-07\",\"2021-10-08\",\"2021-10-11\",\"2021-10-13\",\"2021-10-14\",\"2021-10-15\",\"2021-10-18\",\"2021-10-19\",\"2021-10-20\",\"2021-10-21\",\"2021-10-22\",\"2021-10-25\",\"2021-10-26\",\"2021-10-27\",\"2021-10-28\",\"2021-10-29\",\"2021-11-01\",\"2021-11-03\",\"2021-11-04\",\"2021-11-05\",\"2021-11-08\",\"2021-11-09\",\"2021-11-10\",\"2021-11-11\",\"2021-11-12\",\"2021-11-16\",\"2021-11-17\",\"2021-11-18\",\"2021-11-19\",\"2021-11-22\",\"2021-11-23\",\"2021-11-24\",\"2021-11-26\",\"2021-11-29\",\"2021-11-30\",\"2021-12-01\",\"2021-12-02\",\"2021-12-03\",\"2021-12-06\",\"2021-12-07\",\"2021-12-08\",\"2021-12-09\",\"2021-12-10\",\"2021-12-13\",\"2021-12-14\",\"2021-12-15\",\"2021-12-16\",\"2021-12-17\",\"2021-12-20\",\"2021-12-21\",\"2021-12-22\",\"2021-12-23\",\"2021-12-27\",\"2021-12-28\",\"2021-12-29\",\"2021-12-30\",\"2022-01-03\",\"2022-01-04\",\"2022-01-05\",\"2022-01-06\",\"2022-01-07\",\"2022-01-10\",\"2022-01-11\",\"2022-01-12\",\"2022-01-13\",\"2022-01-14\",\"2022-01-18\",\"2022-01-19\",\"2022-01-20\",\"2022-01-21\",\"2022-01-24\",\"2022-01-25\",\"2022-01-26\",\"2022-01-27\",\"2022-01-28\",\"2022-01-31\",\"2022-02-01\",\"2022-02-02\",\"2022-02-03\",\"2022-02-04\",\"2022-02-07\",\"2022-02-08\",\"2022-02-09\",\"2022-02-10\",\"2022-02-11\",\"2022-02-14\",\"2022-02-15\",\"2022-02-16\",\"2022-02-17\",\"2022-02-18\",\"2022-02-22\",\"2022-02-23\",\"2022-02-24\",\"2022-02-25\",\"2022-03-02\",\"2022-03-03\",\"2022-03-04\",\"2022-03-07\",\"2022-03-08\",\"2022-03-09\",\"2022-03-10\",\"2022-03-11\",\"2022-03-14\",\"2022-03-15\",\"2022-03-16\",\"2022-03-17\",\"2022-03-18\",\"2022-03-21\",\"2022-03-22\",\"2022-03-23\",\"2022-03-24\",\"2022-03-25\",\"2022-03-28\",\"2022-03-29\",\"2022-03-30\",\"2022-03-31\",\"2022-04-01\",\"2022-04-04\",\"2022-04-05\",\"2022-04-06\",\"2022-04-07\",\"2022-04-08\",\"2022-04-11\",\"2022-04-12\",\"2022-04-13\",\"2022-04-14\",\"2022-04-18\",\"2022-04-19\",\"2022-04-20\",\"2022-04-22\",\"2022-04-25\",\"2022-04-26\",\"2022-04-27\",\"2022-04-28\",\"2022-04-29\",\"2022-05-02\",\"2022-05-03\",\"2022-05-04\",\"2022-05-05\",\"2022-05-06\",\"2022-05-09\",\"2022-05-10\",\"2022-05-11\",\"2022-05-12\",\"2022-05-13\",\"2022-05-16\",\"2022-05-17\",\"2022-05-18\",\"2022-05-19\",\"2022-05-20\",\"2022-05-23\",\"2022-05-24\",\"2022-05-25\",\"2022-05-26\",\"2022-05-27\",\"2022-05-31\",\"2022-06-01\",\"2022-06-02\",\"2022-06-03\",\"2022-06-06\",\"2022-06-07\",\"2022-06-08\",\"2022-06-09\",\"2022-06-10\",\"2022-06-13\",\"2022-06-14\",\"2022-06-15\",\"2022-06-17\",\"2022-06-21\",\"2022-06-22\",\"2022-06-23\",\"2022-06-24\",\"2022-06-27\",\"2022-06-28\",\"2022-06-29\",\"2022-06-30\",\"2022-07-01\",\"2022-07-05\",\"2022-07-06\",\"2022-07-07\",\"2022-07-08\",\"2022-07-11\",\"2022-07-12\",\"2022-07-13\",\"2022-07-14\",\"2022-07-15\",\"2022-07-18\",\"2022-07-19\",\"2022-07-20\",\"2022-07-21\",\"2022-07-22\",\"2022-07-25\",\"2022-07-26\",\"2022-07-27\",\"2022-07-28\",\"2022-07-29\",\"2022-08-01\",\"2022-08-02\",\"2022-08-03\",\"2022-08-04\",\"2022-08-05\",\"2022-08-08\",\"2022-08-09\",\"2022-08-10\",\"2022-08-11\",\"2022-08-12\",\"2022-08-15\",\"2022-08-16\",\"2022-08-17\",\"2022-08-18\",\"2022-08-19\",\"2022-08-22\",\"2022-08-23\",\"2022-08-24\",\"2022-08-25\",\"2022-08-26\",\"2022-08-29\",\"2022-08-30\",\"2022-08-31\",\"2022-09-01\",\"2022-09-02\",\"2022-09-06\",\"2022-09-08\",\"2022-09-09\",\"2022-09-12\",\"2022-09-13\",\"2022-09-14\",\"2022-09-15\",\"2022-09-16\",\"2022-09-19\",\"2022-09-20\",\"2022-09-21\",\"2022-09-22\",\"2022-09-23\",\"2022-09-26\",\"2022-09-27\",\"2022-09-28\",\"2022-09-29\",\"2022-09-30\",\"2022-10-03\",\"2022-10-04\",\"2022-10-05\",\"2022-10-06\",\"2022-10-07\",\"2022-10-10\",\"2022-10-11\",\"2022-10-13\",\"2022-10-14\",\"2022-10-17\",\"2022-10-18\",\"2022-10-19\",\"2022-10-20\",\"2022-10-21\",\"2022-10-24\",\"2022-10-25\",\"2022-10-26\",\"2022-10-27\",\"2022-10-28\",\"2022-10-31\",\"2022-11-01\",\"2022-11-03\",\"2022-11-04\",\"2022-11-07\",\"2022-11-08\",\"2022-11-09\",\"2022-11-10\",\"2022-11-11\",\"2022-11-14\",\"2022-11-16\",\"2022-11-17\",\"2022-11-18\",\"2022-11-21\",\"2022-11-22\",\"2022-11-23\",\"2022-11-25\",\"2022-11-28\",\"2022-11-29\",\"2022-11-30\",\"2022-12-01\",\"2022-12-02\",\"2022-12-05\",\"2022-12-06\",\"2022-12-07\",\"2022-12-08\",\"2022-12-09\",\"2022-12-12\",\"2022-12-13\",\"2022-12-14\",\"2022-12-15\",\"2022-12-16\",\"2022-12-19\",\"2022-12-20\",\"2022-12-21\",\"2022-12-22\",\"2022-12-23\",\"2022-12-27\",\"2022-12-28\",\"2022-12-29\",\"2023-01-03\",\"2023-01-04\",\"2023-01-05\",\"2023-01-06\",\"2023-01-09\",\"2023-01-10\",\"2023-01-11\",\"2023-01-12\",\"2023-01-13\",\"2023-01-17\",\"2023-01-18\",\"2023-01-19\",\"2023-01-20\",\"2023-01-23\",\"2023-01-24\",\"2023-01-25\",\"2023-01-26\",\"2023-01-27\",\"2023-01-30\",\"2023-01-31\",\"2023-02-01\",\"2023-02-02\",\"2023-02-03\",\"2023-02-06\",\"2023-02-07\",\"2023-02-08\",\"2023-02-09\",\"2023-02-10\",\"2023-02-13\",\"2023-02-14\",\"2023-02-15\",\"2023-02-16\",\"2023-02-17\",\"2023-02-22\",\"2023-02-23\",\"2023-02-24\",\"2023-02-27\",\"2023-02-28\",\"2023-03-01\",\"2023-03-02\",\"2023-03-03\",\"2023-03-06\",\"2023-03-07\",\"2023-03-08\",\"2023-03-09\",\"2023-03-10\",\"2023-03-13\",\"2023-03-14\",\"2023-03-15\",\"2023-03-16\",\"2023-03-17\",\"2023-03-20\",\"2023-03-21\",\"2023-03-22\",\"2023-03-23\",\"2023-03-24\",\"2023-03-27\",\"2023-03-28\",\"2023-03-29\",\"2023-03-30\",\"2023-03-31\",\"2023-04-03\",\"2023-04-04\",\"2023-04-05\",\"2023-04-06\",\"2023-04-10\",\"2023-04-11\",\"2023-04-12\",\"2023-04-13\",\"2023-04-14\",\"2023-04-17\",\"2023-04-18\",\"2023-04-19\",\"2023-04-20\",\"2023-04-24\",\"2023-04-25\",\"2023-04-26\",\"2023-04-27\",\"2023-04-28\",\"2023-05-02\",\"2023-05-03\",\"2023-05-04\",\"2023-05-05\",\"2023-05-08\",\"2023-05-09\",\"2023-05-10\",\"2023-05-11\",\"2023-05-12\",\"2023-05-15\",\"2023-05-16\",\"2023-05-17\",\"2023-05-18\",\"2023-05-19\",\"2023-05-22\",\"2023-05-23\",\"2023-05-24\",\"2023-05-25\",\"2023-05-26\",\"2023-05-30\",\"2023-05-31\",\"2023-06-01\",\"2023-06-02\",\"2023-06-05\",\"2023-06-06\",\"2023-06-07\",\"2023-06-09\",\"2023-06-12\",\"2023-06-13\",\"2023-06-14\",\"2023-06-15\",\"2023-06-16\",\"2023-06-20\",\"2023-06-21\",\"2023-06-22\",\"2023-06-23\",\"2023-06-26\",\"2023-06-27\",\"2023-06-28\",\"2023-06-29\",\"2023-06-30\",\"2023-07-03\",\"2023-07-05\",\"2023-07-06\",\"2023-07-07\",\"2023-07-10\",\"2023-07-11\",\"2023-07-12\",\"2023-07-13\",\"2023-07-14\",\"2023-07-17\",\"2023-07-18\",\"2023-07-19\",\"2023-07-20\",\"2023-07-21\",\"2023-07-24\",\"2023-07-25\",\"2023-07-26\",\"2023-07-27\",\"2023-07-28\",\"2023-07-31\",\"2023-08-01\",\"2023-08-02\",\"2023-08-03\",\"2023-08-04\",\"2023-08-07\",\"2023-08-08\",\"2023-08-09\",\"2023-08-10\",\"2023-08-11\",\"2023-08-14\",\"2023-08-15\",\"2023-08-16\",\"2023-08-17\",\"2023-08-18\",\"2023-08-21\",\"2023-08-22\",\"2023-08-23\",\"2023-08-24\",\"2023-08-25\",\"2023-08-28\",\"2023-08-29\",\"2023-08-30\",\"2023-08-31\",\"2023-09-01\",\"2023-09-05\",\"2023-09-06\",\"2023-09-08\",\"2023-09-11\",\"2023-09-12\",\"2023-09-13\",\"2023-09-14\",\"2023-09-15\",\"2023-09-18\",\"2023-09-19\",\"2023-09-20\",\"2023-09-21\",\"2023-09-22\",\"2023-09-25\",\"2023-09-26\",\"2023-09-27\",\"2023-09-28\",\"2023-09-29\",\"2023-10-02\",\"2023-10-03\",\"2023-10-04\",\"2023-10-05\",\"2023-10-06\",\"2023-10-09\",\"2023-10-10\",\"2023-10-11\",\"2023-10-13\",\"2023-10-16\",\"2023-10-17\",\"2023-10-18\",\"2023-10-19\",\"2023-10-20\",\"2023-10-23\",\"2023-10-24\",\"2023-10-25\",\"2023-10-26\",\"2023-10-27\",\"2023-10-30\",\"2023-10-31\",\"2023-11-01\",\"2023-11-03\",\"2023-11-06\",\"2023-11-07\",\"2023-11-08\",\"2023-11-09\",\"2023-11-10\",\"2023-11-13\",\"2023-11-14\",\"2023-11-16\",\"2023-11-17\",\"2023-11-20\",\"2023-11-21\",\"2023-11-22\",\"2023-11-24\",\"2023-11-27\",\"2023-11-28\",\"2023-11-29\",\"2023-11-30\",\"2023-12-01\",\"2023-12-04\",\"2023-12-05\",\"2023-12-06\",\"2023-12-07\",\"2023-12-08\",\"2023-12-11\",\"2023-12-12\",\"2023-12-13\",\"2023-12-14\",\"2023-12-15\",\"2023-12-18\",\"2023-12-19\",\"2023-12-20\",\"2023-12-21\",\"2023-12-22\",\"2023-12-26\",\"2023-12-27\",\"2023-12-28\"],\"xaxis\":\"x\",\"y\":[214.10028940836588,213.45330691867406,212.821901957194,212.33173234727647,211.85090925428602,211.45212724473743,211.09176940917968,210.62133110894098,210.16127794053818,209.7998816596137,209.42498491075304,209.05320366753472,208.5786114162869,208.09155731201173,207.5785407172309,207.00944535997178,206.43723466661243,205.83386908637152,205.34785342746312,204.9283014933268,204.41009233262804,203.95938551161024,203.5190638224284,203.0434331258138,202.50445404052735,201.91666581895618,201.53761494954426,201.0952160305447,200.6403550889757,200.24261152479383,199.83863711886937,199.39727664523656,199.12622951931422,198.734226820204,198.46276024712458,198.2432115342882,198.02886895073786,197.81663275824653,197.6792012532552,197.5355982462565,197.37747005886501,197.17047373453775,197.2002731323242,197.19891696506076,197.02931637234158,196.80254940456814,196.54146999782986,196.3073472764757,196.03688303629556,195.80797271728517,195.635056898329,195.46422034369576,195.3120619032118,195.15259840223524,195.16348571777343,195.20450592041016,195.25901217990452,195.33843570285373,195.42828267415365,195.50567203097873,195.48954433865018,195.3871573554145,195.25464579264323,195.11690639919703,194.81717003716363,194.52677324083118,194.16258850097657,193.8566428290473,193.59122195773654,193.2395494249132,192.94085761176214,192.6546164618598,192.3070558336046,192.0519543117947,191.6669906616211,191.37659691704644,191.15369703504774,190.968187628852,190.64962514241537,190.38196834988065,190.0561250474718,189.73232777913412,189.36697184244792,189.06809471978082,188.67052137586805,188.37993876139322,188.07169782850477,187.79042239718967,187.4281263563368,186.99931979709203,186.51437208387586,185.99305911593967,185.5434322781033,185.10939856635198,184.60987650553386,183.9545778910319,183.3782636006673,182.79360902574328,182.3149516635471,181.70643810696072,181.10001059638128,180.4437102423774,179.79159350925022,179.11557015313042,178.35642589992946,177.63047875298395,176.81411760118272,175.98841094970703,175.13258192274304,174.20818506876628,173.30452948676216,172.25025829739042,171.18557637532552,170.15104785495333,169.17365544637045,168.18791961669922,167.23240263197158,166.25088492499458,165.37953804863824,164.4822203742133,163.70437706841363,162.7144925435384,161.47941699557833,160.25310414632162,158.9000030517578,157.58535419040257,156.2073112487793,154.76379555596245,153.29741651746963,151.66995400322807,150.02170639038087,148.42957831488715,146.7158580356174,144.99070608350965,143.3071240319146,141.7170743730333,140.21847852071127,138.6970191531711,137.11216579013401,135.5169199625651,134.0048139360216,132.45737347073026,130.97540554470487,129.56618508232964,128.13202260335285,126.64070150587294,125.17847934299046,123.6985900455051,122.16985600789388,120.69516292148167,119.29841338263617,117.9827252705892,116.72627427842882,115.46670549180773,114.18427323235406,112.89144855075412,111.65682165357802,110.30372060139975,108.86851887173123,107.52477099100749,106.20284729003906,104.87364883422852,103.63590422736274,102.30670585632325,101.09078547159831,99.81770651075576,98.58204044765897,97.28713717990452,96.20008358425564,95.08912726508247,94.06962475246853,93.03972977532281,92.06595429314507,91.07243300543891,90.08099021911622,89.05629149542915,88.01600409613715,87.02248293558756,86.07780634562174,85.20379867553712,84.45138303968642,83.6625936296251,82.84574457804362,82.04448432922364,81.32844229804145,80.5957723405626,79.75398131476508,78.9267397986518,77.98518104553223,77.12676205105252,76.2444403330485,75.42759136623806,74.57021166483561,73.73985231187609,72.92092480129666,72.1705876244439,71.5283322652181,70.85697792900933,70.1658779144287,69.47477789984809,68.77536392211914,68.14973653157553,67.60205277336968,67.032544793023,66.42666308085124,65.87897928025987,65.20970344543457,64.65578414069282,63.970919630262586,63.290212080213756,62.59911202324761,62.15431382921007,61.85085334777832,61.65131763882107,61.464252938164606,61.21899036831326,60.98827722337511,60.77627059088813,60.49671279059516,60.290941619873045,60.07581723531087,59.8918702867296,59.80145573086209,59.71104117499458,59.595684644911024,59.420051701863606,59.204927359686955,59.0625503540039,58.94823307461209,58.81624853346083,58.72583393520779,58.63645863003201,58.49408162434896,58.307016923692494,58.12930547926161,57.930809063381616,57.71048846774631,57.47665761311849,57.242826758490665,56.946641031901045,56.67124027676053,56.423899247911244,56.12875281439887,55.839841800265845,55.539499113294816,55.25994139777289,54.991815397474504,54.729924858940976,54.51895751953125,54.29447992112902,54.061688317192925,53.844485473632815,53.57324172125922,53.346685621473526,53.08583433363173,52.76782438490126,52.40408755408393,52.081920602586536,51.71818372938368,51.32950494554308,50.88054976993137,50.460693507724336,49.997188822428384,49.533684179517955,49.1044746822781,48.68669692145453,48.28242939843072,47.89167209201389,47.46869807773166,47.035331620110405,46.56143447028266,46.15197069380019,45.72172196706136,45.23951081169976,44.77808462778727,44.34887515174018,43.95396084255643,43.59542024400499,43.25454682244195,42.923026657104494,42.59254574245877,42.239201376173234,41.872346772087944,41.506531439887155,41.188521512349446,40.87882554796007,40.54418767293294,40.22202074262831,39.92063878377279,39.63796329498291,39.412446445888946,39.1619876437717,38.85437018076579,38.53220325046115,38.219389576382106,37.92008609771729,37.64364609188504,37.286144744025336,36.94631059434679,36.59400547875298,36.20844440460205,35.810412343343096,35.47369592454698,35.129704835679796,34.81377338833279,34.51343065897624,34.24426540798611,33.95535443623861,33.71528811984592,33.51471324496799,33.36194377475314,33.22164527045356,33.073032760620116,32.930655754937064,32.78204328748915,32.64278403388129,32.520152748955624,32.39752146402995,32.274890179104275,32.19071108500163,32.10757124159071,32.098217985365125,32.087825520833334,32.074315304226346,32.01092118157281,32.015078184339735,32.042098659939235,32.09925732082791,32.18239716423882,32.25202679104275,32.29879294501411,32.3091854095459,32.28840043809679,32.328931130303275,32.363226318359374,32.44116990831163,32.57003665500217,32.71449211968316,32.86102608574761,33.03354127671984,33.1624080657959,33.29958881802029,33.450279786851674,33.576028781467016,33.63526594373915,33.716327328152126,33.81193815867106,33.905470508999294,33.99588508605957,34.11435936821832,34.23699067433675,34.40534886254205,34.54772584703233,34.72128030988905,34.929129960801866,35.132822587754994,35.35314320458306,35.59424879286024,35.83951136271159,36.058792728847926,36.292623562282984,36.50670867496066,36.677145364549425,36.80809063381619,36.93695740169949,37.023214997185605,37.109472592671715,37.164552752176924,37.24249636332194,37.285105556911894,37.3422641966078,37.395265854729544,37.451385264926486,37.51270090738932,37.57713428073459,37.58025203280979,37.60415473514133,37.627018207973904,37.66131339603,37.6956085840861,37.71015805138482,37.71847203572591,37.741335487365724,37.74964947170682,37.741335487365724,37.707040299309625,37.606233236524794,37.54907459682889,37.502308421664765,37.45346376630995,37.381755638122556,37.34434271918403,37.23418244255914,37.09388391706678,36.94734992980957,36.79354118771023,36.639732445610896,36.52333666483561,36.41317636701796,36.275995614793565,36.12530462476942,35.95382868448893,35.809373219807945,35.69609514872233,35.62126926845974,35.54748263888889,35.48928472730849,35.443557824028865,35.44771482679579,35.45810733371311,35.45498958163791,35.40198792351617,35.384320704142254,35.37288898891873,35.38224220275879,35.36457498338488,35.3417115105523,35.32196578979492,35.25753241644965,35.200373797946504,35.15776464674208,35.11931245591905,35.09956673516167,35.07878176371256,35.079821014404295,35.0185053507487,34.90418807135688,34.755575603908966,34.58929591708713,34.40119196573893,34.22451977199978,34.05096533033583,33.88676410251193,33.71113118065728,33.58434289296468,33.44404436747233,33.32660933600532,33.22580225202773,33.15721187591553,33.07822901407878,33.007560115390355,32.948322995503744,32.92961656782362,32.88700737423367,32.83608417510986,32.76437604692247,32.676039950052896,32.554447915818955,32.42558112674289,32.27696861690945,32.13147388034397,32.01403884887695,31.951683955722384,31.9402522193061,31.92154574924045,31.91946724785699,31.911153263515896,31.918427997165256,31.9080355114407,31.911153242323135,31.90803549024794,31.94544840918647,32.003646320766876,32.05560872819689,32.089903895060225,32.148101785447864,32.179279242621526,32.196946461995445,32.21565291086833,32.26241906483968,32.308145968119305,32.34036265479194,32.3819325764974,32.43805198669433,32.501446130540636,32.57835051218669,32.70306029849582,32.8277700636122,32.93689113193088,33.095896085103355,33.27152902815077,33.445083469814726,33.631108877393935,33.806741841634114,33.873253716362846,33.95847208234999,34.06135766771104,34.16320398118761,34.2712857776218,34.35754337310791,34.41781976487901,34.49368485344781,34.55915747748481,34.59033495585124,34.591374206542966,34.64333665635851,34.669317881266274,34.67659259372287,34.67139634026422,34.61839468214247,34.57890324062771,34.545647303263344,34.4656251695421,34.408466508653426,34.33779763115777,34.27752126057943,34.20893088446723,34.155929226345485,34.09773135715061,34.048886659410265,33.963668293423126,33.88780318366157,33.821291287740074,33.75062241024441,33.67891426086426,33.632148106892906,33.59057818518745,33.5375765270657,33.50224208831787,33.44924045138889,33.39208181169298,33.32245218488905,33.26321504380968,33.234116088019476,33.2143703672621,33.20813488430447,33.182153680589465,33.1488977432251,33.10628857082791,33.06679715050591,33.032501962449814,32.96702931722005,32.908831405639646,32.84231953091091,32.78620014190674,32.749826452467175,32.71033501095242,32.65421560075548,32.59913546244304,32.58874299791124,32.56380104488797,32.525348854064944,32.470268715752496,32.421424060397676,32.359069188435875,32.302949799431694,32.26761536068386,32.22604543897841,32.19694650438097,32.1636905670166,32.13147388034397,32.05664802127414,31.967272652520073,31.869583320617675,31.785404226515027,31.70953909556071,31.64510570102268,31.594182544284397,31.54845561981201,31.47570824093289,31.40400013393826,31.341645261976453,31.27409413655599,31.199268256293404,31.134834861755373,31.05585199991862,30.942573928833006,30.81474641164144,30.67444790734185,30.506089719136558,30.304475593566895,30.085194227430556,29.86071662902832,29.623768043518066,29.484508811102973,29.34836728837755,29.20079402923584,29.03139659033881,28.827703963385687,28.64375703599718,28.454613876342773,28.248842748006187,28.04515012105306,27.864320924546984,27.667903031243217,27.435111427307127,27.199202071295844,26.970567501915827,26.735697417789034,26.49978807237413,26.24725077946981,25.992634985182022,25.74841168721517,25.502109877268474,25.265161323547364,25.031330468919542,24.791264131334092,24.53872684902615,24.305935245090062,24.08873240152995,23.88400051328871,23.716681575775148,23.553519619835747,23.372690455118814,23.209528499179417,23.031817075941298,22.859301884969074,22.759534072875976,22.659766239590116,22.579744148254395,22.48309406704373,22.389561737908256,22.2825191921658,22.179633627997504,22.070512580871583,21.958273781670464,21.86266295115153,21.786797841389973,21.680794546339246,21.59037994808621,21.49684761895074,21.41059002346463,21.302508205837675,21.204818873935274,21.093619346618652,21.00008701748318,20.90655468834771,20.80782610575358,20.71637225680881,20.628036159939235,20.535543081495497,20.44408925374349,20.368224122789172,20.28820203145345,20.226886388990614,20.163492245144315],\"yaxis\":\"y\",\"type\":\"scattergl\"},{\"hovertemplate\":\"Ticker=MSFT\\u003cbr\\u003eData=%{x}\\u003cbr\\u003eClose=%{y}\\u003cextra\\u003e\\u003c\\u002fextra\\u003e\",\"legendgroup\":\"MSFT\",\"line\":{\"color\":\"#EF553B\",\"dash\":\"solid\"},\"marker\":{\"symbol\":\"circle\"},\"mode\":\"lines\",\"name\":\"MSFT\",\"showlegend\":true,\"x\":[\"2021-05-17\",\"2021-05-18\",\"2021-05-19\",\"2021-05-20\",\"2021-05-21\",\"2021-05-24\",\"2021-05-25\",\"2021-05-26\",\"2021-05-27\",\"2021-05-28\",\"2021-06-01\",\"2021-06-02\",\"2021-06-04\",\"2021-06-07\",\"2021-06-08\",\"2021-06-09\",\"2021-06-10\",\"2021-06-11\",\"2021-06-14\",\"2021-06-15\",\"2021-06-16\",\"2021-06-17\",\"2021-06-18\",\"2021-06-21\",\"2021-06-22\",\"2021-06-23\",\"2021-06-24\",\"2021-06-25\",\"2021-06-28\",\"2021-06-29\",\"2021-06-30\",\"2021-07-01\",\"2021-07-02\",\"2021-07-06\",\"2021-07-07\",\"2021-07-08\",\"2021-07-12\",\"2021-07-13\",\"2021-07-14\",\"2021-07-15\",\"2021-07-16\",\"2021-07-19\",\"2021-07-20\",\"2021-07-21\",\"2021-07-22\",\"2021-07-23\",\"2021-07-26\",\"2021-07-27\",\"2021-07-28\",\"2021-07-29\",\"2021-07-30\",\"2021-08-02\",\"2021-08-03\",\"2021-08-04\",\"2021-08-05\",\"2021-08-06\",\"2021-08-09\",\"2021-08-10\",\"2021-08-11\",\"2021-08-12\",\"2021-08-13\",\"2021-08-16\",\"2021-08-17\",\"2021-08-18\",\"2021-08-19\",\"2021-08-20\",\"2021-08-23\",\"2021-08-24\",\"2021-08-25\",\"2021-08-26\",\"2021-08-27\",\"2021-08-30\",\"2021-08-31\",\"2021-09-01\",\"2021-09-02\",\"2021-09-03\",\"2021-09-08\",\"2021-09-09\",\"2021-09-10\",\"2021-09-13\",\"2021-09-14\",\"2021-09-15\",\"2021-09-16\",\"2021-09-17\",\"2021-09-20\",\"2021-09-21\",\"2021-09-22\",\"2021-09-23\",\"2021-09-24\",\"2021-09-27\",\"2021-09-28\",\"2021-09-29\",\"2021-09-30\",\"2021-10-01\",\"2021-10-04\",\"2021-10-05\",\"2021-10-06\",\"2021-10-07\",\"2021-10-08\",\"2021-10-11\",\"2021-10-13\",\"2021-10-14\",\"2021-10-15\",\"2021-10-18\",\"2021-10-19\",\"2021-10-20\",\"2021-10-21\",\"2021-10-22\",\"2021-10-25\",\"2021-10-26\",\"2021-10-27\",\"2021-10-28\",\"2021-10-29\",\"2021-11-01\",\"2021-11-03\",\"2021-11-04\",\"2021-11-05\",\"2021-11-08\",\"2021-11-09\",\"2021-11-10\",\"2021-11-11\",\"2021-11-12\",\"2021-11-16\",\"2021-11-17\",\"2021-11-18\",\"2021-11-19\",\"2021-11-22\",\"2021-11-23\",\"2021-11-24\",\"2021-11-26\",\"2021-11-29\",\"2021-11-30\",\"2021-12-01\",\"2021-12-02\",\"2021-12-03\",\"2021-12-06\",\"2021-12-07\",\"2021-12-08\",\"2021-12-09\",\"2021-12-10\",\"2021-12-13\",\"2021-12-14\",\"2021-12-15\",\"2021-12-16\",\"2021-12-17\",\"2021-12-20\",\"2021-12-21\",\"2021-12-22\",\"2021-12-23\",\"2021-12-27\",\"2021-12-28\",\"2021-12-29\",\"2021-12-30\",\"2022-01-03\",\"2022-01-04\",\"2022-01-05\",\"2022-01-06\",\"2022-01-07\",\"2022-01-10\",\"2022-01-11\",\"2022-01-12\",\"2022-01-13\",\"2022-01-14\",\"2022-01-18\",\"2022-01-19\",\"2022-01-20\",\"2022-01-21\",\"2022-01-24\",\"2022-01-25\",\"2022-01-26\",\"2022-01-27\",\"2022-01-28\",\"2022-01-31\",\"2022-02-01\",\"2022-02-02\",\"2022-02-03\",\"2022-02-04\",\"2022-02-07\",\"2022-02-08\",\"2022-02-09\",\"2022-02-10\",\"2022-02-11\",\"2022-02-14\",\"2022-02-15\",\"2022-02-16\",\"2022-02-17\",\"2022-02-18\",\"2022-02-22\",\"2022-02-23\",\"2022-02-24\",\"2022-02-25\",\"2022-03-02\",\"2022-03-03\",\"2022-03-04\",\"2022-03-07\",\"2022-03-08\",\"2022-03-09\",\"2022-03-10\",\"2022-03-11\",\"2022-03-14\",\"2022-03-15\",\"2022-03-16\",\"2022-03-17\",\"2022-03-18\",\"2022-03-21\",\"2022-03-22\",\"2022-03-23\",\"2022-03-24\",\"2022-03-25\",\"2022-03-28\",\"2022-03-29\",\"2022-03-30\",\"2022-03-31\",\"2022-04-01\",\"2022-04-04\",\"2022-04-05\",\"2022-04-06\",\"2022-04-07\",\"2022-04-08\",\"2022-04-11\",\"2022-04-12\",\"2022-04-13\",\"2022-04-14\",\"2022-04-18\",\"2022-04-19\",\"2022-04-20\",\"2022-04-22\",\"2022-04-25\",\"2022-04-26\",\"2022-04-27\",\"2022-04-28\",\"2022-04-29\",\"2022-05-02\",\"2022-05-03\",\"2022-05-04\",\"2022-05-05\",\"2022-05-06\",\"2022-05-09\",\"2022-05-10\",\"2022-05-11\",\"2022-05-12\",\"2022-05-13\",\"2022-05-16\",\"2022-05-17\",\"2022-05-18\",\"2022-05-19\",\"2022-05-20\",\"2022-05-23\",\"2022-05-24\",\"2022-05-25\",\"2022-05-26\",\"2022-05-27\",\"2022-05-31\",\"2022-06-01\",\"2022-06-02\",\"2022-06-03\",\"2022-06-06\",\"2022-06-07\",\"2022-06-08\",\"2022-06-09\",\"2022-06-10\",\"2022-06-13\",\"2022-06-14\",\"2022-06-15\",\"2022-06-17\",\"2022-06-21\",\"2022-06-22\",\"2022-06-23\",\"2022-06-24\",\"2022-06-27\",\"2022-06-28\",\"2022-06-29\",\"2022-06-30\",\"2022-07-01\",\"2022-07-05\",\"2022-07-06\",\"2022-07-07\",\"2022-07-08\",\"2022-07-11\",\"2022-07-12\",\"2022-07-13\",\"2022-07-14\",\"2022-07-15\",\"2022-07-18\",\"2022-07-19\",\"2022-07-20\",\"2022-07-21\",\"2022-07-22\",\"2022-07-25\",\"2022-07-26\",\"2022-07-27\",\"2022-07-28\",\"2022-07-29\",\"2022-08-01\",\"2022-08-02\",\"2022-08-03\",\"2022-08-04\",\"2022-08-05\",\"2022-08-08\",\"2022-08-09\",\"2022-08-10\",\"2022-08-11\",\"2022-08-12\",\"2022-08-15\",\"2022-08-16\",\"2022-08-17\",\"2022-08-18\",\"2022-08-19\",\"2022-08-22\",\"2022-08-23\",\"2022-08-24\",\"2022-08-25\",\"2022-08-26\",\"2022-08-29\",\"2022-08-30\",\"2022-08-31\",\"2022-09-01\",\"2022-09-02\",\"2022-09-06\",\"2022-09-08\",\"2022-09-09\",\"2022-09-12\",\"2022-09-13\",\"2022-09-14\",\"2022-09-15\",\"2022-09-16\",\"2022-09-19\",\"2022-09-20\",\"2022-09-21\",\"2022-09-22\",\"2022-09-23\",\"2022-09-26\",\"2022-09-27\",\"2022-09-28\",\"2022-09-29\",\"2022-09-30\",\"2022-10-03\",\"2022-10-04\",\"2022-10-05\",\"2022-10-06\",\"2022-10-07\",\"2022-10-10\",\"2022-10-11\",\"2022-10-13\",\"2022-10-14\",\"2022-10-17\",\"2022-10-18\",\"2022-10-19\",\"2022-10-20\",\"2022-10-21\",\"2022-10-24\",\"2022-10-25\",\"2022-10-26\",\"2022-10-27\",\"2022-10-28\",\"2022-10-31\",\"2022-11-01\",\"2022-11-03\",\"2022-11-04\",\"2022-11-07\",\"2022-11-08\",\"2022-11-09\",\"2022-11-10\",\"2022-11-11\",\"2022-11-14\",\"2022-11-16\",\"2022-11-17\",\"2022-11-18\",\"2022-11-21\",\"2022-11-22\",\"2022-11-23\",\"2022-11-25\",\"2022-11-28\",\"2022-11-29\",\"2022-11-30\",\"2022-12-01\",\"2022-12-02\",\"2022-12-05\",\"2022-12-06\",\"2022-12-07\",\"2022-12-08\",\"2022-12-09\",\"2022-12-12\",\"2022-12-13\",\"2022-12-14\",\"2022-12-15\",\"2022-12-16\",\"2022-12-19\",\"2022-12-20\",\"2022-12-21\",\"2022-12-22\",\"2022-12-23\",\"2022-12-27\",\"2022-12-28\",\"2022-12-29\",\"2023-01-03\",\"2023-01-04\",\"2023-01-05\",\"2023-01-06\",\"2023-01-09\",\"2023-01-10\",\"2023-01-11\",\"2023-01-12\",\"2023-01-13\",\"2023-01-17\",\"2023-01-18\",\"2023-01-19\",\"2023-01-20\",\"2023-01-23\",\"2023-01-24\",\"2023-01-25\",\"2023-01-26\",\"2023-01-27\",\"2023-01-30\",\"2023-01-31\",\"2023-02-01\",\"2023-02-02\",\"2023-02-03\",\"2023-02-06\",\"2023-02-07\",\"2023-02-08\",\"2023-02-09\",\"2023-02-10\",\"2023-02-13\",\"2023-02-14\",\"2023-02-15\",\"2023-02-16\",\"2023-02-17\",\"2023-02-22\",\"2023-02-23\",\"2023-02-24\",\"2023-02-27\",\"2023-02-28\",\"2023-03-01\",\"2023-03-02\",\"2023-03-03\",\"2023-03-06\",\"2023-03-07\",\"2023-03-08\",\"2023-03-09\",\"2023-03-10\",\"2023-03-13\",\"2023-03-14\",\"2023-03-15\",\"2023-03-16\",\"2023-03-17\",\"2023-03-20\",\"2023-03-21\",\"2023-03-22\",\"2023-03-23\",\"2023-03-24\",\"2023-03-27\",\"2023-03-28\",\"2023-03-29\",\"2023-03-30\",\"2023-03-31\",\"2023-04-03\",\"2023-04-04\",\"2023-04-05\",\"2023-04-06\",\"2023-04-10\",\"2023-04-11\",\"2023-04-12\",\"2023-04-13\",\"2023-04-14\",\"2023-04-17\",\"2023-04-18\",\"2023-04-19\",\"2023-04-20\",\"2023-04-24\",\"2023-04-25\",\"2023-04-26\",\"2023-04-27\",\"2023-04-28\",\"2023-05-02\",\"2023-05-03\",\"2023-05-04\",\"2023-05-05\",\"2023-05-08\",\"2023-05-09\",\"2023-05-10\",\"2023-05-11\",\"2023-05-12\",\"2023-05-15\",\"2023-05-16\",\"2023-05-17\",\"2023-05-18\",\"2023-05-19\",\"2023-05-22\",\"2023-05-23\",\"2023-05-24\",\"2023-05-25\",\"2023-05-26\",\"2023-05-30\",\"2023-05-31\",\"2023-06-01\",\"2023-06-02\",\"2023-06-05\",\"2023-06-06\",\"2023-06-07\",\"2023-06-09\",\"2023-06-12\",\"2023-06-13\",\"2023-06-14\",\"2023-06-15\",\"2023-06-16\",\"2023-06-20\",\"2023-06-21\",\"2023-06-22\",\"2023-06-23\",\"2023-06-26\",\"2023-06-27\",\"2023-06-28\",\"2023-06-29\",\"2023-06-30\",\"2023-07-03\",\"2023-07-05\",\"2023-07-06\",\"2023-07-07\",\"2023-07-10\",\"2023-07-11\",\"2023-07-12\",\"2023-07-13\",\"2023-07-14\",\"2023-07-17\",\"2023-07-18\",\"2023-07-19\",\"2023-07-20\",\"2023-07-21\",\"2023-07-24\",\"2023-07-25\",\"2023-07-26\",\"2023-07-27\",\"2023-07-28\",\"2023-07-31\",\"2023-08-01\",\"2023-08-02\",\"2023-08-03\",\"2023-08-04\",\"2023-08-07\",\"2023-08-08\",\"2023-08-09\",\"2023-08-10\",\"2023-08-11\",\"2023-08-14\",\"2023-08-15\",\"2023-08-16\",\"2023-08-17\",\"2023-08-18\",\"2023-08-21\",\"2023-08-22\",\"2023-08-23\",\"2023-08-24\",\"2023-08-25\",\"2023-08-28\",\"2023-08-29\",\"2023-08-30\",\"2023-08-31\",\"2023-09-01\",\"2023-09-05\",\"2023-09-06\",\"2023-09-08\",\"2023-09-11\",\"2023-09-12\",\"2023-09-13\",\"2023-09-14\",\"2023-09-15\",\"2023-09-18\",\"2023-09-19\",\"2023-09-20\",\"2023-09-21\",\"2023-09-22\",\"2023-09-25\",\"2023-09-26\",\"2023-09-27\",\"2023-09-28\",\"2023-09-29\",\"2023-10-02\",\"2023-10-03\",\"2023-10-04\",\"2023-10-05\",\"2023-10-06\",\"2023-10-09\",\"2023-10-10\",\"2023-10-11\",\"2023-10-13\",\"2023-10-16\",\"2023-10-17\",\"2023-10-18\",\"2023-10-19\",\"2023-10-20\",\"2023-10-23\",\"2023-10-24\",\"2023-10-25\",\"2023-10-26\",\"2023-10-27\",\"2023-10-30\",\"2023-10-31\",\"2023-11-01\",\"2023-11-03\",\"2023-11-06\",\"2023-11-07\",\"2023-11-08\",\"2023-11-09\",\"2023-11-10\",\"2023-11-13\",\"2023-11-14\",\"2023-11-16\",\"2023-11-17\",\"2023-11-20\",\"2023-11-21\",\"2023-11-22\",\"2023-11-24\",\"2023-11-27\",\"2023-11-28\",\"2023-11-29\",\"2023-11-30\",\"2023-12-01\",\"2023-12-04\",\"2023-12-05\",\"2023-12-06\",\"2023-12-07\",\"2023-12-08\",\"2023-12-11\",\"2023-12-12\",\"2023-12-13\",\"2023-12-14\",\"2023-12-15\",\"2023-12-18\",\"2023-12-19\",\"2023-12-20\",\"2023-12-21\",\"2023-12-22\",\"2023-12-26\",\"2023-12-27\",\"2023-12-28\"],\"xaxis\":\"x\",\"y\":[231.3279995388455,231.60670572916666,231.88963097466362,232.26949140760632,232.57034708658855,232.91744842529297,233.29756910536025,233.70270300971137,234.0691716512044,234.47528991699218,234.86078135172525,235.2044886271159,235.50100470648871,235.8233391655816,236.12176937527127,236.36268259684246,236.63685658772786,236.85328013102213,237.16614295111762,237.3799055311415,237.5845976087782,237.78978695339626,237.9897476196289,238.22219492594402,238.48281707763672,238.72688683403862,238.9964816623264,239.23012068006727,239.4983127170139,239.79786512586804,240.0964360555013,240.43291727701822,240.9042185465495,241.38897688123916,241.8844484117296,242.41269056532118,242.90336100260416,243.38443366156685,243.9150639851888,244.49765065511068,245.08615214029948,245.58187340630425,246.14783952501085,246.66745995415582,247.25286577012804,247.82565595838759,248.40661197238498,248.9706047905816,249.4999267578125,250.03948211669922,250.62991587320963,251.22336171468098,251.7809100680881,252.31476084391275,252.9039089626736,253.5259974161784,254.09132690429686,254.6496114095052,255.24989251030817,255.83883293999565,256.3897420247396,256.8871921115451,257.3812672932943,257.8340323554145,258.3160291883681,258.85208808051215,259.390636867947,259.8794665866428,260.3929200914171,260.8327170477973,261.26597663031686,261.7626003689236,262.2459060668945,262.7404057820638,263.18470967610676,263.6246000501845,264.04991573757593,264.5229990641276,265.00150231255424,265.49739549424913,266.0270034790039,266.65480143229166,267.30113338894313,267.8545357598199,268.3183351304796,268.8443793402778,269.4215135362413,270.08707258436414,270.7069785224067,271.2157696194119,271.64140065511066,272.0948284573025,272.51929524739586,272.9851279364692,273.4003402709961,273.81610124376084,274.26874474419486,274.74268103705515,275.2401392618815,275.72690243191187,276.26075151231555,276.86529930962456,277.4479734632704,278.03135901557073,278.6382858276367,279.2253431532118,279.8092317369249,280.36881086561414,280.8956756591797,281.4604531182183,282.17698923746747,282.86830139160156,283.65406578911677,284.3809797498915,285.12687140570745,285.9017306857639,286.6571601019965,287.44066331651476,288.1730007595486,288.8207475450304,289.49151034884983,290.20109693739147,290.87556627061633,291.5524183485243,292.2280629475911,292.95071682400174,293.63892754448784,294.26436191134985,294.87577752007377,295.4140309651693,296.03057556152345,296.62205980088976,297.18309631347654,297.7153004964193,298.1261800130208,298.5334126790365,299.04188334147136,299.577976820204,300.0972710503472,300.715781656901,301.31744113498263,301.80028957790796,302.3266594780816,302.7540164523655,303.1369835747613,303.4784681532118,303.91207207573785,304.4300754123264,304.95871209038626,305.5405351426866,306.076559109158,306.60128241644964,307.1139231363932,307.59641994900176,307.95145602756077,308.08765597873264,308.19364352756077,308.3233106825087,308.462062242296,308.64006991916233,308.8468980577257,308.8660074869792,308.9620859781901,308.9769358317057,309.0065016004774,309.0174391004774,308.9781066894531,308.9744554307726,308.90210978190106,308.90495130750867,308.91142205132377,308.9547068277995,309.02312554253473,309.125336710612,309.3386647542318,309.41435072157117,309.49996676974826,309.5209448920356,309.58329094780817,309.7736562093099,309.9835228814019,310.10870530870227,310.25594143337673,310.38479885525174,310.574612765842,310.60817057291666,310.56431511773,310.4993696424696,310.3535722520616,310.36988762749564,310.3932362874349,310.3782206217448,310.30108167860243,310.1248796251085,309.8196790907118,309.49013366699216,309.26166008843313,309.01890157063804,308.7273701985677,308.3750396728516,307.9977562798394,307.68628980848524,307.30523986816405,307.0050554063585,306.6410356309679,306.3038160536024,305.9211079915365,305.5783769395616,305.24232991536456,305.03814324273003,304.8674513075087,304.63356018066406,304.3092763264974,303.99454786512587,303.7167670355903,303.37467074924047,302.9445939805773,302.55809733072914,302.12135925292966,301.64666883680553,301.06197950575086,300.60304565429686,300.065092976888,299.5410183376736,299.13899875217015,298.7140438503689,298.06072760687937,297.47947455512156,296.8045206705729,296.1684143066406,295.63587985568574,295.0917019314236,294.5546112060547,294.0939215766059,293.7341369628906,293.2794131808811,292.7163282606337,291.97908359103735,291.27909681532117,290.39793446858727,289.4733359442817,288.60377604166666,287.766823832194,287.0371014065213,286.23770480685766,285.5648683336046,284.9127990722656,284.3469970703125,283.7675018310547,283.2118621826172,282.65735880533856,282.3285824245877,281.92641974555124,281.6120076497396,281.31372816297744,280.9845815022787,280.70194363064235,280.4564168294271,280.27349751790365,279.94041917588976,279.445083448622,278.74183671739365,278.03338996039497,277.42806854248045,276.72713690863714,276.2246878729926,275.664810011122,275.22130584716797,274.8348644680447,274.34583553738065,273.8609539455838,273.4966844346788,273.0955374823676,272.6650636461046,272.273959520128,272.01458248562284,271.8094155205621,271.5984780205621,271.4341269599067,270.99644944932726,270.5189192030165,270.024927605523,269.6059936523437,269.22595842149525,269.0221950954861,268.8814459906684,268.63136698404946,268.36413625081383,268.1401696099175,267.88021358913846,267.6872095743815,267.4990663316515,267.3490168253581,267.11272871229386,266.85552283393014,266.62835472954646,266.4636191474067,266.24080352783204,265.99437204996747,265.69329240587024,265.4157201131185,265.1316906399197,264.9610861884223,264.79540456136067,264.5612228393555,264.3630362616645,264.2758163452148,264.12447933620876,263.929325527615,263.8469755384657,263.79226871066624,263.7105782402886,263.59613528781466,263.44302724202475,263.213407558865,262.95593109130857,262.8206042819553,262.56536271837024,262.39344228108723,262.13788553873695,261.87751634385853,261.77244533962676,261.43214060465493,261.1235361735026,260.65137769911024,260.3093112521701,259.9932800292969,259.76483764648435,259.4448467678494,259.2441168891059,259.06646304660376,258.8210656060113,258.5602072821723,258.2924116346571,258.11753963894313,257.90274844699434,257.7797303941515,257.6574449327257,257.5498509724935,257.3844401041667,257.0454540676541,256.57222849527994,256.0720462375217,255.66213734944662,255.16681315104168,254.81887512207032,254.49532521565754,254.1089631822374,253.74173889160156,253.50072784423827,253.443997531467,253.5411595662435,253.40323842366536,253.13641764322918,253.0137220594618,252.78401065402562,252.51776699490017,252.0374510023329,251.53880767822267,251.14136928982205,250.8463148328993,250.46261410183376,250.31756507025824,250.1876235961914,249.96150139702692,249.70821753607856,249.4305648803711,249.1559331258138,248.9246404012044,248.84384036593968,248.8012502034505,248.74288228352864,248.59315812852648,248.45467037624783,248.42064514160157,248.35189548068576,248.25879753960504,248.16174146864148,248.02579515245225,247.95703447129992,247.73821292453343,247.41431291368272,247.12081739637586,246.9052268134223,246.72761671278212,246.37704128689236,245.9664050632053,245.51746758355034,245.11146206325955,244.7126692030165,244.17103932698566,243.65859188503688,243.07360212537978,242.44507904052733,241.89566073947483,241.33900332980687,240.6803176879883,239.99122806125217,239.42234785291885,238.89168836805555,238.38702629937066,237.92465498182509,237.60953063964843,237.33345404730903,237.09425726996528,236.82178243001303,236.5185562133789,236.35326453314886,236.24440324571398,236.0721906873915,235.81959347195095,235.62390882703994,235.58978135850694,235.49356926812067,235.52767164442275,235.62275288899738,235.84977315266926,236.03103569878473,236.233179558648,236.53114742702908,236.85339931911892,237.1467770046658,237.44580722384984,237.78389739990234,238.17019602457682,238.582857937283,238.83147905137804,238.94654388427733,238.98633812798394,239.08813052707248,239.26590728759766,239.50838182237413,239.78460608588324,239.9300537109375,240.19046156141493,240.39889577229818,240.61407182481554,240.8214582655165,241.02751074896918,241.15336100260416,241.18241153293187,241.23270161946616,241.56910586886937,242.00628814697265,242.46197272406684,242.99382425944012,243.48993886311848,244.154781765408,244.7254628499349,245.2843558417426,245.86423831515842,246.44573109944662,246.8132802327474,247.19367133246527,247.67346649169923,248.19044935438367,248.69625345865884,249.20653788248697,249.67662489149305,250.1936989678277,250.65867750379775,251.05274810791016,251.51669023301866,252.06585489908855,252.4125725640191,252.7933607313368,253.16582878960503,253.59186520046657,254.04778951009115,254.4643500434028,254.7781982421875,255.33232421875,255.91261783175997,256.4713334825304,257.0064949883355,257.6203370836046,258.29247300889756,259.068384636773,259.80762074788413,260.500023566352,261.31883341471354,262.1076293945313,262.903281656901,263.7308675130208,264.5126029120551,265.3422604031033,266.33612569173175,267.40224100748696,268.47090725368923,269.45061357286244,270.3959209865994,271.3981465657552,272.4469707912869,273.46947309705945,274.44875979953343,275.52369571261937,276.672018093533,277.735647922092,278.7486568874783,279.6544436984592,280.61331532796225,281.5469753689236,282.505685933431,283.5574717203776,284.6716837565104,285.66852043999563,286.4888092041016,287.3281070285373,288.2522233751085,289.0068756103516,289.70008985731334,290.4928704155816,291.3053944905599,292.01927286783854,292.7841569688585,293.54481506347656,294.38580695258247,295.305888027615,296.2532704671224,297.10572764078773,298.02603691948786,298.9879945543077,300.01802893744576,301.11092071533204,302.15615234375,303.30670149061416,304.39149983723956,305.41593678792316,306.4112577650282,307.43641984727645,308.56692979600695,309.49394158257377,310.26823357476127,311.0755859375,311.7381103515625,312.3698499891493,312.98340488009984,313.5707472059462,314.18671942816843,314.76943155924477,315.27566290961374,315.7858567979601,316.31634148491753,316.7678755018446,317.2138932969835,317.5893920898437,317.9680314805773,318.30847710503474,318.67564392089844,319.0226813422309,319.4003221299913,319.8998229980469,320.3147172715929,320.6931498209635,321.12005547417533,321.5696499294705,322.02813890245227,322.4744144015842,322.95624050564237,323.53945007324216,324.18487447102865,324.62696431477866,325.00577426486547,325.290044148763,325.64180569118923,326.033693101671,326.3211778428819,326.5384701199002,326.7731679280599,326.9392188178168,327.0334282769097,327.12401292588976,327.23292371961804,327.2770311143663,327.30330539279515,327.30664503309464,327.2835642496745,327.3290486653646,327.250777859158,327.2988318549262,327.3667744954427,327.38910183376737,327.36305372450084,327.33971828884546,327.39171006944446,327.3460632324219,327.3234853108724,327.28859252929686,327.2570593939887,327.3519694010417,327.3582475450304,327.33811815049916,327.30450710720487,327.3490027533637,327.13465983072916,327.00482177734375,327.0045386420356,327.0623741997613,327.1402737087674,327.34375644259984,327.6588036431207,327.95230780707465,328.2611399332682,328.5511325412326,328.8796644422743,329.20329420301647,329.56467997233074,329.9651397705078,330.3403788248698,330.8585242377387,331.321445719401,331.7851335313585,332.18422241210936,332.56798875596786,332.9914805094401,333.2213853624132,333.500387234158,333.8210340711806,334.11650390625,334.43453301323785,334.6470648871528,335.02839525010853,335.5233303493924,335.9019307454427,336.341407945421,336.776161702474,337.21492377387153,337.7158498128255,338.22564934624563,338.71658596462674,339.2229977077908,339.8035681830512,340.3879208034939,340.9942426893446,341.560779147678,342.164603000217],\"yaxis\":\"y\",\"type\":\"scattergl\"},{\"hovertemplate\":\"Ticker=NVDA\\u003cbr\\u003eData=%{x}\\u003cbr\\u003eClose=%{y}\\u003cextra\\u003e\\u003c\\u002fextra\\u003e\",\"legendgroup\":\"NVDA\",\"line\":{\"color\":\"#00cc96\",\"dash\":\"solid\"},\"marker\":{\"symbol\":\"circle\"},\"mode\":\"lines\",\"name\":\"NVDA\",\"showlegend\":true,\"x\":[\"2021-05-17\",\"2021-05-18\",\"2021-05-19\",\"2021-05-20\",\"2021-05-21\",\"2021-05-24\",\"2021-05-25\",\"2021-05-26\",\"2021-05-27\",\"2021-05-28\",\"2021-06-01\",\"2021-06-02\",\"2021-06-04\",\"2021-06-07\",\"2021-06-08\",\"2021-06-09\",\"2021-06-10\",\"2021-06-11\",\"2021-06-14\",\"2021-06-15\",\"2021-06-16\",\"2021-06-17\",\"2021-06-18\",\"2021-06-21\",\"2021-06-22\",\"2021-06-23\",\"2021-06-24\",\"2021-06-25\",\"2021-06-28\",\"2021-06-29\",\"2021-06-30\",\"2021-07-01\",\"2021-07-02\",\"2021-07-06\",\"2021-07-07\",\"2021-07-08\",\"2021-07-12\",\"2021-07-13\",\"2021-07-14\",\"2021-07-15\",\"2021-07-16\",\"2021-07-19\",\"2021-07-20\",\"2021-07-21\",\"2021-07-22\",\"2021-07-23\",\"2021-07-26\",\"2021-07-27\",\"2021-07-28\",\"2021-07-29\",\"2021-07-30\",\"2021-08-02\",\"2021-08-03\",\"2021-08-04\",\"2021-08-05\",\"2021-08-06\",\"2021-08-09\",\"2021-08-10\",\"2021-08-11\",\"2021-08-12\",\"2021-08-13\",\"2021-08-16\",\"2021-08-17\",\"2021-08-18\",\"2021-08-19\",\"2021-08-20\",\"2021-08-23\",\"2021-08-24\",\"2021-08-25\",\"2021-08-26\",\"2021-08-27\",\"2021-08-30\",\"2021-08-31\",\"2021-09-01\",\"2021-09-02\",\"2021-09-03\",\"2021-09-08\",\"2021-09-09\",\"2021-09-10\",\"2021-09-13\",\"2021-09-14\",\"2021-09-15\",\"2021-09-16\",\"2021-09-17\",\"2021-09-20\",\"2021-09-21\",\"2021-09-22\",\"2021-09-23\",\"2021-09-24\",\"2021-09-27\",\"2021-09-28\",\"2021-09-29\",\"2021-09-30\",\"2021-10-01\",\"2021-10-04\",\"2021-10-05\",\"2021-10-06\",\"2021-10-07\",\"2021-10-08\",\"2021-10-11\",\"2021-10-13\",\"2021-10-14\",\"2021-10-15\",\"2021-10-18\",\"2021-10-19\",\"2021-10-20\",\"2021-10-21\",\"2021-10-22\",\"2021-10-25\",\"2021-10-26\",\"2021-10-27\",\"2021-10-28\",\"2021-10-29\",\"2021-11-01\",\"2021-11-03\",\"2021-11-04\",\"2021-11-05\",\"2021-11-08\",\"2021-11-09\",\"2021-11-10\",\"2021-11-11\",\"2021-11-12\",\"2021-11-16\",\"2021-11-17\",\"2021-11-18\",\"2021-11-19\",\"2021-11-22\",\"2021-11-23\",\"2021-11-24\",\"2021-11-26\",\"2021-11-29\",\"2021-11-30\",\"2021-12-01\",\"2021-12-02\",\"2021-12-03\",\"2021-12-06\",\"2021-12-07\",\"2021-12-08\",\"2021-12-09\",\"2021-12-10\",\"2021-12-13\",\"2021-12-14\",\"2021-12-15\",\"2021-12-16\",\"2021-12-17\",\"2021-12-20\",\"2021-12-21\",\"2021-12-22\",\"2021-12-23\",\"2021-12-27\",\"2021-12-28\",\"2021-12-29\",\"2021-12-30\",\"2022-01-03\",\"2022-01-04\",\"2022-01-05\",\"2022-01-06\",\"2022-01-07\",\"2022-01-10\",\"2022-01-11\",\"2022-01-12\",\"2022-01-13\",\"2022-01-14\",\"2022-01-18\",\"2022-01-19\",\"2022-01-20\",\"2022-01-21\",\"2022-01-24\",\"2022-01-25\",\"2022-01-26\",\"2022-01-27\",\"2022-01-28\",\"2022-01-31\",\"2022-02-01\",\"2022-02-02\",\"2022-02-03\",\"2022-02-04\",\"2022-02-07\",\"2022-02-08\",\"2022-02-09\",\"2022-02-10\",\"2022-02-11\",\"2022-02-14\",\"2022-02-15\",\"2022-02-16\",\"2022-02-17\",\"2022-02-18\",\"2022-02-22\",\"2022-02-23\",\"2022-02-24\",\"2022-02-25\",\"2022-03-02\",\"2022-03-03\",\"2022-03-04\",\"2022-03-07\",\"2022-03-08\",\"2022-03-09\",\"2022-03-10\",\"2022-03-11\",\"2022-03-14\",\"2022-03-15\",\"2022-03-16\",\"2022-03-17\",\"2022-03-18\",\"2022-03-21\",\"2022-03-22\",\"2022-03-23\",\"2022-03-24\",\"2022-03-25\",\"2022-03-28\",\"2022-03-29\",\"2022-03-30\",\"2022-03-31\",\"2022-04-01\",\"2022-04-04\",\"2022-04-05\",\"2022-04-06\",\"2022-04-07\",\"2022-04-08\",\"2022-04-11\",\"2022-04-12\",\"2022-04-13\",\"2022-04-14\",\"2022-04-18\",\"2022-04-19\",\"2022-04-20\",\"2022-04-22\",\"2022-04-25\",\"2022-04-26\",\"2022-04-27\",\"2022-04-28\",\"2022-04-29\",\"2022-05-02\",\"2022-05-03\",\"2022-05-04\",\"2022-05-05\",\"2022-05-06\",\"2022-05-09\",\"2022-05-10\",\"2022-05-11\",\"2022-05-12\",\"2022-05-13\",\"2022-05-16\",\"2022-05-17\",\"2022-05-18\",\"2022-05-19\",\"2022-05-20\",\"2022-05-23\",\"2022-05-24\",\"2022-05-25\",\"2022-05-26\",\"2022-05-27\",\"2022-05-31\",\"2022-06-01\",\"2022-06-02\",\"2022-06-03\",\"2022-06-06\",\"2022-06-07\",\"2022-06-08\",\"2022-06-09\",\"2022-06-10\",\"2022-06-13\",\"2022-06-14\",\"2022-06-15\",\"2022-06-17\",\"2022-06-21\",\"2022-06-22\",\"2022-06-23\",\"2022-06-24\",\"2022-06-27\",\"2022-06-28\",\"2022-06-29\",\"2022-06-30\",\"2022-07-01\",\"2022-07-05\",\"2022-07-06\",\"2022-07-07\",\"2022-07-08\",\"2022-07-11\",\"2022-07-12\",\"2022-07-13\",\"2022-07-14\",\"2022-07-15\",\"2022-07-18\",\"2022-07-19\",\"2022-07-20\",\"2022-07-21\",\"2022-07-22\",\"2022-07-25\",\"2022-07-26\",\"2022-07-27\",\"2022-07-28\",\"2022-07-29\",\"2022-08-01\",\"2022-08-02\",\"2022-08-03\",\"2022-08-04\",\"2022-08-05\",\"2022-08-08\",\"2022-08-09\",\"2022-08-10\",\"2022-08-11\",\"2022-08-12\",\"2022-08-15\",\"2022-08-16\",\"2022-08-17\",\"2022-08-18\",\"2022-08-19\",\"2022-08-22\",\"2022-08-23\",\"2022-08-24\",\"2022-08-25\",\"2022-08-26\",\"2022-08-29\",\"2022-08-30\",\"2022-08-31\",\"2022-09-01\",\"2022-09-02\",\"2022-09-06\",\"2022-09-08\",\"2022-09-09\",\"2022-09-12\",\"2022-09-13\",\"2022-09-14\",\"2022-09-15\",\"2022-09-16\",\"2022-09-19\",\"2022-09-20\",\"2022-09-21\",\"2022-09-22\",\"2022-09-23\",\"2022-09-26\",\"2022-09-27\",\"2022-09-28\",\"2022-09-29\",\"2022-09-30\",\"2022-10-03\",\"2022-10-04\",\"2022-10-05\",\"2022-10-06\",\"2022-10-07\",\"2022-10-10\",\"2022-10-11\",\"2022-10-13\",\"2022-10-14\",\"2022-10-17\",\"2022-10-18\",\"2022-10-19\",\"2022-10-20\",\"2022-10-21\",\"2022-10-24\",\"2022-10-25\",\"2022-10-26\",\"2022-10-27\",\"2022-10-28\",\"2022-10-31\",\"2022-11-01\",\"2022-11-03\",\"2022-11-04\",\"2022-11-07\",\"2022-11-08\",\"2022-11-09\",\"2022-11-10\",\"2022-11-11\",\"2022-11-14\",\"2022-11-16\",\"2022-11-17\",\"2022-11-18\",\"2022-11-21\",\"2022-11-22\",\"2022-11-23\",\"2022-11-25\",\"2022-11-28\",\"2022-11-29\",\"2022-11-30\",\"2022-12-01\",\"2022-12-02\",\"2022-12-05\",\"2022-12-06\",\"2022-12-07\",\"2022-12-08\",\"2022-12-09\",\"2022-12-12\",\"2022-12-13\",\"2022-12-14\",\"2022-12-15\",\"2022-12-16\",\"2022-12-19\",\"2022-12-20\",\"2022-12-21\",\"2022-12-22\",\"2022-12-23\",\"2022-12-27\",\"2022-12-28\",\"2022-12-29\",\"2023-01-03\",\"2023-01-04\",\"2023-01-05\",\"2023-01-06\",\"2023-01-09\",\"2023-01-10\",\"2023-01-11\",\"2023-01-12\",\"2023-01-13\",\"2023-01-17\",\"2023-01-18\",\"2023-01-19\",\"2023-01-20\",\"2023-01-23\",\"2023-01-24\",\"2023-01-25\",\"2023-01-26\",\"2023-01-27\",\"2023-01-30\",\"2023-01-31\",\"2023-02-01\",\"2023-02-02\",\"2023-02-03\",\"2023-02-06\",\"2023-02-07\",\"2023-02-08\",\"2023-02-09\",\"2023-02-10\",\"2023-02-13\",\"2023-02-14\",\"2023-02-15\",\"2023-02-16\",\"2023-02-17\",\"2023-02-22\",\"2023-02-23\",\"2023-02-24\",\"2023-02-27\",\"2023-02-28\",\"2023-03-01\",\"2023-03-02\",\"2023-03-03\",\"2023-03-06\",\"2023-03-07\",\"2023-03-08\",\"2023-03-09\",\"2023-03-10\",\"2023-03-13\",\"2023-03-14\",\"2023-03-15\",\"2023-03-16\",\"2023-03-17\",\"2023-03-20\",\"2023-03-21\",\"2023-03-22\",\"2023-03-23\",\"2023-03-24\",\"2023-03-27\",\"2023-03-28\",\"2023-03-29\",\"2023-03-30\",\"2023-03-31\",\"2023-04-03\",\"2023-04-04\",\"2023-04-05\",\"2023-04-06\",\"2023-04-10\",\"2023-04-11\",\"2023-04-12\",\"2023-04-13\",\"2023-04-14\",\"2023-04-17\",\"2023-04-18\",\"2023-04-19\",\"2023-04-20\",\"2023-04-24\",\"2023-04-25\",\"2023-04-26\",\"2023-04-27\",\"2023-04-28\",\"2023-05-02\",\"2023-05-03\",\"2023-05-04\",\"2023-05-05\",\"2023-05-08\",\"2023-05-09\",\"2023-05-10\",\"2023-05-11\",\"2023-05-12\",\"2023-05-15\",\"2023-05-16\",\"2023-05-17\",\"2023-05-18\",\"2023-05-19\",\"2023-05-22\",\"2023-05-23\",\"2023-05-24\",\"2023-05-25\",\"2023-05-26\",\"2023-05-30\",\"2023-05-31\",\"2023-06-01\",\"2023-06-02\",\"2023-06-05\",\"2023-06-06\",\"2023-06-07\",\"2023-06-09\",\"2023-06-12\",\"2023-06-13\",\"2023-06-14\",\"2023-06-15\",\"2023-06-16\",\"2023-06-20\",\"2023-06-21\",\"2023-06-22\",\"2023-06-23\",\"2023-06-26\",\"2023-06-27\",\"2023-06-28\",\"2023-06-29\",\"2023-06-30\",\"2023-07-03\",\"2023-07-05\",\"2023-07-06\",\"2023-07-07\",\"2023-07-10\",\"2023-07-11\",\"2023-07-12\",\"2023-07-13\",\"2023-07-14\",\"2023-07-17\",\"2023-07-18\",\"2023-07-19\",\"2023-07-20\",\"2023-07-21\",\"2023-07-24\",\"2023-07-25\",\"2023-07-26\",\"2023-07-27\",\"2023-07-28\",\"2023-07-31\",\"2023-08-01\",\"2023-08-02\",\"2023-08-03\",\"2023-08-04\",\"2023-08-07\",\"2023-08-08\",\"2023-08-09\",\"2023-08-10\",\"2023-08-11\",\"2023-08-14\",\"2023-08-15\",\"2023-08-16\",\"2023-08-17\",\"2023-08-18\",\"2023-08-21\",\"2023-08-22\",\"2023-08-23\",\"2023-08-24\",\"2023-08-25\",\"2023-08-28\",\"2023-08-29\",\"2023-08-30\",\"2023-08-31\",\"2023-09-01\",\"2023-09-05\",\"2023-09-06\",\"2023-09-08\",\"2023-09-11\",\"2023-09-12\",\"2023-09-13\",\"2023-09-14\",\"2023-09-15\",\"2023-09-18\",\"2023-09-19\",\"2023-09-20\",\"2023-09-21\",\"2023-09-22\",\"2023-09-25\",\"2023-09-26\",\"2023-09-27\",\"2023-09-28\",\"2023-09-29\",\"2023-10-02\",\"2023-10-03\",\"2023-10-04\",\"2023-10-05\",\"2023-10-06\",\"2023-10-09\",\"2023-10-10\",\"2023-10-11\",\"2023-10-13\",\"2023-10-16\",\"2023-10-17\",\"2023-10-18\",\"2023-10-19\",\"2023-10-20\",\"2023-10-23\",\"2023-10-24\",\"2023-10-25\",\"2023-10-26\",\"2023-10-27\",\"2023-10-30\",\"2023-10-31\",\"2023-11-01\",\"2023-11-03\",\"2023-11-06\",\"2023-11-07\",\"2023-11-08\",\"2023-11-09\",\"2023-11-10\",\"2023-11-13\",\"2023-11-14\",\"2023-11-16\",\"2023-11-17\",\"2023-11-20\",\"2023-11-21\",\"2023-11-22\",\"2023-11-24\",\"2023-11-27\",\"2023-11-28\",\"2023-11-29\",\"2023-11-30\",\"2023-12-01\",\"2023-12-04\",\"2023-12-05\",\"2023-12-06\",\"2023-12-07\",\"2023-12-08\",\"2023-12-11\",\"2023-12-12\",\"2023-12-13\",\"2023-12-14\",\"2023-12-15\",\"2023-12-18\",\"2023-12-19\",\"2023-12-20\",\"2023-12-21\",\"2023-12-22\",\"2023-12-26\",\"2023-12-27\",\"2023-12-28\"],\"xaxis\":\"x\",\"y\":[13.835772853427462,13.845826085408529,13.853205733829075,13.875405438741048,13.893724780612521,13.919666067759197,13.942182805803087,13.966794459025065,13.988534800211589,14.022336292266846,14.060136053297255,14.101794687906901,14.148549016316732,14.190194214714898,14.231761264801026,14.275350337558322,14.325415049658881,14.37844149271647,14.434292560153537,14.484849951002333,14.532104799482557,14.58904324637519,14.644294198354086,14.698011610243055,14.747428968217637,14.800682099660238,14.850026713477241,14.892044300503201,14.94784967634413,15.00473034116957,15.06219547059801,15.12090326944987,15.188986206054688,15.261783589257135,15.327000872294109,15.400222672356499,15.475695376925998,15.546846845414903,15.618294938405354,15.686703501807319,15.750997882419162,15.821142525143093,15.899049663543702,15.975484307607015,16.054535897572837,16.127364974551732,16.198790889316136,16.26554625829061,16.334464263916015,16.404591125912138,16.479770459069147,16.55636674033271,16.62990879482693,16.70982135136922,16.79850171407064,16.885371483696833,16.968083551194933,17.045606072743734,17.121348571777343,17.194092570410834,17.264836099412705,17.33099185095893,17.393088595072427,17.447423542870414,17.508240625593398,17.579426447550457,17.65430711110433,17.722141636742485,17.799096149868436,17.864905293782552,17.93950496249729,18.02078734503852,18.1008654806349,18.185123591952852,18.264281601376005,18.346038627624512,18.423272800445556,18.499874273935955,18.57928206125895,18.658569208780925,18.74076985253228,18.82945112652249,18.915845330556234,18.997731177012124,19.067681323157416,19.145165559980605,19.229909229278565,19.326726055145265,19.420129140218098,19.50245739618937,19.57498613993327,19.64715650346544,19.720979679955377,19.789029524061416,19.841672537061903,19.89541352589925,19.951519955529108,20.011206309000652,20.070536783006457,20.11997169918484,20.171891106499565,20.227065383063422,20.27465680440267,20.325789324442546,20.37947203318278,20.432131406995985,20.490583356221517,20.544973924424912,20.602098846435545,20.678979767693413,20.752669186062285,20.822400707668727,20.899280484517416,20.981389405992296,21.06695416768392,21.186153623792862,21.30316556294759,21.433780712551542,21.552186181810168,21.656841320461698,21.772091378106012,21.885018179151746,21.992821375528973,22.08783113691542,22.213238800896537,22.358376926845974,22.485340372721353,22.612885602315266,22.755253495110406,22.894339476691353,23.06312919192844,23.217293400234645,23.359596273634168,23.500714810689292,23.623897213406032,23.74020199245877,23.885945913526747,24.02597671084934,24.14791643354628,24.26485390133328,24.361003091600207,24.456321228875055,24.57445714738634,24.66451909806993,24.74405534532335,24.825687175326877,24.92314796447754,25.0281949573093,25.13853234185113,25.261061244540745,25.373541174994575,25.485099644131132,25.597510634528266,25.72049151526557,25.825848706563313,25.901214684380424,25.970283804999458,26.030855433146158,26.08846664428711,26.152311515808105,26.21187646653917,26.255068821377225,26.305648422241212,26.34408164554172,26.37374053531223,26.388269657558865,26.39978090922038,26.413066736857097,26.41138899061415,26.418296517266167,26.415021091037325,26.42058669196235,26.445508808559843,26.475910271538627,26.521740510728623,26.551741706000435,26.578149859110514,26.6030945248074,26.636702028910317,26.69269387986925,26.74957186381022,26.787669732835557,26.827087910970054,26.89093212551541,26.966156069437663,27.011175685458714,27.043838416205514,27.069546529981825,27.086834971110026,27.120728958977594,27.156453598870172,27.183972104390463,27.204590225219725,27.212583923339842,27.202249675326875,27.19578675164117,27.19943290286594,27.19875225490994,27.187000677320693,27.149503707885742,27.133185365464954,27.128329277038574,27.119525612725152,27.126554679870605,27.128149943881564,27.091889932420518,27.046299256218806,27.01695442199707,26.98415862189399,26.97049706776937,26.951357799106173,26.921501244439018,26.88923653496636,26.861051559448242,26.8132814195421,26.735127533806693,26.651478576660157,26.567950926886663,26.462048636542427,26.3557985941569,26.22419244978163,26.108105341593426,25.995255512661405,25.880565367804632,25.78637515174018,25.691518020629882,25.548326365152995,25.416095140245226,25.28632435268826,25.15565431382921,25.062746302286783,24.954184171888564,24.83302273220486,24.735610686408148,24.652820184495713,24.554408433702257,24.439080047607423,24.301008415222167,24.16743055979411,24.008670573764377,23.851773240831164,23.71542241838243,23.57877123090956,23.446314811706543,23.309330198499893,23.19311146206326,23.06575484805637,22.950988833109538,22.82627133263482,22.706036800808377,22.593502214219836,22.507414372762046,22.415713416205513,22.33163242340088,22.270937093098958,22.210739347669815,22.15988169776069,22.110599517822266,22.06990189022488,22.01757655673557,21.962517929077148,21.882794676886665,21.786910194820827,21.69700763490465,21.59322543674045,21.511409589979383,21.42319236331516,21.328940200805665,21.24047107696533,21.131435118781194,21.022328843010797,20.92913867102729,20.828170914120143,20.695431094699437,20.56740748087565,20.46345565583971,20.377177503373886,20.293472819858128,20.213281610276965,20.117216481102837,20.01752438015408,19.919395860036214,19.831208928426108,19.755415386623806,19.707082960340713,19.6659972720676,19.61096623738607,19.5517730500963,19.495497088962132,19.442315313551163,19.384853998819988,19.31264845530192,19.23943369123671,19.150587378607856,19.059566709730362,18.97494845920139,18.90377752516005,18.80218482547336,18.69240156809489,18.56892598470052,18.451821094089084,18.3437134636773,18.248599349127876,18.163437822129993,18.069389152526856,17.98515796661377,17.922695244683158,17.85218685997857,17.78471647898356,17.73221295674642,17.684746487935385,17.63719287448459,17.581780433654785,17.515449863009984,17.440819803873698,17.369983206854926,17.308130486806235,17.238766045040556,17.179741297827828,17.13072683546278,17.070952924092612,17.02619061999851,16.955237346225314,16.883485338422986,16.80140314102173,16.73883778254191,16.680189832051596,16.638393338521322,16.59038437737359,16.5453115357293,16.504787233140732,16.444080268012154,16.390330674913194,16.33003708521525,16.277761957380505,16.22252410252889,16.176197316911484,16.134877830081514,16.102278889550103,16.059694396124947,15.995691500769722,15.916531128353542,15.837980471716987,15.767486604054769,15.674744044409858,15.599013137817384,15.523426893022325,15.44721982744005,15.375640614827473,15.313738875918919,15.265231460995144,15.238797982533773,15.206215646531847,15.16907335917155,15.146414693196615,15.112402809990776,15.081187523735894,15.050116062164307,15.017204984029133,14.988755321502685,14.973489740159776,14.95393803914388,14.960548231336805,14.980620861053467,14.99544456270006,15.004152615865072,15.002195782131619,14.997486040327285,14.999367554982504,15.01002909342448,15.025119855668809,15.035138532850478,15.035912026299371,15.030836857689751,15.030175071292453,15.02282313240899,15.009898980458578,15.002133189307319,14.990723800659179,14.986239708794487,14.979453913370769,14.968649991353352,14.961788770887587,14.957804934183757,14.948458841111925,14.927023802863227,14.897785335116916,14.867535018920899,14.848680284288195,14.842289861043295,14.811778736114501,14.78151093588935,14.730685053931342,14.675331083933512,14.627970388200549,14.583448674943712,14.53888529671563,14.499201573265923,14.475157027774387,14.45801944732666,14.443546856774224,14.422427802615696,14.425314447614882,14.437602583567301,14.462501684824625,14.487942579057481,14.519427511427137,14.566055191887749,14.629736010233561,14.688344224294026,14.743189673953585,14.802043639289009,14.882400311364067,14.949433305528428,15.022838910420736,15.10886942545573,15.201362408532036,15.28938029607137,15.376332484351265,15.483090506659615,15.590703339046902,15.70297867457072,15.80129796134101,15.901838768853082,16.02124222649468,16.139246453179254,16.244649781121147,16.335965241326225,16.41977515750461,16.5367718272739,16.66127111646864,16.79266425238715,16.921825451321073,17.041083759731716,17.175318060980903,17.308610418107776,17.43729527791341,17.562138250139025,17.695310582054987,17.817190488179524,17.93236363728841,18.04019955529107,18.164269129435223,18.28706300523546,18.417133723364937,18.55298850801256,18.690276029374864,18.832238133748373,18.969028780195448,19.11223879920112,19.24753238889906,19.389240762922498,19.50769362979465,19.62611590491401,19.74932426876492,19.881181547376844,20.01771286858453,20.151533317565917,20.28002300262451,20.40224181281196,20.52514031728109,20.646249728732638,20.764791817135283,20.885065375434028,20.994314172532825,21.103918711344402,21.22378372616238,21.349533886379668,21.473017427656387,21.594335757361517,21.69511194229126,21.805693467458088,21.913344309065078,22.02084074020386,22.137875525156655,22.25839588377211,22.380481327904594,22.51850175857544,22.663628991444906,22.79769648445977,22.948152690463594,23.096676360236273,23.25460385216607,23.42028242746989,23.582552888658313,23.758737246195476,23.94676028357612,24.135559696621364,24.31678670247396,24.484056271447077,24.64654017554389,24.89064540863037,25.139815478854707,25.39761479695638,25.621212471856012,25.869917721218535,26.120498530069987,26.357422426011826,26.573571480645075,26.77587144639757,26.99190983242459,27.2105373594496,27.4400172551473,27.704788547092015,27.961575762430826,28.20318520863851,28.44868412017822,28.692470847235786,28.93615765041775,29.158746168348525,29.36346509721544,29.580534383985732,29.80107661353217,30.012535688612196,30.22729680803087,30.44558902316623,30.671275668674046,30.90140283372667,31.143011728922527,31.348723517523872,31.56113115946452,31.787777413262262,32.04063320159912,32.29359849294027,32.55074138641358,32.81296162075466,33.07428118387858,33.32121802435981,33.54478880564372,33.77999784681532,34.0322875128852,34.28204502529568,34.52459595998128,34.774754736158584,35.01009941101074,35.24093526204427,35.444972377353245,35.64842126634386,35.850715446472165,36.053165944417316,36.251828871832956,36.42981188032362,36.60729505750868,36.76137843661838,36.943216281467016,37.12275564405653,37.295165104336206,37.47168320549859,37.65405351850722,37.87542853885227,38.07635790506999,38.29792194366455,38.52749262915717,38.74470225440131,38.96770956251356,39.209653006659615,39.44954259660509,39.687511168585885,39.925267706976996,40.164145935906305,40.39544756147597,40.6022708468967,40.801719665527344,40.99193958706326,41.183871036105685,41.38139953613281,41.56292232937283,41.73276290893555,41.89241932762994,42.044288614061145,42.17909812927246,42.32390333811442,42.478148969014484,42.622133021884494,42.769416385226776,42.912881003485786,43.0442420747545,43.194450844658746,43.33158645629883,43.47996139526367,43.63718821207682,43.72370122273763,43.7940554300944,43.857303619384766,43.95703353881836,44.02032542758518,44.09557876586914,44.14860653347439,44.18802727593316,44.23944257100423,44.26854502360026,44.30737787882487,44.336748886108396,44.323259904649525,44.297452969021265,44.273145548502605,44.24378547668457,44.218667560153534,44.210932074652774,44.24202584160699,44.298919677734375,44.34426341586643,44.40491188897027,44.47301283942328,44.54006000094944,44.60903990003798,44.690592702229814,44.772567452324765,44.848078367445204,44.939516364203556,45.023290718926326,45.076799901326496,45.096823416815866,45.12766465081109,45.14281268649631,45.15003128051758,45.146664471096464,45.16053428649902,45.17391425238715,45.1957036336263,45.193834982977975,45.20662841796875,45.22455461290148,45.22327673170302,45.233673350016275,45.25132310655382,45.29673843383789,45.34541998969184,45.40545416937934,45.452049085828996,45.490422609117296,45.561994001600475,45.63363168504503,45.72728237575955,45.79028061760796,45.852368375990125],\"yaxis\":\"y\",\"type\":\"scattergl\"}],                        {\"template\":{\"data\":{\"barpolar\":[{\"marker\":{\"line\":{\"color\":\"rgb(17,17,17)\",\"width\":0.5},\"pattern\":{\"fillmode\":\"overlay\",\"size\":10,\"solidity\":0.2}},\"type\":\"barpolar\"}],\"bar\":[{\"error_x\":{\"color\":\"#f2f5fa\"},\"error_y\":{\"color\":\"#f2f5fa\"},\"marker\":{\"line\":{\"color\":\"rgb(17,17,17)\",\"width\":0.5},\"pattern\":{\"fillmode\":\"overlay\",\"size\":10,\"solidity\":0.2}},\"type\":\"bar\"}],\"carpet\":[{\"aaxis\":{\"endlinecolor\":\"#A2B1C6\",\"gridcolor\":\"#506784\",\"linecolor\":\"#506784\",\"minorgridcolor\":\"#506784\",\"startlinecolor\":\"#A2B1C6\"},\"baxis\":{\"endlinecolor\":\"#A2B1C6\",\"gridcolor\":\"#506784\",\"linecolor\":\"#506784\",\"minorgridcolor\":\"#506784\",\"startlinecolor\":\"#A2B1C6\"},\"type\":\"carpet\"}],\"choropleth\":[{\"colorbar\":{\"outlinewidth\":0,\"ticks\":\"\"},\"type\":\"choropleth\"}],\"contourcarpet\":[{\"colorbar\":{\"outlinewidth\":0,\"ticks\":\"\"},\"type\":\"contourcarpet\"}],\"contour\":[{\"colorbar\":{\"outlinewidth\":0,\"ticks\":\"\"},\"colorscale\":[[0.0,\"#0d0887\"],[0.1111111111111111,\"#46039f\"],[0.2222222222222222,\"#7201a8\"],[0.3333333333333333,\"#9c179e\"],[0.4444444444444444,\"#bd3786\"],[0.5555555555555556,\"#d8576b\"],[0.6666666666666666,\"#ed7953\"],[0.7777777777777778,\"#fb9f3a\"],[0.8888888888888888,\"#fdca26\"],[1.0,\"#f0f921\"]],\"type\":\"contour\"}],\"heatmapgl\":[{\"colorbar\":{\"outlinewidth\":0,\"ticks\":\"\"},\"colorscale\":[[0.0,\"#0d0887\"],[0.1111111111111111,\"#46039f\"],[0.2222222222222222,\"#7201a8\"],[0.3333333333333333,\"#9c179e\"],[0.4444444444444444,\"#bd3786\"],[0.5555555555555556,\"#d8576b\"],[0.6666666666666666,\"#ed7953\"],[0.7777777777777778,\"#fb9f3a\"],[0.8888888888888888,\"#fdca26\"],[1.0,\"#f0f921\"]],\"type\":\"heatmapgl\"}],\"heatmap\":[{\"colorbar\":{\"outlinewidth\":0,\"ticks\":\"\"},\"colorscale\":[[0.0,\"#0d0887\"],[0.1111111111111111,\"#46039f\"],[0.2222222222222222,\"#7201a8\"],[0.3333333333333333,\"#9c179e\"],[0.4444444444444444,\"#bd3786\"],[0.5555555555555556,\"#d8576b\"],[0.6666666666666666,\"#ed7953\"],[0.7777777777777778,\"#fb9f3a\"],[0.8888888888888888,\"#fdca26\"],[1.0,\"#f0f921\"]],\"type\":\"heatmap\"}],\"histogram2dcontour\":[{\"colorbar\":{\"outlinewidth\":0,\"ticks\":\"\"},\"colorscale\":[[0.0,\"#0d0887\"],[0.1111111111111111,\"#46039f\"],[0.2222222222222222,\"#7201a8\"],[0.3333333333333333,\"#9c179e\"],[0.4444444444444444,\"#bd3786\"],[0.5555555555555556,\"#d8576b\"],[0.6666666666666666,\"#ed7953\"],[0.7777777777777778,\"#fb9f3a\"],[0.8888888888888888,\"#fdca26\"],[1.0,\"#f0f921\"]],\"type\":\"histogram2dcontour\"}],\"histogram2d\":[{\"colorbar\":{\"outlinewidth\":0,\"ticks\":\"\"},\"colorscale\":[[0.0,\"#0d0887\"],[0.1111111111111111,\"#46039f\"],[0.2222222222222222,\"#7201a8\"],[0.3333333333333333,\"#9c179e\"],[0.4444444444444444,\"#bd3786\"],[0.5555555555555556,\"#d8576b\"],[0.6666666666666666,\"#ed7953\"],[0.7777777777777778,\"#fb9f3a\"],[0.8888888888888888,\"#fdca26\"],[1.0,\"#f0f921\"]],\"type\":\"histogram2d\"}],\"histogram\":[{\"marker\":{\"pattern\":{\"fillmode\":\"overlay\",\"size\":10,\"solidity\":0.2}},\"type\":\"histogram\"}],\"mesh3d\":[{\"colorbar\":{\"outlinewidth\":0,\"ticks\":\"\"},\"type\":\"mesh3d\"}],\"parcoords\":[{\"line\":{\"colorbar\":{\"outlinewidth\":0,\"ticks\":\"\"}},\"type\":\"parcoords\"}],\"pie\":[{\"automargin\":true,\"type\":\"pie\"}],\"scatter3d\":[{\"line\":{\"colorbar\":{\"outlinewidth\":0,\"ticks\":\"\"}},\"marker\":{\"colorbar\":{\"outlinewidth\":0,\"ticks\":\"\"}},\"type\":\"scatter3d\"}],\"scattercarpet\":[{\"marker\":{\"colorbar\":{\"outlinewidth\":0,\"ticks\":\"\"}},\"type\":\"scattercarpet\"}],\"scattergeo\":[{\"marker\":{\"colorbar\":{\"outlinewidth\":0,\"ticks\":\"\"}},\"type\":\"scattergeo\"}],\"scattergl\":[{\"marker\":{\"line\":{\"color\":\"#283442\"}},\"type\":\"scattergl\"}],\"scattermapbox\":[{\"marker\":{\"colorbar\":{\"outlinewidth\":0,\"ticks\":\"\"}},\"type\":\"scattermapbox\"}],\"scatterpolargl\":[{\"marker\":{\"colorbar\":{\"outlinewidth\":0,\"ticks\":\"\"}},\"type\":\"scatterpolargl\"}],\"scatterpolar\":[{\"marker\":{\"colorbar\":{\"outlinewidth\":0,\"ticks\":\"\"}},\"type\":\"scatterpolar\"}],\"scatter\":[{\"marker\":{\"line\":{\"color\":\"#283442\"}},\"type\":\"scatter\"}],\"scatterternary\":[{\"marker\":{\"colorbar\":{\"outlinewidth\":0,\"ticks\":\"\"}},\"type\":\"scatterternary\"}],\"surface\":[{\"colorbar\":{\"outlinewidth\":0,\"ticks\":\"\"},\"colorscale\":[[0.0,\"#0d0887\"],[0.1111111111111111,\"#46039f\"],[0.2222222222222222,\"#7201a8\"],[0.3333333333333333,\"#9c179e\"],[0.4444444444444444,\"#bd3786\"],[0.5555555555555556,\"#d8576b\"],[0.6666666666666666,\"#ed7953\"],[0.7777777777777778,\"#fb9f3a\"],[0.8888888888888888,\"#fdca26\"],[1.0,\"#f0f921\"]],\"type\":\"surface\"}],\"table\":[{\"cells\":{\"fill\":{\"color\":\"#506784\"},\"line\":{\"color\":\"rgb(17,17,17)\"}},\"header\":{\"fill\":{\"color\":\"#2a3f5f\"},\"line\":{\"color\":\"rgb(17,17,17)\"}},\"type\":\"table\"}]},\"layout\":{\"annotationdefaults\":{\"arrowcolor\":\"#f2f5fa\",\"arrowhead\":0,\"arrowwidth\":1},\"autotypenumbers\":\"strict\",\"coloraxis\":{\"colorbar\":{\"outlinewidth\":0,\"ticks\":\"\"}},\"colorscale\":{\"diverging\":[[0,\"#8e0152\"],[0.1,\"#c51b7d\"],[0.2,\"#de77ae\"],[0.3,\"#f1b6da\"],[0.4,\"#fde0ef\"],[0.5,\"#f7f7f7\"],[0.6,\"#e6f5d0\"],[0.7,\"#b8e186\"],[0.8,\"#7fbc41\"],[0.9,\"#4d9221\"],[1,\"#276419\"]],\"sequential\":[[0.0,\"#0d0887\"],[0.1111111111111111,\"#46039f\"],[0.2222222222222222,\"#7201a8\"],[0.3333333333333333,\"#9c179e\"],[0.4444444444444444,\"#bd3786\"],[0.5555555555555556,\"#d8576b\"],[0.6666666666666666,\"#ed7953\"],[0.7777777777777778,\"#fb9f3a\"],[0.8888888888888888,\"#fdca26\"],[1.0,\"#f0f921\"]],\"sequentialminus\":[[0.0,\"#0d0887\"],[0.1111111111111111,\"#46039f\"],[0.2222222222222222,\"#7201a8\"],[0.3333333333333333,\"#9c179e\"],[0.4444444444444444,\"#bd3786\"],[0.5555555555555556,\"#d8576b\"],[0.6666666666666666,\"#ed7953\"],[0.7777777777777778,\"#fb9f3a\"],[0.8888888888888888,\"#fdca26\"],[1.0,\"#f0f921\"]]},\"colorway\":[\"#636efa\",\"#EF553B\",\"#00cc96\",\"#ab63fa\",\"#FFA15A\",\"#19d3f3\",\"#FF6692\",\"#B6E880\",\"#FF97FF\",\"#FECB52\"],\"font\":{\"color\":\"#f2f5fa\"},\"geo\":{\"bgcolor\":\"rgb(17,17,17)\",\"lakecolor\":\"rgb(17,17,17)\",\"landcolor\":\"rgb(17,17,17)\",\"showlakes\":true,\"showland\":true,\"subunitcolor\":\"#506784\"},\"hoverlabel\":{\"align\":\"left\"},\"hovermode\":\"closest\",\"mapbox\":{\"style\":\"dark\"},\"paper_bgcolor\":\"rgb(17,17,17)\",\"plot_bgcolor\":\"rgb(17,17,17)\",\"polar\":{\"angularaxis\":{\"gridcolor\":\"#506784\",\"linecolor\":\"#506784\",\"ticks\":\"\"},\"bgcolor\":\"rgb(17,17,17)\",\"radialaxis\":{\"gridcolor\":\"#506784\",\"linecolor\":\"#506784\",\"ticks\":\"\"}},\"scene\":{\"xaxis\":{\"backgroundcolor\":\"rgb(17,17,17)\",\"gridcolor\":\"#506784\",\"gridwidth\":2,\"linecolor\":\"#506784\",\"showbackground\":true,\"ticks\":\"\",\"zerolinecolor\":\"#C8D4E3\"},\"yaxis\":{\"backgroundcolor\":\"rgb(17,17,17)\",\"gridcolor\":\"#506784\",\"gridwidth\":2,\"linecolor\":\"#506784\",\"showbackground\":true,\"ticks\":\"\",\"zerolinecolor\":\"#C8D4E3\"},\"zaxis\":{\"backgroundcolor\":\"rgb(17,17,17)\",\"gridcolor\":\"#506784\",\"gridwidth\":2,\"linecolor\":\"#506784\",\"showbackground\":true,\"ticks\":\"\",\"zerolinecolor\":\"#C8D4E3\"}},\"shapedefaults\":{\"line\":{\"color\":\"#f2f5fa\"}},\"sliderdefaults\":{\"bgcolor\":\"#C8D4E3\",\"bordercolor\":\"rgb(17,17,17)\",\"borderwidth\":1,\"tickwidth\":0},\"ternary\":{\"aaxis\":{\"gridcolor\":\"#506784\",\"linecolor\":\"#506784\",\"ticks\":\"\"},\"baxis\":{\"gridcolor\":\"#506784\",\"linecolor\":\"#506784\",\"ticks\":\"\"},\"bgcolor\":\"rgb(17,17,17)\",\"caxis\":{\"gridcolor\":\"#506784\",\"linecolor\":\"#506784\",\"ticks\":\"\"}},\"title\":{\"x\":0.05},\"updatemenudefaults\":{\"bgcolor\":\"#506784\",\"borderwidth\":0},\"xaxis\":{\"automargin\":true,\"gridcolor\":\"#283442\",\"linecolor\":\"#506784\",\"ticks\":\"\",\"title\":{\"standoff\":15},\"zerolinecolor\":\"#283442\",\"zerolinewidth\":2},\"yaxis\":{\"automargin\":true,\"gridcolor\":\"#283442\",\"linecolor\":\"#506784\",\"ticks\":\"\",\"title\":{\"standoff\":15},\"zerolinecolor\":\"#283442\",\"zerolinewidth\":2}}},\"xaxis\":{\"anchor\":\"y\",\"domain\":[0.0,1.0],\"title\":{\"text\":\"Data\"}},\"yaxis\":{\"anchor\":\"x\",\"domain\":[0.0,1.0],\"title\":{\"text\":\"Close\"}},\"legend\":{\"title\":{\"text\":\"Ticker\"},\"tracegroupgap\":0},\"margin\":{\"t\":60}},                        {\"responsive\": true}                    ).then(function(){\n",
       "                            \n",
       "var gd = document.getElementById('36adeaeb-f45c-47a5-8d0f-b70ac07bd112');\n",
       "var x = new MutationObserver(function (mutations, observer) {{\n",
       "        var display = window.getComputedStyle(gd).display;\n",
       "        if (!display || display === 'none') {{\n",
       "            console.log([gd, 'removed!']);\n",
       "            Plotly.purge(gd);\n",
       "            observer.disconnect();\n",
       "        }}\n",
       "}});\n",
       "\n",
       "// Listen for the removal of the full notebook cells\n",
       "var notebookContainer = gd.closest('#notebook-container');\n",
       "if (notebookContainer) {{\n",
       "    x.observe(notebookContainer, {childList: true});\n",
       "}}\n",
       "\n",
       "// Listen for the clearing of the current output cell\n",
       "var outputEl = gd.closest('.output');\n",
       "if (outputEl) {{\n",
       "    x.observe(outputEl, {childList: true});\n",
       "}}\n",
       "\n",
       "                        })                };                });            </script>        </div>"
      ]
     },
     "metadata": {},
     "output_type": "display_data"
    }
   ],
   "source": [
    "fig = px.line(data_frame=df_media_movel,\n",
    "              x='Data',\n",
    "              y='Close', \n",
    "              color='Ticker',\n",
    "              template='plotly_dark')\n",
    "fig.show()\n"
   ]
  },
  {
   "cell_type": "code",
   "execution_count": 649,
   "metadata": {
    "scrolled": true
   },
   "outputs": [
    {
     "data": {
      "application/vnd.plotly.v1+json": {
       "config": {
        "plotlyServerURL": "https://plot.ly"
       },
       "data": [
        {
         "hovertemplate": "ativo=MGLU3.SA<br>date=%{x}<br>valor=%{y}<extra></extra>",
         "legendgroup": "MGLU3.SA",
         "line": {
          "color": "#636efa",
          "dash": "solid"
         },
         "marker": {
          "symbol": "circle"
         },
         "mode": "lines",
         "name": "MGLU3.SA",
         "orientation": "v",
         "showlegend": true,
         "type": "scatter",
         "x": [
          "Close",
          "High",
          "Low",
          "Open",
          "Volume"
         ],
         "xaxis": "x",
         "y": [
          63.26516697957905,
          64.34494739309204,
          62.354625737267355,
          63.50294940107026,
          5909756.36612617
         ],
         "yaxis": "y"
        },
        {
         "hovertemplate": "ativo=MSFT<br>date=%{x}<br>valor=%{y}<extra></extra>",
         "legendgroup": "MSFT",
         "line": {
          "color": "#EF553B",
          "dash": "solid"
         },
         "marker": {
          "symbol": "circle"
         },
         "mode": "lines",
         "name": "MSFT",
         "orientation": "v",
         "showlegend": true,
         "type": "scatter",
         "x": [
          "Close",
          "High",
          "Low",
          "Open",
          "Volume"
         ],
         "xaxis": "x",
         "y": [
          30.766670585418215,
          31.01842762511453,
          30.622403324609753,
          30.909805202588245,
          3647895.4274276407
         ],
         "yaxis": "y"
        },
        {
         "hovertemplate": "ativo=NVDA<br>date=%{x}<br>valor=%{y}<extra></extra>",
         "legendgroup": "NVDA",
         "line": {
          "color": "#00cc96",
          "dash": "solid"
         },
         "marker": {
          "symbol": "circle"
         },
         "mode": "lines",
         "name": "NVDA",
         "orientation": "v",
         "showlegend": true,
         "type": "scatter",
         "x": [
          "Close",
          "High",
          "Low",
          "Open",
          "Volume"
         ],
         "xaxis": "x",
         "y": [
          9.279425202272108,
          9.428502503254203,
          9.149365201500727,
          9.306373768614542,
          79986889.5820656
         ],
         "yaxis": "y"
        }
       ],
       "layout": {
        "autosize": true,
        "legend": {
         "title": {
          "text": "ativo"
         },
         "tracegroupgap": 0
        },
        "margin": {
         "t": 60
        },
        "template": {
         "data": {
          "bar": [
           {
            "error_x": {
             "color": "#f2f5fa"
            },
            "error_y": {
             "color": "#f2f5fa"
            },
            "marker": {
             "line": {
              "color": "rgb(17,17,17)",
              "width": 0.5
             },
             "pattern": {
              "fillmode": "overlay",
              "size": 10,
              "solidity": 0.2
             }
            },
            "type": "bar"
           }
          ],
          "barpolar": [
           {
            "marker": {
             "line": {
              "color": "rgb(17,17,17)",
              "width": 0.5
             },
             "pattern": {
              "fillmode": "overlay",
              "size": 10,
              "solidity": 0.2
             }
            },
            "type": "barpolar"
           }
          ],
          "carpet": [
           {
            "aaxis": {
             "endlinecolor": "#A2B1C6",
             "gridcolor": "#506784",
             "linecolor": "#506784",
             "minorgridcolor": "#506784",
             "startlinecolor": "#A2B1C6"
            },
            "baxis": {
             "endlinecolor": "#A2B1C6",
             "gridcolor": "#506784",
             "linecolor": "#506784",
             "minorgridcolor": "#506784",
             "startlinecolor": "#A2B1C6"
            },
            "type": "carpet"
           }
          ],
          "choropleth": [
           {
            "colorbar": {
             "outlinewidth": 0,
             "ticks": ""
            },
            "type": "choropleth"
           }
          ],
          "contour": [
           {
            "colorbar": {
             "outlinewidth": 0,
             "ticks": ""
            },
            "colorscale": [
             [
              0,
              "#0d0887"
             ],
             [
              0.1111111111111111,
              "#46039f"
             ],
             [
              0.2222222222222222,
              "#7201a8"
             ],
             [
              0.3333333333333333,
              "#9c179e"
             ],
             [
              0.4444444444444444,
              "#bd3786"
             ],
             [
              0.5555555555555556,
              "#d8576b"
             ],
             [
              0.6666666666666666,
              "#ed7953"
             ],
             [
              0.7777777777777778,
              "#fb9f3a"
             ],
             [
              0.8888888888888888,
              "#fdca26"
             ],
             [
              1,
              "#f0f921"
             ]
            ],
            "type": "contour"
           }
          ],
          "contourcarpet": [
           {
            "colorbar": {
             "outlinewidth": 0,
             "ticks": ""
            },
            "type": "contourcarpet"
           }
          ],
          "heatmap": [
           {
            "colorbar": {
             "outlinewidth": 0,
             "ticks": ""
            },
            "colorscale": [
             [
              0,
              "#0d0887"
             ],
             [
              0.1111111111111111,
              "#46039f"
             ],
             [
              0.2222222222222222,
              "#7201a8"
             ],
             [
              0.3333333333333333,
              "#9c179e"
             ],
             [
              0.4444444444444444,
              "#bd3786"
             ],
             [
              0.5555555555555556,
              "#d8576b"
             ],
             [
              0.6666666666666666,
              "#ed7953"
             ],
             [
              0.7777777777777778,
              "#fb9f3a"
             ],
             [
              0.8888888888888888,
              "#fdca26"
             ],
             [
              1,
              "#f0f921"
             ]
            ],
            "type": "heatmap"
           }
          ],
          "heatmapgl": [
           {
            "colorbar": {
             "outlinewidth": 0,
             "ticks": ""
            },
            "colorscale": [
             [
              0,
              "#0d0887"
             ],
             [
              0.1111111111111111,
              "#46039f"
             ],
             [
              0.2222222222222222,
              "#7201a8"
             ],
             [
              0.3333333333333333,
              "#9c179e"
             ],
             [
              0.4444444444444444,
              "#bd3786"
             ],
             [
              0.5555555555555556,
              "#d8576b"
             ],
             [
              0.6666666666666666,
              "#ed7953"
             ],
             [
              0.7777777777777778,
              "#fb9f3a"
             ],
             [
              0.8888888888888888,
              "#fdca26"
             ],
             [
              1,
              "#f0f921"
             ]
            ],
            "type": "heatmapgl"
           }
          ],
          "histogram": [
           {
            "marker": {
             "pattern": {
              "fillmode": "overlay",
              "size": 10,
              "solidity": 0.2
             }
            },
            "type": "histogram"
           }
          ],
          "histogram2d": [
           {
            "colorbar": {
             "outlinewidth": 0,
             "ticks": ""
            },
            "colorscale": [
             [
              0,
              "#0d0887"
             ],
             [
              0.1111111111111111,
              "#46039f"
             ],
             [
              0.2222222222222222,
              "#7201a8"
             ],
             [
              0.3333333333333333,
              "#9c179e"
             ],
             [
              0.4444444444444444,
              "#bd3786"
             ],
             [
              0.5555555555555556,
              "#d8576b"
             ],
             [
              0.6666666666666666,
              "#ed7953"
             ],
             [
              0.7777777777777778,
              "#fb9f3a"
             ],
             [
              0.8888888888888888,
              "#fdca26"
             ],
             [
              1,
              "#f0f921"
             ]
            ],
            "type": "histogram2d"
           }
          ],
          "histogram2dcontour": [
           {
            "colorbar": {
             "outlinewidth": 0,
             "ticks": ""
            },
            "colorscale": [
             [
              0,
              "#0d0887"
             ],
             [
              0.1111111111111111,
              "#46039f"
             ],
             [
              0.2222222222222222,
              "#7201a8"
             ],
             [
              0.3333333333333333,
              "#9c179e"
             ],
             [
              0.4444444444444444,
              "#bd3786"
             ],
             [
              0.5555555555555556,
              "#d8576b"
             ],
             [
              0.6666666666666666,
              "#ed7953"
             ],
             [
              0.7777777777777778,
              "#fb9f3a"
             ],
             [
              0.8888888888888888,
              "#fdca26"
             ],
             [
              1,
              "#f0f921"
             ]
            ],
            "type": "histogram2dcontour"
           }
          ],
          "mesh3d": [
           {
            "colorbar": {
             "outlinewidth": 0,
             "ticks": ""
            },
            "type": "mesh3d"
           }
          ],
          "parcoords": [
           {
            "line": {
             "colorbar": {
              "outlinewidth": 0,
              "ticks": ""
             }
            },
            "type": "parcoords"
           }
          ],
          "pie": [
           {
            "automargin": true,
            "type": "pie"
           }
          ],
          "scatter": [
           {
            "marker": {
             "line": {
              "color": "#283442"
             }
            },
            "type": "scatter"
           }
          ],
          "scatter3d": [
           {
            "line": {
             "colorbar": {
              "outlinewidth": 0,
              "ticks": ""
             }
            },
            "marker": {
             "colorbar": {
              "outlinewidth": 0,
              "ticks": ""
             }
            },
            "type": "scatter3d"
           }
          ],
          "scattercarpet": [
           {
            "marker": {
             "colorbar": {
              "outlinewidth": 0,
              "ticks": ""
             }
            },
            "type": "scattercarpet"
           }
          ],
          "scattergeo": [
           {
            "marker": {
             "colorbar": {
              "outlinewidth": 0,
              "ticks": ""
             }
            },
            "type": "scattergeo"
           }
          ],
          "scattergl": [
           {
            "marker": {
             "line": {
              "color": "#283442"
             }
            },
            "type": "scattergl"
           }
          ],
          "scattermapbox": [
           {
            "marker": {
             "colorbar": {
              "outlinewidth": 0,
              "ticks": ""
             }
            },
            "type": "scattermapbox"
           }
          ],
          "scatterpolar": [
           {
            "marker": {
             "colorbar": {
              "outlinewidth": 0,
              "ticks": ""
             }
            },
            "type": "scatterpolar"
           }
          ],
          "scatterpolargl": [
           {
            "marker": {
             "colorbar": {
              "outlinewidth": 0,
              "ticks": ""
             }
            },
            "type": "scatterpolargl"
           }
          ],
          "scatterternary": [
           {
            "marker": {
             "colorbar": {
              "outlinewidth": 0,
              "ticks": ""
             }
            },
            "type": "scatterternary"
           }
          ],
          "surface": [
           {
            "colorbar": {
             "outlinewidth": 0,
             "ticks": ""
            },
            "colorscale": [
             [
              0,
              "#0d0887"
             ],
             [
              0.1111111111111111,
              "#46039f"
             ],
             [
              0.2222222222222222,
              "#7201a8"
             ],
             [
              0.3333333333333333,
              "#9c179e"
             ],
             [
              0.4444444444444444,
              "#bd3786"
             ],
             [
              0.5555555555555556,
              "#d8576b"
             ],
             [
              0.6666666666666666,
              "#ed7953"
             ],
             [
              0.7777777777777778,
              "#fb9f3a"
             ],
             [
              0.8888888888888888,
              "#fdca26"
             ],
             [
              1,
              "#f0f921"
             ]
            ],
            "type": "surface"
           }
          ],
          "table": [
           {
            "cells": {
             "fill": {
              "color": "#506784"
             },
             "line": {
              "color": "rgb(17,17,17)"
             }
            },
            "header": {
             "fill": {
              "color": "#2a3f5f"
             },
             "line": {
              "color": "rgb(17,17,17)"
             }
            },
            "type": "table"
           }
          ]
         },
         "layout": {
          "annotationdefaults": {
           "arrowcolor": "#f2f5fa",
           "arrowhead": 0,
           "arrowwidth": 1
          },
          "autotypenumbers": "strict",
          "coloraxis": {
           "colorbar": {
            "outlinewidth": 0,
            "ticks": ""
           }
          },
          "colorscale": {
           "diverging": [
            [
             0,
             "#8e0152"
            ],
            [
             0.1,
             "#c51b7d"
            ],
            [
             0.2,
             "#de77ae"
            ],
            [
             0.3,
             "#f1b6da"
            ],
            [
             0.4,
             "#fde0ef"
            ],
            [
             0.5,
             "#f7f7f7"
            ],
            [
             0.6,
             "#e6f5d0"
            ],
            [
             0.7,
             "#b8e186"
            ],
            [
             0.8,
             "#7fbc41"
            ],
            [
             0.9,
             "#4d9221"
            ],
            [
             1,
             "#276419"
            ]
           ],
           "sequential": [
            [
             0,
             "#0d0887"
            ],
            [
             0.1111111111111111,
             "#46039f"
            ],
            [
             0.2222222222222222,
             "#7201a8"
            ],
            [
             0.3333333333333333,
             "#9c179e"
            ],
            [
             0.4444444444444444,
             "#bd3786"
            ],
            [
             0.5555555555555556,
             "#d8576b"
            ],
            [
             0.6666666666666666,
             "#ed7953"
            ],
            [
             0.7777777777777778,
             "#fb9f3a"
            ],
            [
             0.8888888888888888,
             "#fdca26"
            ],
            [
             1,
             "#f0f921"
            ]
           ],
           "sequentialminus": [
            [
             0,
             "#0d0887"
            ],
            [
             0.1111111111111111,
             "#46039f"
            ],
            [
             0.2222222222222222,
             "#7201a8"
            ],
            [
             0.3333333333333333,
             "#9c179e"
            ],
            [
             0.4444444444444444,
             "#bd3786"
            ],
            [
             0.5555555555555556,
             "#d8576b"
            ],
            [
             0.6666666666666666,
             "#ed7953"
            ],
            [
             0.7777777777777778,
             "#fb9f3a"
            ],
            [
             0.8888888888888888,
             "#fdca26"
            ],
            [
             1,
             "#f0f921"
            ]
           ]
          },
          "colorway": [
           "#636efa",
           "#EF553B",
           "#00cc96",
           "#ab63fa",
           "#FFA15A",
           "#19d3f3",
           "#FF6692",
           "#B6E880",
           "#FF97FF",
           "#FECB52"
          ],
          "font": {
           "color": "#f2f5fa"
          },
          "geo": {
           "bgcolor": "rgb(17,17,17)",
           "lakecolor": "rgb(17,17,17)",
           "landcolor": "rgb(17,17,17)",
           "showlakes": true,
           "showland": true,
           "subunitcolor": "#506784"
          },
          "hoverlabel": {
           "align": "left"
          },
          "hovermode": "closest",
          "mapbox": {
           "style": "dark"
          },
          "paper_bgcolor": "rgb(17,17,17)",
          "plot_bgcolor": "rgb(17,17,17)",
          "polar": {
           "angularaxis": {
            "gridcolor": "#506784",
            "linecolor": "#506784",
            "ticks": ""
           },
           "bgcolor": "rgb(17,17,17)",
           "radialaxis": {
            "gridcolor": "#506784",
            "linecolor": "#506784",
            "ticks": ""
           }
          },
          "scene": {
           "xaxis": {
            "backgroundcolor": "rgb(17,17,17)",
            "gridcolor": "#506784",
            "gridwidth": 2,
            "linecolor": "#506784",
            "showbackground": true,
            "ticks": "",
            "zerolinecolor": "#C8D4E3"
           },
           "yaxis": {
            "backgroundcolor": "rgb(17,17,17)",
            "gridcolor": "#506784",
            "gridwidth": 2,
            "linecolor": "#506784",
            "showbackground": true,
            "ticks": "",
            "zerolinecolor": "#C8D4E3"
           },
           "zaxis": {
            "backgroundcolor": "rgb(17,17,17)",
            "gridcolor": "#506784",
            "gridwidth": 2,
            "linecolor": "#506784",
            "showbackground": true,
            "ticks": "",
            "zerolinecolor": "#C8D4E3"
           }
          },
          "shapedefaults": {
           "line": {
            "color": "#f2f5fa"
           }
          },
          "sliderdefaults": {
           "bgcolor": "#C8D4E3",
           "bordercolor": "rgb(17,17,17)",
           "borderwidth": 1,
           "tickwidth": 0
          },
          "ternary": {
           "aaxis": {
            "gridcolor": "#506784",
            "linecolor": "#506784",
            "ticks": ""
           },
           "baxis": {
            "gridcolor": "#506784",
            "linecolor": "#506784",
            "ticks": ""
           },
           "bgcolor": "rgb(17,17,17)",
           "caxis": {
            "gridcolor": "#506784",
            "linecolor": "#506784",
            "ticks": ""
           }
          },
          "title": {
           "x": 0.05
          },
          "updatemenudefaults": {
           "bgcolor": "#506784",
           "borderwidth": 0
          },
          "xaxis": {
           "automargin": true,
           "gridcolor": "#283442",
           "linecolor": "#506784",
           "ticks": "",
           "title": {
            "standoff": 15
           },
           "zerolinecolor": "#283442",
           "zerolinewidth": 2
          },
          "yaxis": {
           "automargin": true,
           "gridcolor": "#283442",
           "linecolor": "#506784",
           "ticks": "",
           "title": {
            "standoff": 15
           },
           "zerolinecolor": "#283442",
           "zerolinewidth": 2
          }
         }
        },
        "xaxis": {
         "anchor": "y",
         "autorange": true,
         "domain": [
          0,
          1
         ],
         "range": [
          0,
          4
         ],
         "title": {
          "text": "date"
         },
         "type": "category"
        },
        "yaxis": {
         "anchor": "x",
         "autorange": true,
         "domain": [
          0,
          1
         ],
         "range": [
          -4443706.430229264,
          84430605.16166006
         ],
         "title": {
          "text": "valor"
         },
         "type": "linear"
        }
       }
      },
      "image/png": "[encoded data removed]",
      "text/html": [
       "<div>                            <div id=\"36983787-7e69-42f6-8983-ff57a0ce2950\" class=\"plotly-graph-div\" style=\"height:525px; width:100%;\"></div>            <script type=\"text/javascript\">                require([\"plotly\"], function(Plotly) {                    window.PLOTLYENV=window.PLOTLYENV || {};                                    if (document.getElementById(\"36983787-7e69-42f6-8983-ff57a0ce2950\")) {                    Plotly.newPlot(                        \"36983787-7e69-42f6-8983-ff57a0ce2950\",                        [{\"hovertemplate\":\"ativo=MGLU3.SA\\u003cbr\\u003edate=%{x}\\u003cbr\\u003evalor=%{y}\\u003cextra\\u003e\\u003c\\u002fextra\\u003e\",\"legendgroup\":\"MGLU3.SA\",\"line\":{\"color\":\"#636efa\",\"dash\":\"solid\"},\"marker\":{\"symbol\":\"circle\"},\"mode\":\"lines\",\"name\":\"MGLU3.SA\",\"orientation\":\"v\",\"showlegend\":true,\"x\":[\"Close\",\"High\",\"Low\",\"Open\",\"Volume\"],\"xaxis\":\"x\",\"y\":[63.26516697957905,64.34494739309204,62.354625737267355,63.50294940107026,5909756.36612617],\"yaxis\":\"y\",\"type\":\"scatter\"},{\"hovertemplate\":\"ativo=MSFT\\u003cbr\\u003edate=%{x}\\u003cbr\\u003evalor=%{y}\\u003cextra\\u003e\\u003c\\u002fextra\\u003e\",\"legendgroup\":\"MSFT\",\"line\":{\"color\":\"#EF553B\",\"dash\":\"solid\"},\"marker\":{\"symbol\":\"circle\"},\"mode\":\"lines\",\"name\":\"MSFT\",\"orientation\":\"v\",\"showlegend\":true,\"x\":[\"Close\",\"High\",\"Low\",\"Open\",\"Volume\"],\"xaxis\":\"x\",\"y\":[30.766670585418215,31.01842762511453,30.622403324609753,30.909805202588245,3647895.4274276407],\"yaxis\":\"y\",\"type\":\"scatter\"},{\"hovertemplate\":\"ativo=NVDA\\u003cbr\\u003edate=%{x}\\u003cbr\\u003evalor=%{y}\\u003cextra\\u003e\\u003c\\u002fextra\\u003e\",\"legendgroup\":\"NVDA\",\"line\":{\"color\":\"#00cc96\",\"dash\":\"solid\"},\"marker\":{\"symbol\":\"circle\"},\"mode\":\"lines\",\"name\":\"NVDA\",\"orientation\":\"v\",\"showlegend\":true,\"x\":[\"Close\",\"High\",\"Low\",\"Open\",\"Volume\"],\"xaxis\":\"x\",\"y\":[9.279425202272108,9.428502503254203,9.149365201500727,9.306373768614542,79986889.5820656],\"yaxis\":\"y\",\"type\":\"scatter\"}],                        {\"template\":{\"data\":{\"barpolar\":[{\"marker\":{\"line\":{\"color\":\"rgb(17,17,17)\",\"width\":0.5},\"pattern\":{\"fillmode\":\"overlay\",\"size\":10,\"solidity\":0.2}},\"type\":\"barpolar\"}],\"bar\":[{\"error_x\":{\"color\":\"#f2f5fa\"},\"error_y\":{\"color\":\"#f2f5fa\"},\"marker\":{\"line\":{\"color\":\"rgb(17,17,17)\",\"width\":0.5},\"pattern\":{\"fillmode\":\"overlay\",\"size\":10,\"solidity\":0.2}},\"type\":\"bar\"}],\"carpet\":[{\"aaxis\":{\"endlinecolor\":\"#A2B1C6\",\"gridcolor\":\"#506784\",\"linecolor\":\"#506784\",\"minorgridcolor\":\"#506784\",\"startlinecolor\":\"#A2B1C6\"},\"baxis\":{\"endlinecolor\":\"#A2B1C6\",\"gridcolor\":\"#506784\",\"linecolor\":\"#506784\",\"minorgridcolor\":\"#506784\",\"startlinecolor\":\"#A2B1C6\"},\"type\":\"carpet\"}],\"choropleth\":[{\"colorbar\":{\"outlinewidth\":0,\"ticks\":\"\"},\"type\":\"choropleth\"}],\"contourcarpet\":[{\"colorbar\":{\"outlinewidth\":0,\"ticks\":\"\"},\"type\":\"contourcarpet\"}],\"contour\":[{\"colorbar\":{\"outlinewidth\":0,\"ticks\":\"\"},\"colorscale\":[[0.0,\"#0d0887\"],[0.1111111111111111,\"#46039f\"],[0.2222222222222222,\"#7201a8\"],[0.3333333333333333,\"#9c179e\"],[0.4444444444444444,\"#bd3786\"],[0.5555555555555556,\"#d8576b\"],[0.6666666666666666,\"#ed7953\"],[0.7777777777777778,\"#fb9f3a\"],[0.8888888888888888,\"#fdca26\"],[1.0,\"#f0f921\"]],\"type\":\"contour\"}],\"heatmapgl\":[{\"colorbar\":{\"outlinewidth\":0,\"ticks\":\"\"},\"colorscale\":[[0.0,\"#0d0887\"],[0.1111111111111111,\"#46039f\"],[0.2222222222222222,\"#7201a8\"],[0.3333333333333333,\"#9c179e\"],[0.4444444444444444,\"#bd3786\"],[0.5555555555555556,\"#d8576b\"],[0.6666666666666666,\"#ed7953\"],[0.7777777777777778,\"#fb9f3a\"],[0.8888888888888888,\"#fdca26\"],[1.0,\"#f0f921\"]],\"type\":\"heatmapgl\"}],\"heatmap\":[{\"colorbar\":{\"outlinewidth\":0,\"ticks\":\"\"},\"colorscale\":[[0.0,\"#0d0887\"],[0.1111111111111111,\"#46039f\"],[0.2222222222222222,\"#7201a8\"],[0.3333333333333333,\"#9c179e\"],[0.4444444444444444,\"#bd3786\"],[0.5555555555555556,\"#d8576b\"],[0.6666666666666666,\"#ed7953\"],[0.7777777777777778,\"#fb9f3a\"],[0.8888888888888888,\"#fdca26\"],[1.0,\"#f0f921\"]],\"type\":\"heatmap\"}],\"histogram2dcontour\":[{\"colorbar\":{\"outlinewidth\":0,\"ticks\":\"\"},\"colorscale\":[[0.0,\"#0d0887\"],[0.1111111111111111,\"#46039f\"],[0.2222222222222222,\"#7201a8\"],[0.3333333333333333,\"#9c179e\"],[0.4444444444444444,\"#bd3786\"],[0.5555555555555556,\"#d8576b\"],[0.6666666666666666,\"#ed7953\"],[0.7777777777777778,\"#fb9f3a\"],[0.8888888888888888,\"#fdca26\"],[1.0,\"#f0f921\"]],\"type\":\"histogram2dcontour\"}],\"histogram2d\":[{\"colorbar\":{\"outlinewidth\":0,\"ticks\":\"\"},\"colorscale\":[[0.0,\"#0d0887\"],[0.1111111111111111,\"#46039f\"],[0.2222222222222222,\"#7201a8\"],[0.3333333333333333,\"#9c179e\"],[0.4444444444444444,\"#bd3786\"],[0.5555555555555556,\"#d8576b\"],[0.6666666666666666,\"#ed7953\"],[0.7777777777777778,\"#fb9f3a\"],[0.8888888888888888,\"#fdca26\"],[1.0,\"#f0f921\"]],\"type\":\"histogram2d\"}],\"histogram\":[{\"marker\":{\"pattern\":{\"fillmode\":\"overlay\",\"size\":10,\"solidity\":0.2}},\"type\":\"histogram\"}],\"mesh3d\":[{\"colorbar\":{\"outlinewidth\":0,\"ticks\":\"\"},\"type\":\"mesh3d\"}],\"parcoords\":[{\"line\":{\"colorbar\":{\"outlinewidth\":0,\"ticks\":\"\"}},\"type\":\"parcoords\"}],\"pie\":[{\"automargin\":true,\"type\":\"pie\"}],\"scatter3d\":[{\"line\":{\"colorbar\":{\"outlinewidth\":0,\"ticks\":\"\"}},\"marker\":{\"colorbar\":{\"outlinewidth\":0,\"ticks\":\"\"}},\"type\":\"scatter3d\"}],\"scattercarpet\":[{\"marker\":{\"colorbar\":{\"outlinewidth\":0,\"ticks\":\"\"}},\"type\":\"scattercarpet\"}],\"scattergeo\":[{\"marker\":{\"colorbar\":{\"outlinewidth\":0,\"ticks\":\"\"}},\"type\":\"scattergeo\"}],\"scattergl\":[{\"marker\":{\"line\":{\"color\":\"#283442\"}},\"type\":\"scattergl\"}],\"scattermapbox\":[{\"marker\":{\"colorbar\":{\"outlinewidth\":0,\"ticks\":\"\"}},\"type\":\"scattermapbox\"}],\"scatterpolargl\":[{\"marker\":{\"colorbar\":{\"outlinewidth\":0,\"ticks\":\"\"}},\"type\":\"scatterpolargl\"}],\"scatterpolar\":[{\"marker\":{\"colorbar\":{\"outlinewidth\":0,\"ticks\":\"\"}},\"type\":\"scatterpolar\"}],\"scatter\":[{\"marker\":{\"line\":{\"color\":\"#283442\"}},\"type\":\"scatter\"}],\"scatterternary\":[{\"marker\":{\"colorbar\":{\"outlinewidth\":0,\"ticks\":\"\"}},\"type\":\"scatterternary\"}],\"surface\":[{\"colorbar\":{\"outlinewidth\":0,\"ticks\":\"\"},\"colorscale\":[[0.0,\"#0d0887\"],[0.1111111111111111,\"#46039f\"],[0.2222222222222222,\"#7201a8\"],[0.3333333333333333,\"#9c179e\"],[0.4444444444444444,\"#bd3786\"],[0.5555555555555556,\"#d8576b\"],[0.6666666666666666,\"#ed7953\"],[0.7777777777777778,\"#fb9f3a\"],[0.8888888888888888,\"#fdca26\"],[1.0,\"#f0f921\"]],\"type\":\"surface\"}],\"table\":[{\"cells\":{\"fill\":{\"color\":\"#506784\"},\"line\":{\"color\":\"rgb(17,17,17)\"}},\"header\":{\"fill\":{\"color\":\"#2a3f5f\"},\"line\":{\"color\":\"rgb(17,17,17)\"}},\"type\":\"table\"}]},\"layout\":{\"annotationdefaults\":{\"arrowcolor\":\"#f2f5fa\",\"arrowhead\":0,\"arrowwidth\":1},\"autotypenumbers\":\"strict\",\"coloraxis\":{\"colorbar\":{\"outlinewidth\":0,\"ticks\":\"\"}},\"colorscale\":{\"diverging\":[[0,\"#8e0152\"],[0.1,\"#c51b7d\"],[0.2,\"#de77ae\"],[0.3,\"#f1b6da\"],[0.4,\"#fde0ef\"],[0.5,\"#f7f7f7\"],[0.6,\"#e6f5d0\"],[0.7,\"#b8e186\"],[0.8,\"#7fbc41\"],[0.9,\"#4d9221\"],[1,\"#276419\"]],\"sequential\":[[0.0,\"#0d0887\"],[0.1111111111111111,\"#46039f\"],[0.2222222222222222,\"#7201a8\"],[0.3333333333333333,\"#9c179e\"],[0.4444444444444444,\"#bd3786\"],[0.5555555555555556,\"#d8576b\"],[0.6666666666666666,\"#ed7953\"],[0.7777777777777778,\"#fb9f3a\"],[0.8888888888888888,\"#fdca26\"],[1.0,\"#f0f921\"]],\"sequentialminus\":[[0.0,\"#0d0887\"],[0.1111111111111111,\"#46039f\"],[0.2222222222222222,\"#7201a8\"],[0.3333333333333333,\"#9c179e\"],[0.4444444444444444,\"#bd3786\"],[0.5555555555555556,\"#d8576b\"],[0.6666666666666666,\"#ed7953\"],[0.7777777777777778,\"#fb9f3a\"],[0.8888888888888888,\"#fdca26\"],[1.0,\"#f0f921\"]]},\"colorway\":[\"#636efa\",\"#EF553B\",\"#00cc96\",\"#ab63fa\",\"#FFA15A\",\"#19d3f3\",\"#FF6692\",\"#B6E880\",\"#FF97FF\",\"#FECB52\"],\"font\":{\"color\":\"#f2f5fa\"},\"geo\":{\"bgcolor\":\"rgb(17,17,17)\",\"lakecolor\":\"rgb(17,17,17)\",\"landcolor\":\"rgb(17,17,17)\",\"showlakes\":true,\"showland\":true,\"subunitcolor\":\"#506784\"},\"hoverlabel\":{\"align\":\"left\"},\"hovermode\":\"closest\",\"mapbox\":{\"style\":\"dark\"},\"paper_bgcolor\":\"rgb(17,17,17)\",\"plot_bgcolor\":\"rgb(17,17,17)\",\"polar\":{\"angularaxis\":{\"gridcolor\":\"#506784\",\"linecolor\":\"#506784\",\"ticks\":\"\"},\"bgcolor\":\"rgb(17,17,17)\",\"radialaxis\":{\"gridcolor\":\"#506784\",\"linecolor\":\"#506784\",\"ticks\":\"\"}},\"scene\":{\"xaxis\":{\"backgroundcolor\":\"rgb(17,17,17)\",\"gridcolor\":\"#506784\",\"gridwidth\":2,\"linecolor\":\"#506784\",\"showbackground\":true,\"ticks\":\"\",\"zerolinecolor\":\"#C8D4E3\"},\"yaxis\":{\"backgroundcolor\":\"rgb(17,17,17)\",\"gridcolor\":\"#506784\",\"gridwidth\":2,\"linecolor\":\"#506784\",\"showbackground\":true,\"ticks\":\"\",\"zerolinecolor\":\"#C8D4E3\"},\"zaxis\":{\"backgroundcolor\":\"rgb(17,17,17)\",\"gridcolor\":\"#506784\",\"gridwidth\":2,\"linecolor\":\"#506784\",\"showbackground\":true,\"ticks\":\"\",\"zerolinecolor\":\"#C8D4E3\"}},\"shapedefaults\":{\"line\":{\"color\":\"#f2f5fa\"}},\"sliderdefaults\":{\"bgcolor\":\"#C8D4E3\",\"bordercolor\":\"rgb(17,17,17)\",\"borderwidth\":1,\"tickwidth\":0},\"ternary\":{\"aaxis\":{\"gridcolor\":\"#506784\",\"linecolor\":\"#506784\",\"ticks\":\"\"},\"baxis\":{\"gridcolor\":\"#506784\",\"linecolor\":\"#506784\",\"ticks\":\"\"},\"bgcolor\":\"rgb(17,17,17)\",\"caxis\":{\"gridcolor\":\"#506784\",\"linecolor\":\"#506784\",\"ticks\":\"\"}},\"title\":{\"x\":0.05},\"updatemenudefaults\":{\"bgcolor\":\"#506784\",\"borderwidth\":0},\"xaxis\":{\"automargin\":true,\"gridcolor\":\"#283442\",\"linecolor\":\"#506784\",\"ticks\":\"\",\"title\":{\"standoff\":15},\"zerolinecolor\":\"#283442\",\"zerolinewidth\":2},\"yaxis\":{\"automargin\":true,\"gridcolor\":\"#283442\",\"linecolor\":\"#506784\",\"ticks\":\"\",\"title\":{\"standoff\":15},\"zerolinecolor\":\"#283442\",\"zerolinewidth\":2}}},\"xaxis\":{\"anchor\":\"y\",\"domain\":[0.0,1.0],\"title\":{\"text\":\"date\"}},\"yaxis\":{\"anchor\":\"x\",\"domain\":[0.0,1.0],\"title\":{\"text\":\"valor\"}},\"legend\":{\"title\":{\"text\":\"ativo\"},\"tracegroupgap\":0},\"margin\":{\"t\":60}},                        {\"responsive\": true}                    ).then(function(){\n",
       "                            \n",
       "var gd = document.getElementById('36983787-7e69-42f6-8983-ff57a0ce2950');\n",
       "var x = new MutationObserver(function (mutations, observer) {{\n",
       "        var display = window.getComputedStyle(gd).display;\n",
       "        if (!display || display === 'none') {{\n",
       "            console.log([gd, 'removed!']);\n",
       "            Plotly.purge(gd);\n",
       "            observer.disconnect();\n",
       "        }}\n",
       "}});\n",
       "\n",
       "// Listen for the removal of the full notebook cells\n",
       "var notebookContainer = gd.closest('#notebook-container');\n",
       "if (notebookContainer) {{\n",
       "    x.observe(notebookContainer, {childList: true});\n",
       "}}\n",
       "\n",
       "// Listen for the clearing of the current output cell\n",
       "var outputEl = gd.closest('.output');\n",
       "if (outputEl) {{\n",
       "    x.observe(outputEl, {childList: true});\n",
       "}}\n",
       "\n",
       "                        })                };                });            </script>        </div>"
      ]
     },
     "metadata": {},
     "output_type": "display_data"
    }
   ],
   "source": [
    "df_std_adjclose = df_mw.std().reset_index()  \n",
    "df_std_adjclose.columns = ['date','ativo', 'valor'] \n",
    "\n",
    "fig = px.line(data_frame=df_std_adjclose,\n",
    "              x='date', \n",
    "              y='valor',\n",
    "              color='ativo',\n",
    "              template='plotly_dark')\n",
    "fig.show()"
   ]
  },
  {
   "cell_type": "markdown",
   "metadata": {},
   "source": [
    "Podemos verificar que ambos os gráficos mostram períodos parecidos de maior variação nos preços dos ativos. As oscilações seguem um padrão semelhante, indicando que os momentos de maior volatilidade são consistentes entre as análises."
   ]
  },
  {
   "cell_type": "markdown",
   "metadata": {},
   "source": [
    "#### 3. Gráfico de *candlestick*\n",
    "1. Selecione o período dos últimos 60 dias (corridos) para um dos ativos da sua base\n",
    "2. Monte um gráfico de *candlestick* para esses dados."
   ]
  },
  {
   "cell_type": "code",
   "execution_count": 512,
   "metadata": {},
   "outputs": [
    {
     "data": {
      "text/html": [
       "<div>\n",
       "<style scoped>\n",
       "    .dataframe tbody tr th:only-of-type {\n",
       "        vertical-align: middle;\n",
       "    }\n",
       "\n",
       "    .dataframe tbody tr th {\n",
       "        vertical-align: top;\n",
       "    }\n",
       "\n",
       "    .dataframe thead th {\n",
       "        text-align: right;\n",
       "    }\n",
       "</style>\n",
       "<table border=\"1\" class=\"dataframe\">\n",
       "  <thead>\n",
       "    <tr style=\"text-align: right;\">\n",
       "      <th>Price</th>\n",
       "      <th>Close</th>\n",
       "      <th>High</th>\n",
       "      <th>Low</th>\n",
       "      <th>Open</th>\n",
       "      <th>Volume</th>\n",
       "    </tr>\n",
       "    <tr>\n",
       "      <th>Date</th>\n",
       "      <th></th>\n",
       "      <th></th>\n",
       "      <th></th>\n",
       "      <th></th>\n",
       "      <th></th>\n",
       "    </tr>\n",
       "  </thead>\n",
       "  <tbody>\n",
       "    <tr>\n",
       "      <th>2023-09-29</th>\n",
       "      <td>312.771545</td>\n",
       "      <td>316.456456</td>\n",
       "      <td>312.008820</td>\n",
       "      <td>314.752680</td>\n",
       "      <td>24140300.0</td>\n",
       "    </tr>\n",
       "    <tr>\n",
       "      <th>2023-10-02</th>\n",
       "      <td>318.764526</td>\n",
       "      <td>318.853704</td>\n",
       "      <td>312.206976</td>\n",
       "      <td>313.296606</td>\n",
       "      <td>20570000.0</td>\n",
       "    </tr>\n",
       "    <tr>\n",
       "      <th>2023-10-03</th>\n",
       "      <td>310.433838</td>\n",
       "      <td>318.358375</td>\n",
       "      <td>308.274379</td>\n",
       "      <td>317.803629</td>\n",
       "      <td>21033500.0</td>\n",
       "    </tr>\n",
       "    <tr>\n",
       "      <th>2023-10-04</th>\n",
       "      <td>315.951294</td>\n",
       "      <td>317.021123</td>\n",
       "      <td>311.038089</td>\n",
       "      <td>311.067805</td>\n",
       "      <td>20720100.0</td>\n",
       "    </tr>\n",
       "    <tr>\n",
       "      <th>2023-10-05</th>\n",
       "      <td>316.347473</td>\n",
       "      <td>316.961650</td>\n",
       "      <td>311.929553</td>\n",
       "      <td>316.080031</td>\n",
       "      <td>16965600.0</td>\n",
       "    </tr>\n",
       "  </tbody>\n",
       "</table>\n",
       "</div>"
      ],
      "text/plain": [
       "Price            Close        High         Low        Open      Volume\n",
       "Date                                                                  \n",
       "2023-09-29  312.771545  316.456456  312.008820  314.752680  24140300.0\n",
       "2023-10-02  318.764526  318.853704  312.206976  313.296606  20570000.0\n",
       "2023-10-03  310.433838  318.358375  308.274379  317.803629  21033500.0\n",
       "2023-10-04  315.951294  317.021123  311.038089  311.067805  20720100.0\n",
       "2023-10-05  316.347473  316.961650  311.929553  316.080031  16965600.0"
      ]
     },
     "execution_count": 512,
     "metadata": {},
     "output_type": "execute_result"
    }
   ],
   "source": [
    "df_60 = df.xs(key='MSFT', level=1, axis=1).tail(n=60)\n",
    "df_60.head()"
   ]
  },
  {
   "cell_type": "code",
   "execution_count": 514,
   "metadata": {},
   "outputs": [
    {
     "data": {
      "application/vnd.plotly.v1+json": {
       "config": {
        "plotlyServerURL": "https://plot.ly"
       },
       "data": [
        {
         "close": [
          312.77154541015625,
          318.7645263671875,
          310.433837890625,
          315.9512939453125,
          316.34747314453125,
          324.1730041503906,
          326.7088317871094,
          325.2923583984375,
          329.2843322753906,
          324.6385803222656,
          329.5022277832031,
          328.9277038574219,
          326.99609375,
          328.1947021484375,
          323.58856201171875,
          326.2135314941406,
          327.412109375,
          337.4565124511719,
          324.79705810546875,
          326.6989440917969,
          334.1282043457031,
          334.920654296875,
          342.8055725097656,
          349.47210693359375,
          353.1669006347656,
          357.1291809082031,
          359.7740173339844,
          357.2876281738281,
          366.1829528808594,
          363.2210998535156,
          366.77728271484375,
          373.3779602050781,
          367.1047973632813,
          374.6384887695313,
          370.3009643554687,
          375.0454406738281,
          374.6285705566406,
          375.7998046875,
          379.8594665527344,
          376.03802490234375,
          376.0975646972656,
          371.7302551269531,
          366.4000854492187,
          369.7550048828125,
          366.0625915527344,
          368.1966857910156,
          371.4523315429687,
          368.5440673828125,
          371.6012268066406,
          371.59124755859375,
          363.21392822265625,
          367.9783325195313,
          369.884033203125,
          370.489501953125,
          367.8691101074219,
          370.7674255371094,
          371.79974365234375,
          371.8791198730469,
          371.29351806640625,
          372.4945068359375
         ],
         "high": [
          316.4564560379535,
          318.8537040211105,
          318.3583746883624,
          317.02112341032625,
          316.961650097937,
          326.084791429699,
          327.1842846242437,
          327.976786889985,
          329.6805530737714,
          330.6810157045469,
          332.969212350469,
          330.31449173060963,
          332.4244123884925,
          333.7022528617968,
          328.78903919276047,
          329.59136858962415,
          328.70974972691755,
          342.93434738928164,
          338.40744026763304,
          333.54376661625815,
          336.24803256583084,
          335.80227359622387,
          344.1428441756508,
          351.04713543270964,
          354.1673831180291,
          359.040968292871,
          360.4376804260292,
          361.3489590848818,
          366.6088894784068,
          364.9942232456299,
          368.44145847858766,
          373.5566169180965,
          371.5912367943079,
          376.0578674563183,
          373.4275780062099,
          376.9710435818407,
          375.164570962539,
          377.814766370476,
          380.15722772173007,
          381.4475545769874,
          377.2687989413678,
          375.3531573911705,
          366.7772394676553,
          370.3108459279077,
          371.40266366541096,
          368.69297460847696,
          371.680605008,
          368.8418588508799,
          371.6409383942837,
          374.83699548980223,
          370.9858281001623,
          369.6359202745136,
          370.23144141816454,
          370.489501953125,
          373.238958629029,
          371.6309631567769,
          372.39529633394415,
          374.1421955445061,
          372.2761602183441,
          373.6657410910667
         ],
         "low": [
          312.0088196658807,
          312.2069760622416,
          308.2743786386628,
          311.03808927960966,
          311.9295526417263,
          313.3163667904676,
          320.13145206281695,
          324.5791488467311,
          326.0352733611334,
          323.28147794480293,
          327.481462599679,
          324.32157295768366,
          325.2031697015897,
          327.7885660057624,
          322.38006896236453,
          321.33004344227885,
          324.50975531947176,
          334.43526461185274,
          323.8560072767667,
          325.3022408050966,
          328.699885458302,
          331.53293147418856,
          336.44611826051886,
          344.05370297194105,
          350.01690438987146,
          354.25654215859316,
          357.14899008333293,
          356.9607241219027,
          357.6640697813667,
          362.448458803664,
          363.884843605172,
          367.43239928816575,
          364.2759454074903,
          368.24628665339475,
          368.36542575254623,
          372.18681242725006,
          372.35558957569657,
          373.4077192379417,
          375.35315568518746,
          374.6384868697118,
          372.6830954875288,
          368.5539946182593,
          360.2063810389884,
          362.90622534848177,
          365.2983177372751,
          363.6010464947528,
          365.4968658565483,
          363.3826818047021,
          367.710309076404,
          368.01796236834986,
          361.4273005886206,
          363.56134974741,
          365.9434989554768,
          367.0948734411933,
          367.77978175717385,
          367.2934041212111,
          369.9436281893589,
          370.7277262449622,
          370.042860570438,
          371.382824811336
         ],
         "name": "MSFT",
         "open": [
          314.7526795061826,
          313.29660607432777,
          317.8036293011886,
          311.0678050853206,
          316.08003092831916,
          313.56400856953996,
          321.6866495869274,
          327.8380929797901,
          328.08572430592403,
          329.2447114865088,
          327.9271996205036,
          326.4810019480552,
          329.3536483055121,
          329.0168595486858,
          328.5909136844565,
          322.3998425005492,
          328.17483508247875,
          341.76545521871486,
          337.3277257655851,
          327.3130908782091,
          330.26499849048633,
          335.6536945653536,
          336.58481216840323,
          346.3320257406038,
          350.1159671496507,
          356.0098351683549,
          358.2683358504931,
          358.8824265984055,
          358.0800910344148,
          364.7465814959376,
          367.510322951988,
          368.2066086689788,
          370.8368681951473,
          368.4646549352899,
          372.8816723956765,
          375.1943212510325,
          374.5293067346497,
          373.9834009394594,
          375.5417478559064,
          380.9115844895604,
          375.68066879643345,
          373.9635547777664,
          366.3603738663603,
          363.7300817378277,
          370.76742977916007,
          365.49687341238314,
          366.4596673541622,
          365.7450214458004,
          368.0974289010253,
          373.2289944358956,
          370.5391560461205,
          364.12712629226513,
          366.7078030867766,
          368.73262032256434,
          372.2166048992151,
          369.7946886358752,
          370.906429775477,
          372.21659261542385,
          370.916333723745,
          372.58383518172906
         ],
         "showlegend": true,
         "type": "candlestick",
         "x": [
          "2023-09-29",
          "2023-10-02",
          "2023-10-03",
          "2023-10-04",
          "2023-10-05",
          "2023-10-06",
          "2023-10-09",
          "2023-10-10",
          "2023-10-11",
          "2023-10-13",
          "2023-10-16",
          "2023-10-17",
          "2023-10-18",
          "2023-10-19",
          "2023-10-20",
          "2023-10-23",
          "2023-10-24",
          "2023-10-25",
          "2023-10-26",
          "2023-10-27",
          "2023-10-30",
          "2023-10-31",
          "2023-11-01",
          "2023-11-03",
          "2023-11-06",
          "2023-11-07",
          "2023-11-08",
          "2023-11-09",
          "2023-11-10",
          "2023-11-13",
          "2023-11-14",
          "2023-11-16",
          "2023-11-17",
          "2023-11-20",
          "2023-11-21",
          "2023-11-22",
          "2023-11-24",
          "2023-11-27",
          "2023-11-28",
          "2023-11-29",
          "2023-11-30",
          "2023-12-01",
          "2023-12-04",
          "2023-12-05",
          "2023-12-06",
          "2023-12-07",
          "2023-12-08",
          "2023-12-11",
          "2023-12-12",
          "2023-12-13",
          "2023-12-14",
          "2023-12-15",
          "2023-12-18",
          "2023-12-19",
          "2023-12-20",
          "2023-12-21",
          "2023-12-22",
          "2023-12-26",
          "2023-12-27",
          "2023-12-28"
         ]
        }
       ],
       "layout": {
        "autosize": true,
        "paper_bgcolor": "rgba(0, 0, 0, 0)",
        "plot_bgcolor": "black",
        "template": {
         "data": {
          "bar": [
           {
            "error_x": {
             "color": "#2a3f5f"
            },
            "error_y": {
             "color": "#2a3f5f"
            },
            "marker": {
             "line": {
              "color": "#E5ECF6",
              "width": 0.5
             },
             "pattern": {
              "fillmode": "overlay",
              "size": 10,
              "solidity": 0.2
             }
            },
            "type": "bar"
           }
          ],
          "barpolar": [
           {
            "marker": {
             "line": {
              "color": "#E5ECF6",
              "width": 0.5
             },
             "pattern": {
              "fillmode": "overlay",
              "size": 10,
              "solidity": 0.2
             }
            },
            "type": "barpolar"
           }
          ],
          "carpet": [
           {
            "aaxis": {
             "endlinecolor": "#2a3f5f",
             "gridcolor": "white",
             "linecolor": "white",
             "minorgridcolor": "white",
             "startlinecolor": "#2a3f5f"
            },
            "baxis": {
             "endlinecolor": "#2a3f5f",
             "gridcolor": "white",
             "linecolor": "white",
             "minorgridcolor": "white",
             "startlinecolor": "#2a3f5f"
            },
            "type": "carpet"
           }
          ],
          "choropleth": [
           {
            "colorbar": {
             "outlinewidth": 0,
             "ticks": ""
            },
            "type": "choropleth"
           }
          ],
          "contour": [
           {
            "colorbar": {
             "outlinewidth": 0,
             "ticks": ""
            },
            "colorscale": [
             [
              0,
              "#0d0887"
             ],
             [
              0.1111111111111111,
              "#46039f"
             ],
             [
              0.2222222222222222,
              "#7201a8"
             ],
             [
              0.3333333333333333,
              "#9c179e"
             ],
             [
              0.4444444444444444,
              "#bd3786"
             ],
             [
              0.5555555555555556,
              "#d8576b"
             ],
             [
              0.6666666666666666,
              "#ed7953"
             ],
             [
              0.7777777777777778,
              "#fb9f3a"
             ],
             [
              0.8888888888888888,
              "#fdca26"
             ],
             [
              1,
              "#f0f921"
             ]
            ],
            "type": "contour"
           }
          ],
          "contourcarpet": [
           {
            "colorbar": {
             "outlinewidth": 0,
             "ticks": ""
            },
            "type": "contourcarpet"
           }
          ],
          "heatmap": [
           {
            "colorbar": {
             "outlinewidth": 0,
             "ticks": ""
            },
            "colorscale": [
             [
              0,
              "#0d0887"
             ],
             [
              0.1111111111111111,
              "#46039f"
             ],
             [
              0.2222222222222222,
              "#7201a8"
             ],
             [
              0.3333333333333333,
              "#9c179e"
             ],
             [
              0.4444444444444444,
              "#bd3786"
             ],
             [
              0.5555555555555556,
              "#d8576b"
             ],
             [
              0.6666666666666666,
              "#ed7953"
             ],
             [
              0.7777777777777778,
              "#fb9f3a"
             ],
             [
              0.8888888888888888,
              "#fdca26"
             ],
             [
              1,
              "#f0f921"
             ]
            ],
            "type": "heatmap"
           }
          ],
          "heatmapgl": [
           {
            "colorbar": {
             "outlinewidth": 0,
             "ticks": ""
            },
            "colorscale": [
             [
              0,
              "#0d0887"
             ],
             [
              0.1111111111111111,
              "#46039f"
             ],
             [
              0.2222222222222222,
              "#7201a8"
             ],
             [
              0.3333333333333333,
              "#9c179e"
             ],
             [
              0.4444444444444444,
              "#bd3786"
             ],
             [
              0.5555555555555556,
              "#d8576b"
             ],
             [
              0.6666666666666666,
              "#ed7953"
             ],
             [
              0.7777777777777778,
              "#fb9f3a"
             ],
             [
              0.8888888888888888,
              "#fdca26"
             ],
             [
              1,
              "#f0f921"
             ]
            ],
            "type": "heatmapgl"
           }
          ],
          "histogram": [
           {
            "marker": {
             "pattern": {
              "fillmode": "overlay",
              "size": 10,
              "solidity": 0.2
             }
            },
            "type": "histogram"
           }
          ],
          "histogram2d": [
           {
            "colorbar": {
             "outlinewidth": 0,
             "ticks": ""
            },
            "colorscale": [
             [
              0,
              "#0d0887"
             ],
             [
              0.1111111111111111,
              "#46039f"
             ],
             [
              0.2222222222222222,
              "#7201a8"
             ],
             [
              0.3333333333333333,
              "#9c179e"
             ],
             [
              0.4444444444444444,
              "#bd3786"
             ],
             [
              0.5555555555555556,
              "#d8576b"
             ],
             [
              0.6666666666666666,
              "#ed7953"
             ],
             [
              0.7777777777777778,
              "#fb9f3a"
             ],
             [
              0.8888888888888888,
              "#fdca26"
             ],
             [
              1,
              "#f0f921"
             ]
            ],
            "type": "histogram2d"
           }
          ],
          "histogram2dcontour": [
           {
            "colorbar": {
             "outlinewidth": 0,
             "ticks": ""
            },
            "colorscale": [
             [
              0,
              "#0d0887"
             ],
             [
              0.1111111111111111,
              "#46039f"
             ],
             [
              0.2222222222222222,
              "#7201a8"
             ],
             [
              0.3333333333333333,
              "#9c179e"
             ],
             [
              0.4444444444444444,
              "#bd3786"
             ],
             [
              0.5555555555555556,
              "#d8576b"
             ],
             [
              0.6666666666666666,
              "#ed7953"
             ],
             [
              0.7777777777777778,
              "#fb9f3a"
             ],
             [
              0.8888888888888888,
              "#fdca26"
             ],
             [
              1,
              "#f0f921"
             ]
            ],
            "type": "histogram2dcontour"
           }
          ],
          "mesh3d": [
           {
            "colorbar": {
             "outlinewidth": 0,
             "ticks": ""
            },
            "type": "mesh3d"
           }
          ],
          "parcoords": [
           {
            "line": {
             "colorbar": {
              "outlinewidth": 0,
              "ticks": ""
             }
            },
            "type": "parcoords"
           }
          ],
          "pie": [
           {
            "automargin": true,
            "type": "pie"
           }
          ],
          "scatter": [
           {
            "fillpattern": {
             "fillmode": "overlay",
             "size": 10,
             "solidity": 0.2
            },
            "type": "scatter"
           }
          ],
          "scatter3d": [
           {
            "line": {
             "colorbar": {
              "outlinewidth": 0,
              "ticks": ""
             }
            },
            "marker": {
             "colorbar": {
              "outlinewidth": 0,
              "ticks": ""
             }
            },
            "type": "scatter3d"
           }
          ],
          "scattercarpet": [
           {
            "marker": {
             "colorbar": {
              "outlinewidth": 0,
              "ticks": ""
             }
            },
            "type": "scattercarpet"
           }
          ],
          "scattergeo": [
           {
            "marker": {
             "colorbar": {
              "outlinewidth": 0,
              "ticks": ""
             }
            },
            "type": "scattergeo"
           }
          ],
          "scattergl": [
           {
            "marker": {
             "colorbar": {
              "outlinewidth": 0,
              "ticks": ""
             }
            },
            "type": "scattergl"
           }
          ],
          "scattermapbox": [
           {
            "marker": {
             "colorbar": {
              "outlinewidth": 0,
              "ticks": ""
             }
            },
            "type": "scattermapbox"
           }
          ],
          "scatterpolar": [
           {
            "marker": {
             "colorbar": {
              "outlinewidth": 0,
              "ticks": ""
             }
            },
            "type": "scatterpolar"
           }
          ],
          "scatterpolargl": [
           {
            "marker": {
             "colorbar": {
              "outlinewidth": 0,
              "ticks": ""
             }
            },
            "type": "scatterpolargl"
           }
          ],
          "scatterternary": [
           {
            "marker": {
             "colorbar": {
              "outlinewidth": 0,
              "ticks": ""
             }
            },
            "type": "scatterternary"
           }
          ],
          "surface": [
           {
            "colorbar": {
             "outlinewidth": 0,
             "ticks": ""
            },
            "colorscale": [
             [
              0,
              "#0d0887"
             ],
             [
              0.1111111111111111,
              "#46039f"
             ],
             [
              0.2222222222222222,
              "#7201a8"
             ],
             [
              0.3333333333333333,
              "#9c179e"
             ],
             [
              0.4444444444444444,
              "#bd3786"
             ],
             [
              0.5555555555555556,
              "#d8576b"
             ],
             [
              0.6666666666666666,
              "#ed7953"
             ],
             [
              0.7777777777777778,
              "#fb9f3a"
             ],
             [
              0.8888888888888888,
              "#fdca26"
             ],
             [
              1,
              "#f0f921"
             ]
            ],
            "type": "surface"
           }
          ],
          "table": [
           {
            "cells": {
             "fill": {
              "color": "#EBF0F8"
             },
             "line": {
              "color": "white"
             }
            },
            "header": {
             "fill": {
              "color": "#C8D4E3"
             },
             "line": {
              "color": "white"
             }
            },
            "type": "table"
           }
          ]
         },
         "layout": {
          "annotationdefaults": {
           "arrowcolor": "#2a3f5f",
           "arrowhead": 0,
           "arrowwidth": 1
          },
          "autotypenumbers": "strict",
          "coloraxis": {
           "colorbar": {
            "outlinewidth": 0,
            "ticks": ""
           }
          },
          "colorscale": {
           "diverging": [
            [
             0,
             "#8e0152"
            ],
            [
             0.1,
             "#c51b7d"
            ],
            [
             0.2,
             "#de77ae"
            ],
            [
             0.3,
             "#f1b6da"
            ],
            [
             0.4,
             "#fde0ef"
            ],
            [
             0.5,
             "#f7f7f7"
            ],
            [
             0.6,
             "#e6f5d0"
            ],
            [
             0.7,
             "#b8e186"
            ],
            [
             0.8,
             "#7fbc41"
            ],
            [
             0.9,
             "#4d9221"
            ],
            [
             1,
             "#276419"
            ]
           ],
           "sequential": [
            [
             0,
             "#0d0887"
            ],
            [
             0.1111111111111111,
             "#46039f"
            ],
            [
             0.2222222222222222,
             "#7201a8"
            ],
            [
             0.3333333333333333,
             "#9c179e"
            ],
            [
             0.4444444444444444,
             "#bd3786"
            ],
            [
             0.5555555555555556,
             "#d8576b"
            ],
            [
             0.6666666666666666,
             "#ed7953"
            ],
            [
             0.7777777777777778,
             "#fb9f3a"
            ],
            [
             0.8888888888888888,
             "#fdca26"
            ],
            [
             1,
             "#f0f921"
            ]
           ],
           "sequentialminus": [
            [
             0,
             "#0d0887"
            ],
            [
             0.1111111111111111,
             "#46039f"
            ],
            [
             0.2222222222222222,
             "#7201a8"
            ],
            [
             0.3333333333333333,
             "#9c179e"
            ],
            [
             0.4444444444444444,
             "#bd3786"
            ],
            [
             0.5555555555555556,
             "#d8576b"
            ],
            [
             0.6666666666666666,
             "#ed7953"
            ],
            [
             0.7777777777777778,
             "#fb9f3a"
            ],
            [
             0.8888888888888888,
             "#fdca26"
            ],
            [
             1,
             "#f0f921"
            ]
           ]
          },
          "colorway": [
           "#636efa",
           "#EF553B",
           "#00cc96",
           "#ab63fa",
           "#FFA15A",
           "#19d3f3",
           "#FF6692",
           "#B6E880",
           "#FF97FF",
           "#FECB52"
          ],
          "font": {
           "color": "#2a3f5f"
          },
          "geo": {
           "bgcolor": "white",
           "lakecolor": "white",
           "landcolor": "#E5ECF6",
           "showlakes": true,
           "showland": true,
           "subunitcolor": "white"
          },
          "hoverlabel": {
           "align": "left"
          },
          "hovermode": "closest",
          "mapbox": {
           "style": "light"
          },
          "paper_bgcolor": "white",
          "plot_bgcolor": "#E5ECF6",
          "polar": {
           "angularaxis": {
            "gridcolor": "white",
            "linecolor": "white",
            "ticks": ""
           },
           "bgcolor": "#E5ECF6",
           "radialaxis": {
            "gridcolor": "white",
            "linecolor": "white",
            "ticks": ""
           }
          },
          "scene": {
           "xaxis": {
            "backgroundcolor": "#E5ECF6",
            "gridcolor": "white",
            "gridwidth": 2,
            "linecolor": "white",
            "showbackground": true,
            "ticks": "",
            "zerolinecolor": "white"
           },
           "yaxis": {
            "backgroundcolor": "#E5ECF6",
            "gridcolor": "white",
            "gridwidth": 2,
            "linecolor": "white",
            "showbackground": true,
            "ticks": "",
            "zerolinecolor": "white"
           },
           "zaxis": {
            "backgroundcolor": "#E5ECF6",
            "gridcolor": "white",
            "gridwidth": 2,
            "linecolor": "white",
            "showbackground": true,
            "ticks": "",
            "zerolinecolor": "white"
           }
          },
          "shapedefaults": {
           "line": {
            "color": "#2a3f5f"
           }
          },
          "ternary": {
           "aaxis": {
            "gridcolor": "white",
            "linecolor": "white",
            "ticks": ""
           },
           "baxis": {
            "gridcolor": "white",
            "linecolor": "white",
            "ticks": ""
           },
           "bgcolor": "#E5ECF6",
           "caxis": {
            "gridcolor": "white",
            "linecolor": "white",
            "ticks": ""
           }
          },
          "title": {
           "x": 0.05
          },
          "xaxis": {
           "automargin": true,
           "gridcolor": "white",
           "linecolor": "white",
           "ticks": "",
           "title": {
            "standoff": 15
           },
           "zerolinecolor": "white",
           "zerolinewidth": 2
          },
          "yaxis": {
           "automargin": true,
           "gridcolor": "white",
           "linecolor": "white",
           "ticks": "",
           "title": {
            "standoff": 15
           },
           "zerolinecolor": "white",
           "zerolinewidth": 2
          }
         }
        },
        "title": {
         "text": ""
        },
        "xaxis": {
         "autorange": true,
         "gridcolor": "LightGrey",
         "gridwidth": 1,
         "range": [
          "2023-09-28 12:00",
          "2023-12-28 12:00"
         ],
         "rangeslider": {
          "autorange": true,
          "range": [
           "2023-09-28 12:00",
           "2023-12-28 12:00"
          ],
          "yaxis": {
           "_template": null,
           "rangemode": "match"
          }
         },
         "showgrid": true,
         "type": "date"
        },
        "yaxis": {
         "autorange": true,
         "gridcolor": "LightGrey",
         "gridwidth": 1,
         "range": [
          304.2092021976448,
          385.5127310180054
         ],
         "showgrid": true
        }
       }
      },
      "image/png": "[encoded data removed]",
      "text/html": [
       "<div>                            <div id=\"0d4a570a-1ff2-4fcf-9e22-5ab116c62de5\" class=\"plotly-graph-div\" style=\"height:600px; width:100%;\"></div>            <script type=\"text/javascript\">                require([\"plotly\"], function(Plotly) {                    window.PLOTLYENV=window.PLOTLYENV || {};                                    if (document.getElementById(\"0d4a570a-1ff2-4fcf-9e22-5ab116c62de5\")) {                    Plotly.newPlot(                        \"0d4a570a-1ff2-4fcf-9e22-5ab116c62de5\",                        [{\"close\":[312.77154541015625,318.7645263671875,310.433837890625,315.9512939453125,316.34747314453125,324.1730041503906,326.7088317871094,325.2923583984375,329.2843322753906,324.6385803222656,329.5022277832031,328.9277038574219,326.99609375,328.1947021484375,323.58856201171875,326.2135314941406,327.412109375,337.4565124511719,324.79705810546875,326.6989440917969,334.1282043457031,334.920654296875,342.8055725097656,349.47210693359375,353.1669006347656,357.1291809082031,359.7740173339844,357.2876281738281,366.1829528808594,363.2210998535156,366.77728271484375,373.3779602050781,367.1047973632813,374.6384887695313,370.3009643554687,375.0454406738281,374.6285705566406,375.7998046875,379.8594665527344,376.03802490234375,376.0975646972656,371.7302551269531,366.4000854492187,369.7550048828125,366.0625915527344,368.1966857910156,371.4523315429687,368.5440673828125,371.6012268066406,371.59124755859375,363.21392822265625,367.9783325195313,369.884033203125,370.489501953125,367.8691101074219,370.7674255371094,371.79974365234375,371.8791198730469,371.29351806640625,372.4945068359375],\"high\":[316.4564560379535,318.8537040211105,318.3583746883624,317.02112341032625,316.961650097937,326.084791429699,327.1842846242437,327.976786889985,329.6805530737714,330.6810157045469,332.969212350469,330.31449173060963,332.4244123884925,333.7022528617968,328.78903919276047,329.59136858962415,328.70974972691755,342.93434738928164,338.40744026763304,333.54376661625815,336.24803256583084,335.80227359622387,344.1428441756508,351.04713543270964,354.1673831180291,359.040968292871,360.4376804260292,361.3489590848818,366.6088894784068,364.9942232456299,368.44145847858766,373.5566169180965,371.5912367943079,376.0578674563183,373.4275780062099,376.9710435818407,375.164570962539,377.814766370476,380.15722772173007,381.4475545769874,377.2687989413678,375.3531573911705,366.7772394676553,370.3108459279077,371.40266366541096,368.69297460847696,371.680605008,368.8418588508799,371.6409383942837,374.83699548980223,370.9858281001623,369.6359202745136,370.23144141816454,370.489501953125,373.238958629029,371.6309631567769,372.39529633394415,374.1421955445061,372.2761602183441,373.6657410910667],\"low\":[312.0088196658807,312.2069760622416,308.2743786386628,311.03808927960966,311.9295526417263,313.3163667904676,320.13145206281695,324.5791488467311,326.0352733611334,323.28147794480293,327.481462599679,324.32157295768366,325.2031697015897,327.7885660057624,322.38006896236453,321.33004344227885,324.50975531947176,334.43526461185274,323.8560072767667,325.3022408050966,328.699885458302,331.53293147418856,336.44611826051886,344.05370297194105,350.01690438987146,354.25654215859316,357.14899008333293,356.9607241219027,357.6640697813667,362.448458803664,363.884843605172,367.43239928816575,364.2759454074903,368.24628665339475,368.36542575254623,372.18681242725006,372.35558957569657,373.4077192379417,375.35315568518746,374.6384868697118,372.6830954875288,368.5539946182593,360.2063810389884,362.90622534848177,365.2983177372751,363.6010464947528,365.4968658565483,363.3826818047021,367.710309076404,368.01796236834986,361.4273005886206,363.56134974741,365.9434989554768,367.0948734411933,367.77978175717385,367.2934041212111,369.9436281893589,370.7277262449622,370.042860570438,371.382824811336],\"name\":\"MSFT\",\"open\":[314.7526795061826,313.29660607432777,317.8036293011886,311.0678050853206,316.08003092831916,313.56400856953996,321.6866495869274,327.8380929797901,328.08572430592403,329.2447114865088,327.9271996205036,326.4810019480552,329.3536483055121,329.0168595486858,328.5909136844565,322.3998425005492,328.17483508247875,341.76545521871486,337.3277257655851,327.3130908782091,330.26499849048633,335.6536945653536,336.58481216840323,346.3320257406038,350.1159671496507,356.0098351683549,358.2683358504931,358.8824265984055,358.0800910344148,364.7465814959376,367.510322951988,368.2066086689788,370.8368681951473,368.4646549352899,372.8816723956765,375.1943212510325,374.5293067346497,373.9834009394594,375.5417478559064,380.9115844895604,375.68066879643345,373.9635547777664,366.3603738663603,363.7300817378277,370.76742977916007,365.49687341238314,366.4596673541622,365.7450214458004,368.0974289010253,373.2289944358956,370.5391560461205,364.12712629226513,366.7078030867766,368.73262032256434,372.2166048992151,369.7946886358752,370.906429775477,372.21659261542385,370.916333723745,372.58383518172906],\"showlegend\":true,\"x\":[\"2023-09-29\",\"2023-10-02\",\"2023-10-03\",\"2023-10-04\",\"2023-10-05\",\"2023-10-06\",\"2023-10-09\",\"2023-10-10\",\"2023-10-11\",\"2023-10-13\",\"2023-10-16\",\"2023-10-17\",\"2023-10-18\",\"2023-10-19\",\"2023-10-20\",\"2023-10-23\",\"2023-10-24\",\"2023-10-25\",\"2023-10-26\",\"2023-10-27\",\"2023-10-30\",\"2023-10-31\",\"2023-11-01\",\"2023-11-03\",\"2023-11-06\",\"2023-11-07\",\"2023-11-08\",\"2023-11-09\",\"2023-11-10\",\"2023-11-13\",\"2023-11-14\",\"2023-11-16\",\"2023-11-17\",\"2023-11-20\",\"2023-11-21\",\"2023-11-22\",\"2023-11-24\",\"2023-11-27\",\"2023-11-28\",\"2023-11-29\",\"2023-11-30\",\"2023-12-01\",\"2023-12-04\",\"2023-12-05\",\"2023-12-06\",\"2023-12-07\",\"2023-12-08\",\"2023-12-11\",\"2023-12-12\",\"2023-12-13\",\"2023-12-14\",\"2023-12-15\",\"2023-12-18\",\"2023-12-19\",\"2023-12-20\",\"2023-12-21\",\"2023-12-22\",\"2023-12-26\",\"2023-12-27\",\"2023-12-28\"],\"type\":\"candlestick\"}],                        {\"height\":600,\"paper_bgcolor\":\"rgba(0,0,0,0)\",\"plot_bgcolor\":\"black\",\"template\":{\"data\":{\"histogram2dcontour\":[{\"type\":\"histogram2dcontour\",\"colorbar\":{\"outlinewidth\":0,\"ticks\":\"\"},\"colorscale\":[[0.0,\"#0d0887\"],[0.1111111111111111,\"#46039f\"],[0.2222222222222222,\"#7201a8\"],[0.3333333333333333,\"#9c179e\"],[0.4444444444444444,\"#bd3786\"],[0.5555555555555556,\"#d8576b\"],[0.6666666666666666,\"#ed7953\"],[0.7777777777777778,\"#fb9f3a\"],[0.8888888888888888,\"#fdca26\"],[1.0,\"#f0f921\"]]}],\"choropleth\":[{\"type\":\"choropleth\",\"colorbar\":{\"outlinewidth\":0,\"ticks\":\"\"}}],\"histogram2d\":[{\"type\":\"histogram2d\",\"colorbar\":{\"outlinewidth\":0,\"ticks\":\"\"},\"colorscale\":[[0.0,\"#0d0887\"],[0.1111111111111111,\"#46039f\"],[0.2222222222222222,\"#7201a8\"],[0.3333333333333333,\"#9c179e\"],[0.4444444444444444,\"#bd3786\"],[0.5555555555555556,\"#d8576b\"],[0.6666666666666666,\"#ed7953\"],[0.7777777777777778,\"#fb9f3a\"],[0.8888888888888888,\"#fdca26\"],[1.0,\"#f0f921\"]]}],\"heatmap\":[{\"type\":\"heatmap\",\"colorbar\":{\"outlinewidth\":0,\"ticks\":\"\"},\"colorscale\":[[0.0,\"#0d0887\"],[0.1111111111111111,\"#46039f\"],[0.2222222222222222,\"#7201a8\"],[0.3333333333333333,\"#9c179e\"],[0.4444444444444444,\"#bd3786\"],[0.5555555555555556,\"#d8576b\"],[0.6666666666666666,\"#ed7953\"],[0.7777777777777778,\"#fb9f3a\"],[0.8888888888888888,\"#fdca26\"],[1.0,\"#f0f921\"]]}],\"heatmapgl\":[{\"type\":\"heatmapgl\",\"colorbar\":{\"outlinewidth\":0,\"ticks\":\"\"},\"colorscale\":[[0.0,\"#0d0887\"],[0.1111111111111111,\"#46039f\"],[0.2222222222222222,\"#7201a8\"],[0.3333333333333333,\"#9c179e\"],[0.4444444444444444,\"#bd3786\"],[0.5555555555555556,\"#d8576b\"],[0.6666666666666666,\"#ed7953\"],[0.7777777777777778,\"#fb9f3a\"],[0.8888888888888888,\"#fdca26\"],[1.0,\"#f0f921\"]]}],\"contourcarpet\":[{\"type\":\"contourcarpet\",\"colorbar\":{\"outlinewidth\":0,\"ticks\":\"\"}}],\"contour\":[{\"type\":\"contour\",\"colorbar\":{\"outlinewidth\":0,\"ticks\":\"\"},\"colorscale\":[[0.0,\"#0d0887\"],[0.1111111111111111,\"#46039f\"],[0.2222222222222222,\"#7201a8\"],[0.3333333333333333,\"#9c179e\"],[0.4444444444444444,\"#bd3786\"],[0.5555555555555556,\"#d8576b\"],[0.6666666666666666,\"#ed7953\"],[0.7777777777777778,\"#fb9f3a\"],[0.8888888888888888,\"#fdca26\"],[1.0,\"#f0f921\"]]}],\"surface\":[{\"type\":\"surface\",\"colorbar\":{\"outlinewidth\":0,\"ticks\":\"\"},\"colorscale\":[[0.0,\"#0d0887\"],[0.1111111111111111,\"#46039f\"],[0.2222222222222222,\"#7201a8\"],[0.3333333333333333,\"#9c179e\"],[0.4444444444444444,\"#bd3786\"],[0.5555555555555556,\"#d8576b\"],[0.6666666666666666,\"#ed7953\"],[0.7777777777777778,\"#fb9f3a\"],[0.8888888888888888,\"#fdca26\"],[1.0,\"#f0f921\"]]}],\"mesh3d\":[{\"type\":\"mesh3d\",\"colorbar\":{\"outlinewidth\":0,\"ticks\":\"\"}}],\"scatter\":[{\"fillpattern\":{\"fillmode\":\"overlay\",\"size\":10,\"solidity\":0.2},\"type\":\"scatter\"}],\"parcoords\":[{\"type\":\"parcoords\",\"line\":{\"colorbar\":{\"outlinewidth\":0,\"ticks\":\"\"}}}],\"scatterpolargl\":[{\"type\":\"scatterpolargl\",\"marker\":{\"colorbar\":{\"outlinewidth\":0,\"ticks\":\"\"}}}],\"bar\":[{\"error_x\":{\"color\":\"#2a3f5f\"},\"error_y\":{\"color\":\"#2a3f5f\"},\"marker\":{\"line\":{\"color\":\"#E5ECF6\",\"width\":0.5},\"pattern\":{\"fillmode\":\"overlay\",\"size\":10,\"solidity\":0.2}},\"type\":\"bar\"}],\"scattergeo\":[{\"type\":\"scattergeo\",\"marker\":{\"colorbar\":{\"outlinewidth\":0,\"ticks\":\"\"}}}],\"scatterpolar\":[{\"type\":\"scatterpolar\",\"marker\":{\"colorbar\":{\"outlinewidth\":0,\"ticks\":\"\"}}}],\"histogram\":[{\"marker\":{\"pattern\":{\"fillmode\":\"overlay\",\"size\":10,\"solidity\":0.2}},\"type\":\"histogram\"}],\"scattergl\":[{\"type\":\"scattergl\",\"marker\":{\"colorbar\":{\"outlinewidth\":0,\"ticks\":\"\"}}}],\"scatter3d\":[{\"type\":\"scatter3d\",\"line\":{\"colorbar\":{\"outlinewidth\":0,\"ticks\":\"\"}},\"marker\":{\"colorbar\":{\"outlinewidth\":0,\"ticks\":\"\"}}}],\"scattermapbox\":[{\"type\":\"scattermapbox\",\"marker\":{\"colorbar\":{\"outlinewidth\":0,\"ticks\":\"\"}}}],\"scatterternary\":[{\"type\":\"scatterternary\",\"marker\":{\"colorbar\":{\"outlinewidth\":0,\"ticks\":\"\"}}}],\"scattercarpet\":[{\"type\":\"scattercarpet\",\"marker\":{\"colorbar\":{\"outlinewidth\":0,\"ticks\":\"\"}}}],\"carpet\":[{\"aaxis\":{\"endlinecolor\":\"#2a3f5f\",\"gridcolor\":\"white\",\"linecolor\":\"white\",\"minorgridcolor\":\"white\",\"startlinecolor\":\"#2a3f5f\"},\"baxis\":{\"endlinecolor\":\"#2a3f5f\",\"gridcolor\":\"white\",\"linecolor\":\"white\",\"minorgridcolor\":\"white\",\"startlinecolor\":\"#2a3f5f\"},\"type\":\"carpet\"}],\"table\":[{\"cells\":{\"fill\":{\"color\":\"#EBF0F8\"},\"line\":{\"color\":\"white\"}},\"header\":{\"fill\":{\"color\":\"#C8D4E3\"},\"line\":{\"color\":\"white\"}},\"type\":\"table\"}],\"barpolar\":[{\"marker\":{\"line\":{\"color\":\"#E5ECF6\",\"width\":0.5},\"pattern\":{\"fillmode\":\"overlay\",\"size\":10,\"solidity\":0.2}},\"type\":\"barpolar\"}],\"pie\":[{\"automargin\":true,\"type\":\"pie\"}]},\"layout\":{\"autotypenumbers\":\"strict\",\"colorway\":[\"#636efa\",\"#EF553B\",\"#00cc96\",\"#ab63fa\",\"#FFA15A\",\"#19d3f3\",\"#FF6692\",\"#B6E880\",\"#FF97FF\",\"#FECB52\"],\"font\":{\"color\":\"#2a3f5f\"},\"hovermode\":\"closest\",\"hoverlabel\":{\"align\":\"left\"},\"paper_bgcolor\":\"white\",\"plot_bgcolor\":\"#E5ECF6\",\"polar\":{\"bgcolor\":\"#E5ECF6\",\"angularaxis\":{\"gridcolor\":\"white\",\"linecolor\":\"white\",\"ticks\":\"\"},\"radialaxis\":{\"gridcolor\":\"white\",\"linecolor\":\"white\",\"ticks\":\"\"}},\"ternary\":{\"bgcolor\":\"#E5ECF6\",\"aaxis\":{\"gridcolor\":\"white\",\"linecolor\":\"white\",\"ticks\":\"\"},\"baxis\":{\"gridcolor\":\"white\",\"linecolor\":\"white\",\"ticks\":\"\"},\"caxis\":{\"gridcolor\":\"white\",\"linecolor\":\"white\",\"ticks\":\"\"}},\"coloraxis\":{\"colorbar\":{\"outlinewidth\":0,\"ticks\":\"\"}},\"colorscale\":{\"sequential\":[[0.0,\"#0d0887\"],[0.1111111111111111,\"#46039f\"],[0.2222222222222222,\"#7201a8\"],[0.3333333333333333,\"#9c179e\"],[0.4444444444444444,\"#bd3786\"],[0.5555555555555556,\"#d8576b\"],[0.6666666666666666,\"#ed7953\"],[0.7777777777777778,\"#fb9f3a\"],[0.8888888888888888,\"#fdca26\"],[1.0,\"#f0f921\"]],\"sequentialminus\":[[0.0,\"#0d0887\"],[0.1111111111111111,\"#46039f\"],[0.2222222222222222,\"#7201a8\"],[0.3333333333333333,\"#9c179e\"],[0.4444444444444444,\"#bd3786\"],[0.5555555555555556,\"#d8576b\"],[0.6666666666666666,\"#ed7953\"],[0.7777777777777778,\"#fb9f3a\"],[0.8888888888888888,\"#fdca26\"],[1.0,\"#f0f921\"]],\"diverging\":[[0,\"#8e0152\"],[0.1,\"#c51b7d\"],[0.2,\"#de77ae\"],[0.3,\"#f1b6da\"],[0.4,\"#fde0ef\"],[0.5,\"#f7f7f7\"],[0.6,\"#e6f5d0\"],[0.7,\"#b8e186\"],[0.8,\"#7fbc41\"],[0.9,\"#4d9221\"],[1,\"#276419\"]]},\"xaxis\":{\"gridcolor\":\"white\",\"linecolor\":\"white\",\"ticks\":\"\",\"title\":{\"standoff\":15},\"zerolinecolor\":\"white\",\"automargin\":true,\"zerolinewidth\":2},\"yaxis\":{\"gridcolor\":\"white\",\"linecolor\":\"white\",\"ticks\":\"\",\"title\":{\"standoff\":15},\"zerolinecolor\":\"white\",\"automargin\":true,\"zerolinewidth\":2},\"scene\":{\"xaxis\":{\"backgroundcolor\":\"#E5ECF6\",\"gridcolor\":\"white\",\"linecolor\":\"white\",\"showbackground\":true,\"ticks\":\"\",\"zerolinecolor\":\"white\",\"gridwidth\":2},\"yaxis\":{\"backgroundcolor\":\"#E5ECF6\",\"gridcolor\":\"white\",\"linecolor\":\"white\",\"showbackground\":true,\"ticks\":\"\",\"zerolinecolor\":\"white\",\"gridwidth\":2},\"zaxis\":{\"backgroundcolor\":\"#E5ECF6\",\"gridcolor\":\"white\",\"linecolor\":\"white\",\"showbackground\":true,\"ticks\":\"\",\"zerolinecolor\":\"white\",\"gridwidth\":2}},\"shapedefaults\":{\"line\":{\"color\":\"#2a3f5f\"}},\"annotationdefaults\":{\"arrowcolor\":\"#2a3f5f\",\"arrowhead\":0,\"arrowwidth\":1},\"geo\":{\"bgcolor\":\"white\",\"landcolor\":\"#E5ECF6\",\"subunitcolor\":\"white\",\"showland\":true,\"showlakes\":true,\"lakecolor\":\"white\"},\"title\":{\"x\":0.05},\"mapbox\":{\"style\":\"light\"}}},\"title\":{\"text\":\"\"},\"xaxis\":{\"showgrid\":true,\"gridwidth\":1,\"gridcolor\":\"LightGrey\"},\"yaxis\":{\"showgrid\":true,\"gridwidth\":1,\"gridcolor\":\"LightGrey\"}},                        {\"responsive\": true}                    ).then(function(){\n",
       "                            \n",
       "var gd = document.getElementById('0d4a570a-1ff2-4fcf-9e22-5ab116c62de5');\n",
       "var x = new MutationObserver(function (mutations, observer) {{\n",
       "        var display = window.getComputedStyle(gd).display;\n",
       "        if (!display || display === 'none') {{\n",
       "            console.log([gd, 'removed!']);\n",
       "            Plotly.purge(gd);\n",
       "            observer.disconnect();\n",
       "        }}\n",
       "}});\n",
       "\n",
       "// Listen for the removal of the full notebook cells\n",
       "var notebookContainer = gd.closest('#notebook-container');\n",
       "if (notebookContainer) {{\n",
       "    x.observe(notebookContainer, {childList: true});\n",
       "}}\n",
       "\n",
       "// Listen for the clearing of the current output cell\n",
       "var outputEl = gd.closest('.output');\n",
       "if (outputEl) {{\n",
       "    x.observe(outputEl, {childList: true});\n",
       "}}\n",
       "\n",
       "                        })                };                });            </script>        </div>"
      ]
     },
     "metadata": {},
     "output_type": "display_data"
    }
   ],
   "source": [
    "layout = Layout(paper_bgcolor='rgba(0,0,0,0)',\n",
    "                plot_bgcolor='black',\n",
    "                height=600)\n",
    "\n",
    "graph = {\n",
    "    'x': df_60.index,\n",
    "    'open': df_60.Open,\n",
    "    'close': df_60.Close,\n",
    "    'high': df_60.High,\n",
    "    'low': df_60.Low,\n",
    "    'type': 'candlestick',\n",
    "    'name': 'MSFT',\n",
    "    'showlegend': True\n",
    "}\n",
    "\n",
    "fig = graph_objects.Figure(data=[graph], layout_title='', layout=layout)\n",
    "\n",
    "fig.update_xaxes(showgrid=True, gridwidth=1, gridcolor='LightGrey')\n",
    "fig.update_yaxes(showgrid=True, gridwidth=1, gridcolor='LightGrey')\n",
    "\n",
    "fig"
   ]
  },
  {
   "cell_type": "code",
   "execution_count": null,
   "metadata": {},
   "outputs": [],
   "source": []
  }
 ],
 "metadata": {
  "kernelspec": {
   "display_name": "Python [conda env:base] *",
   "language": "python",
   "name": "conda-base-py"
  },
  "language_info": {
   "codemirror_mode": {
    "name": "ipython",
    "version": 3
   },
   "file_extension": ".py",
   "mimetype": "text/x-python",
   "name": "python",
   "nbconvert_exporter": "python",
   "pygments_lexer": "ipython3",
   "version": "3.12.7"
  },
  "toc": {
   "base_numbering": 1,
   "nav_menu": {},
   "number_sections": false,
   "sideBar": true,
   "skip_h1_title": true,
   "title_cell": "Índice",
   "title_sidebar": "Conteúdo",
   "toc_cell": false,
   "toc_position": {},
   "toc_section_display": true,
   "toc_window_display": false
  },
  "varInspector": {
   "cols": {
    "lenName": 16,
    "lenType": 16,
    "lenVar": 40
   },
   "kernels_config": {
    "python": {
     "delete_cmd_postfix": "",
     "delete_cmd_prefix": "del ",
     "library": "var_list.py",
     "varRefreshCmd": "print(var_dic_list())"
    },
    "r": {
     "delete_cmd_postfix": ") ",
     "delete_cmd_prefix": "rm(",
     "library": "var_list.r",
     "varRefreshCmd": "cat(var_dic_list()) "
    }
   },
   "types_to_exclude": [
    "module",
    "function",
    "builtin_function_or_method",
    "instance",
    "_Feature"
   ],
   "window_display": false
  }
 },
 "nbformat": 4,
 "nbformat_minor": 4
}
