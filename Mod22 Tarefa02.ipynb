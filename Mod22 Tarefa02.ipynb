{
 "cells": [
  {
   "cell_type": "markdown",
   "metadata": {},
   "source": [
    "# Tarefa 02\n",
    "\n",
    "- Leia os enunciados com atenção\n",
    "- Saiba que pode haver mais de uma resposta correta\n",
    "- Insira novas células de código sempre que achar necessário\n",
    "- Em caso de dúvidas, procure os monitores\n",
    "- Divirta-se :)"
   ]
  },
  {
   "cell_type": "markdown",
   "metadata": {},
   "source": [
    "#### 1. Carregue os dados da tarefa anterior"
   ]
  },
  {
   "cell_type": "code",
   "execution_count": 263,
   "metadata": {},
   "outputs": [],
   "source": [
    "import pandas as pd\n",
    "from datetime import datetime\n",
    "\n",
    "\n",
    "from pandas_datareader import data as pdr\n",
    "import yfinance as yf\n",
    "import plotly.express as px\n",
    "from plotly import graph_objects\n",
    "from plotly.graph_objs import Layout"
   ]
  },
  {
   "cell_type": "code",
   "execution_count": 265,
   "metadata": {},
   "outputs": [],
   "source": [
    "df = pd.read_csv('dados_historicos_acoes.csv', header=[0,1], index_col=0)"
   ]
  },
  {
   "cell_type": "code",
   "execution_count": 267,
   "metadata": {},
   "outputs": [
    {
     "data": {
      "text/html": [
       "<div>\n",
       "<style scoped>\n",
       "    .dataframe tbody tr th:only-of-type {\n",
       "        vertical-align: middle;\n",
       "    }\n",
       "\n",
       "    .dataframe tbody tr th {\n",
       "        vertical-align: top;\n",
       "    }\n",
       "\n",
       "    .dataframe thead tr th {\n",
       "        text-align: left;\n",
       "    }\n",
       "\n",
       "    .dataframe thead tr:last-of-type th {\n",
       "        text-align: right;\n",
       "    }\n",
       "</style>\n",
       "<table border=\"1\" class=\"dataframe\">\n",
       "  <thead>\n",
       "    <tr>\n",
       "      <th>Price</th>\n",
       "      <th colspan=\"3\" halign=\"left\">Close</th>\n",
       "      <th colspan=\"3\" halign=\"left\">High</th>\n",
       "      <th colspan=\"3\" halign=\"left\">Low</th>\n",
       "      <th colspan=\"3\" halign=\"left\">Open</th>\n",
       "      <th colspan=\"3\" halign=\"left\">Volume</th>\n",
       "    </tr>\n",
       "    <tr>\n",
       "      <th>Ticker</th>\n",
       "      <th>MGLU3.SA</th>\n",
       "      <th>MSFT</th>\n",
       "      <th>NVDA</th>\n",
       "      <th>MGLU3.SA</th>\n",
       "      <th>MSFT</th>\n",
       "      <th>NVDA</th>\n",
       "      <th>MGLU3.SA</th>\n",
       "      <th>MSFT</th>\n",
       "      <th>NVDA</th>\n",
       "      <th>MGLU3.SA</th>\n",
       "      <th>MSFT</th>\n",
       "      <th>NVDA</th>\n",
       "      <th>MGLU3.SA</th>\n",
       "      <th>MSFT</th>\n",
       "      <th>NVDA</th>\n",
       "    </tr>\n",
       "    <tr>\n",
       "      <th>Date</th>\n",
       "      <th></th>\n",
       "      <th></th>\n",
       "      <th></th>\n",
       "      <th></th>\n",
       "      <th></th>\n",
       "      <th></th>\n",
       "      <th></th>\n",
       "      <th></th>\n",
       "      <th></th>\n",
       "      <th></th>\n",
       "      <th></th>\n",
       "      <th></th>\n",
       "      <th></th>\n",
       "      <th></th>\n",
       "      <th></th>\n",
       "    </tr>\n",
       "  </thead>\n",
       "  <tbody>\n",
       "    <tr>\n",
       "      <th>2023-01-03</th>\n",
       "      <td>23.757212</td>\n",
       "      <td>235.711685</td>\n",
       "      <td>14.304594</td>\n",
       "      <td>25.814924</td>\n",
       "      <td>241.782061</td>\n",
       "      <td>14.985100</td>\n",
       "      <td>23.383083</td>\n",
       "      <td>233.566876</td>\n",
       "      <td>14.085753</td>\n",
       "      <td>24.318405</td>\n",
       "      <td>239.155173</td>\n",
       "      <td>14.840205</td>\n",
       "      <td>17551556.0</td>\n",
       "      <td>25740000.0</td>\n",
       "      <td>401277000.0</td>\n",
       "    </tr>\n",
       "    <tr>\n",
       "      <th>2023-01-04</th>\n",
       "      <td>23.850744</td>\n",
       "      <td>225.400925</td>\n",
       "      <td>14.738280</td>\n",
       "      <td>24.411940</td>\n",
       "      <td>229.110043</td>\n",
       "      <td>14.842205</td>\n",
       "      <td>23.383083</td>\n",
       "      <td>222.311624</td>\n",
       "      <td>14.230650</td>\n",
       "      <td>24.224874</td>\n",
       "      <td>228.529573</td>\n",
       "      <td>14.556413</td>\n",
       "      <td>15827820.0</td>\n",
       "      <td>50623400.0</td>\n",
       "      <td>431324000.0</td>\n",
       "    </tr>\n",
       "    <tr>\n",
       "      <th>2023-01-05</th>\n",
       "      <td>24.879601</td>\n",
       "      <td>218.720551</td>\n",
       "      <td>14.254632</td>\n",
       "      <td>25.347261</td>\n",
       "      <td>223.875950</td>\n",
       "      <td>14.553414</td>\n",
       "      <td>23.476616</td>\n",
       "      <td>218.179428</td>\n",
       "      <td>14.137716</td>\n",
       "      <td>24.131342</td>\n",
       "      <td>223.531595</td>\n",
       "      <td>14.480468</td>\n",
       "      <td>18612739.0</td>\n",
       "      <td>39585600.0</td>\n",
       "      <td>389168000.0</td>\n",
       "    </tr>\n",
       "    <tr>\n",
       "      <th>2023-01-06</th>\n",
       "      <td>25.814924</td>\n",
       "      <td>221.298233</td>\n",
       "      <td>14.848199</td>\n",
       "      <td>25.908457</td>\n",
       "      <td>222.114834</td>\n",
       "      <td>14.999089</td>\n",
       "      <td>24.318405</td>\n",
       "      <td>215.808342</td>\n",
       "      <td>14.023799</td>\n",
       "      <td>24.973133</td>\n",
       "      <td>219.399402</td>\n",
       "      <td>14.463479</td>\n",
       "      <td>15385492.0</td>\n",
       "      <td>43613600.0</td>\n",
       "      <td>405044000.0</td>\n",
       "    </tr>\n",
       "    <tr>\n",
       "      <th>2023-01-09</th>\n",
       "      <td>26.469650</td>\n",
       "      <td>223.452896</td>\n",
       "      <td>15.616641</td>\n",
       "      <td>27.124376</td>\n",
       "      <td>227.506384</td>\n",
       "      <td>16.044329</td>\n",
       "      <td>24.879601</td>\n",
       "      <td>222.754368</td>\n",
       "      <td>15.129995</td>\n",
       "      <td>25.066666</td>\n",
       "      <td>222.793716</td>\n",
       "      <td>15.272891</td>\n",
       "      <td>15152321.0</td>\n",
       "      <td>27369800.0</td>\n",
       "      <td>504231000.0</td>\n",
       "    </tr>\n",
       "    <tr>\n",
       "      <th>...</th>\n",
       "      <td>...</td>\n",
       "      <td>...</td>\n",
       "      <td>...</td>\n",
       "      <td>...</td>\n",
       "      <td>...</td>\n",
       "      <td>...</td>\n",
       "      <td>...</td>\n",
       "      <td>...</td>\n",
       "      <td>...</td>\n",
       "      <td>...</td>\n",
       "      <td>...</td>\n",
       "      <td>...</td>\n",
       "      <td>...</td>\n",
       "      <td>...</td>\n",
       "      <td>...</td>\n",
       "    </tr>\n",
       "    <tr>\n",
       "      <th>2023-12-21</th>\n",
       "      <td>19.548258</td>\n",
       "      <td>370.767456</td>\n",
       "      <td>48.976116</td>\n",
       "      <td>20.109451</td>\n",
       "      <td>371.630994</td>\n",
       "      <td>49.081086</td>\n",
       "      <td>19.267660</td>\n",
       "      <td>367.293434</td>\n",
       "      <td>48.405275</td>\n",
       "      <td>20.015919</td>\n",
       "      <td>369.794719</td>\n",
       "      <td>48.797166</td>\n",
       "      <td>13106996.0</td>\n",
       "      <td>17708000.0</td>\n",
       "      <td>300425000.0</td>\n",
       "    </tr>\n",
       "    <tr>\n",
       "      <th>2023-12-22</th>\n",
       "      <td>19.828854</td>\n",
       "      <td>371.799713</td>\n",
       "      <td>48.816162</td>\n",
       "      <td>19.922386</td>\n",
       "      <td>372.395266</td>\n",
       "      <td>49.369003</td>\n",
       "      <td>19.267660</td>\n",
       "      <td>369.943598</td>\n",
       "      <td>48.453262</td>\n",
       "      <td>19.641790</td>\n",
       "      <td>370.906399</td>\n",
       "      <td>49.181057</td>\n",
       "      <td>8595562.0</td>\n",
       "      <td>17091100.0</td>\n",
       "      <td>252507000.0</td>\n",
       "    </tr>\n",
       "    <tr>\n",
       "      <th>2023-12-26</th>\n",
       "      <td>19.735323</td>\n",
       "      <td>371.879120</td>\n",
       "      <td>49.265030</td>\n",
       "      <td>20.109451</td>\n",
       "      <td>374.142196</td>\n",
       "      <td>49.585938</td>\n",
       "      <td>19.548258</td>\n",
       "      <td>370.727726</td>\n",
       "      <td>48.946120</td>\n",
       "      <td>20.015919</td>\n",
       "      <td>372.216593</td>\n",
       "      <td>48.954117</td>\n",
       "      <td>7100571.0</td>\n",
       "      <td>12673100.0</td>\n",
       "      <td>244200000.0</td>\n",
       "    </tr>\n",
       "    <tr>\n",
       "      <th>2023-12-27</th>\n",
       "      <td>21.044775</td>\n",
       "      <td>371.293518</td>\n",
       "      <td>49.402992</td>\n",
       "      <td>21.231838</td>\n",
       "      <td>372.276160</td>\n",
       "      <td>49.665918</td>\n",
       "      <td>19.548258</td>\n",
       "      <td>370.042861</td>\n",
       "      <td>49.071086</td>\n",
       "      <td>19.828854</td>\n",
       "      <td>370.916334</td>\n",
       "      <td>49.496967</td>\n",
       "      <td>13867300.0</td>\n",
       "      <td>14905400.0</td>\n",
       "      <td>233648000.0</td>\n",
       "    </tr>\n",
       "    <tr>\n",
       "      <th>2023-12-28</th>\n",
       "      <td>20.202984</td>\n",
       "      <td>372.494507</td>\n",
       "      <td>49.507965</td>\n",
       "      <td>20.857710</td>\n",
       "      <td>373.665741</td>\n",
       "      <td>49.869862</td>\n",
       "      <td>20.109451</td>\n",
       "      <td>371.382825</td>\n",
       "      <td>49.397996</td>\n",
       "      <td>20.670645</td>\n",
       "      <td>372.583835</td>\n",
       "      <td>49.628933</td>\n",
       "      <td>12859371.0</td>\n",
       "      <td>14327000.0</td>\n",
       "      <td>246587000.0</td>\n",
       "    </tr>\n",
       "  </tbody>\n",
       "</table>\n",
       "<p>241 rows × 15 columns</p>\n",
       "</div>"
      ],
      "text/plain": [
       "Price           Close                              High              \\\n",
       "Ticker       MGLU3.SA        MSFT       NVDA   MGLU3.SA        MSFT   \n",
       "Date                                                                  \n",
       "2023-01-03  23.757212  235.711685  14.304594  25.814924  241.782061   \n",
       "2023-01-04  23.850744  225.400925  14.738280  24.411940  229.110043   \n",
       "2023-01-05  24.879601  218.720551  14.254632  25.347261  223.875950   \n",
       "2023-01-06  25.814924  221.298233  14.848199  25.908457  222.114834   \n",
       "2023-01-09  26.469650  223.452896  15.616641  27.124376  227.506384   \n",
       "...               ...         ...        ...        ...         ...   \n",
       "2023-12-21  19.548258  370.767456  48.976116  20.109451  371.630994   \n",
       "2023-12-22  19.828854  371.799713  48.816162  19.922386  372.395266   \n",
       "2023-12-26  19.735323  371.879120  49.265030  20.109451  374.142196   \n",
       "2023-12-27  21.044775  371.293518  49.402992  21.231838  372.276160   \n",
       "2023-12-28  20.202984  372.494507  49.507965  20.857710  373.665741   \n",
       "\n",
       "Price                        Low                              Open  \\\n",
       "Ticker           NVDA   MGLU3.SA        MSFT       NVDA   MGLU3.SA   \n",
       "Date                                                                 \n",
       "2023-01-03  14.985100  23.383083  233.566876  14.085753  24.318405   \n",
       "2023-01-04  14.842205  23.383083  222.311624  14.230650  24.224874   \n",
       "2023-01-05  14.553414  23.476616  218.179428  14.137716  24.131342   \n",
       "2023-01-06  14.999089  24.318405  215.808342  14.023799  24.973133   \n",
       "2023-01-09  16.044329  24.879601  222.754368  15.129995  25.066666   \n",
       "...               ...        ...         ...        ...        ...   \n",
       "2023-12-21  49.081086  19.267660  367.293434  48.405275  20.015919   \n",
       "2023-12-22  49.369003  19.267660  369.943598  48.453262  19.641790   \n",
       "2023-12-26  49.585938  19.548258  370.727726  48.946120  20.015919   \n",
       "2023-12-27  49.665918  19.548258  370.042861  49.071086  19.828854   \n",
       "2023-12-28  49.869862  20.109451  371.382825  49.397996  20.670645   \n",
       "\n",
       "Price                                  Volume                           \n",
       "Ticker            MSFT       NVDA    MGLU3.SA        MSFT         NVDA  \n",
       "Date                                                                    \n",
       "2023-01-03  239.155173  14.840205  17551556.0  25740000.0  401277000.0  \n",
       "2023-01-04  228.529573  14.556413  15827820.0  50623400.0  431324000.0  \n",
       "2023-01-05  223.531595  14.480468  18612739.0  39585600.0  389168000.0  \n",
       "2023-01-06  219.399402  14.463479  15385492.0  43613600.0  405044000.0  \n",
       "2023-01-09  222.793716  15.272891  15152321.0  27369800.0  504231000.0  \n",
       "...                ...        ...         ...         ...          ...  \n",
       "2023-12-21  369.794719  48.797166  13106996.0  17708000.0  300425000.0  \n",
       "2023-12-22  370.906399  49.181057   8595562.0  17091100.0  252507000.0  \n",
       "2023-12-26  372.216593  48.954117   7100571.0  12673100.0  244200000.0  \n",
       "2023-12-27  370.916334  49.496967  13867300.0  14905400.0  233648000.0  \n",
       "2023-12-28  372.583835  49.628933  12859371.0  14327000.0  246587000.0  \n",
       "\n",
       "[241 rows x 15 columns]"
      ]
     },
     "execution_count": 267,
     "metadata": {},
     "output_type": "execute_result"
    }
   ],
   "source": [
    "df =df.dropna()\n",
    "df"
   ]
  },
  {
   "cell_type": "markdown",
   "metadata": {},
   "source": [
    "#### 2. Média móvel\n",
    "\n",
    "1. Faça uma média móvel  em 90 dias dos valores de fechamento ajustados dos ativos que você escolheu\n",
    "2. Utilizando a fução ```rolling()```, calcule o desvio pardão desses ativos ao longo do tempo, utilizando a mesma janela móvel do item acima\n",
    "2. Monte um gráfico de linhas para as médias móveis dos ativos da sua base\n",
    "4. Monte um gráfico de linhas para os desvios padrão em janela móvel\n",
    "5. Compare os dois gráficos que você fez com o da tarefa anterior. Veja se eles apontam conclusões semelhantes quanto aos períodos de maior volatilidade (variação) dos ativos."
   ]
  },
  {
   "cell_type": "code",
   "execution_count": 270,
   "metadata": {},
   "outputs": [
    {
     "data": {
      "text/html": [
       "<div>\n",
       "<style scoped>\n",
       "    .dataframe tbody tr th:only-of-type {\n",
       "        vertical-align: middle;\n",
       "    }\n",
       "\n",
       "    .dataframe tbody tr th {\n",
       "        vertical-align: top;\n",
       "    }\n",
       "\n",
       "    .dataframe thead tr th {\n",
       "        text-align: left;\n",
       "    }\n",
       "\n",
       "    .dataframe thead tr:last-of-type th {\n",
       "        text-align: right;\n",
       "    }\n",
       "</style>\n",
       "<table border=\"1\" class=\"dataframe\">\n",
       "  <thead>\n",
       "    <tr>\n",
       "      <th>Price</th>\n",
       "      <th colspan=\"3\" halign=\"left\">Close</th>\n",
       "      <th colspan=\"3\" halign=\"left\">High</th>\n",
       "      <th colspan=\"3\" halign=\"left\">Low</th>\n",
       "      <th colspan=\"3\" halign=\"left\">Open</th>\n",
       "      <th colspan=\"3\" halign=\"left\">Volume</th>\n",
       "    </tr>\n",
       "    <tr>\n",
       "      <th>Ticker</th>\n",
       "      <th>MGLU3.SA</th>\n",
       "      <th>MSFT</th>\n",
       "      <th>NVDA</th>\n",
       "      <th>MGLU3.SA</th>\n",
       "      <th>MSFT</th>\n",
       "      <th>NVDA</th>\n",
       "      <th>MGLU3.SA</th>\n",
       "      <th>MSFT</th>\n",
       "      <th>NVDA</th>\n",
       "      <th>MGLU3.SA</th>\n",
       "      <th>MSFT</th>\n",
       "      <th>NVDA</th>\n",
       "      <th>MGLU3.SA</th>\n",
       "      <th>MSFT</th>\n",
       "      <th>NVDA</th>\n",
       "    </tr>\n",
       "    <tr>\n",
       "      <th>Date</th>\n",
       "      <th></th>\n",
       "      <th></th>\n",
       "      <th></th>\n",
       "      <th></th>\n",
       "      <th></th>\n",
       "      <th></th>\n",
       "      <th></th>\n",
       "      <th></th>\n",
       "      <th></th>\n",
       "      <th></th>\n",
       "      <th></th>\n",
       "      <th></th>\n",
       "      <th></th>\n",
       "      <th></th>\n",
       "      <th></th>\n",
       "    </tr>\n",
       "  </thead>\n",
       "  <tbody>\n",
       "    <tr>\n",
       "      <th>2023-01-03</th>\n",
       "      <td>NaN</td>\n",
       "      <td>NaN</td>\n",
       "      <td>NaN</td>\n",
       "      <td>NaN</td>\n",
       "      <td>NaN</td>\n",
       "      <td>NaN</td>\n",
       "      <td>NaN</td>\n",
       "      <td>NaN</td>\n",
       "      <td>NaN</td>\n",
       "      <td>NaN</td>\n",
       "      <td>NaN</td>\n",
       "      <td>NaN</td>\n",
       "      <td>NaN</td>\n",
       "      <td>NaN</td>\n",
       "      <td>NaN</td>\n",
       "    </tr>\n",
       "    <tr>\n",
       "      <th>2023-01-04</th>\n",
       "      <td>NaN</td>\n",
       "      <td>NaN</td>\n",
       "      <td>NaN</td>\n",
       "      <td>NaN</td>\n",
       "      <td>NaN</td>\n",
       "      <td>NaN</td>\n",
       "      <td>NaN</td>\n",
       "      <td>NaN</td>\n",
       "      <td>NaN</td>\n",
       "      <td>NaN</td>\n",
       "      <td>NaN</td>\n",
       "      <td>NaN</td>\n",
       "      <td>NaN</td>\n",
       "      <td>NaN</td>\n",
       "      <td>NaN</td>\n",
       "    </tr>\n",
       "    <tr>\n",
       "      <th>2023-01-05</th>\n",
       "      <td>NaN</td>\n",
       "      <td>NaN</td>\n",
       "      <td>NaN</td>\n",
       "      <td>NaN</td>\n",
       "      <td>NaN</td>\n",
       "      <td>NaN</td>\n",
       "      <td>NaN</td>\n",
       "      <td>NaN</td>\n",
       "      <td>NaN</td>\n",
       "      <td>NaN</td>\n",
       "      <td>NaN</td>\n",
       "      <td>NaN</td>\n",
       "      <td>NaN</td>\n",
       "      <td>NaN</td>\n",
       "      <td>NaN</td>\n",
       "    </tr>\n",
       "    <tr>\n",
       "      <th>2023-01-06</th>\n",
       "      <td>NaN</td>\n",
       "      <td>NaN</td>\n",
       "      <td>NaN</td>\n",
       "      <td>NaN</td>\n",
       "      <td>NaN</td>\n",
       "      <td>NaN</td>\n",
       "      <td>NaN</td>\n",
       "      <td>NaN</td>\n",
       "      <td>NaN</td>\n",
       "      <td>NaN</td>\n",
       "      <td>NaN</td>\n",
       "      <td>NaN</td>\n",
       "      <td>NaN</td>\n",
       "      <td>NaN</td>\n",
       "      <td>NaN</td>\n",
       "    </tr>\n",
       "    <tr>\n",
       "      <th>2023-01-09</th>\n",
       "      <td>NaN</td>\n",
       "      <td>NaN</td>\n",
       "      <td>NaN</td>\n",
       "      <td>NaN</td>\n",
       "      <td>NaN</td>\n",
       "      <td>NaN</td>\n",
       "      <td>NaN</td>\n",
       "      <td>NaN</td>\n",
       "      <td>NaN</td>\n",
       "      <td>NaN</td>\n",
       "      <td>NaN</td>\n",
       "      <td>NaN</td>\n",
       "      <td>NaN</td>\n",
       "      <td>NaN</td>\n",
       "      <td>NaN</td>\n",
       "    </tr>\n",
       "    <tr>\n",
       "      <th>...</th>\n",
       "      <td>...</td>\n",
       "      <td>...</td>\n",
       "      <td>...</td>\n",
       "      <td>...</td>\n",
       "      <td>...</td>\n",
       "      <td>...</td>\n",
       "      <td>...</td>\n",
       "      <td>...</td>\n",
       "      <td>...</td>\n",
       "      <td>...</td>\n",
       "      <td>...</td>\n",
       "      <td>...</td>\n",
       "      <td>...</td>\n",
       "      <td>...</td>\n",
       "      <td>...</td>\n",
       "    </tr>\n",
       "    <tr>\n",
       "      <th>2023-12-21</th>\n",
       "      <td>20.444089</td>\n",
       "      <td>339.803563</td>\n",
       "      <td>45.561994</td>\n",
       "      <td>21.219368</td>\n",
       "      <td>342.536789</td>\n",
       "      <td>46.255451</td>\n",
       "      <td>19.826776</td>\n",
       "      <td>336.625506</td>\n",
       "      <td>44.779814</td>\n",
       "      <td>20.567760</td>\n",
       "      <td>339.624324</td>\n",
       "      <td>45.547064</td>\n",
       "      <td>1.570614e+07</td>\n",
       "      <td>2.450899e+07</td>\n",
       "      <td>4.780687e+08</td>\n",
       "    </tr>\n",
       "    <tr>\n",
       "      <th>2023-12-22</th>\n",
       "      <td>20.368224</td>\n",
       "      <td>340.387916</td>\n",
       "      <td>45.633632</td>\n",
       "      <td>21.127914</td>\n",
       "      <td>343.069219</td>\n",
       "      <td>46.320059</td>\n",
       "      <td>19.745715</td>\n",
       "      <td>337.208455</td>\n",
       "      <td>44.853562</td>\n",
       "      <td>20.475266</td>\n",
       "      <td>340.164813</td>\n",
       "      <td>45.625288</td>\n",
       "      <td>1.568449e+07</td>\n",
       "      <td>2.447541e+07</td>\n",
       "      <td>4.753998e+08</td>\n",
       "    </tr>\n",
       "    <tr>\n",
       "      <th>2023-12-26</th>\n",
       "      <td>20.288202</td>\n",
       "      <td>340.994238</td>\n",
       "      <td>45.727283</td>\n",
       "      <td>21.044775</td>\n",
       "      <td>343.685309</td>\n",
       "      <td>46.404359</td>\n",
       "      <td>19.667771</td>\n",
       "      <td>337.821754</td>\n",
       "      <td>44.946068</td>\n",
       "      <td>20.400441</td>\n",
       "      <td>340.783122</td>\n",
       "      <td>45.705533</td>\n",
       "      <td>1.566618e+07</td>\n",
       "      <td>2.434575e+07</td>\n",
       "      <td>4.721900e+08</td>\n",
       "    </tr>\n",
       "    <tr>\n",
       "      <th>2023-12-27</th>\n",
       "      <td>20.226886</td>\n",
       "      <td>341.560774</td>\n",
       "      <td>45.790281</td>\n",
       "      <td>20.977223</td>\n",
       "      <td>344.262545</td>\n",
       "      <td>46.469757</td>\n",
       "      <td>19.592945</td>\n",
       "      <td>338.417887</td>\n",
       "      <td>45.043605</td>\n",
       "      <td>20.321458</td>\n",
       "      <td>341.374573</td>\n",
       "      <td>45.805859</td>\n",
       "      <td>1.571947e+07</td>\n",
       "      <td>2.430207e+07</td>\n",
       "      <td>4.671163e+08</td>\n",
       "    </tr>\n",
       "    <tr>\n",
       "      <th>2023-12-28</th>\n",
       "      <td>20.163492</td>\n",
       "      <td>342.164599</td>\n",
       "      <td>45.852369</td>\n",
       "      <td>20.917986</td>\n",
       "      <td>344.843908</td>\n",
       "      <td>46.521117</td>\n",
       "      <td>19.553454</td>\n",
       "      <td>339.019903</td>\n",
       "      <td>45.107026</td>\n",
       "      <td>20.260142</td>\n",
       "      <td>341.966869</td>\n",
       "      <td>45.862405</td>\n",
       "      <td>1.561616e+07</td>\n",
       "      <td>2.427275e+07</td>\n",
       "      <td>4.623393e+08</td>\n",
       "    </tr>\n",
       "  </tbody>\n",
       "</table>\n",
       "<p>241 rows × 15 columns</p>\n",
       "</div>"
      ],
      "text/plain": [
       "Price           Close                              High              \\\n",
       "Ticker       MGLU3.SA        MSFT       NVDA   MGLU3.SA        MSFT   \n",
       "Date                                                                  \n",
       "2023-01-03        NaN         NaN        NaN        NaN         NaN   \n",
       "2023-01-04        NaN         NaN        NaN        NaN         NaN   \n",
       "2023-01-05        NaN         NaN        NaN        NaN         NaN   \n",
       "2023-01-06        NaN         NaN        NaN        NaN         NaN   \n",
       "2023-01-09        NaN         NaN        NaN        NaN         NaN   \n",
       "...               ...         ...        ...        ...         ...   \n",
       "2023-12-21  20.444089  339.803563  45.561994  21.219368  342.536789   \n",
       "2023-12-22  20.368224  340.387916  45.633632  21.127914  343.069219   \n",
       "2023-12-26  20.288202  340.994238  45.727283  21.044775  343.685309   \n",
       "2023-12-27  20.226886  341.560774  45.790281  20.977223  344.262545   \n",
       "2023-12-28  20.163492  342.164599  45.852369  20.917986  344.843908   \n",
       "\n",
       "Price                        Low                              Open  \\\n",
       "Ticker           NVDA   MGLU3.SA        MSFT       NVDA   MGLU3.SA   \n",
       "Date                                                                 \n",
       "2023-01-03        NaN        NaN         NaN        NaN        NaN   \n",
       "2023-01-04        NaN        NaN         NaN        NaN        NaN   \n",
       "2023-01-05        NaN        NaN         NaN        NaN        NaN   \n",
       "2023-01-06        NaN        NaN         NaN        NaN        NaN   \n",
       "2023-01-09        NaN        NaN         NaN        NaN        NaN   \n",
       "...               ...        ...         ...        ...        ...   \n",
       "2023-12-21  46.255451  19.826776  336.625506  44.779814  20.567760   \n",
       "2023-12-22  46.320059  19.745715  337.208455  44.853562  20.475266   \n",
       "2023-12-26  46.404359  19.667771  337.821754  44.946068  20.400441   \n",
       "2023-12-27  46.469757  19.592945  338.417887  45.043605  20.321458   \n",
       "2023-12-28  46.521117  19.553454  339.019903  45.107026  20.260142   \n",
       "\n",
       "Price                                    Volume                              \n",
       "Ticker            MSFT       NVDA      MGLU3.SA          MSFT          NVDA  \n",
       "Date                                                                         \n",
       "2023-01-03         NaN        NaN           NaN           NaN           NaN  \n",
       "2023-01-04         NaN        NaN           NaN           NaN           NaN  \n",
       "2023-01-05         NaN        NaN           NaN           NaN           NaN  \n",
       "2023-01-06         NaN        NaN           NaN           NaN           NaN  \n",
       "2023-01-09         NaN        NaN           NaN           NaN           NaN  \n",
       "...                ...        ...           ...           ...           ...  \n",
       "2023-12-21  339.624324  45.547064  1.570614e+07  2.450899e+07  4.780687e+08  \n",
       "2023-12-22  340.164813  45.625288  1.568449e+07  2.447541e+07  4.753998e+08  \n",
       "2023-12-26  340.783122  45.705533  1.566618e+07  2.434575e+07  4.721900e+08  \n",
       "2023-12-27  341.374573  45.805859  1.571947e+07  2.430207e+07  4.671163e+08  \n",
       "2023-12-28  341.966869  45.862405  1.561616e+07  2.427275e+07  4.623393e+08  \n",
       "\n",
       "[241 rows x 15 columns]"
      ]
     },
     "execution_count": 270,
     "metadata": {},
     "output_type": "execute_result"
    }
   ],
   "source": [
    "df_mw = df.rolling(90).mean() \n",
    "df_mw"
   ]
  },
  {
   "cell_type": "code",
   "execution_count": 272,
   "metadata": {},
   "outputs": [
    {
     "data": {
      "text/plain": [
       "Price   Ticker  \n",
       "Close   MGLU3.SA    4.889425e+00\n",
       "        MSFT        2.083229e+01\n",
       "        NVDA        7.087521e+00\n",
       "High    MGLU3.SA    5.023349e+00\n",
       "        MSFT        2.108271e+01\n",
       "        NVDA        7.226866e+00\n",
       "Low     MGLU3.SA    4.757004e+00\n",
       "        MSFT        2.085445e+01\n",
       "        NVDA        6.989164e+00\n",
       "Open    MGLU3.SA    4.871071e+00\n",
       "        MSFT        2.111368e+01\n",
       "        NVDA        7.149607e+00\n",
       "Volume  MGLU3.SA    1.488538e+06\n",
       "        MSFT        2.304132e+06\n",
       "        NVDA        1.636888e+07\n",
       "dtype: float64"
      ]
     },
     "execution_count": 272,
     "metadata": {},
     "output_type": "execute_result"
    }
   ],
   "source": [
    "df_mw.std()"
   ]
  },
  {
   "cell_type": "code",
   "execution_count": 274,
   "metadata": {},
   "outputs": [
    {
     "name": "stderr",
     "output_type": "stream",
     "text": [
      "/var/folders/dc/lt16pv3d6151yyg_m796mdn80000gn/T/ipykernel_56346/2149103295.py:1: FutureWarning:\n",
      "\n",
      "The previous implementation of stack is deprecated and will be removed in a future version of pandas. See the What's New notes for pandas 2.1.0 for details. Specify future_stack=True to adopt the new implementation and silence this warning.\n",
      "\n"
     ]
    },
    {
     "data": {
      "text/html": [
       "<div>\n",
       "<style scoped>\n",
       "    .dataframe tbody tr th:only-of-type {\n",
       "        vertical-align: middle;\n",
       "    }\n",
       "\n",
       "    .dataframe tbody tr th {\n",
       "        vertical-align: top;\n",
       "    }\n",
       "\n",
       "    .dataframe thead th {\n",
       "        text-align: right;\n",
       "    }\n",
       "</style>\n",
       "<table border=\"1\" class=\"dataframe\">\n",
       "  <thead>\n",
       "    <tr style=\"text-align: right;\">\n",
       "      <th>Price</th>\n",
       "      <th>Data</th>\n",
       "      <th>Ticker</th>\n",
       "      <th>Close</th>\n",
       "      <th>High</th>\n",
       "      <th>Low</th>\n",
       "      <th>Open</th>\n",
       "      <th>Volume</th>\n",
       "    </tr>\n",
       "  </thead>\n",
       "  <tbody>\n",
       "    <tr>\n",
       "      <th>0</th>\n",
       "      <td>2023-05-16</td>\n",
       "      <td>MGLU3.SA</td>\n",
       "      <td>33.873254</td>\n",
       "      <td>35.088135</td>\n",
       "      <td>32.751905</td>\n",
       "      <td>33.859744</td>\n",
       "      <td>1.465462e+07</td>\n",
       "    </tr>\n",
       "    <tr>\n",
       "      <th>1</th>\n",
       "      <td>2023-05-16</td>\n",
       "      <td>MSFT</td>\n",
       "      <td>264.512604</td>\n",
       "      <td>267.037079</td>\n",
       "      <td>261.409898</td>\n",
       "      <td>263.994438</td>\n",
       "      <td>3.108262e+07</td>\n",
       "    </tr>\n",
       "    <tr>\n",
       "      <th>2</th>\n",
       "      <td>2023-05-16</td>\n",
       "      <td>NVDA</td>\n",
       "      <td>23.582553</td>\n",
       "      <td>23.916764</td>\n",
       "      <td>23.084652</td>\n",
       "      <td>23.440617</td>\n",
       "      <td>4.625763e+08</td>\n",
       "    </tr>\n",
       "    <tr>\n",
       "      <th>3</th>\n",
       "      <td>2023-05-17</td>\n",
       "      <td>MGLU3.SA</td>\n",
       "      <td>33.958472</td>\n",
       "      <td>35.168157</td>\n",
       "      <td>32.831927</td>\n",
       "      <td>33.953276</td>\n",
       "      <td>1.467843e+07</td>\n",
       "    </tr>\n",
       "    <tr>\n",
       "      <th>4</th>\n",
       "      <td>2023-05-17</td>\n",
       "      <td>MSFT</td>\n",
       "      <td>265.342262</td>\n",
       "      <td>267.804011</td>\n",
       "      <td>262.227583</td>\n",
       "      <td>264.767054</td>\n",
       "      <td>3.106679e+07</td>\n",
       "    </tr>\n",
       "    <tr>\n",
       "      <th>...</th>\n",
       "      <td>...</td>\n",
       "      <td>...</td>\n",
       "      <td>...</td>\n",
       "      <td>...</td>\n",
       "      <td>...</td>\n",
       "      <td>...</td>\n",
       "      <td>...</td>\n",
       "    </tr>\n",
       "    <tr>\n",
       "      <th>451</th>\n",
       "      <td>2023-12-27</td>\n",
       "      <td>MSFT</td>\n",
       "      <td>341.560774</td>\n",
       "      <td>344.262545</td>\n",
       "      <td>338.417887</td>\n",
       "      <td>341.374573</td>\n",
       "      <td>2.430207e+07</td>\n",
       "    </tr>\n",
       "    <tr>\n",
       "      <th>452</th>\n",
       "      <td>2023-12-27</td>\n",
       "      <td>NVDA</td>\n",
       "      <td>45.790281</td>\n",
       "      <td>46.469757</td>\n",
       "      <td>45.043605</td>\n",
       "      <td>45.805859</td>\n",
       "      <td>4.671163e+08</td>\n",
       "    </tr>\n",
       "    <tr>\n",
       "      <th>453</th>\n",
       "      <td>2023-12-28</td>\n",
       "      <td>MGLU3.SA</td>\n",
       "      <td>20.163492</td>\n",
       "      <td>20.917986</td>\n",
       "      <td>19.553454</td>\n",
       "      <td>20.260142</td>\n",
       "      <td>1.561616e+07</td>\n",
       "    </tr>\n",
       "    <tr>\n",
       "      <th>454</th>\n",
       "      <td>2023-12-28</td>\n",
       "      <td>MSFT</td>\n",
       "      <td>342.164599</td>\n",
       "      <td>344.843908</td>\n",
       "      <td>339.019903</td>\n",
       "      <td>341.966869</td>\n",
       "      <td>2.427275e+07</td>\n",
       "    </tr>\n",
       "    <tr>\n",
       "      <th>455</th>\n",
       "      <td>2023-12-28</td>\n",
       "      <td>NVDA</td>\n",
       "      <td>45.852369</td>\n",
       "      <td>46.521117</td>\n",
       "      <td>45.107026</td>\n",
       "      <td>45.862405</td>\n",
       "      <td>4.623393e+08</td>\n",
       "    </tr>\n",
       "  </tbody>\n",
       "</table>\n",
       "<p>456 rows × 7 columns</p>\n",
       "</div>"
      ],
      "text/plain": [
       "Price        Data    Ticker       Close        High         Low        Open  \\\n",
       "0      2023-05-16  MGLU3.SA   33.873254   35.088135   32.751905   33.859744   \n",
       "1      2023-05-16      MSFT  264.512604  267.037079  261.409898  263.994438   \n",
       "2      2023-05-16      NVDA   23.582553   23.916764   23.084652   23.440617   \n",
       "3      2023-05-17  MGLU3.SA   33.958472   35.168157   32.831927   33.953276   \n",
       "4      2023-05-17      MSFT  265.342262  267.804011  262.227583  264.767054   \n",
       "..            ...       ...         ...         ...         ...         ...   \n",
       "451    2023-12-27      MSFT  341.560774  344.262545  338.417887  341.374573   \n",
       "452    2023-12-27      NVDA   45.790281   46.469757   45.043605   45.805859   \n",
       "453    2023-12-28  MGLU3.SA   20.163492   20.917986   19.553454   20.260142   \n",
       "454    2023-12-28      MSFT  342.164599  344.843908  339.019903  341.966869   \n",
       "455    2023-12-28      NVDA   45.852369   46.521117   45.107026   45.862405   \n",
       "\n",
       "Price        Volume  \n",
       "0      1.465462e+07  \n",
       "1      3.108262e+07  \n",
       "2      4.625763e+08  \n",
       "3      1.467843e+07  \n",
       "4      3.106679e+07  \n",
       "..              ...  \n",
       "451    2.430207e+07  \n",
       "452    4.671163e+08  \n",
       "453    1.561616e+07  \n",
       "454    2.427275e+07  \n",
       "455    4.623393e+08  \n",
       "\n",
       "[456 rows x 7 columns]"
      ]
     },
     "execution_count": 274,
     "metadata": {},
     "output_type": "execute_result"
    }
   ],
   "source": [
    "df_media_movel = df_mw.stack().reset_index()\n",
    "df_media_movel.rename(columns={'Date' : 'Data' , 'Price' : 'Ativo'}, inplace=True)\n",
    "df_media_movel"
   ]
  },
  {
   "cell_type": "code",
   "execution_count": 276,
   "metadata": {},
   "outputs": [
    {
     "data": {
      "application/vnd.plotly.v1+json": {
       "config": {
        "plotlyServerURL": "https://plot.ly"
       },
       "data": [
        {
         "hovertemplate": "Ticker=MGLU3.SA<br>Data=%{x}<br>Close=%{y}<extra></extra>",
         "legendgroup": "MGLU3.SA",
         "line": {
          "color": "#636efa",
          "dash": "solid"
         },
         "marker": {
          "symbol": "circle"
         },
         "mode": "lines",
         "name": "MGLU3.SA",
         "orientation": "v",
         "showlegend": true,
         "type": "scatter",
         "x": [
          "2023-05-16",
          "2023-05-17",
          "2023-05-18",
          "2023-05-19",
          "2023-05-22",
          "2023-05-23",
          "2023-05-24",
          "2023-05-25",
          "2023-05-26",
          "2023-05-30",
          "2023-05-31",
          "2023-06-01",
          "2023-06-02",
          "2023-06-05",
          "2023-06-06",
          "2023-06-07",
          "2023-06-09",
          "2023-06-12",
          "2023-06-13",
          "2023-06-14",
          "2023-06-15",
          "2023-06-16",
          "2023-06-20",
          "2023-06-21",
          "2023-06-22",
          "2023-06-23",
          "2023-06-26",
          "2023-06-27",
          "2023-06-28",
          "2023-06-29",
          "2023-06-30",
          "2023-07-03",
          "2023-07-05",
          "2023-07-06",
          "2023-07-07",
          "2023-07-10",
          "2023-07-11",
          "2023-07-12",
          "2023-07-13",
          "2023-07-14",
          "2023-07-17",
          "2023-07-18",
          "2023-07-19",
          "2023-07-20",
          "2023-07-21",
          "2023-07-24",
          "2023-07-25",
          "2023-07-26",
          "2023-07-27",
          "2023-07-28",
          "2023-07-31",
          "2023-08-01",
          "2023-08-02",
          "2023-08-03",
          "2023-08-04",
          "2023-08-07",
          "2023-08-08",
          "2023-08-09",
          "2023-08-10",
          "2023-08-11",
          "2023-08-14",
          "2023-08-15",
          "2023-08-16",
          "2023-08-17",
          "2023-08-18",
          "2023-08-21",
          "2023-08-22",
          "2023-08-23",
          "2023-08-24",
          "2023-08-25",
          "2023-08-28",
          "2023-08-29",
          "2023-08-30",
          "2023-08-31",
          "2023-09-01",
          "2023-09-05",
          "2023-09-06",
          "2023-09-08",
          "2023-09-11",
          "2023-09-12",
          "2023-09-13",
          "2023-09-14",
          "2023-09-15",
          "2023-09-18",
          "2023-09-19",
          "2023-09-20",
          "2023-09-21",
          "2023-09-22",
          "2023-09-25",
          "2023-09-26",
          "2023-09-27",
          "2023-09-28",
          "2023-09-29",
          "2023-10-02",
          "2023-10-03",
          "2023-10-04",
          "2023-10-05",
          "2023-10-06",
          "2023-10-09",
          "2023-10-10",
          "2023-10-11",
          "2023-10-13",
          "2023-10-16",
          "2023-10-17",
          "2023-10-18",
          "2023-10-19",
          "2023-10-20",
          "2023-10-23",
          "2023-10-24",
          "2023-10-25",
          "2023-10-26",
          "2023-10-27",
          "2023-10-30",
          "2023-10-31",
          "2023-11-01",
          "2023-11-03",
          "2023-11-06",
          "2023-11-07",
          "2023-11-08",
          "2023-11-09",
          "2023-11-10",
          "2023-11-13",
          "2023-11-14",
          "2023-11-16",
          "2023-11-17",
          "2023-11-20",
          "2023-11-21",
          "2023-11-22",
          "2023-11-24",
          "2023-11-27",
          "2023-11-28",
          "2023-11-29",
          "2023-11-30",
          "2023-12-01",
          "2023-12-04",
          "2023-12-05",
          "2023-12-06",
          "2023-12-07",
          "2023-12-08",
          "2023-12-11",
          "2023-12-12",
          "2023-12-13",
          "2023-12-14",
          "2023-12-15",
          "2023-12-18",
          "2023-12-19",
          "2023-12-20",
          "2023-12-21",
          "2023-12-22",
          "2023-12-26",
          "2023-12-27",
          "2023-12-28"
         ],
         "xaxis": "x",
         "y": [
          33.873253716362846,
          33.95847208234999,
          34.06135766771104,
          34.16320398118761,
          34.2712857776218,
          34.35754337310791,
          34.41781976487901,
          34.49368485344781,
          34.55915747748481,
          34.59033495585124,
          34.591374206542966,
          34.64333665635851,
          34.669317881266274,
          34.67659259372287,
          34.67139634026422,
          34.61839468214247,
          34.57890324062771,
          34.545647303263344,
          34.4656251695421,
          34.408466508653426,
          34.33779763115777,
          34.27752126057943,
          34.20893088446723,
          34.155929226345485,
          34.09773135715061,
          34.048886659410265,
          33.963668293423126,
          33.88780318366157,
          33.821291287740074,
          33.75062241024441,
          33.67891426086426,
          33.632148106892906,
          33.59057818518745,
          33.5375765270657,
          33.50224208831787,
          33.44924045138889,
          33.39208181169298,
          33.32245218488905,
          33.26321504380968,
          33.234116088019476,
          33.2143703672621,
          33.20813488430447,
          33.182153680589465,
          33.1488977432251,
          33.10628857082791,
          33.06679715050591,
          33.032501962449814,
          32.96702931722005,
          32.908831405639646,
          32.84231953091091,
          32.78620014190674,
          32.749826452467175,
          32.71033501095242,
          32.65421560075548,
          32.59913546244304,
          32.58874299791124,
          32.56380104488797,
          32.525348854064944,
          32.470268715752496,
          32.421424060397676,
          32.359069188435875,
          32.302949799431694,
          32.26761536068386,
          32.22604543897841,
          32.19694650438097,
          32.1636905670166,
          32.13147388034397,
          32.05664802127414,
          31.967272652520073,
          31.869583320617675,
          31.785404226515027,
          31.70953909556071,
          31.64510570102268,
          31.594182544284397,
          31.54845561981201,
          31.47570824093289,
          31.40400013393826,
          31.341645261976453,
          31.27409413655599,
          31.199268256293404,
          31.134834861755373,
          31.05585199991862,
          30.942573928833006,
          30.81474641164144,
          30.67444790734185,
          30.506089719136558,
          30.304475593566895,
          30.085194227430556,
          29.86071662902832,
          29.623768043518066,
          29.484508811102973,
          29.34836728837755,
          29.20079402923584,
          29.03139659033881,
          28.827703963385687,
          28.64375703599718,
          28.454613876342773,
          28.248842748006187,
          28.04515012105306,
          27.864320924546984,
          27.667903031243217,
          27.435111427307127,
          27.199202071295844,
          26.970567501915827,
          26.735697417789034,
          26.49978807237413,
          26.24725077946981,
          25.992634985182022,
          25.74841168721517,
          25.502109877268474,
          25.265161323547364,
          25.031330468919542,
          24.791264131334092,
          24.53872684902615,
          24.305935245090062,
          24.08873240152995,
          23.88400051328871,
          23.716681575775148,
          23.553519619835747,
          23.372690455118814,
          23.209528499179417,
          23.031817075941298,
          22.859301884969074,
          22.759534072875976,
          22.659766239590116,
          22.579744148254395,
          22.48309406704373,
          22.389561737908256,
          22.2825191921658,
          22.179633627997504,
          22.070512580871583,
          21.958273781670464,
          21.86266295115153,
          21.786797841389973,
          21.680794546339246,
          21.59037994808621,
          21.49684761895074,
          21.41059002346463,
          21.302508205837675,
          21.204818873935274,
          21.093619346618652,
          21.00008701748318,
          20.90655468834771,
          20.80782610575358,
          20.71637225680881,
          20.628036159939235,
          20.535543081495497,
          20.44408925374349,
          20.368224122789172,
          20.28820203145345,
          20.226886388990614,
          20.163492245144315
         ],
         "yaxis": "y"
        },
        {
         "hovertemplate": "Ticker=MSFT<br>Data=%{x}<br>Close=%{y}<extra></extra>",
         "legendgroup": "MSFT",
         "line": {
          "color": "#EF553B",
          "dash": "solid"
         },
         "marker": {
          "symbol": "circle"
         },
         "mode": "lines",
         "name": "MSFT",
         "orientation": "v",
         "showlegend": true,
         "type": "scatter",
         "x": [
          "2023-05-16",
          "2023-05-17",
          "2023-05-18",
          "2023-05-19",
          "2023-05-22",
          "2023-05-23",
          "2023-05-24",
          "2023-05-25",
          "2023-05-26",
          "2023-05-30",
          "2023-05-31",
          "2023-06-01",
          "2023-06-02",
          "2023-06-05",
          "2023-06-06",
          "2023-06-07",
          "2023-06-09",
          "2023-06-12",
          "2023-06-13",
          "2023-06-14",
          "2023-06-15",
          "2023-06-16",
          "2023-06-20",
          "2023-06-21",
          "2023-06-22",
          "2023-06-23",
          "2023-06-26",
          "2023-06-27",
          "2023-06-28",
          "2023-06-29",
          "2023-06-30",
          "2023-07-03",
          "2023-07-05",
          "2023-07-06",
          "2023-07-07",
          "2023-07-10",
          "2023-07-11",
          "2023-07-12",
          "2023-07-13",
          "2023-07-14",
          "2023-07-17",
          "2023-07-18",
          "2023-07-19",
          "2023-07-20",
          "2023-07-21",
          "2023-07-24",
          "2023-07-25",
          "2023-07-26",
          "2023-07-27",
          "2023-07-28",
          "2023-07-31",
          "2023-08-01",
          "2023-08-02",
          "2023-08-03",
          "2023-08-04",
          "2023-08-07",
          "2023-08-08",
          "2023-08-09",
          "2023-08-10",
          "2023-08-11",
          "2023-08-14",
          "2023-08-15",
          "2023-08-16",
          "2023-08-17",
          "2023-08-18",
          "2023-08-21",
          "2023-08-22",
          "2023-08-23",
          "2023-08-24",
          "2023-08-25",
          "2023-08-28",
          "2023-08-29",
          "2023-08-30",
          "2023-08-31",
          "2023-09-01",
          "2023-09-05",
          "2023-09-06",
          "2023-09-08",
          "2023-09-11",
          "2023-09-12",
          "2023-09-13",
          "2023-09-14",
          "2023-09-15",
          "2023-09-18",
          "2023-09-19",
          "2023-09-20",
          "2023-09-21",
          "2023-09-22",
          "2023-09-25",
          "2023-09-26",
          "2023-09-27",
          "2023-09-28",
          "2023-09-29",
          "2023-10-02",
          "2023-10-03",
          "2023-10-04",
          "2023-10-05",
          "2023-10-06",
          "2023-10-09",
          "2023-10-10",
          "2023-10-11",
          "2023-10-13",
          "2023-10-16",
          "2023-10-17",
          "2023-10-18",
          "2023-10-19",
          "2023-10-20",
          "2023-10-23",
          "2023-10-24",
          "2023-10-25",
          "2023-10-26",
          "2023-10-27",
          "2023-10-30",
          "2023-10-31",
          "2023-11-01",
          "2023-11-03",
          "2023-11-06",
          "2023-11-07",
          "2023-11-08",
          "2023-11-09",
          "2023-11-10",
          "2023-11-13",
          "2023-11-14",
          "2023-11-16",
          "2023-11-17",
          "2023-11-20",
          "2023-11-21",
          "2023-11-22",
          "2023-11-24",
          "2023-11-27",
          "2023-11-28",
          "2023-11-29",
          "2023-11-30",
          "2023-12-01",
          "2023-12-04",
          "2023-12-05",
          "2023-12-06",
          "2023-12-07",
          "2023-12-08",
          "2023-12-11",
          "2023-12-12",
          "2023-12-13",
          "2023-12-14",
          "2023-12-15",
          "2023-12-18",
          "2023-12-19",
          "2023-12-20",
          "2023-12-21",
          "2023-12-22",
          "2023-12-26",
          "2023-12-27",
          "2023-12-28"
         ],
         "xaxis": "x",
         "y": [
          264.5126039293077,
          265.3422620985243,
          266.33612755669486,
          267.4022425333659,
          268.470908610026,
          269.4506142510308,
          270.39592217339407,
          271.3981477525499,
          272.44697265625,
          273.4694746229384,
          274.4487611558702,
          275.52369706895615,
          276.6720196194119,
          277.7356492784288,
          278.7486582438151,
          279.6544455634223,
          280.61331719292536,
          281.54697757297095,
          282.5056874593099,
          283.5574734157986,
          284.67168511284723,
          285.66852179633247,
          286.4888102213542,
          287.3281080457899,
          288.2522247314453,
          289.00687696668837,
          289.70009087456594,
          290.49287177191843,
          291.3053948296441,
          292.01927388509114,
          292.7841576470269,
          293.544815741645,
          294.3858076307509,
          295.30588972303605,
          296.2532718234592,
          297.1057288275825,
          298.02603793674047,
          298.98799608018663,
          300.0180308024089,
          301.11092258029515,
          302.1561548868815,
          303.3067042032878,
          304.3915032280816,
          305.4159401787652,
          306.41126115587025,
          307.43642272949216,
          308.56693250868057,
          309.4939442952474,
          310.2682362874349,
          311.0755883110894,
          311.73811306423613,
          312.3698530409071,
          312.98340861002606,
          313.5707509358724,
          314.1867228190104,
          314.7694356282552,
          315.27566596137154,
          315.7858598497179,
          316.31634487575957,
          316.76787855360243,
          317.2138960096571,
          317.58939344618057,
          317.96803283691406,
          318.30847812228734,
          318.6756442599826,
          319.0226816813151,
          319.4003217909071,
          319.89982265896265,
          320.31471659342446,
          320.69314914279516,
          321.12005445692273,
          321.5696489122179,
          322.02813788519967,
          322.4744137234158,
          322.95623948838977,
          323.5394483778212,
          324.18487243652345,
          324.62696228027346,
          325.00577256944445,
          325.29004245334204,
          325.64180467393663,
          326.0336917453342,
          326.32117716471356,
          326.53846944173176,
          326.7731672498915,
          326.93921746148004,
          327.0334275987413,
          327.12401123046874,
          327.232922024197,
          327.2770287407769,
          327.3033030192057,
          327.306642320421,
          327.2835615370009,
          327.32904561360675,
          327.2507751464844,
          327.2988294813368,
          327.3667721218533,
          327.38909946017793,
          327.36305067274304,
          327.3397148980035,
          327.39170633951824,
          327.34605916341144,
          327.32348090277776,
          327.28858846028646,
          327.2570553249783,
          327.35196499294705,
          327.35824347602,
          327.33811442057294,
          327.30450405544707,
          327.3489997016059,
          327.1346574571398,
          327.00481940375437,
          327.0045362684462,
          327.0623718261719,
          327.14027099609376,
          327.34375339084204,
          327.65880126953124,
          327.95230475531685,
          328.2611368815104,
          328.55112915039064,
          328.8796613905165,
          329.20329115125867,
          329.5646765814887,
          329.96513604058157,
          330.34037611219617,
          330.8585215250651,
          331.3214426676432,
          331.7851304796007,
          332.1842190212674,
          332.56798502604164,
          332.9914767795139,
          333.2213819715712,
          333.50038384331594,
          333.8210300021701,
          334.116500515408,
          334.43452996148005,
          334.64706251356336,
          335.0283921983507,
          335.52332695855034,
          335.9019270155165,
          336.3414042154948,
          336.77615729437935,
          337.2149190266927,
          337.7158447265625,
          338.2256435818142,
          338.7165805392795,
          339.22299228244356,
          339.8035634358724,
          340.3879157172309,
          340.9942376030816,
          341.56077440049916,
          342.16459893120657
         ],
         "yaxis": "y"
        },
        {
         "hovertemplate": "Ticker=NVDA<br>Data=%{x}<br>Close=%{y}<extra></extra>",
         "legendgroup": "NVDA",
         "line": {
          "color": "#00cc96",
          "dash": "solid"
         },
         "marker": {
          "symbol": "circle"
         },
         "mode": "lines",
         "name": "NVDA",
         "orientation": "v",
         "showlegend": true,
         "type": "scatter",
         "x": [
          "2023-05-16",
          "2023-05-17",
          "2023-05-18",
          "2023-05-19",
          "2023-05-22",
          "2023-05-23",
          "2023-05-24",
          "2023-05-25",
          "2023-05-26",
          "2023-05-30",
          "2023-05-31",
          "2023-06-01",
          "2023-06-02",
          "2023-06-05",
          "2023-06-06",
          "2023-06-07",
          "2023-06-09",
          "2023-06-12",
          "2023-06-13",
          "2023-06-14",
          "2023-06-15",
          "2023-06-16",
          "2023-06-20",
          "2023-06-21",
          "2023-06-22",
          "2023-06-23",
          "2023-06-26",
          "2023-06-27",
          "2023-06-28",
          "2023-06-29",
          "2023-06-30",
          "2023-07-03",
          "2023-07-05",
          "2023-07-06",
          "2023-07-07",
          "2023-07-10",
          "2023-07-11",
          "2023-07-12",
          "2023-07-13",
          "2023-07-14",
          "2023-07-17",
          "2023-07-18",
          "2023-07-19",
          "2023-07-20",
          "2023-07-21",
          "2023-07-24",
          "2023-07-25",
          "2023-07-26",
          "2023-07-27",
          "2023-07-28",
          "2023-07-31",
          "2023-08-01",
          "2023-08-02",
          "2023-08-03",
          "2023-08-04",
          "2023-08-07",
          "2023-08-08",
          "2023-08-09",
          "2023-08-10",
          "2023-08-11",
          "2023-08-14",
          "2023-08-15",
          "2023-08-16",
          "2023-08-17",
          "2023-08-18",
          "2023-08-21",
          "2023-08-22",
          "2023-08-23",
          "2023-08-24",
          "2023-08-25",
          "2023-08-28",
          "2023-08-29",
          "2023-08-30",
          "2023-08-31",
          "2023-09-01",
          "2023-09-05",
          "2023-09-06",
          "2023-09-08",
          "2023-09-11",
          "2023-09-12",
          "2023-09-13",
          "2023-09-14",
          "2023-09-15",
          "2023-09-18",
          "2023-09-19",
          "2023-09-20",
          "2023-09-21",
          "2023-09-22",
          "2023-09-25",
          "2023-09-26",
          "2023-09-27",
          "2023-09-28",
          "2023-09-29",
          "2023-10-02",
          "2023-10-03",
          "2023-10-04",
          "2023-10-05",
          "2023-10-06",
          "2023-10-09",
          "2023-10-10",
          "2023-10-11",
          "2023-10-13",
          "2023-10-16",
          "2023-10-17",
          "2023-10-18",
          "2023-10-19",
          "2023-10-20",
          "2023-10-23",
          "2023-10-24",
          "2023-10-25",
          "2023-10-26",
          "2023-10-27",
          "2023-10-30",
          "2023-10-31",
          "2023-11-01",
          "2023-11-03",
          "2023-11-06",
          "2023-11-07",
          "2023-11-08",
          "2023-11-09",
          "2023-11-10",
          "2023-11-13",
          "2023-11-14",
          "2023-11-16",
          "2023-11-17",
          "2023-11-20",
          "2023-11-21",
          "2023-11-22",
          "2023-11-24",
          "2023-11-27",
          "2023-11-28",
          "2023-11-29",
          "2023-11-30",
          "2023-12-01",
          "2023-12-04",
          "2023-12-05",
          "2023-12-06",
          "2023-12-07",
          "2023-12-08",
          "2023-12-11",
          "2023-12-12",
          "2023-12-13",
          "2023-12-14",
          "2023-12-15",
          "2023-12-18",
          "2023-12-19",
          "2023-12-20",
          "2023-12-21",
          "2023-12-22",
          "2023-12-26",
          "2023-12-27",
          "2023-12-28"
         ],
         "xaxis": "x",
         "y": [
          23.582552835676406,
          23.75873719321357,
          23.946760198805066,
          24.135559643639457,
          24.316786681281197,
          24.484056250254312,
          24.646540133158364,
          24.890645366244847,
          25.13981539408366,
          25.39761471218533,
          25.62121230231391,
          25.869917551676433,
          26.120498360527886,
          26.357422150505915,
          26.573571247524686,
          26.77587119208442,
          26.991909556918674,
          27.21053712632921,
          27.440017064412434,
          27.704788377549914,
          27.96157563527425,
          28.203185102674695,
          28.448683993021646,
          28.692470741271972,
          28.936157523261176,
          29.15874604119195,
          29.363464970058864,
          29.580534256829157,
          29.80107642279731,
          30.01253547668457,
          30.227296617296005,
          30.44558883243137,
          30.671275456746418,
          30.901402621799043,
          31.14301143222385,
          31.348723263210722,
          31.561130947536892,
          31.787777201334634,
          32.04063288370768,
          32.293598090277776,
          32.5507410897149,
          32.8129612604777,
          33.0742808871799,
          33.32121779123942,
          33.54478855133057,
          33.77999757130941,
          34.032287237379286,
          34.28204466501872,
          34.52459559970432,
          34.77475439707438,
          35.01009913550483,
          35.24093507130941,
          35.44497229258219,
          35.64842118157281,
          35.85071536170112,
          36.05316588083903,
          36.25182872348361,
          36.429811753167044,
          36.60729488796658,
          36.76137816111247,
          36.943215942382814,
          37.122755241394046,
          37.29516468048096,
          37.4716828028361,
          37.654053158230255,
          37.875428199768066,
          38.0763575024075,
          38.29792154100206,
          38.52749224768745,
          38.744701872931586,
          38.967709159851076,
          39.20965266757541,
          39.44954223632813,
          39.68751082950168,
          39.925267452663846,
          40.16414566040039,
          40.39544724358453,
          40.60227052900526,
          40.80171932644314,
          40.99193926917182,
          41.183870718214244,
          41.38139923943414,
          41.56292203267415,
          41.732762569851346,
          41.8924190097385,
          42.044288296169704,
          42.17909787495931,
          42.32390308380127,
          42.478148757086856,
          42.62213289472792,
          42.7694162580702,
          42.91288083394368,
          43.04424188401964,
          43.19445063273112,
          43.33158626556396,
          43.479961204528806,
          43.63718808492025,
          43.723701053195526,
          43.79405530293783,
          43.85730349222819,
          43.957033454047306,
          44.020325342814125,
          44.09557868109809,
          44.14860653347439,
          44.188027233547636,
          44.23944252861871,
          44.26854502360026,
          44.30737787882487,
          44.336748928493925,
          44.32325998942057,
          44.29745305379232,
          44.27314563327366,
          44.243785561455624,
          44.21866764492459,
          44.21093215942383,
          44.24202592637804,
          44.29891976250543,
          44.344263543023004,
          44.40491205851237,
          44.47301305135091,
          44.54006021287706,
          44.609040069580075,
          44.69059287177192,
          44.77256762186686,
          44.848078621758354,
          44.93951661851671,
          45.023290930853946,
          45.07680011325412,
          45.096823671129016,
          45.127664947509764,
          45.142812898423934,
          45.15003153483073,
          45.146664725409615,
          45.16053454081217,
          45.17391454908583,
          45.19570388793945,
          45.193835237291125,
          45.206628757052954,
          45.224554951985674,
          45.22327707078722,
          45.23367368910048,
          45.2513234032525,
          45.296738645765515,
          45.34542015923394,
          45.405454338921444,
          45.452049255371094,
          45.49042282104492,
          45.56199417114258,
          45.63363185458713,
          45.7272826300727,
          45.79028091430664,
          45.85236871507433
         ],
         "yaxis": "y"
        }
       ],
       "layout": {
        "autosize": true,
        "legend": {
         "title": {
          "text": "Ticker"
         },
         "tracegroupgap": 0
        },
        "margin": {
         "t": 60
        },
        "template": {
         "data": {
          "bar": [
           {
            "error_x": {
             "color": "#f2f5fa"
            },
            "error_y": {
             "color": "#f2f5fa"
            },
            "marker": {
             "line": {
              "color": "rgb(17,17,17)",
              "width": 0.5
             },
             "pattern": {
              "fillmode": "overlay",
              "size": 10,
              "solidity": 0.2
             }
            },
            "type": "bar"
           }
          ],
          "barpolar": [
           {
            "marker": {
             "line": {
              "color": "rgb(17,17,17)",
              "width": 0.5
             },
             "pattern": {
              "fillmode": "overlay",
              "size": 10,
              "solidity": 0.2
             }
            },
            "type": "barpolar"
           }
          ],
          "carpet": [
           {
            "aaxis": {
             "endlinecolor": "#A2B1C6",
             "gridcolor": "#506784",
             "linecolor": "#506784",
             "minorgridcolor": "#506784",
             "startlinecolor": "#A2B1C6"
            },
            "baxis": {
             "endlinecolor": "#A2B1C6",
             "gridcolor": "#506784",
             "linecolor": "#506784",
             "minorgridcolor": "#506784",
             "startlinecolor": "#A2B1C6"
            },
            "type": "carpet"
           }
          ],
          "choropleth": [
           {
            "colorbar": {
             "outlinewidth": 0,
             "ticks": ""
            },
            "type": "choropleth"
           }
          ],
          "contour": [
           {
            "colorbar": {
             "outlinewidth": 0,
             "ticks": ""
            },
            "colorscale": [
             [
              0,
              "#0d0887"
             ],
             [
              0.1111111111111111,
              "#46039f"
             ],
             [
              0.2222222222222222,
              "#7201a8"
             ],
             [
              0.3333333333333333,
              "#9c179e"
             ],
             [
              0.4444444444444444,
              "#bd3786"
             ],
             [
              0.5555555555555556,
              "#d8576b"
             ],
             [
              0.6666666666666666,
              "#ed7953"
             ],
             [
              0.7777777777777778,
              "#fb9f3a"
             ],
             [
              0.8888888888888888,
              "#fdca26"
             ],
             [
              1,
              "#f0f921"
             ]
            ],
            "type": "contour"
           }
          ],
          "contourcarpet": [
           {
            "colorbar": {
             "outlinewidth": 0,
             "ticks": ""
            },
            "type": "contourcarpet"
           }
          ],
          "heatmap": [
           {
            "colorbar": {
             "outlinewidth": 0,
             "ticks": ""
            },
            "colorscale": [
             [
              0,
              "#0d0887"
             ],
             [
              0.1111111111111111,
              "#46039f"
             ],
             [
              0.2222222222222222,
              "#7201a8"
             ],
             [
              0.3333333333333333,
              "#9c179e"
             ],
             [
              0.4444444444444444,
              "#bd3786"
             ],
             [
              0.5555555555555556,
              "#d8576b"
             ],
             [
              0.6666666666666666,
              "#ed7953"
             ],
             [
              0.7777777777777778,
              "#fb9f3a"
             ],
             [
              0.8888888888888888,
              "#fdca26"
             ],
             [
              1,
              "#f0f921"
             ]
            ],
            "type": "heatmap"
           }
          ],
          "heatmapgl": [
           {
            "colorbar": {
             "outlinewidth": 0,
             "ticks": ""
            },
            "colorscale": [
             [
              0,
              "#0d0887"
             ],
             [
              0.1111111111111111,
              "#46039f"
             ],
             [
              0.2222222222222222,
              "#7201a8"
             ],
             [
              0.3333333333333333,
              "#9c179e"
             ],
             [
              0.4444444444444444,
              "#bd3786"
             ],
             [
              0.5555555555555556,
              "#d8576b"
             ],
             [
              0.6666666666666666,
              "#ed7953"
             ],
             [
              0.7777777777777778,
              "#fb9f3a"
             ],
             [
              0.8888888888888888,
              "#fdca26"
             ],
             [
              1,
              "#f0f921"
             ]
            ],
            "type": "heatmapgl"
           }
          ],
          "histogram": [
           {
            "marker": {
             "pattern": {
              "fillmode": "overlay",
              "size": 10,
              "solidity": 0.2
             }
            },
            "type": "histogram"
           }
          ],
          "histogram2d": [
           {
            "colorbar": {
             "outlinewidth": 0,
             "ticks": ""
            },
            "colorscale": [
             [
              0,
              "#0d0887"
             ],
             [
              0.1111111111111111,
              "#46039f"
             ],
             [
              0.2222222222222222,
              "#7201a8"
             ],
             [
              0.3333333333333333,
              "#9c179e"
             ],
             [
              0.4444444444444444,
              "#bd3786"
             ],
             [
              0.5555555555555556,
              "#d8576b"
             ],
             [
              0.6666666666666666,
              "#ed7953"
             ],
             [
              0.7777777777777778,
              "#fb9f3a"
             ],
             [
              0.8888888888888888,
              "#fdca26"
             ],
             [
              1,
              "#f0f921"
             ]
            ],
            "type": "histogram2d"
           }
          ],
          "histogram2dcontour": [
           {
            "colorbar": {
             "outlinewidth": 0,
             "ticks": ""
            },
            "colorscale": [
             [
              0,
              "#0d0887"
             ],
             [
              0.1111111111111111,
              "#46039f"
             ],
             [
              0.2222222222222222,
              "#7201a8"
             ],
             [
              0.3333333333333333,
              "#9c179e"
             ],
             [
              0.4444444444444444,
              "#bd3786"
             ],
             [
              0.5555555555555556,
              "#d8576b"
             ],
             [
              0.6666666666666666,
              "#ed7953"
             ],
             [
              0.7777777777777778,
              "#fb9f3a"
             ],
             [
              0.8888888888888888,
              "#fdca26"
             ],
             [
              1,
              "#f0f921"
             ]
            ],
            "type": "histogram2dcontour"
           }
          ],
          "mesh3d": [
           {
            "colorbar": {
             "outlinewidth": 0,
             "ticks": ""
            },
            "type": "mesh3d"
           }
          ],
          "parcoords": [
           {
            "line": {
             "colorbar": {
              "outlinewidth": 0,
              "ticks": ""
             }
            },
            "type": "parcoords"
           }
          ],
          "pie": [
           {
            "automargin": true,
            "type": "pie"
           }
          ],
          "scatter": [
           {
            "marker": {
             "line": {
              "color": "#283442"
             }
            },
            "type": "scatter"
           }
          ],
          "scatter3d": [
           {
            "line": {
             "colorbar": {
              "outlinewidth": 0,
              "ticks": ""
             }
            },
            "marker": {
             "colorbar": {
              "outlinewidth": 0,
              "ticks": ""
             }
            },
            "type": "scatter3d"
           }
          ],
          "scattercarpet": [
           {
            "marker": {
             "colorbar": {
              "outlinewidth": 0,
              "ticks": ""
             }
            },
            "type": "scattercarpet"
           }
          ],
          "scattergeo": [
           {
            "marker": {
             "colorbar": {
              "outlinewidth": 0,
              "ticks": ""
             }
            },
            "type": "scattergeo"
           }
          ],
          "scattergl": [
           {
            "marker": {
             "line": {
              "color": "#283442"
             }
            },
            "type": "scattergl"
           }
          ],
          "scattermapbox": [
           {
            "marker": {
             "colorbar": {
              "outlinewidth": 0,
              "ticks": ""
             }
            },
            "type": "scattermapbox"
           }
          ],
          "scatterpolar": [
           {
            "marker": {
             "colorbar": {
              "outlinewidth": 0,
              "ticks": ""
             }
            },
            "type": "scatterpolar"
           }
          ],
          "scatterpolargl": [
           {
            "marker": {
             "colorbar": {
              "outlinewidth": 0,
              "ticks": ""
             }
            },
            "type": "scatterpolargl"
           }
          ],
          "scatterternary": [
           {
            "marker": {
             "colorbar": {
              "outlinewidth": 0,
              "ticks": ""
             }
            },
            "type": "scatterternary"
           }
          ],
          "surface": [
           {
            "colorbar": {
             "outlinewidth": 0,
             "ticks": ""
            },
            "colorscale": [
             [
              0,
              "#0d0887"
             ],
             [
              0.1111111111111111,
              "#46039f"
             ],
             [
              0.2222222222222222,
              "#7201a8"
             ],
             [
              0.3333333333333333,
              "#9c179e"
             ],
             [
              0.4444444444444444,
              "#bd3786"
             ],
             [
              0.5555555555555556,
              "#d8576b"
             ],
             [
              0.6666666666666666,
              "#ed7953"
             ],
             [
              0.7777777777777778,
              "#fb9f3a"
             ],
             [
              0.8888888888888888,
              "#fdca26"
             ],
             [
              1,
              "#f0f921"
             ]
            ],
            "type": "surface"
           }
          ],
          "table": [
           {
            "cells": {
             "fill": {
              "color": "#506784"
             },
             "line": {
              "color": "rgb(17,17,17)"
             }
            },
            "header": {
             "fill": {
              "color": "#2a3f5f"
             },
             "line": {
              "color": "rgb(17,17,17)"
             }
            },
            "type": "table"
           }
          ]
         },
         "layout": {
          "annotationdefaults": {
           "arrowcolor": "#f2f5fa",
           "arrowhead": 0,
           "arrowwidth": 1
          },
          "autotypenumbers": "strict",
          "coloraxis": {
           "colorbar": {
            "outlinewidth": 0,
            "ticks": ""
           }
          },
          "colorscale": {
           "diverging": [
            [
             0,
             "#8e0152"
            ],
            [
             0.1,
             "#c51b7d"
            ],
            [
             0.2,
             "#de77ae"
            ],
            [
             0.3,
             "#f1b6da"
            ],
            [
             0.4,
             "#fde0ef"
            ],
            [
             0.5,
             "#f7f7f7"
            ],
            [
             0.6,
             "#e6f5d0"
            ],
            [
             0.7,
             "#b8e186"
            ],
            [
             0.8,
             "#7fbc41"
            ],
            [
             0.9,
             "#4d9221"
            ],
            [
             1,
             "#276419"
            ]
           ],
           "sequential": [
            [
             0,
             "#0d0887"
            ],
            [
             0.1111111111111111,
             "#46039f"
            ],
            [
             0.2222222222222222,
             "#7201a8"
            ],
            [
             0.3333333333333333,
             "#9c179e"
            ],
            [
             0.4444444444444444,
             "#bd3786"
            ],
            [
             0.5555555555555556,
             "#d8576b"
            ],
            [
             0.6666666666666666,
             "#ed7953"
            ],
            [
             0.7777777777777778,
             "#fb9f3a"
            ],
            [
             0.8888888888888888,
             "#fdca26"
            ],
            [
             1,
             "#f0f921"
            ]
           ],
           "sequentialminus": [
            [
             0,
             "#0d0887"
            ],
            [
             0.1111111111111111,
             "#46039f"
            ],
            [
             0.2222222222222222,
             "#7201a8"
            ],
            [
             0.3333333333333333,
             "#9c179e"
            ],
            [
             0.4444444444444444,
             "#bd3786"
            ],
            [
             0.5555555555555556,
             "#d8576b"
            ],
            [
             0.6666666666666666,
             "#ed7953"
            ],
            [
             0.7777777777777778,
             "#fb9f3a"
            ],
            [
             0.8888888888888888,
             "#fdca26"
            ],
            [
             1,
             "#f0f921"
            ]
           ]
          },
          "colorway": [
           "#636efa",
           "#EF553B",
           "#00cc96",
           "#ab63fa",
           "#FFA15A",
           "#19d3f3",
           "#FF6692",
           "#B6E880",
           "#FF97FF",
           "#FECB52"
          ],
          "font": {
           "color": "#f2f5fa"
          },
          "geo": {
           "bgcolor": "rgb(17,17,17)",
           "lakecolor": "rgb(17,17,17)",
           "landcolor": "rgb(17,17,17)",
           "showlakes": true,
           "showland": true,
           "subunitcolor": "#506784"
          },
          "hoverlabel": {
           "align": "left"
          },
          "hovermode": "closest",
          "mapbox": {
           "style": "dark"
          },
          "paper_bgcolor": "rgb(17,17,17)",
          "plot_bgcolor": "rgb(17,17,17)",
          "polar": {
           "angularaxis": {
            "gridcolor": "#506784",
            "linecolor": "#506784",
            "ticks": ""
           },
           "bgcolor": "rgb(17,17,17)",
           "radialaxis": {
            "gridcolor": "#506784",
            "linecolor": "#506784",
            "ticks": ""
           }
          },
          "scene": {
           "xaxis": {
            "backgroundcolor": "rgb(17,17,17)",
            "gridcolor": "#506784",
            "gridwidth": 2,
            "linecolor": "#506784",
            "showbackground": true,
            "ticks": "",
            "zerolinecolor": "#C8D4E3"
           },
           "yaxis": {
            "backgroundcolor": "rgb(17,17,17)",
            "gridcolor": "#506784",
            "gridwidth": 2,
            "linecolor": "#506784",
            "showbackground": true,
            "ticks": "",
            "zerolinecolor": "#C8D4E3"
           },
           "zaxis": {
            "backgroundcolor": "rgb(17,17,17)",
            "gridcolor": "#506784",
            "gridwidth": 2,
            "linecolor": "#506784",
            "showbackground": true,
            "ticks": "",
            "zerolinecolor": "#C8D4E3"
           }
          },
          "shapedefaults": {
           "line": {
            "color": "#f2f5fa"
           }
          },
          "sliderdefaults": {
           "bgcolor": "#C8D4E3",
           "bordercolor": "rgb(17,17,17)",
           "borderwidth": 1,
           "tickwidth": 0
          },
          "ternary": {
           "aaxis": {
            "gridcolor": "#506784",
            "linecolor": "#506784",
            "ticks": ""
           },
           "baxis": {
            "gridcolor": "#506784",
            "linecolor": "#506784",
            "ticks": ""
           },
           "bgcolor": "rgb(17,17,17)",
           "caxis": {
            "gridcolor": "#506784",
            "linecolor": "#506784",
            "ticks": ""
           }
          },
          "title": {
           "x": 0.05
          },
          "updatemenudefaults": {
           "bgcolor": "#506784",
           "borderwidth": 0
          },
          "xaxis": {
           "automargin": true,
           "gridcolor": "#283442",
           "linecolor": "#506784",
           "ticks": "",
           "title": {
            "standoff": 15
           },
           "zerolinecolor": "#283442",
           "zerolinewidth": 2
          },
          "yaxis": {
           "automargin": true,
           "gridcolor": "#283442",
           "linecolor": "#506784",
           "ticks": "",
           "title": {
            "standoff": 15
           },
           "zerolinecolor": "#283442",
           "zerolinewidth": 2
          }
         }
        },
        "xaxis": {
         "anchor": "y",
         "autorange": true,
         "domain": [
          0,
          1
         ],
         "range": [
          "2023-05-16",
          "2023-12-28"
         ],
         "title": {
          "text": "Data"
         },
         "type": "date"
        },
        "yaxis": {
         "anchor": "x",
         "autorange": true,
         "domain": [
          0,
          1
         ],
         "range": [
          2.274541873696414,
          360.05354930265446
         ],
         "title": {
          "text": "Close"
         },
         "type": "linear"
        }
       }
      },
      "image/png": "[encoded data removed]",
      "text/html": [
       "<div>                            <div id=\"88a3aed2-4d88-49b1-b5ab-990f6e4eb090\" class=\"plotly-graph-div\" style=\"height:525px; width:100%;\"></div>            <script type=\"text/javascript\">                require([\"plotly\"], function(Plotly) {                    window.PLOTLYENV=window.PLOTLYENV || {};                                    if (document.getElementById(\"88a3aed2-4d88-49b1-b5ab-990f6e4eb090\")) {                    Plotly.newPlot(                        \"88a3aed2-4d88-49b1-b5ab-990f6e4eb090\",                        [{\"hovertemplate\":\"Ticker=MGLU3.SA\\u003cbr\\u003eData=%{x}\\u003cbr\\u003eClose=%{y}\\u003cextra\\u003e\\u003c\\u002fextra\\u003e\",\"legendgroup\":\"MGLU3.SA\",\"line\":{\"color\":\"#636efa\",\"dash\":\"solid\"},\"marker\":{\"symbol\":\"circle\"},\"mode\":\"lines\",\"name\":\"MGLU3.SA\",\"orientation\":\"v\",\"showlegend\":true,\"x\":[\"2023-05-16\",\"2023-05-17\",\"2023-05-18\",\"2023-05-19\",\"2023-05-22\",\"2023-05-23\",\"2023-05-24\",\"2023-05-25\",\"2023-05-26\",\"2023-05-30\",\"2023-05-31\",\"2023-06-01\",\"2023-06-02\",\"2023-06-05\",\"2023-06-06\",\"2023-06-07\",\"2023-06-09\",\"2023-06-12\",\"2023-06-13\",\"2023-06-14\",\"2023-06-15\",\"2023-06-16\",\"2023-06-20\",\"2023-06-21\",\"2023-06-22\",\"2023-06-23\",\"2023-06-26\",\"2023-06-27\",\"2023-06-28\",\"2023-06-29\",\"2023-06-30\",\"2023-07-03\",\"2023-07-05\",\"2023-07-06\",\"2023-07-07\",\"2023-07-10\",\"2023-07-11\",\"2023-07-12\",\"2023-07-13\",\"2023-07-14\",\"2023-07-17\",\"2023-07-18\",\"2023-07-19\",\"2023-07-20\",\"2023-07-21\",\"2023-07-24\",\"2023-07-25\",\"2023-07-26\",\"2023-07-27\",\"2023-07-28\",\"2023-07-31\",\"2023-08-01\",\"2023-08-02\",\"2023-08-03\",\"2023-08-04\",\"2023-08-07\",\"2023-08-08\",\"2023-08-09\",\"2023-08-10\",\"2023-08-11\",\"2023-08-14\",\"2023-08-15\",\"2023-08-16\",\"2023-08-17\",\"2023-08-18\",\"2023-08-21\",\"2023-08-22\",\"2023-08-23\",\"2023-08-24\",\"2023-08-25\",\"2023-08-28\",\"2023-08-29\",\"2023-08-30\",\"2023-08-31\",\"2023-09-01\",\"2023-09-05\",\"2023-09-06\",\"2023-09-08\",\"2023-09-11\",\"2023-09-12\",\"2023-09-13\",\"2023-09-14\",\"2023-09-15\",\"2023-09-18\",\"2023-09-19\",\"2023-09-20\",\"2023-09-21\",\"2023-09-22\",\"2023-09-25\",\"2023-09-26\",\"2023-09-27\",\"2023-09-28\",\"2023-09-29\",\"2023-10-02\",\"2023-10-03\",\"2023-10-04\",\"2023-10-05\",\"2023-10-06\",\"2023-10-09\",\"2023-10-10\",\"2023-10-11\",\"2023-10-13\",\"2023-10-16\",\"2023-10-17\",\"2023-10-18\",\"2023-10-19\",\"2023-10-20\",\"2023-10-23\",\"2023-10-24\",\"2023-10-25\",\"2023-10-26\",\"2023-10-27\",\"2023-10-30\",\"2023-10-31\",\"2023-11-01\",\"2023-11-03\",\"2023-11-06\",\"2023-11-07\",\"2023-11-08\",\"2023-11-09\",\"2023-11-10\",\"2023-11-13\",\"2023-11-14\",\"2023-11-16\",\"2023-11-17\",\"2023-11-20\",\"2023-11-21\",\"2023-11-22\",\"2023-11-24\",\"2023-11-27\",\"2023-11-28\",\"2023-11-29\",\"2023-11-30\",\"2023-12-01\",\"2023-12-04\",\"2023-12-05\",\"2023-12-06\",\"2023-12-07\",\"2023-12-08\",\"2023-12-11\",\"2023-12-12\",\"2023-12-13\",\"2023-12-14\",\"2023-12-15\",\"2023-12-18\",\"2023-12-19\",\"2023-12-20\",\"2023-12-21\",\"2023-12-22\",\"2023-12-26\",\"2023-12-27\",\"2023-12-28\"],\"xaxis\":\"x\",\"y\":[33.873253716362846,33.95847208234999,34.06135766771104,34.16320398118761,34.2712857776218,34.35754337310791,34.41781976487901,34.49368485344781,34.55915747748481,34.59033495585124,34.591374206542966,34.64333665635851,34.669317881266274,34.67659259372287,34.67139634026422,34.61839468214247,34.57890324062771,34.545647303263344,34.4656251695421,34.408466508653426,34.33779763115777,34.27752126057943,34.20893088446723,34.155929226345485,34.09773135715061,34.048886659410265,33.963668293423126,33.88780318366157,33.821291287740074,33.75062241024441,33.67891426086426,33.632148106892906,33.59057818518745,33.5375765270657,33.50224208831787,33.44924045138889,33.39208181169298,33.32245218488905,33.26321504380968,33.234116088019476,33.2143703672621,33.20813488430447,33.182153680589465,33.1488977432251,33.10628857082791,33.06679715050591,33.032501962449814,32.96702931722005,32.908831405639646,32.84231953091091,32.78620014190674,32.749826452467175,32.71033501095242,32.65421560075548,32.59913546244304,32.58874299791124,32.56380104488797,32.525348854064944,32.470268715752496,32.421424060397676,32.359069188435875,32.302949799431694,32.26761536068386,32.22604543897841,32.19694650438097,32.1636905670166,32.13147388034397,32.05664802127414,31.967272652520073,31.869583320617675,31.785404226515027,31.70953909556071,31.64510570102268,31.594182544284397,31.54845561981201,31.47570824093289,31.40400013393826,31.341645261976453,31.27409413655599,31.199268256293404,31.134834861755373,31.05585199991862,30.942573928833006,30.81474641164144,30.67444790734185,30.506089719136558,30.304475593566895,30.085194227430556,29.86071662902832,29.623768043518066,29.484508811102973,29.34836728837755,29.20079402923584,29.03139659033881,28.827703963385687,28.64375703599718,28.454613876342773,28.248842748006187,28.04515012105306,27.864320924546984,27.667903031243217,27.435111427307127,27.199202071295844,26.970567501915827,26.735697417789034,26.49978807237413,26.24725077946981,25.992634985182022,25.74841168721517,25.502109877268474,25.265161323547364,25.031330468919542,24.791264131334092,24.53872684902615,24.305935245090062,24.08873240152995,23.88400051328871,23.716681575775148,23.553519619835747,23.372690455118814,23.209528499179417,23.031817075941298,22.859301884969074,22.759534072875976,22.659766239590116,22.579744148254395,22.48309406704373,22.389561737908256,22.2825191921658,22.179633627997504,22.070512580871583,21.958273781670464,21.86266295115153,21.786797841389973,21.680794546339246,21.59037994808621,21.49684761895074,21.41059002346463,21.302508205837675,21.204818873935274,21.093619346618652,21.00008701748318,20.90655468834771,20.80782610575358,20.71637225680881,20.628036159939235,20.535543081495497,20.44408925374349,20.368224122789172,20.28820203145345,20.226886388990614,20.163492245144315],\"yaxis\":\"y\",\"type\":\"scatter\"},{\"hovertemplate\":\"Ticker=MSFT\\u003cbr\\u003eData=%{x}\\u003cbr\\u003eClose=%{y}\\u003cextra\\u003e\\u003c\\u002fextra\\u003e\",\"legendgroup\":\"MSFT\",\"line\":{\"color\":\"#EF553B\",\"dash\":\"solid\"},\"marker\":{\"symbol\":\"circle\"},\"mode\":\"lines\",\"name\":\"MSFT\",\"orientation\":\"v\",\"showlegend\":true,\"x\":[\"2023-05-16\",\"2023-05-17\",\"2023-05-18\",\"2023-05-19\",\"2023-05-22\",\"2023-05-23\",\"2023-05-24\",\"2023-05-25\",\"2023-05-26\",\"2023-05-30\",\"2023-05-31\",\"2023-06-01\",\"2023-06-02\",\"2023-06-05\",\"2023-06-06\",\"2023-06-07\",\"2023-06-09\",\"2023-06-12\",\"2023-06-13\",\"2023-06-14\",\"2023-06-15\",\"2023-06-16\",\"2023-06-20\",\"2023-06-21\",\"2023-06-22\",\"2023-06-23\",\"2023-06-26\",\"2023-06-27\",\"2023-06-28\",\"2023-06-29\",\"2023-06-30\",\"2023-07-03\",\"2023-07-05\",\"2023-07-06\",\"2023-07-07\",\"2023-07-10\",\"2023-07-11\",\"2023-07-12\",\"2023-07-13\",\"2023-07-14\",\"2023-07-17\",\"2023-07-18\",\"2023-07-19\",\"2023-07-20\",\"2023-07-21\",\"2023-07-24\",\"2023-07-25\",\"2023-07-26\",\"2023-07-27\",\"2023-07-28\",\"2023-07-31\",\"2023-08-01\",\"2023-08-02\",\"2023-08-03\",\"2023-08-04\",\"2023-08-07\",\"2023-08-08\",\"2023-08-09\",\"2023-08-10\",\"2023-08-11\",\"2023-08-14\",\"2023-08-15\",\"2023-08-16\",\"2023-08-17\",\"2023-08-18\",\"2023-08-21\",\"2023-08-22\",\"2023-08-23\",\"2023-08-24\",\"2023-08-25\",\"2023-08-28\",\"2023-08-29\",\"2023-08-30\",\"2023-08-31\",\"2023-09-01\",\"2023-09-05\",\"2023-09-06\",\"2023-09-08\",\"2023-09-11\",\"2023-09-12\",\"2023-09-13\",\"2023-09-14\",\"2023-09-15\",\"2023-09-18\",\"2023-09-19\",\"2023-09-20\",\"2023-09-21\",\"2023-09-22\",\"2023-09-25\",\"2023-09-26\",\"2023-09-27\",\"2023-09-28\",\"2023-09-29\",\"2023-10-02\",\"2023-10-03\",\"2023-10-04\",\"2023-10-05\",\"2023-10-06\",\"2023-10-09\",\"2023-10-10\",\"2023-10-11\",\"2023-10-13\",\"2023-10-16\",\"2023-10-17\",\"2023-10-18\",\"2023-10-19\",\"2023-10-20\",\"2023-10-23\",\"2023-10-24\",\"2023-10-25\",\"2023-10-26\",\"2023-10-27\",\"2023-10-30\",\"2023-10-31\",\"2023-11-01\",\"2023-11-03\",\"2023-11-06\",\"2023-11-07\",\"2023-11-08\",\"2023-11-09\",\"2023-11-10\",\"2023-11-13\",\"2023-11-14\",\"2023-11-16\",\"2023-11-17\",\"2023-11-20\",\"2023-11-21\",\"2023-11-22\",\"2023-11-24\",\"2023-11-27\",\"2023-11-28\",\"2023-11-29\",\"2023-11-30\",\"2023-12-01\",\"2023-12-04\",\"2023-12-05\",\"2023-12-06\",\"2023-12-07\",\"2023-12-08\",\"2023-12-11\",\"2023-12-12\",\"2023-12-13\",\"2023-12-14\",\"2023-12-15\",\"2023-12-18\",\"2023-12-19\",\"2023-12-20\",\"2023-12-21\",\"2023-12-22\",\"2023-12-26\",\"2023-12-27\",\"2023-12-28\"],\"xaxis\":\"x\",\"y\":[264.5126039293077,265.3422620985243,266.33612755669486,267.4022425333659,268.470908610026,269.4506142510308,270.39592217339407,271.3981477525499,272.44697265625,273.4694746229384,274.4487611558702,275.52369706895615,276.6720196194119,277.7356492784288,278.7486582438151,279.6544455634223,280.61331719292536,281.54697757297095,282.5056874593099,283.5574734157986,284.67168511284723,285.66852179633247,286.4888102213542,287.3281080457899,288.2522247314453,289.00687696668837,289.70009087456594,290.49287177191843,291.3053948296441,292.01927388509114,292.7841576470269,293.544815741645,294.3858076307509,295.30588972303605,296.2532718234592,297.1057288275825,298.02603793674047,298.98799608018663,300.0180308024089,301.11092258029515,302.1561548868815,303.3067042032878,304.3915032280816,305.4159401787652,306.41126115587025,307.43642272949216,308.56693250868057,309.4939442952474,310.2682362874349,311.0755883110894,311.73811306423613,312.3698530409071,312.98340861002606,313.5707509358724,314.1867228190104,314.7694356282552,315.27566596137154,315.7858598497179,316.31634487575957,316.76787855360243,317.2138960096571,317.58939344618057,317.96803283691406,318.30847812228734,318.6756442599826,319.0226816813151,319.4003217909071,319.89982265896265,320.31471659342446,320.69314914279516,321.12005445692273,321.5696489122179,322.02813788519967,322.4744137234158,322.95623948838977,323.5394483778212,324.18487243652345,324.62696228027346,325.00577256944445,325.29004245334204,325.64180467393663,326.0336917453342,326.32117716471356,326.53846944173176,326.7731672498915,326.93921746148004,327.0334275987413,327.12401123046874,327.232922024197,327.2770287407769,327.3033030192057,327.306642320421,327.2835615370009,327.32904561360675,327.2507751464844,327.2988294813368,327.3667721218533,327.38909946017793,327.36305067274304,327.3397148980035,327.39170633951824,327.34605916341144,327.32348090277776,327.28858846028646,327.2570553249783,327.35196499294705,327.35824347602,327.33811442057294,327.30450405544707,327.3489997016059,327.1346574571398,327.00481940375437,327.0045362684462,327.0623718261719,327.14027099609376,327.34375339084204,327.65880126953124,327.95230475531685,328.2611368815104,328.55112915039064,328.8796613905165,329.20329115125867,329.5646765814887,329.96513604058157,330.34037611219617,330.8585215250651,331.3214426676432,331.7851304796007,332.1842190212674,332.56798502604164,332.9914767795139,333.2213819715712,333.50038384331594,333.8210300021701,334.116500515408,334.43452996148005,334.64706251356336,335.0283921983507,335.52332695855034,335.9019270155165,336.3414042154948,336.77615729437935,337.2149190266927,337.7158447265625,338.2256435818142,338.7165805392795,339.22299228244356,339.8035634358724,340.3879157172309,340.9942376030816,341.56077440049916,342.16459893120657],\"yaxis\":\"y\",\"type\":\"scatter\"},{\"hovertemplate\":\"Ticker=NVDA\\u003cbr\\u003eData=%{x}\\u003cbr\\u003eClose=%{y}\\u003cextra\\u003e\\u003c\\u002fextra\\u003e\",\"legendgroup\":\"NVDA\",\"line\":{\"color\":\"#00cc96\",\"dash\":\"solid\"},\"marker\":{\"symbol\":\"circle\"},\"mode\":\"lines\",\"name\":\"NVDA\",\"orientation\":\"v\",\"showlegend\":true,\"x\":[\"2023-05-16\",\"2023-05-17\",\"2023-05-18\",\"2023-05-19\",\"2023-05-22\",\"2023-05-23\",\"2023-05-24\",\"2023-05-25\",\"2023-05-26\",\"2023-05-30\",\"2023-05-31\",\"2023-06-01\",\"2023-06-02\",\"2023-06-05\",\"2023-06-06\",\"2023-06-07\",\"2023-06-09\",\"2023-06-12\",\"2023-06-13\",\"2023-06-14\",\"2023-06-15\",\"2023-06-16\",\"2023-06-20\",\"2023-06-21\",\"2023-06-22\",\"2023-06-23\",\"2023-06-26\",\"2023-06-27\",\"2023-06-28\",\"2023-06-29\",\"2023-06-30\",\"2023-07-03\",\"2023-07-05\",\"2023-07-06\",\"2023-07-07\",\"2023-07-10\",\"2023-07-11\",\"2023-07-12\",\"2023-07-13\",\"2023-07-14\",\"2023-07-17\",\"2023-07-18\",\"2023-07-19\",\"2023-07-20\",\"2023-07-21\",\"2023-07-24\",\"2023-07-25\",\"2023-07-26\",\"2023-07-27\",\"2023-07-28\",\"2023-07-31\",\"2023-08-01\",\"2023-08-02\",\"2023-08-03\",\"2023-08-04\",\"2023-08-07\",\"2023-08-08\",\"2023-08-09\",\"2023-08-10\",\"2023-08-11\",\"2023-08-14\",\"2023-08-15\",\"2023-08-16\",\"2023-08-17\",\"2023-08-18\",\"2023-08-21\",\"2023-08-22\",\"2023-08-23\",\"2023-08-24\",\"2023-08-25\",\"2023-08-28\",\"2023-08-29\",\"2023-08-30\",\"2023-08-31\",\"2023-09-01\",\"2023-09-05\",\"2023-09-06\",\"2023-09-08\",\"2023-09-11\",\"2023-09-12\",\"2023-09-13\",\"2023-09-14\",\"2023-09-15\",\"2023-09-18\",\"2023-09-19\",\"2023-09-20\",\"2023-09-21\",\"2023-09-22\",\"2023-09-25\",\"2023-09-26\",\"2023-09-27\",\"2023-09-28\",\"2023-09-29\",\"2023-10-02\",\"2023-10-03\",\"2023-10-04\",\"2023-10-05\",\"2023-10-06\",\"2023-10-09\",\"2023-10-10\",\"2023-10-11\",\"2023-10-13\",\"2023-10-16\",\"2023-10-17\",\"2023-10-18\",\"2023-10-19\",\"2023-10-20\",\"2023-10-23\",\"2023-10-24\",\"2023-10-25\",\"2023-10-26\",\"2023-10-27\",\"2023-10-30\",\"2023-10-31\",\"2023-11-01\",\"2023-11-03\",\"2023-11-06\",\"2023-11-07\",\"2023-11-08\",\"2023-11-09\",\"2023-11-10\",\"2023-11-13\",\"2023-11-14\",\"2023-11-16\",\"2023-11-17\",\"2023-11-20\",\"2023-11-21\",\"2023-11-22\",\"2023-11-24\",\"2023-11-27\",\"2023-11-28\",\"2023-11-29\",\"2023-11-30\",\"2023-12-01\",\"2023-12-04\",\"2023-12-05\",\"2023-12-06\",\"2023-12-07\",\"2023-12-08\",\"2023-12-11\",\"2023-12-12\",\"2023-12-13\",\"2023-12-14\",\"2023-12-15\",\"2023-12-18\",\"2023-12-19\",\"2023-12-20\",\"2023-12-21\",\"2023-12-22\",\"2023-12-26\",\"2023-12-27\",\"2023-12-28\"],\"xaxis\":\"x\",\"y\":[23.582552835676406,23.75873719321357,23.946760198805066,24.135559643639457,24.316786681281197,24.484056250254312,24.646540133158364,24.890645366244847,25.13981539408366,25.39761471218533,25.62121230231391,25.869917551676433,26.120498360527886,26.357422150505915,26.573571247524686,26.77587119208442,26.991909556918674,27.21053712632921,27.440017064412434,27.704788377549914,27.96157563527425,28.203185102674695,28.448683993021646,28.692470741271972,28.936157523261176,29.15874604119195,29.363464970058864,29.580534256829157,29.80107642279731,30.01253547668457,30.227296617296005,30.44558883243137,30.671275456746418,30.901402621799043,31.14301143222385,31.348723263210722,31.561130947536892,31.787777201334634,32.04063288370768,32.293598090277776,32.5507410897149,32.8129612604777,33.0742808871799,33.32121779123942,33.54478855133057,33.77999757130941,34.032287237379286,34.28204466501872,34.52459559970432,34.77475439707438,35.01009913550483,35.24093507130941,35.44497229258219,35.64842118157281,35.85071536170112,36.05316588083903,36.25182872348361,36.429811753167044,36.60729488796658,36.76137816111247,36.943215942382814,37.122755241394046,37.29516468048096,37.4716828028361,37.654053158230255,37.875428199768066,38.0763575024075,38.29792154100206,38.52749224768745,38.744701872931586,38.967709159851076,39.20965266757541,39.44954223632813,39.68751082950168,39.925267452663846,40.16414566040039,40.39544724358453,40.60227052900526,40.80171932644314,40.99193926917182,41.183870718214244,41.38139923943414,41.56292203267415,41.732762569851346,41.8924190097385,42.044288296169704,42.17909787495931,42.32390308380127,42.478148757086856,42.62213289472792,42.7694162580702,42.91288083394368,43.04424188401964,43.19445063273112,43.33158626556396,43.479961204528806,43.63718808492025,43.723701053195526,43.79405530293783,43.85730349222819,43.957033454047306,44.020325342814125,44.09557868109809,44.14860653347439,44.188027233547636,44.23944252861871,44.26854502360026,44.30737787882487,44.336748928493925,44.32325998942057,44.29745305379232,44.27314563327366,44.243785561455624,44.21866764492459,44.21093215942383,44.24202592637804,44.29891976250543,44.344263543023004,44.40491205851237,44.47301305135091,44.54006021287706,44.609040069580075,44.69059287177192,44.77256762186686,44.848078621758354,44.93951661851671,45.023290930853946,45.07680011325412,45.096823671129016,45.127664947509764,45.142812898423934,45.15003153483073,45.146664725409615,45.16053454081217,45.17391454908583,45.19570388793945,45.193835237291125,45.206628757052954,45.224554951985674,45.22327707078722,45.23367368910048,45.2513234032525,45.296738645765515,45.34542015923394,45.405454338921444,45.452049255371094,45.49042282104492,45.56199417114258,45.63363185458713,45.7272826300727,45.79028091430664,45.85236871507433],\"yaxis\":\"y\",\"type\":\"scatter\"}],                        {\"template\":{\"data\":{\"barpolar\":[{\"marker\":{\"line\":{\"color\":\"rgb(17,17,17)\",\"width\":0.5},\"pattern\":{\"fillmode\":\"overlay\",\"size\":10,\"solidity\":0.2}},\"type\":\"barpolar\"}],\"bar\":[{\"error_x\":{\"color\":\"#f2f5fa\"},\"error_y\":{\"color\":\"#f2f5fa\"},\"marker\":{\"line\":{\"color\":\"rgb(17,17,17)\",\"width\":0.5},\"pattern\":{\"fillmode\":\"overlay\",\"size\":10,\"solidity\":0.2}},\"type\":\"bar\"}],\"carpet\":[{\"aaxis\":{\"endlinecolor\":\"#A2B1C6\",\"gridcolor\":\"#506784\",\"linecolor\":\"#506784\",\"minorgridcolor\":\"#506784\",\"startlinecolor\":\"#A2B1C6\"},\"baxis\":{\"endlinecolor\":\"#A2B1C6\",\"gridcolor\":\"#506784\",\"linecolor\":\"#506784\",\"minorgridcolor\":\"#506784\",\"startlinecolor\":\"#A2B1C6\"},\"type\":\"carpet\"}],\"choropleth\":[{\"colorbar\":{\"outlinewidth\":0,\"ticks\":\"\"},\"type\":\"choropleth\"}],\"contourcarpet\":[{\"colorbar\":{\"outlinewidth\":0,\"ticks\":\"\"},\"type\":\"contourcarpet\"}],\"contour\":[{\"colorbar\":{\"outlinewidth\":0,\"ticks\":\"\"},\"colorscale\":[[0.0,\"#0d0887\"],[0.1111111111111111,\"#46039f\"],[0.2222222222222222,\"#7201a8\"],[0.3333333333333333,\"#9c179e\"],[0.4444444444444444,\"#bd3786\"],[0.5555555555555556,\"#d8576b\"],[0.6666666666666666,\"#ed7953\"],[0.7777777777777778,\"#fb9f3a\"],[0.8888888888888888,\"#fdca26\"],[1.0,\"#f0f921\"]],\"type\":\"contour\"}],\"heatmapgl\":[{\"colorbar\":{\"outlinewidth\":0,\"ticks\":\"\"},\"colorscale\":[[0.0,\"#0d0887\"],[0.1111111111111111,\"#46039f\"],[0.2222222222222222,\"#7201a8\"],[0.3333333333333333,\"#9c179e\"],[0.4444444444444444,\"#bd3786\"],[0.5555555555555556,\"#d8576b\"],[0.6666666666666666,\"#ed7953\"],[0.7777777777777778,\"#fb9f3a\"],[0.8888888888888888,\"#fdca26\"],[1.0,\"#f0f921\"]],\"type\":\"heatmapgl\"}],\"heatmap\":[{\"colorbar\":{\"outlinewidth\":0,\"ticks\":\"\"},\"colorscale\":[[0.0,\"#0d0887\"],[0.1111111111111111,\"#46039f\"],[0.2222222222222222,\"#7201a8\"],[0.3333333333333333,\"#9c179e\"],[0.4444444444444444,\"#bd3786\"],[0.5555555555555556,\"#d8576b\"],[0.6666666666666666,\"#ed7953\"],[0.7777777777777778,\"#fb9f3a\"],[0.8888888888888888,\"#fdca26\"],[1.0,\"#f0f921\"]],\"type\":\"heatmap\"}],\"histogram2dcontour\":[{\"colorbar\":{\"outlinewidth\":0,\"ticks\":\"\"},\"colorscale\":[[0.0,\"#0d0887\"],[0.1111111111111111,\"#46039f\"],[0.2222222222222222,\"#7201a8\"],[0.3333333333333333,\"#9c179e\"],[0.4444444444444444,\"#bd3786\"],[0.5555555555555556,\"#d8576b\"],[0.6666666666666666,\"#ed7953\"],[0.7777777777777778,\"#fb9f3a\"],[0.8888888888888888,\"#fdca26\"],[1.0,\"#f0f921\"]],\"type\":\"histogram2dcontour\"}],\"histogram2d\":[{\"colorbar\":{\"outlinewidth\":0,\"ticks\":\"\"},\"colorscale\":[[0.0,\"#0d0887\"],[0.1111111111111111,\"#46039f\"],[0.2222222222222222,\"#7201a8\"],[0.3333333333333333,\"#9c179e\"],[0.4444444444444444,\"#bd3786\"],[0.5555555555555556,\"#d8576b\"],[0.6666666666666666,\"#ed7953\"],[0.7777777777777778,\"#fb9f3a\"],[0.8888888888888888,\"#fdca26\"],[1.0,\"#f0f921\"]],\"type\":\"histogram2d\"}],\"histogram\":[{\"marker\":{\"pattern\":{\"fillmode\":\"overlay\",\"size\":10,\"solidity\":0.2}},\"type\":\"histogram\"}],\"mesh3d\":[{\"colorbar\":{\"outlinewidth\":0,\"ticks\":\"\"},\"type\":\"mesh3d\"}],\"parcoords\":[{\"line\":{\"colorbar\":{\"outlinewidth\":0,\"ticks\":\"\"}},\"type\":\"parcoords\"}],\"pie\":[{\"automargin\":true,\"type\":\"pie\"}],\"scatter3d\":[{\"line\":{\"colorbar\":{\"outlinewidth\":0,\"ticks\":\"\"}},\"marker\":{\"colorbar\":{\"outlinewidth\":0,\"ticks\":\"\"}},\"type\":\"scatter3d\"}],\"scattercarpet\":[{\"marker\":{\"colorbar\":{\"outlinewidth\":0,\"ticks\":\"\"}},\"type\":\"scattercarpet\"}],\"scattergeo\":[{\"marker\":{\"colorbar\":{\"outlinewidth\":0,\"ticks\":\"\"}},\"type\":\"scattergeo\"}],\"scattergl\":[{\"marker\":{\"line\":{\"color\":\"#283442\"}},\"type\":\"scattergl\"}],\"scattermapbox\":[{\"marker\":{\"colorbar\":{\"outlinewidth\":0,\"ticks\":\"\"}},\"type\":\"scattermapbox\"}],\"scatterpolargl\":[{\"marker\":{\"colorbar\":{\"outlinewidth\":0,\"ticks\":\"\"}},\"type\":\"scatterpolargl\"}],\"scatterpolar\":[{\"marker\":{\"colorbar\":{\"outlinewidth\":0,\"ticks\":\"\"}},\"type\":\"scatterpolar\"}],\"scatter\":[{\"marker\":{\"line\":{\"color\":\"#283442\"}},\"type\":\"scatter\"}],\"scatterternary\":[{\"marker\":{\"colorbar\":{\"outlinewidth\":0,\"ticks\":\"\"}},\"type\":\"scatterternary\"}],\"surface\":[{\"colorbar\":{\"outlinewidth\":0,\"ticks\":\"\"},\"colorscale\":[[0.0,\"#0d0887\"],[0.1111111111111111,\"#46039f\"],[0.2222222222222222,\"#7201a8\"],[0.3333333333333333,\"#9c179e\"],[0.4444444444444444,\"#bd3786\"],[0.5555555555555556,\"#d8576b\"],[0.6666666666666666,\"#ed7953\"],[0.7777777777777778,\"#fb9f3a\"],[0.8888888888888888,\"#fdca26\"],[1.0,\"#f0f921\"]],\"type\":\"surface\"}],\"table\":[{\"cells\":{\"fill\":{\"color\":\"#506784\"},\"line\":{\"color\":\"rgb(17,17,17)\"}},\"header\":{\"fill\":{\"color\":\"#2a3f5f\"},\"line\":{\"color\":\"rgb(17,17,17)\"}},\"type\":\"table\"}]},\"layout\":{\"annotationdefaults\":{\"arrowcolor\":\"#f2f5fa\",\"arrowhead\":0,\"arrowwidth\":1},\"autotypenumbers\":\"strict\",\"coloraxis\":{\"colorbar\":{\"outlinewidth\":0,\"ticks\":\"\"}},\"colorscale\":{\"diverging\":[[0,\"#8e0152\"],[0.1,\"#c51b7d\"],[0.2,\"#de77ae\"],[0.3,\"#f1b6da\"],[0.4,\"#fde0ef\"],[0.5,\"#f7f7f7\"],[0.6,\"#e6f5d0\"],[0.7,\"#b8e186\"],[0.8,\"#7fbc41\"],[0.9,\"#4d9221\"],[1,\"#276419\"]],\"sequential\":[[0.0,\"#0d0887\"],[0.1111111111111111,\"#46039f\"],[0.2222222222222222,\"#7201a8\"],[0.3333333333333333,\"#9c179e\"],[0.4444444444444444,\"#bd3786\"],[0.5555555555555556,\"#d8576b\"],[0.6666666666666666,\"#ed7953\"],[0.7777777777777778,\"#fb9f3a\"],[0.8888888888888888,\"#fdca26\"],[1.0,\"#f0f921\"]],\"sequentialminus\":[[0.0,\"#0d0887\"],[0.1111111111111111,\"#46039f\"],[0.2222222222222222,\"#7201a8\"],[0.3333333333333333,\"#9c179e\"],[0.4444444444444444,\"#bd3786\"],[0.5555555555555556,\"#d8576b\"],[0.6666666666666666,\"#ed7953\"],[0.7777777777777778,\"#fb9f3a\"],[0.8888888888888888,\"#fdca26\"],[1.0,\"#f0f921\"]]},\"colorway\":[\"#636efa\",\"#EF553B\",\"#00cc96\",\"#ab63fa\",\"#FFA15A\",\"#19d3f3\",\"#FF6692\",\"#B6E880\",\"#FF97FF\",\"#FECB52\"],\"font\":{\"color\":\"#f2f5fa\"},\"geo\":{\"bgcolor\":\"rgb(17,17,17)\",\"lakecolor\":\"rgb(17,17,17)\",\"landcolor\":\"rgb(17,17,17)\",\"showlakes\":true,\"showland\":true,\"subunitcolor\":\"#506784\"},\"hoverlabel\":{\"align\":\"left\"},\"hovermode\":\"closest\",\"mapbox\":{\"style\":\"dark\"},\"paper_bgcolor\":\"rgb(17,17,17)\",\"plot_bgcolor\":\"rgb(17,17,17)\",\"polar\":{\"angularaxis\":{\"gridcolor\":\"#506784\",\"linecolor\":\"#506784\",\"ticks\":\"\"},\"bgcolor\":\"rgb(17,17,17)\",\"radialaxis\":{\"gridcolor\":\"#506784\",\"linecolor\":\"#506784\",\"ticks\":\"\"}},\"scene\":{\"xaxis\":{\"backgroundcolor\":\"rgb(17,17,17)\",\"gridcolor\":\"#506784\",\"gridwidth\":2,\"linecolor\":\"#506784\",\"showbackground\":true,\"ticks\":\"\",\"zerolinecolor\":\"#C8D4E3\"},\"yaxis\":{\"backgroundcolor\":\"rgb(17,17,17)\",\"gridcolor\":\"#506784\",\"gridwidth\":2,\"linecolor\":\"#506784\",\"showbackground\":true,\"ticks\":\"\",\"zerolinecolor\":\"#C8D4E3\"},\"zaxis\":{\"backgroundcolor\":\"rgb(17,17,17)\",\"gridcolor\":\"#506784\",\"gridwidth\":2,\"linecolor\":\"#506784\",\"showbackground\":true,\"ticks\":\"\",\"zerolinecolor\":\"#C8D4E3\"}},\"shapedefaults\":{\"line\":{\"color\":\"#f2f5fa\"}},\"sliderdefaults\":{\"bgcolor\":\"#C8D4E3\",\"bordercolor\":\"rgb(17,17,17)\",\"borderwidth\":1,\"tickwidth\":0},\"ternary\":{\"aaxis\":{\"gridcolor\":\"#506784\",\"linecolor\":\"#506784\",\"ticks\":\"\"},\"baxis\":{\"gridcolor\":\"#506784\",\"linecolor\":\"#506784\",\"ticks\":\"\"},\"bgcolor\":\"rgb(17,17,17)\",\"caxis\":{\"gridcolor\":\"#506784\",\"linecolor\":\"#506784\",\"ticks\":\"\"}},\"title\":{\"x\":0.05},\"updatemenudefaults\":{\"bgcolor\":\"#506784\",\"borderwidth\":0},\"xaxis\":{\"automargin\":true,\"gridcolor\":\"#283442\",\"linecolor\":\"#506784\",\"ticks\":\"\",\"title\":{\"standoff\":15},\"zerolinecolor\":\"#283442\",\"zerolinewidth\":2},\"yaxis\":{\"automargin\":true,\"gridcolor\":\"#283442\",\"linecolor\":\"#506784\",\"ticks\":\"\",\"title\":{\"standoff\":15},\"zerolinecolor\":\"#283442\",\"zerolinewidth\":2}}},\"xaxis\":{\"anchor\":\"y\",\"domain\":[0.0,1.0],\"title\":{\"text\":\"Data\"}},\"yaxis\":{\"anchor\":\"x\",\"domain\":[0.0,1.0],\"title\":{\"text\":\"Close\"}},\"legend\":{\"title\":{\"text\":\"Ticker\"},\"tracegroupgap\":0},\"margin\":{\"t\":60}},                        {\"responsive\": true}                    ).then(function(){\n",
       "                            \n",
       "var gd = document.getElementById('88a3aed2-4d88-49b1-b5ab-990f6e4eb090');\n",
       "var x = new MutationObserver(function (mutations, observer) {{\n",
       "        var display = window.getComputedStyle(gd).display;\n",
       "        if (!display || display === 'none') {{\n",
       "            console.log([gd, 'removed!']);\n",
       "            Plotly.purge(gd);\n",
       "            observer.disconnect();\n",
       "        }}\n",
       "}});\n",
       "\n",
       "// Listen for the removal of the full notebook cells\n",
       "var notebookContainer = gd.closest('#notebook-container');\n",
       "if (notebookContainer) {{\n",
       "    x.observe(notebookContainer, {childList: true});\n",
       "}}\n",
       "\n",
       "// Listen for the clearing of the current output cell\n",
       "var outputEl = gd.closest('.output');\n",
       "if (outputEl) {{\n",
       "    x.observe(outputEl, {childList: true});\n",
       "}}\n",
       "\n",
       "                        })                };                });            </script>        </div>"
      ]
     },
     "metadata": {},
     "output_type": "display_data"
    }
   ],
   "source": [
    "fig = px.line(data_frame=df_media_movel,\n",
    "              x='Data',\n",
    "              y='Close', \n",
    "              color='Ticker',\n",
    "              template='plotly_dark')\n",
    "fig.show()\n"
   ]
  },
  {
   "cell_type": "code",
   "execution_count": 278,
   "metadata": {},
   "outputs": [
    {
     "data": {
      "application/vnd.plotly.v1+json": {
       "config": {
        "plotlyServerURL": "https://plot.ly"
       },
       "data": [
        {
         "hovertemplate": "ativo=%{x}<br>valor=%{y}<extra></extra>",
         "legendgroup": "",
         "line": {
          "color": "#636efa",
          "dash": "solid"
         },
         "marker": {
          "symbol": "circle"
         },
         "mode": "lines",
         "name": "",
         "orientation": "v",
         "showlegend": false,
         "type": "scatter",
         "x": [
          "MGLU3.SA",
          "MSFT",
          "NVDA",
          "MGLU3.SA",
          "MSFT",
          "NVDA",
          "MGLU3.SA",
          "MSFT",
          "NVDA",
          "MGLU3.SA",
          "MSFT",
          "NVDA",
          "MGLU3.SA",
          "MSFT",
          "NVDA"
         ],
         "xaxis": "x",
         "y": [
          4.889424813077048,
          20.832294114940574,
          7.087521182238543,
          5.023349237206507,
          21.08271066381786,
          7.226865913755891,
          4.757003511844051,
          20.85444628280551,
          6.989164108345254,
          4.871071005845506,
          21.11367884420705,
          7.149607272169955,
          1488537.632470355,
          2304132.1403067173,
          16368879.324020186
         ],
         "yaxis": "y"
        }
       ],
       "layout": {
        "autosize": true,
        "legend": {
         "tracegroupgap": 0
        },
        "margin": {
         "t": 60
        },
        "template": {
         "data": {
          "bar": [
           {
            "error_x": {
             "color": "#f2f5fa"
            },
            "error_y": {
             "color": "#f2f5fa"
            },
            "marker": {
             "line": {
              "color": "rgb(17,17,17)",
              "width": 0.5
             },
             "pattern": {
              "fillmode": "overlay",
              "size": 10,
              "solidity": 0.2
             }
            },
            "type": "bar"
           }
          ],
          "barpolar": [
           {
            "marker": {
             "line": {
              "color": "rgb(17,17,17)",
              "width": 0.5
             },
             "pattern": {
              "fillmode": "overlay",
              "size": 10,
              "solidity": 0.2
             }
            },
            "type": "barpolar"
           }
          ],
          "carpet": [
           {
            "aaxis": {
             "endlinecolor": "#A2B1C6",
             "gridcolor": "#506784",
             "linecolor": "#506784",
             "minorgridcolor": "#506784",
             "startlinecolor": "#A2B1C6"
            },
            "baxis": {
             "endlinecolor": "#A2B1C6",
             "gridcolor": "#506784",
             "linecolor": "#506784",
             "minorgridcolor": "#506784",
             "startlinecolor": "#A2B1C6"
            },
            "type": "carpet"
           }
          ],
          "choropleth": [
           {
            "colorbar": {
             "outlinewidth": 0,
             "ticks": ""
            },
            "type": "choropleth"
           }
          ],
          "contour": [
           {
            "colorbar": {
             "outlinewidth": 0,
             "ticks": ""
            },
            "colorscale": [
             [
              0,
              "#0d0887"
             ],
             [
              0.1111111111111111,
              "#46039f"
             ],
             [
              0.2222222222222222,
              "#7201a8"
             ],
             [
              0.3333333333333333,
              "#9c179e"
             ],
             [
              0.4444444444444444,
              "#bd3786"
             ],
             [
              0.5555555555555556,
              "#d8576b"
             ],
             [
              0.6666666666666666,
              "#ed7953"
             ],
             [
              0.7777777777777778,
              "#fb9f3a"
             ],
             [
              0.8888888888888888,
              "#fdca26"
             ],
             [
              1,
              "#f0f921"
             ]
            ],
            "type": "contour"
           }
          ],
          "contourcarpet": [
           {
            "colorbar": {
             "outlinewidth": 0,
             "ticks": ""
            },
            "type": "contourcarpet"
           }
          ],
          "heatmap": [
           {
            "colorbar": {
             "outlinewidth": 0,
             "ticks": ""
            },
            "colorscale": [
             [
              0,
              "#0d0887"
             ],
             [
              0.1111111111111111,
              "#46039f"
             ],
             [
              0.2222222222222222,
              "#7201a8"
             ],
             [
              0.3333333333333333,
              "#9c179e"
             ],
             [
              0.4444444444444444,
              "#bd3786"
             ],
             [
              0.5555555555555556,
              "#d8576b"
             ],
             [
              0.6666666666666666,
              "#ed7953"
             ],
             [
              0.7777777777777778,
              "#fb9f3a"
             ],
             [
              0.8888888888888888,
              "#fdca26"
             ],
             [
              1,
              "#f0f921"
             ]
            ],
            "type": "heatmap"
           }
          ],
          "heatmapgl": [
           {
            "colorbar": {
             "outlinewidth": 0,
             "ticks": ""
            },
            "colorscale": [
             [
              0,
              "#0d0887"
             ],
             [
              0.1111111111111111,
              "#46039f"
             ],
             [
              0.2222222222222222,
              "#7201a8"
             ],
             [
              0.3333333333333333,
              "#9c179e"
             ],
             [
              0.4444444444444444,
              "#bd3786"
             ],
             [
              0.5555555555555556,
              "#d8576b"
             ],
             [
              0.6666666666666666,
              "#ed7953"
             ],
             [
              0.7777777777777778,
              "#fb9f3a"
             ],
             [
              0.8888888888888888,
              "#fdca26"
             ],
             [
              1,
              "#f0f921"
             ]
            ],
            "type": "heatmapgl"
           }
          ],
          "histogram": [
           {
            "marker": {
             "pattern": {
              "fillmode": "overlay",
              "size": 10,
              "solidity": 0.2
             }
            },
            "type": "histogram"
           }
          ],
          "histogram2d": [
           {
            "colorbar": {
             "outlinewidth": 0,
             "ticks": ""
            },
            "colorscale": [
             [
              0,
              "#0d0887"
             ],
             [
              0.1111111111111111,
              "#46039f"
             ],
             [
              0.2222222222222222,
              "#7201a8"
             ],
             [
              0.3333333333333333,
              "#9c179e"
             ],
             [
              0.4444444444444444,
              "#bd3786"
             ],
             [
              0.5555555555555556,
              "#d8576b"
             ],
             [
              0.6666666666666666,
              "#ed7953"
             ],
             [
              0.7777777777777778,
              "#fb9f3a"
             ],
             [
              0.8888888888888888,
              "#fdca26"
             ],
             [
              1,
              "#f0f921"
             ]
            ],
            "type": "histogram2d"
           }
          ],
          "histogram2dcontour": [
           {
            "colorbar": {
             "outlinewidth": 0,
             "ticks": ""
            },
            "colorscale": [
             [
              0,
              "#0d0887"
             ],
             [
              0.1111111111111111,
              "#46039f"
             ],
             [
              0.2222222222222222,
              "#7201a8"
             ],
             [
              0.3333333333333333,
              "#9c179e"
             ],
             [
              0.4444444444444444,
              "#bd3786"
             ],
             [
              0.5555555555555556,
              "#d8576b"
             ],
             [
              0.6666666666666666,
              "#ed7953"
             ],
             [
              0.7777777777777778,
              "#fb9f3a"
             ],
             [
              0.8888888888888888,
              "#fdca26"
             ],
             [
              1,
              "#f0f921"
             ]
            ],
            "type": "histogram2dcontour"
           }
          ],
          "mesh3d": [
           {
            "colorbar": {
             "outlinewidth": 0,
             "ticks": ""
            },
            "type": "mesh3d"
           }
          ],
          "parcoords": [
           {
            "line": {
             "colorbar": {
              "outlinewidth": 0,
              "ticks": ""
             }
            },
            "type": "parcoords"
           }
          ],
          "pie": [
           {
            "automargin": true,
            "type": "pie"
           }
          ],
          "scatter": [
           {
            "marker": {
             "line": {
              "color": "#283442"
             }
            },
            "type": "scatter"
           }
          ],
          "scatter3d": [
           {
            "line": {
             "colorbar": {
              "outlinewidth": 0,
              "ticks": ""
             }
            },
            "marker": {
             "colorbar": {
              "outlinewidth": 0,
              "ticks": ""
             }
            },
            "type": "scatter3d"
           }
          ],
          "scattercarpet": [
           {
            "marker": {
             "colorbar": {
              "outlinewidth": 0,
              "ticks": ""
             }
            },
            "type": "scattercarpet"
           }
          ],
          "scattergeo": [
           {
            "marker": {
             "colorbar": {
              "outlinewidth": 0,
              "ticks": ""
             }
            },
            "type": "scattergeo"
           }
          ],
          "scattergl": [
           {
            "marker": {
             "line": {
              "color": "#283442"
             }
            },
            "type": "scattergl"
           }
          ],
          "scattermapbox": [
           {
            "marker": {
             "colorbar": {
              "outlinewidth": 0,
              "ticks": ""
             }
            },
            "type": "scattermapbox"
           }
          ],
          "scatterpolar": [
           {
            "marker": {
             "colorbar": {
              "outlinewidth": 0,
              "ticks": ""
             }
            },
            "type": "scatterpolar"
           }
          ],
          "scatterpolargl": [
           {
            "marker": {
             "colorbar": {
              "outlinewidth": 0,
              "ticks": ""
             }
            },
            "type": "scatterpolargl"
           }
          ],
          "scatterternary": [
           {
            "marker": {
             "colorbar": {
              "outlinewidth": 0,
              "ticks": ""
             }
            },
            "type": "scatterternary"
           }
          ],
          "surface": [
           {
            "colorbar": {
             "outlinewidth": 0,
             "ticks": ""
            },
            "colorscale": [
             [
              0,
              "#0d0887"
             ],
             [
              0.1111111111111111,
              "#46039f"
             ],
             [
              0.2222222222222222,
              "#7201a8"
             ],
             [
              0.3333333333333333,
              "#9c179e"
             ],
             [
              0.4444444444444444,
              "#bd3786"
             ],
             [
              0.5555555555555556,
              "#d8576b"
             ],
             [
              0.6666666666666666,
              "#ed7953"
             ],
             [
              0.7777777777777778,
              "#fb9f3a"
             ],
             [
              0.8888888888888888,
              "#fdca26"
             ],
             [
              1,
              "#f0f921"
             ]
            ],
            "type": "surface"
           }
          ],
          "table": [
           {
            "cells": {
             "fill": {
              "color": "#506784"
             },
             "line": {
              "color": "rgb(17,17,17)"
             }
            },
            "header": {
             "fill": {
              "color": "#2a3f5f"
             },
             "line": {
              "color": "rgb(17,17,17)"
             }
            },
            "type": "table"
           }
          ]
         },
         "layout": {
          "annotationdefaults": {
           "arrowcolor": "#f2f5fa",
           "arrowhead": 0,
           "arrowwidth": 1
          },
          "autotypenumbers": "strict",
          "coloraxis": {
           "colorbar": {
            "outlinewidth": 0,
            "ticks": ""
           }
          },
          "colorscale": {
           "diverging": [
            [
             0,
             "#8e0152"
            ],
            [
             0.1,
             "#c51b7d"
            ],
            [
             0.2,
             "#de77ae"
            ],
            [
             0.3,
             "#f1b6da"
            ],
            [
             0.4,
             "#fde0ef"
            ],
            [
             0.5,
             "#f7f7f7"
            ],
            [
             0.6,
             "#e6f5d0"
            ],
            [
             0.7,
             "#b8e186"
            ],
            [
             0.8,
             "#7fbc41"
            ],
            [
             0.9,
             "#4d9221"
            ],
            [
             1,
             "#276419"
            ]
           ],
           "sequential": [
            [
             0,
             "#0d0887"
            ],
            [
             0.1111111111111111,
             "#46039f"
            ],
            [
             0.2222222222222222,
             "#7201a8"
            ],
            [
             0.3333333333333333,
             "#9c179e"
            ],
            [
             0.4444444444444444,
             "#bd3786"
            ],
            [
             0.5555555555555556,
             "#d8576b"
            ],
            [
             0.6666666666666666,
             "#ed7953"
            ],
            [
             0.7777777777777778,
             "#fb9f3a"
            ],
            [
             0.8888888888888888,
             "#fdca26"
            ],
            [
             1,
             "#f0f921"
            ]
           ],
           "sequentialminus": [
            [
             0,
             "#0d0887"
            ],
            [
             0.1111111111111111,
             "#46039f"
            ],
            [
             0.2222222222222222,
             "#7201a8"
            ],
            [
             0.3333333333333333,
             "#9c179e"
            ],
            [
             0.4444444444444444,
             "#bd3786"
            ],
            [
             0.5555555555555556,
             "#d8576b"
            ],
            [
             0.6666666666666666,
             "#ed7953"
            ],
            [
             0.7777777777777778,
             "#fb9f3a"
            ],
            [
             0.8888888888888888,
             "#fdca26"
            ],
            [
             1,
             "#f0f921"
            ]
           ]
          },
          "colorway": [
           "#636efa",
           "#EF553B",
           "#00cc96",
           "#ab63fa",
           "#FFA15A",
           "#19d3f3",
           "#FF6692",
           "#B6E880",
           "#FF97FF",
           "#FECB52"
          ],
          "font": {
           "color": "#f2f5fa"
          },
          "geo": {
           "bgcolor": "rgb(17,17,17)",
           "lakecolor": "rgb(17,17,17)",
           "landcolor": "rgb(17,17,17)",
           "showlakes": true,
           "showland": true,
           "subunitcolor": "#506784"
          },
          "hoverlabel": {
           "align": "left"
          },
          "hovermode": "closest",
          "mapbox": {
           "style": "dark"
          },
          "paper_bgcolor": "rgb(17,17,17)",
          "plot_bgcolor": "rgb(17,17,17)",
          "polar": {
           "angularaxis": {
            "gridcolor": "#506784",
            "linecolor": "#506784",
            "ticks": ""
           },
           "bgcolor": "rgb(17,17,17)",
           "radialaxis": {
            "gridcolor": "#506784",
            "linecolor": "#506784",
            "ticks": ""
           }
          },
          "scene": {
           "xaxis": {
            "backgroundcolor": "rgb(17,17,17)",
            "gridcolor": "#506784",
            "gridwidth": 2,
            "linecolor": "#506784",
            "showbackground": true,
            "ticks": "",
            "zerolinecolor": "#C8D4E3"
           },
           "yaxis": {
            "backgroundcolor": "rgb(17,17,17)",
            "gridcolor": "#506784",
            "gridwidth": 2,
            "linecolor": "#506784",
            "showbackground": true,
            "ticks": "",
            "zerolinecolor": "#C8D4E3"
           },
           "zaxis": {
            "backgroundcolor": "rgb(17,17,17)",
            "gridcolor": "#506784",
            "gridwidth": 2,
            "linecolor": "#506784",
            "showbackground": true,
            "ticks": "",
            "zerolinecolor": "#C8D4E3"
           }
          },
          "shapedefaults": {
           "line": {
            "color": "#f2f5fa"
           }
          },
          "sliderdefaults": {
           "bgcolor": "#C8D4E3",
           "bordercolor": "rgb(17,17,17)",
           "borderwidth": 1,
           "tickwidth": 0
          },
          "ternary": {
           "aaxis": {
            "gridcolor": "#506784",
            "linecolor": "#506784",
            "ticks": ""
           },
           "baxis": {
            "gridcolor": "#506784",
            "linecolor": "#506784",
            "ticks": ""
           },
           "bgcolor": "rgb(17,17,17)",
           "caxis": {
            "gridcolor": "#506784",
            "linecolor": "#506784",
            "ticks": ""
           }
          },
          "title": {
           "x": 0.05
          },
          "updatemenudefaults": {
           "bgcolor": "#506784",
           "borderwidth": 0
          },
          "xaxis": {
           "automargin": true,
           "gridcolor": "#283442",
           "linecolor": "#506784",
           "ticks": "",
           "title": {
            "standoff": 15
           },
           "zerolinecolor": "#283442",
           "zerolinewidth": 2
          },
          "yaxis": {
           "automargin": true,
           "gridcolor": "#283442",
           "linecolor": "#506784",
           "ticks": "",
           "title": {
            "standoff": 15
           },
           "zerolinecolor": "#283442",
           "zerolinewidth": 2
          }
         }
        },
        "xaxis": {
         "anchor": "y",
         "autorange": true,
         "domain": [
          0,
          1
         ],
         "range": [
          0,
          2
         ],
         "title": {
          "text": "ativo"
         },
         "type": "category"
        },
        "yaxis": {
         "anchor": "x",
         "autorange": true,
         "domain": [
          0,
          1
         ],
         "range": [
          -909377.1633863033,
          17278261.24441
         ],
         "title": {
          "text": "valor"
         },
         "type": "linear"
        }
       }
      },
      "image/png": "[encoded data removed]",
      "text/html": [
       "<div>                            <div id=\"7311d778-48ba-41d8-863c-be0e2e4e2b2d\" class=\"plotly-graph-div\" style=\"height:525px; width:100%;\"></div>            <script type=\"text/javascript\">                require([\"plotly\"], function(Plotly) {                    window.PLOTLYENV=window.PLOTLYENV || {};                                    if (document.getElementById(\"7311d778-48ba-41d8-863c-be0e2e4e2b2d\")) {                    Plotly.newPlot(                        \"7311d778-48ba-41d8-863c-be0e2e4e2b2d\",                        [{\"hovertemplate\":\"ativo=%{x}\\u003cbr\\u003evalor=%{y}\\u003cextra\\u003e\\u003c\\u002fextra\\u003e\",\"legendgroup\":\"\",\"line\":{\"color\":\"#636efa\",\"dash\":\"solid\"},\"marker\":{\"symbol\":\"circle\"},\"mode\":\"lines\",\"name\":\"\",\"orientation\":\"v\",\"showlegend\":false,\"x\":[\"MGLU3.SA\",\"MSFT\",\"NVDA\",\"MGLU3.SA\",\"MSFT\",\"NVDA\",\"MGLU3.SA\",\"MSFT\",\"NVDA\",\"MGLU3.SA\",\"MSFT\",\"NVDA\",\"MGLU3.SA\",\"MSFT\",\"NVDA\"],\"xaxis\":\"x\",\"y\":[4.889424813077048,20.832294114940574,7.087521182238543,5.023349237206507,21.08271066381786,7.226865913755891,4.757003511844051,20.85444628280551,6.989164108345254,4.871071005845506,21.11367884420705,7.149607272169955,1488537.632470355,2304132.1403067173,16368879.324020186],\"yaxis\":\"y\",\"type\":\"scatter\"}],                        {\"template\":{\"data\":{\"barpolar\":[{\"marker\":{\"line\":{\"color\":\"rgb(17,17,17)\",\"width\":0.5},\"pattern\":{\"fillmode\":\"overlay\",\"size\":10,\"solidity\":0.2}},\"type\":\"barpolar\"}],\"bar\":[{\"error_x\":{\"color\":\"#f2f5fa\"},\"error_y\":{\"color\":\"#f2f5fa\"},\"marker\":{\"line\":{\"color\":\"rgb(17,17,17)\",\"width\":0.5},\"pattern\":{\"fillmode\":\"overlay\",\"size\":10,\"solidity\":0.2}},\"type\":\"bar\"}],\"carpet\":[{\"aaxis\":{\"endlinecolor\":\"#A2B1C6\",\"gridcolor\":\"#506784\",\"linecolor\":\"#506784\",\"minorgridcolor\":\"#506784\",\"startlinecolor\":\"#A2B1C6\"},\"baxis\":{\"endlinecolor\":\"#A2B1C6\",\"gridcolor\":\"#506784\",\"linecolor\":\"#506784\",\"minorgridcolor\":\"#506784\",\"startlinecolor\":\"#A2B1C6\"},\"type\":\"carpet\"}],\"choropleth\":[{\"colorbar\":{\"outlinewidth\":0,\"ticks\":\"\"},\"type\":\"choropleth\"}],\"contourcarpet\":[{\"colorbar\":{\"outlinewidth\":0,\"ticks\":\"\"},\"type\":\"contourcarpet\"}],\"contour\":[{\"colorbar\":{\"outlinewidth\":0,\"ticks\":\"\"},\"colorscale\":[[0.0,\"#0d0887\"],[0.1111111111111111,\"#46039f\"],[0.2222222222222222,\"#7201a8\"],[0.3333333333333333,\"#9c179e\"],[0.4444444444444444,\"#bd3786\"],[0.5555555555555556,\"#d8576b\"],[0.6666666666666666,\"#ed7953\"],[0.7777777777777778,\"#fb9f3a\"],[0.8888888888888888,\"#fdca26\"],[1.0,\"#f0f921\"]],\"type\":\"contour\"}],\"heatmapgl\":[{\"colorbar\":{\"outlinewidth\":0,\"ticks\":\"\"},\"colorscale\":[[0.0,\"#0d0887\"],[0.1111111111111111,\"#46039f\"],[0.2222222222222222,\"#7201a8\"],[0.3333333333333333,\"#9c179e\"],[0.4444444444444444,\"#bd3786\"],[0.5555555555555556,\"#d8576b\"],[0.6666666666666666,\"#ed7953\"],[0.7777777777777778,\"#fb9f3a\"],[0.8888888888888888,\"#fdca26\"],[1.0,\"#f0f921\"]],\"type\":\"heatmapgl\"}],\"heatmap\":[{\"colorbar\":{\"outlinewidth\":0,\"ticks\":\"\"},\"colorscale\":[[0.0,\"#0d0887\"],[0.1111111111111111,\"#46039f\"],[0.2222222222222222,\"#7201a8\"],[0.3333333333333333,\"#9c179e\"],[0.4444444444444444,\"#bd3786\"],[0.5555555555555556,\"#d8576b\"],[0.6666666666666666,\"#ed7953\"],[0.7777777777777778,\"#fb9f3a\"],[0.8888888888888888,\"#fdca26\"],[1.0,\"#f0f921\"]],\"type\":\"heatmap\"}],\"histogram2dcontour\":[{\"colorbar\":{\"outlinewidth\":0,\"ticks\":\"\"},\"colorscale\":[[0.0,\"#0d0887\"],[0.1111111111111111,\"#46039f\"],[0.2222222222222222,\"#7201a8\"],[0.3333333333333333,\"#9c179e\"],[0.4444444444444444,\"#bd3786\"],[0.5555555555555556,\"#d8576b\"],[0.6666666666666666,\"#ed7953\"],[0.7777777777777778,\"#fb9f3a\"],[0.8888888888888888,\"#fdca26\"],[1.0,\"#f0f921\"]],\"type\":\"histogram2dcontour\"}],\"histogram2d\":[{\"colorbar\":{\"outlinewidth\":0,\"ticks\":\"\"},\"colorscale\":[[0.0,\"#0d0887\"],[0.1111111111111111,\"#46039f\"],[0.2222222222222222,\"#7201a8\"],[0.3333333333333333,\"#9c179e\"],[0.4444444444444444,\"#bd3786\"],[0.5555555555555556,\"#d8576b\"],[0.6666666666666666,\"#ed7953\"],[0.7777777777777778,\"#fb9f3a\"],[0.8888888888888888,\"#fdca26\"],[1.0,\"#f0f921\"]],\"type\":\"histogram2d\"}],\"histogram\":[{\"marker\":{\"pattern\":{\"fillmode\":\"overlay\",\"size\":10,\"solidity\":0.2}},\"type\":\"histogram\"}],\"mesh3d\":[{\"colorbar\":{\"outlinewidth\":0,\"ticks\":\"\"},\"type\":\"mesh3d\"}],\"parcoords\":[{\"line\":{\"colorbar\":{\"outlinewidth\":0,\"ticks\":\"\"}},\"type\":\"parcoords\"}],\"pie\":[{\"automargin\":true,\"type\":\"pie\"}],\"scatter3d\":[{\"line\":{\"colorbar\":{\"outlinewidth\":0,\"ticks\":\"\"}},\"marker\":{\"colorbar\":{\"outlinewidth\":0,\"ticks\":\"\"}},\"type\":\"scatter3d\"}],\"scattercarpet\":[{\"marker\":{\"colorbar\":{\"outlinewidth\":0,\"ticks\":\"\"}},\"type\":\"scattercarpet\"}],\"scattergeo\":[{\"marker\":{\"colorbar\":{\"outlinewidth\":0,\"ticks\":\"\"}},\"type\":\"scattergeo\"}],\"scattergl\":[{\"marker\":{\"line\":{\"color\":\"#283442\"}},\"type\":\"scattergl\"}],\"scattermapbox\":[{\"marker\":{\"colorbar\":{\"outlinewidth\":0,\"ticks\":\"\"}},\"type\":\"scattermapbox\"}],\"scatterpolargl\":[{\"marker\":{\"colorbar\":{\"outlinewidth\":0,\"ticks\":\"\"}},\"type\":\"scatterpolargl\"}],\"scatterpolar\":[{\"marker\":{\"colorbar\":{\"outlinewidth\":0,\"ticks\":\"\"}},\"type\":\"scatterpolar\"}],\"scatter\":[{\"marker\":{\"line\":{\"color\":\"#283442\"}},\"type\":\"scatter\"}],\"scatterternary\":[{\"marker\":{\"colorbar\":{\"outlinewidth\":0,\"ticks\":\"\"}},\"type\":\"scatterternary\"}],\"surface\":[{\"colorbar\":{\"outlinewidth\":0,\"ticks\":\"\"},\"colorscale\":[[0.0,\"#0d0887\"],[0.1111111111111111,\"#46039f\"],[0.2222222222222222,\"#7201a8\"],[0.3333333333333333,\"#9c179e\"],[0.4444444444444444,\"#bd3786\"],[0.5555555555555556,\"#d8576b\"],[0.6666666666666666,\"#ed7953\"],[0.7777777777777778,\"#fb9f3a\"],[0.8888888888888888,\"#fdca26\"],[1.0,\"#f0f921\"]],\"type\":\"surface\"}],\"table\":[{\"cells\":{\"fill\":{\"color\":\"#506784\"},\"line\":{\"color\":\"rgb(17,17,17)\"}},\"header\":{\"fill\":{\"color\":\"#2a3f5f\"},\"line\":{\"color\":\"rgb(17,17,17)\"}},\"type\":\"table\"}]},\"layout\":{\"annotationdefaults\":{\"arrowcolor\":\"#f2f5fa\",\"arrowhead\":0,\"arrowwidth\":1},\"autotypenumbers\":\"strict\",\"coloraxis\":{\"colorbar\":{\"outlinewidth\":0,\"ticks\":\"\"}},\"colorscale\":{\"diverging\":[[0,\"#8e0152\"],[0.1,\"#c51b7d\"],[0.2,\"#de77ae\"],[0.3,\"#f1b6da\"],[0.4,\"#fde0ef\"],[0.5,\"#f7f7f7\"],[0.6,\"#e6f5d0\"],[0.7,\"#b8e186\"],[0.8,\"#7fbc41\"],[0.9,\"#4d9221\"],[1,\"#276419\"]],\"sequential\":[[0.0,\"#0d0887\"],[0.1111111111111111,\"#46039f\"],[0.2222222222222222,\"#7201a8\"],[0.3333333333333333,\"#9c179e\"],[0.4444444444444444,\"#bd3786\"],[0.5555555555555556,\"#d8576b\"],[0.6666666666666666,\"#ed7953\"],[0.7777777777777778,\"#fb9f3a\"],[0.8888888888888888,\"#fdca26\"],[1.0,\"#f0f921\"]],\"sequentialminus\":[[0.0,\"#0d0887\"],[0.1111111111111111,\"#46039f\"],[0.2222222222222222,\"#7201a8\"],[0.3333333333333333,\"#9c179e\"],[0.4444444444444444,\"#bd3786\"],[0.5555555555555556,\"#d8576b\"],[0.6666666666666666,\"#ed7953\"],[0.7777777777777778,\"#fb9f3a\"],[0.8888888888888888,\"#fdca26\"],[1.0,\"#f0f921\"]]},\"colorway\":[\"#636efa\",\"#EF553B\",\"#00cc96\",\"#ab63fa\",\"#FFA15A\",\"#19d3f3\",\"#FF6692\",\"#B6E880\",\"#FF97FF\",\"#FECB52\"],\"font\":{\"color\":\"#f2f5fa\"},\"geo\":{\"bgcolor\":\"rgb(17,17,17)\",\"lakecolor\":\"rgb(17,17,17)\",\"landcolor\":\"rgb(17,17,17)\",\"showlakes\":true,\"showland\":true,\"subunitcolor\":\"#506784\"},\"hoverlabel\":{\"align\":\"left\"},\"hovermode\":\"closest\",\"mapbox\":{\"style\":\"dark\"},\"paper_bgcolor\":\"rgb(17,17,17)\",\"plot_bgcolor\":\"rgb(17,17,17)\",\"polar\":{\"angularaxis\":{\"gridcolor\":\"#506784\",\"linecolor\":\"#506784\",\"ticks\":\"\"},\"bgcolor\":\"rgb(17,17,17)\",\"radialaxis\":{\"gridcolor\":\"#506784\",\"linecolor\":\"#506784\",\"ticks\":\"\"}},\"scene\":{\"xaxis\":{\"backgroundcolor\":\"rgb(17,17,17)\",\"gridcolor\":\"#506784\",\"gridwidth\":2,\"linecolor\":\"#506784\",\"showbackground\":true,\"ticks\":\"\",\"zerolinecolor\":\"#C8D4E3\"},\"yaxis\":{\"backgroundcolor\":\"rgb(17,17,17)\",\"gridcolor\":\"#506784\",\"gridwidth\":2,\"linecolor\":\"#506784\",\"showbackground\":true,\"ticks\":\"\",\"zerolinecolor\":\"#C8D4E3\"},\"zaxis\":{\"backgroundcolor\":\"rgb(17,17,17)\",\"gridcolor\":\"#506784\",\"gridwidth\":2,\"linecolor\":\"#506784\",\"showbackground\":true,\"ticks\":\"\",\"zerolinecolor\":\"#C8D4E3\"}},\"shapedefaults\":{\"line\":{\"color\":\"#f2f5fa\"}},\"sliderdefaults\":{\"bgcolor\":\"#C8D4E3\",\"bordercolor\":\"rgb(17,17,17)\",\"borderwidth\":1,\"tickwidth\":0},\"ternary\":{\"aaxis\":{\"gridcolor\":\"#506784\",\"linecolor\":\"#506784\",\"ticks\":\"\"},\"baxis\":{\"gridcolor\":\"#506784\",\"linecolor\":\"#506784\",\"ticks\":\"\"},\"bgcolor\":\"rgb(17,17,17)\",\"caxis\":{\"gridcolor\":\"#506784\",\"linecolor\":\"#506784\",\"ticks\":\"\"}},\"title\":{\"x\":0.05},\"updatemenudefaults\":{\"bgcolor\":\"#506784\",\"borderwidth\":0},\"xaxis\":{\"automargin\":true,\"gridcolor\":\"#283442\",\"linecolor\":\"#506784\",\"ticks\":\"\",\"title\":{\"standoff\":15},\"zerolinecolor\":\"#283442\",\"zerolinewidth\":2},\"yaxis\":{\"automargin\":true,\"gridcolor\":\"#283442\",\"linecolor\":\"#506784\",\"ticks\":\"\",\"title\":{\"standoff\":15},\"zerolinecolor\":\"#283442\",\"zerolinewidth\":2}}},\"xaxis\":{\"anchor\":\"y\",\"domain\":[0.0,1.0],\"title\":{\"text\":\"ativo\"}},\"yaxis\":{\"anchor\":\"x\",\"domain\":[0.0,1.0],\"title\":{\"text\":\"valor\"}},\"legend\":{\"tracegroupgap\":0},\"margin\":{\"t\":60}},                        {\"responsive\": true}                    ).then(function(){\n",
       "                            \n",
       "var gd = document.getElementById('7311d778-48ba-41d8-863c-be0e2e4e2b2d');\n",
       "var x = new MutationObserver(function (mutations, observer) {{\n",
       "        var display = window.getComputedStyle(gd).display;\n",
       "        if (!display || display === 'none') {{\n",
       "            console.log([gd, 'removed!']);\n",
       "            Plotly.purge(gd);\n",
       "            observer.disconnect();\n",
       "        }}\n",
       "}});\n",
       "\n",
       "// Listen for the removal of the full notebook cells\n",
       "var notebookContainer = gd.closest('#notebook-container');\n",
       "if (notebookContainer) {{\n",
       "    x.observe(notebookContainer, {childList: true});\n",
       "}}\n",
       "\n",
       "// Listen for the clearing of the current output cell\n",
       "var outputEl = gd.closest('.output');\n",
       "if (outputEl) {{\n",
       "    x.observe(outputEl, {childList: true});\n",
       "}}\n",
       "\n",
       "                        })                };                });            </script>        </div>"
      ]
     },
     "metadata": {},
     "output_type": "display_data"
    }
   ],
   "source": [
    "df_std_adjclose = df_mw.std().reset_index()  \n",
    "df_std_adjclose.columns = ['date','ativo', 'valor']  \n",
    "\n",
    "fig = px.line(data_frame=df_std_adjclose,\n",
    "              x='ativo',  \n",
    "              y='valor',\n",
    "              template='plotly_dark')\n",
    "fig.show()"
   ]
  },
  {
   "cell_type": "markdown",
   "metadata": {},
   "source": [
    "#### 3. Gráfico de *candlestick*\n",
    "1. Selecione o período dos últimos 60 dias (corridos) para um dos ativos da sua base\n",
    "2. Monte um gráfico de *candlestick* para esses dados."
   ]
  },
  {
   "cell_type": "code",
   "execution_count": 281,
   "metadata": {},
   "outputs": [
    {
     "data": {
      "text/html": [
       "<div>\n",
       "<style scoped>\n",
       "    .dataframe tbody tr th:only-of-type {\n",
       "        vertical-align: middle;\n",
       "    }\n",
       "\n",
       "    .dataframe tbody tr th {\n",
       "        vertical-align: top;\n",
       "    }\n",
       "\n",
       "    .dataframe thead th {\n",
       "        text-align: right;\n",
       "    }\n",
       "</style>\n",
       "<table border=\"1\" class=\"dataframe\">\n",
       "  <thead>\n",
       "    <tr style=\"text-align: right;\">\n",
       "      <th>Price</th>\n",
       "      <th>Close</th>\n",
       "      <th>High</th>\n",
       "      <th>Low</th>\n",
       "      <th>Open</th>\n",
       "      <th>Volume</th>\n",
       "    </tr>\n",
       "    <tr>\n",
       "      <th>Date</th>\n",
       "      <th></th>\n",
       "      <th></th>\n",
       "      <th></th>\n",
       "      <th></th>\n",
       "      <th></th>\n",
       "    </tr>\n",
       "  </thead>\n",
       "  <tbody>\n",
       "    <tr>\n",
       "      <th>2023-09-29</th>\n",
       "      <td>312.771545</td>\n",
       "      <td>316.456456</td>\n",
       "      <td>312.008820</td>\n",
       "      <td>314.752680</td>\n",
       "      <td>24140300.0</td>\n",
       "    </tr>\n",
       "    <tr>\n",
       "      <th>2023-10-02</th>\n",
       "      <td>318.764465</td>\n",
       "      <td>318.853643</td>\n",
       "      <td>312.206916</td>\n",
       "      <td>313.296546</td>\n",
       "      <td>20570000.0</td>\n",
       "    </tr>\n",
       "    <tr>\n",
       "      <th>2023-10-03</th>\n",
       "      <td>310.433838</td>\n",
       "      <td>318.358375</td>\n",
       "      <td>308.274379</td>\n",
       "      <td>317.803629</td>\n",
       "      <td>21033500.0</td>\n",
       "    </tr>\n",
       "    <tr>\n",
       "      <th>2023-10-04</th>\n",
       "      <td>315.951294</td>\n",
       "      <td>317.021123</td>\n",
       "      <td>311.038089</td>\n",
       "      <td>311.067805</td>\n",
       "      <td>20720100.0</td>\n",
       "    </tr>\n",
       "    <tr>\n",
       "      <th>2023-10-05</th>\n",
       "      <td>316.347504</td>\n",
       "      <td>316.961681</td>\n",
       "      <td>311.929583</td>\n",
       "      <td>316.080061</td>\n",
       "      <td>16965600.0</td>\n",
       "    </tr>\n",
       "  </tbody>\n",
       "</table>\n",
       "</div>"
      ],
      "text/plain": [
       "Price            Close        High         Low        Open      Volume\n",
       "Date                                                                  \n",
       "2023-09-29  312.771545  316.456456  312.008820  314.752680  24140300.0\n",
       "2023-10-02  318.764465  318.853643  312.206916  313.296546  20570000.0\n",
       "2023-10-03  310.433838  318.358375  308.274379  317.803629  21033500.0\n",
       "2023-10-04  315.951294  317.021123  311.038089  311.067805  20720100.0\n",
       "2023-10-05  316.347504  316.961681  311.929583  316.080061  16965600.0"
      ]
     },
     "execution_count": 281,
     "metadata": {},
     "output_type": "execute_result"
    }
   ],
   "source": [
    "df_60 = df.xs(key='MSFT', level=1, axis=1).tail(n=60)\n",
    "df_60.head()"
   ]
  },
  {
   "cell_type": "code",
   "execution_count": 283,
   "metadata": {},
   "outputs": [
    {
     "data": {
      "application/vnd.plotly.v1+json": {
       "config": {
        "plotlyServerURL": "https://plot.ly"
       },
       "data": [
        {
         "close": [
          312.77154541015625,
          318.76446533203125,
          310.433837890625,
          315.9512939453125,
          316.3475036621094,
          324.1730041503906,
          326.7088317871094,
          325.2923278808594,
          329.2843017578125,
          324.6385498046875,
          329.5022277832031,
          328.927734375,
          326.99609375,
          328.1947021484375,
          323.5885925292969,
          326.2135925292969,
          327.4121398925781,
          337.4565124511719,
          324.7970886230469,
          326.6989440917969,
          334.1282043457031,
          334.920654296875,
          342.8055419921875,
          349.4720458984375,
          353.16693115234375,
          357.1291809082031,
          359.7739562988281,
          357.2876281738281,
          366.1829528808594,
          363.22113037109375,
          366.7772521972656,
          373.3779602050781,
          367.1048583984375,
          374.6384887695313,
          370.3009338378906,
          375.04547119140625,
          374.6285400390625,
          375.7997741699219,
          379.8594970703125,
          376.03802490234375,
          376.09759521484375,
          371.730224609375,
          366.4001159667969,
          369.7550048828125,
          366.0626220703125,
          368.1966552734375,
          371.4523315429687,
          368.5440368652344,
          371.6012268066406,
          371.59124755859375,
          363.2138977050781,
          367.9783020019531,
          369.8840026855469,
          370.4895629882813,
          367.86907958984375,
          370.7674560546875,
          371.7997131347656,
          371.8791198730469,
          371.29351806640625,
          372.4945068359375
         ],
         "high": [
          316.4564560379535,
          318.853642968879,
          318.3583746883624,
          317.02112341032625,
          316.9616806747639,
          326.084791429699,
          327.1842846242437,
          327.97675612056497,
          329.68052251947216,
          330.680984618951,
          332.969212350469,
          330.3145223768525,
          332.4244123884925,
          333.7022528617968,
          328.78907020079464,
          329.59143025678,
          328.70978036544676,
          342.93434738928164,
          338.4074720640278,
          333.54376661625815,
          336.24803256583084,
          335.80227359622387,
          344.14281353902476,
          351.0470741224753,
          354.16741372206013,
          359.040968292871,
          360.4376192782834,
          361.3489590848818,
          366.6088894784068,
          364.99425391218455,
          368.4414278225423,
          373.5566169180965,
          371.5912985753834,
          376.0578674563183,
          373.42754723095845,
          376.97107425610585,
          375.1645404012978,
          377.81473568926896,
          380.1572582632301,
          381.4475545769874,
          377.26882955398304,
          375.35312657616646,
          366.7772700166467,
          370.3108459279077,
          371.4026946281754,
          368.69294404976455,
          371.680605008,
          368.8418283086429,
          371.6409383942837,
          374.83699548980223,
          370.98579692958174,
          369.63588961946664,
          370.2314108719232,
          370.4895629882813,
          373.23892766598055,
          371.6309937454321,
          372.3952657674826,
          374.1421955445061,
          372.2761602183441,
          373.6657410910667
         ],
         "low": [
          312.0088196658807,
          312.2069162826865,
          308.2743786386628,
          311.03808927960966,
          311.92958273311405,
          313.3163667904676,
          320.13145206281695,
          324.5791183960633,
          326.03524314467325,
          323.2814475547989,
          327.481462599679,
          324.32160304790966,
          325.2031697015897,
          327.7885660057624,
          322.3800993659699,
          321.33010356372546,
          324.5097855665259,
          334.43526461185274,
          323.85603770592473,
          325.3022408050966,
          328.699885458302,
          331.53293147418856,
          336.4460883090784,
          344.05364288310676,
          350.0169346352546,
          354.25654215859316,
          357.14892949350883,
          356.9607241219027,
          357.6640697813667,
          362.4484892563254,
          363.88481332825825,
          367.43239928816575,
          364.2760059723192,
          368.24628665339475,
          368.3653953944815,
          372.18684271222065,
          372.3555592432774,
          373.40768891461767,
          375.3531858407325,
          374.6384868697118,
          372.6831257280476,
          368.5539643614396,
          360.20641104069097,
          362.90622534848177,
          365.2983481911379,
          363.6010163580793,
          365.4968658565483,
          363.3826517145165,
          367.710309076404,
          368.01796236834986,
          361.4272702211566,
          363.5613195961459,
          365.9434687630156,
          367.09493391711186,
          367.7797512470062,
          367.2934343528452,
          369.943597824132,
          370.7277262449622,
          370.042860570438,
          371.382824811336
         ],
         "name": "MSFT",
         "open": [
          314.7526795061826,
          313.2965460861367,
          317.8036293011886,
          311.0678050853206,
          316.08006142009754,
          313.56400856953996,
          321.6866495869274,
          327.8380622233817,
          328.08569389943113,
          329.24468053593233,
          327.9271996205036,
          326.4810322386308,
          329.3536483055121,
          329.0168595486858,
          328.5909446738055,
          322.3999028221572,
          328.17486567114935,
          341.76545521871486,
          337.32775746053113,
          327.3130908782091,
          330.26499849048633,
          335.6536945653536,
          336.5847822046158,
          346.33196525386137,
          350.11599740359395,
          356.0098351683549,
          358.2682750707736,
          358.8824265984055,
          358.0800910344148,
          364.7466121416856,
          367.5102923734174,
          368.2066086689788,
          370.83692985080074,
          368.4646549352899,
          372.88164166541463,
          375.1943517807251,
          374.5292762251577,
          373.983370569386,
          375.5417780266028,
          380.9115844895604,
          375.6806992801835,
          373.9635240768432,
          366.3604043806309,
          363.7300817378277,
          370.76746068896693,
          365.496843118576,
          366.4596673541622,
          365.74499115999953,
          368.0974289010253,
          373.2289944358956,
          370.5391249130698,
          364.12709609407943,
          366.70777283125585,
          368.7326810682885,
          372.2165740209788,
          369.79471907338814,
          370.9063993312227,
          372.21659261542385,
          370.916333723745,
          372.58383518172906
         ],
         "showlegend": true,
         "type": "candlestick",
         "x": [
          "2023-09-29",
          "2023-10-02",
          "2023-10-03",
          "2023-10-04",
          "2023-10-05",
          "2023-10-06",
          "2023-10-09",
          "2023-10-10",
          "2023-10-11",
          "2023-10-13",
          "2023-10-16",
          "2023-10-17",
          "2023-10-18",
          "2023-10-19",
          "2023-10-20",
          "2023-10-23",
          "2023-10-24",
          "2023-10-25",
          "2023-10-26",
          "2023-10-27",
          "2023-10-30",
          "2023-10-31",
          "2023-11-01",
          "2023-11-03",
          "2023-11-06",
          "2023-11-07",
          "2023-11-08",
          "2023-11-09",
          "2023-11-10",
          "2023-11-13",
          "2023-11-14",
          "2023-11-16",
          "2023-11-17",
          "2023-11-20",
          "2023-11-21",
          "2023-11-22",
          "2023-11-24",
          "2023-11-27",
          "2023-11-28",
          "2023-11-29",
          "2023-11-30",
          "2023-12-01",
          "2023-12-04",
          "2023-12-05",
          "2023-12-06",
          "2023-12-07",
          "2023-12-08",
          "2023-12-11",
          "2023-12-12",
          "2023-12-13",
          "2023-12-14",
          "2023-12-15",
          "2023-12-18",
          "2023-12-19",
          "2023-12-20",
          "2023-12-21",
          "2023-12-22",
          "2023-12-26",
          "2023-12-27",
          "2023-12-28"
         ]
        }
       ],
       "layout": {
        "autosize": true,
        "paper_bgcolor": "rgba(0, 0, 0, 0)",
        "plot_bgcolor": "black",
        "template": {
         "data": {
          "bar": [
           {
            "error_x": {
             "color": "#2a3f5f"
            },
            "error_y": {
             "color": "#2a3f5f"
            },
            "marker": {
             "line": {
              "color": "#E5ECF6",
              "width": 0.5
             },
             "pattern": {
              "fillmode": "overlay",
              "size": 10,
              "solidity": 0.2
             }
            },
            "type": "bar"
           }
          ],
          "barpolar": [
           {
            "marker": {
             "line": {
              "color": "#E5ECF6",
              "width": 0.5
             },
             "pattern": {
              "fillmode": "overlay",
              "size": 10,
              "solidity": 0.2
             }
            },
            "type": "barpolar"
           }
          ],
          "carpet": [
           {
            "aaxis": {
             "endlinecolor": "#2a3f5f",
             "gridcolor": "white",
             "linecolor": "white",
             "minorgridcolor": "white",
             "startlinecolor": "#2a3f5f"
            },
            "baxis": {
             "endlinecolor": "#2a3f5f",
             "gridcolor": "white",
             "linecolor": "white",
             "minorgridcolor": "white",
             "startlinecolor": "#2a3f5f"
            },
            "type": "carpet"
           }
          ],
          "choropleth": [
           {
            "colorbar": {
             "outlinewidth": 0,
             "ticks": ""
            },
            "type": "choropleth"
           }
          ],
          "contour": [
           {
            "colorbar": {
             "outlinewidth": 0,
             "ticks": ""
            },
            "colorscale": [
             [
              0,
              "#0d0887"
             ],
             [
              0.1111111111111111,
              "#46039f"
             ],
             [
              0.2222222222222222,
              "#7201a8"
             ],
             [
              0.3333333333333333,
              "#9c179e"
             ],
             [
              0.4444444444444444,
              "#bd3786"
             ],
             [
              0.5555555555555556,
              "#d8576b"
             ],
             [
              0.6666666666666666,
              "#ed7953"
             ],
             [
              0.7777777777777778,
              "#fb9f3a"
             ],
             [
              0.8888888888888888,
              "#fdca26"
             ],
             [
              1,
              "#f0f921"
             ]
            ],
            "type": "contour"
           }
          ],
          "contourcarpet": [
           {
            "colorbar": {
             "outlinewidth": 0,
             "ticks": ""
            },
            "type": "contourcarpet"
           }
          ],
          "heatmap": [
           {
            "colorbar": {
             "outlinewidth": 0,
             "ticks": ""
            },
            "colorscale": [
             [
              0,
              "#0d0887"
             ],
             [
              0.1111111111111111,
              "#46039f"
             ],
             [
              0.2222222222222222,
              "#7201a8"
             ],
             [
              0.3333333333333333,
              "#9c179e"
             ],
             [
              0.4444444444444444,
              "#bd3786"
             ],
             [
              0.5555555555555556,
              "#d8576b"
             ],
             [
              0.6666666666666666,
              "#ed7953"
             ],
             [
              0.7777777777777778,
              "#fb9f3a"
             ],
             [
              0.8888888888888888,
              "#fdca26"
             ],
             [
              1,
              "#f0f921"
             ]
            ],
            "type": "heatmap"
           }
          ],
          "heatmapgl": [
           {
            "colorbar": {
             "outlinewidth": 0,
             "ticks": ""
            },
            "colorscale": [
             [
              0,
              "#0d0887"
             ],
             [
              0.1111111111111111,
              "#46039f"
             ],
             [
              0.2222222222222222,
              "#7201a8"
             ],
             [
              0.3333333333333333,
              "#9c179e"
             ],
             [
              0.4444444444444444,
              "#bd3786"
             ],
             [
              0.5555555555555556,
              "#d8576b"
             ],
             [
              0.6666666666666666,
              "#ed7953"
             ],
             [
              0.7777777777777778,
              "#fb9f3a"
             ],
             [
              0.8888888888888888,
              "#fdca26"
             ],
             [
              1,
              "#f0f921"
             ]
            ],
            "type": "heatmapgl"
           }
          ],
          "histogram": [
           {
            "marker": {
             "pattern": {
              "fillmode": "overlay",
              "size": 10,
              "solidity": 0.2
             }
            },
            "type": "histogram"
           }
          ],
          "histogram2d": [
           {
            "colorbar": {
             "outlinewidth": 0,
             "ticks": ""
            },
            "colorscale": [
             [
              0,
              "#0d0887"
             ],
             [
              0.1111111111111111,
              "#46039f"
             ],
             [
              0.2222222222222222,
              "#7201a8"
             ],
             [
              0.3333333333333333,
              "#9c179e"
             ],
             [
              0.4444444444444444,
              "#bd3786"
             ],
             [
              0.5555555555555556,
              "#d8576b"
             ],
             [
              0.6666666666666666,
              "#ed7953"
             ],
             [
              0.7777777777777778,
              "#fb9f3a"
             ],
             [
              0.8888888888888888,
              "#fdca26"
             ],
             [
              1,
              "#f0f921"
             ]
            ],
            "type": "histogram2d"
           }
          ],
          "histogram2dcontour": [
           {
            "colorbar": {
             "outlinewidth": 0,
             "ticks": ""
            },
            "colorscale": [
             [
              0,
              "#0d0887"
             ],
             [
              0.1111111111111111,
              "#46039f"
             ],
             [
              0.2222222222222222,
              "#7201a8"
             ],
             [
              0.3333333333333333,
              "#9c179e"
             ],
             [
              0.4444444444444444,
              "#bd3786"
             ],
             [
              0.5555555555555556,
              "#d8576b"
             ],
             [
              0.6666666666666666,
              "#ed7953"
             ],
             [
              0.7777777777777778,
              "#fb9f3a"
             ],
             [
              0.8888888888888888,
              "#fdca26"
             ],
             [
              1,
              "#f0f921"
             ]
            ],
            "type": "histogram2dcontour"
           }
          ],
          "mesh3d": [
           {
            "colorbar": {
             "outlinewidth": 0,
             "ticks": ""
            },
            "type": "mesh3d"
           }
          ],
          "parcoords": [
           {
            "line": {
             "colorbar": {
              "outlinewidth": 0,
              "ticks": ""
             }
            },
            "type": "parcoords"
           }
          ],
          "pie": [
           {
            "automargin": true,
            "type": "pie"
           }
          ],
          "scatter": [
           {
            "fillpattern": {
             "fillmode": "overlay",
             "size": 10,
             "solidity": 0.2
            },
            "type": "scatter"
           }
          ],
          "scatter3d": [
           {
            "line": {
             "colorbar": {
              "outlinewidth": 0,
              "ticks": ""
             }
            },
            "marker": {
             "colorbar": {
              "outlinewidth": 0,
              "ticks": ""
             }
            },
            "type": "scatter3d"
           }
          ],
          "scattercarpet": [
           {
            "marker": {
             "colorbar": {
              "outlinewidth": 0,
              "ticks": ""
             }
            },
            "type": "scattercarpet"
           }
          ],
          "scattergeo": [
           {
            "marker": {
             "colorbar": {
              "outlinewidth": 0,
              "ticks": ""
             }
            },
            "type": "scattergeo"
           }
          ],
          "scattergl": [
           {
            "marker": {
             "colorbar": {
              "outlinewidth": 0,
              "ticks": ""
             }
            },
            "type": "scattergl"
           }
          ],
          "scattermapbox": [
           {
            "marker": {
             "colorbar": {
              "outlinewidth": 0,
              "ticks": ""
             }
            },
            "type": "scattermapbox"
           }
          ],
          "scatterpolar": [
           {
            "marker": {
             "colorbar": {
              "outlinewidth": 0,
              "ticks": ""
             }
            },
            "type": "scatterpolar"
           }
          ],
          "scatterpolargl": [
           {
            "marker": {
             "colorbar": {
              "outlinewidth": 0,
              "ticks": ""
             }
            },
            "type": "scatterpolargl"
           }
          ],
          "scatterternary": [
           {
            "marker": {
             "colorbar": {
              "outlinewidth": 0,
              "ticks": ""
             }
            },
            "type": "scatterternary"
           }
          ],
          "surface": [
           {
            "colorbar": {
             "outlinewidth": 0,
             "ticks": ""
            },
            "colorscale": [
             [
              0,
              "#0d0887"
             ],
             [
              0.1111111111111111,
              "#46039f"
             ],
             [
              0.2222222222222222,
              "#7201a8"
             ],
             [
              0.3333333333333333,
              "#9c179e"
             ],
             [
              0.4444444444444444,
              "#bd3786"
             ],
             [
              0.5555555555555556,
              "#d8576b"
             ],
             [
              0.6666666666666666,
              "#ed7953"
             ],
             [
              0.7777777777777778,
              "#fb9f3a"
             ],
             [
              0.8888888888888888,
              "#fdca26"
             ],
             [
              1,
              "#f0f921"
             ]
            ],
            "type": "surface"
           }
          ],
          "table": [
           {
            "cells": {
             "fill": {
              "color": "#EBF0F8"
             },
             "line": {
              "color": "white"
             }
            },
            "header": {
             "fill": {
              "color": "#C8D4E3"
             },
             "line": {
              "color": "white"
             }
            },
            "type": "table"
           }
          ]
         },
         "layout": {
          "annotationdefaults": {
           "arrowcolor": "#2a3f5f",
           "arrowhead": 0,
           "arrowwidth": 1
          },
          "autotypenumbers": "strict",
          "coloraxis": {
           "colorbar": {
            "outlinewidth": 0,
            "ticks": ""
           }
          },
          "colorscale": {
           "diverging": [
            [
             0,
             "#8e0152"
            ],
            [
             0.1,
             "#c51b7d"
            ],
            [
             0.2,
             "#de77ae"
            ],
            [
             0.3,
             "#f1b6da"
            ],
            [
             0.4,
             "#fde0ef"
            ],
            [
             0.5,
             "#f7f7f7"
            ],
            [
             0.6,
             "#e6f5d0"
            ],
            [
             0.7,
             "#b8e186"
            ],
            [
             0.8,
             "#7fbc41"
            ],
            [
             0.9,
             "#4d9221"
            ],
            [
             1,
             "#276419"
            ]
           ],
           "sequential": [
            [
             0,
             "#0d0887"
            ],
            [
             0.1111111111111111,
             "#46039f"
            ],
            [
             0.2222222222222222,
             "#7201a8"
            ],
            [
             0.3333333333333333,
             "#9c179e"
            ],
            [
             0.4444444444444444,
             "#bd3786"
            ],
            [
             0.5555555555555556,
             "#d8576b"
            ],
            [
             0.6666666666666666,
             "#ed7953"
            ],
            [
             0.7777777777777778,
             "#fb9f3a"
            ],
            [
             0.8888888888888888,
             "#fdca26"
            ],
            [
             1,
             "#f0f921"
            ]
           ],
           "sequentialminus": [
            [
             0,
             "#0d0887"
            ],
            [
             0.1111111111111111,
             "#46039f"
            ],
            [
             0.2222222222222222,
             "#7201a8"
            ],
            [
             0.3333333333333333,
             "#9c179e"
            ],
            [
             0.4444444444444444,
             "#bd3786"
            ],
            [
             0.5555555555555556,
             "#d8576b"
            ],
            [
             0.6666666666666666,
             "#ed7953"
            ],
            [
             0.7777777777777778,
             "#fb9f3a"
            ],
            [
             0.8888888888888888,
             "#fdca26"
            ],
            [
             1,
             "#f0f921"
            ]
           ]
          },
          "colorway": [
           "#636efa",
           "#EF553B",
           "#00cc96",
           "#ab63fa",
           "#FFA15A",
           "#19d3f3",
           "#FF6692",
           "#B6E880",
           "#FF97FF",
           "#FECB52"
          ],
          "font": {
           "color": "#2a3f5f"
          },
          "geo": {
           "bgcolor": "white",
           "lakecolor": "white",
           "landcolor": "#E5ECF6",
           "showlakes": true,
           "showland": true,
           "subunitcolor": "white"
          },
          "hoverlabel": {
           "align": "left"
          },
          "hovermode": "closest",
          "mapbox": {
           "style": "light"
          },
          "paper_bgcolor": "white",
          "plot_bgcolor": "#E5ECF6",
          "polar": {
           "angularaxis": {
            "gridcolor": "white",
            "linecolor": "white",
            "ticks": ""
           },
           "bgcolor": "#E5ECF6",
           "radialaxis": {
            "gridcolor": "white",
            "linecolor": "white",
            "ticks": ""
           }
          },
          "scene": {
           "xaxis": {
            "backgroundcolor": "#E5ECF6",
            "gridcolor": "white",
            "gridwidth": 2,
            "linecolor": "white",
            "showbackground": true,
            "ticks": "",
            "zerolinecolor": "white"
           },
           "yaxis": {
            "backgroundcolor": "#E5ECF6",
            "gridcolor": "white",
            "gridwidth": 2,
            "linecolor": "white",
            "showbackground": true,
            "ticks": "",
            "zerolinecolor": "white"
           },
           "zaxis": {
            "backgroundcolor": "#E5ECF6",
            "gridcolor": "white",
            "gridwidth": 2,
            "linecolor": "white",
            "showbackground": true,
            "ticks": "",
            "zerolinecolor": "white"
           }
          },
          "shapedefaults": {
           "line": {
            "color": "#2a3f5f"
           }
          },
          "ternary": {
           "aaxis": {
            "gridcolor": "white",
            "linecolor": "white",
            "ticks": ""
           },
           "baxis": {
            "gridcolor": "white",
            "linecolor": "white",
            "ticks": ""
           },
           "bgcolor": "#E5ECF6",
           "caxis": {
            "gridcolor": "white",
            "linecolor": "white",
            "ticks": ""
           }
          },
          "title": {
           "x": 0.05
          },
          "xaxis": {
           "automargin": true,
           "gridcolor": "white",
           "linecolor": "white",
           "ticks": "",
           "title": {
            "standoff": 15
           },
           "zerolinecolor": "white",
           "zerolinewidth": 2
          },
          "yaxis": {
           "automargin": true,
           "gridcolor": "white",
           "linecolor": "white",
           "ticks": "",
           "title": {
            "standoff": 15
           },
           "zerolinecolor": "white",
           "zerolinewidth": 2
          }
         }
        },
        "title": {
         "text": ""
        },
        "xaxis": {
         "autorange": true,
         "gridcolor": "LightGrey",
         "gridwidth": 1,
         "range": [
          "2023-09-28 12:00",
          "2023-12-28 12:00"
         ],
         "rangeslider": {
          "autorange": true,
          "range": [
           "2023-09-28 12:00",
           "2023-12-28 12:00"
          ],
          "yaxis": {
           "_template": null,
           "rangemode": "match"
          }
         },
         "showgrid": true,
         "type": "date"
        },
        "yaxis": {
         "autorange": true,
         "gridcolor": "LightGrey",
         "gridwidth": 1,
         "range": [
          304.2092021976448,
          385.5127310180054
         ],
         "showgrid": true
        }
       }
      },
      "image/png": "[encoded data removed]",
      "text/html": [
       "<div>                            <div id=\"b564cfc4-230b-429a-888d-51cafde52f26\" class=\"plotly-graph-div\" style=\"height:600px; width:100%;\"></div>            <script type=\"text/javascript\">                require([\"plotly\"], function(Plotly) {                    window.PLOTLYENV=window.PLOTLYENV || {};                                    if (document.getElementById(\"b564cfc4-230b-429a-888d-51cafde52f26\")) {                    Plotly.newPlot(                        \"b564cfc4-230b-429a-888d-51cafde52f26\",                        [{\"close\":[312.77154541015625,318.76446533203125,310.433837890625,315.9512939453125,316.3475036621094,324.1730041503906,326.7088317871094,325.2923278808594,329.2843017578125,324.6385498046875,329.5022277832031,328.927734375,326.99609375,328.1947021484375,323.5885925292969,326.2135925292969,327.4121398925781,337.4565124511719,324.7970886230469,326.6989440917969,334.1282043457031,334.920654296875,342.8055419921875,349.4720458984375,353.16693115234375,357.1291809082031,359.7739562988281,357.2876281738281,366.1829528808594,363.22113037109375,366.7772521972656,373.3779602050781,367.1048583984375,374.6384887695313,370.3009338378906,375.04547119140625,374.6285400390625,375.7997741699219,379.8594970703125,376.03802490234375,376.09759521484375,371.730224609375,366.4001159667969,369.7550048828125,366.0626220703125,368.1966552734375,371.4523315429687,368.5440368652344,371.6012268066406,371.59124755859375,363.2138977050781,367.9783020019531,369.8840026855469,370.4895629882813,367.86907958984375,370.7674560546875,371.7997131347656,371.8791198730469,371.29351806640625,372.4945068359375],\"high\":[316.4564560379535,318.853642968879,318.3583746883624,317.02112341032625,316.9616806747639,326.084791429699,327.1842846242437,327.97675612056497,329.68052251947216,330.680984618951,332.969212350469,330.3145223768525,332.4244123884925,333.7022528617968,328.78907020079464,329.59143025678,328.70978036544676,342.93434738928164,338.4074720640278,333.54376661625815,336.24803256583084,335.80227359622387,344.14281353902476,351.0470741224753,354.16741372206013,359.040968292871,360.4376192782834,361.3489590848818,366.6088894784068,364.99425391218455,368.4414278225423,373.5566169180965,371.5912985753834,376.0578674563183,373.42754723095845,376.97107425610585,375.1645404012978,377.81473568926896,380.1572582632301,381.4475545769874,377.26882955398304,375.35312657616646,366.7772700166467,370.3108459279077,371.4026946281754,368.69294404976455,371.680605008,368.8418283086429,371.6409383942837,374.83699548980223,370.98579692958174,369.63588961946664,370.2314108719232,370.4895629882813,373.23892766598055,371.6309937454321,372.3952657674826,374.1421955445061,372.2761602183441,373.6657410910667],\"low\":[312.0088196658807,312.2069162826865,308.2743786386628,311.03808927960966,311.92958273311405,313.3163667904676,320.13145206281695,324.5791183960633,326.03524314467325,323.2814475547989,327.481462599679,324.32160304790966,325.2031697015897,327.7885660057624,322.3800993659699,321.33010356372546,324.5097855665259,334.43526461185274,323.85603770592473,325.3022408050966,328.699885458302,331.53293147418856,336.4460883090784,344.05364288310676,350.0169346352546,354.25654215859316,357.14892949350883,356.9607241219027,357.6640697813667,362.4484892563254,363.88481332825825,367.43239928816575,364.2760059723192,368.24628665339475,368.3653953944815,372.18684271222065,372.3555592432774,373.40768891461767,375.3531858407325,374.6384868697118,372.6831257280476,368.5539643614396,360.20641104069097,362.90622534848177,365.2983481911379,363.6010163580793,365.4968658565483,363.3826517145165,367.710309076404,368.01796236834986,361.4272702211566,363.5613195961459,365.9434687630156,367.09493391711186,367.7797512470062,367.2934343528452,369.943597824132,370.7277262449622,370.042860570438,371.382824811336],\"name\":\"MSFT\",\"open\":[314.7526795061826,313.2965460861367,317.8036293011886,311.0678050853206,316.08006142009754,313.56400856953996,321.6866495869274,327.8380622233817,328.08569389943113,329.24468053593233,327.9271996205036,326.4810322386308,329.3536483055121,329.0168595486858,328.5909446738055,322.3999028221572,328.17486567114935,341.76545521871486,337.32775746053113,327.3130908782091,330.26499849048633,335.6536945653536,336.5847822046158,346.33196525386137,350.11599740359395,356.0098351683549,358.2682750707736,358.8824265984055,358.0800910344148,364.7466121416856,367.5102923734174,368.2066086689788,370.83692985080074,368.4646549352899,372.88164166541463,375.1943517807251,374.5292762251577,373.983370569386,375.5417780266028,380.9115844895604,375.6806992801835,373.9635240768432,366.3604043806309,363.7300817378277,370.76746068896693,365.496843118576,366.4596673541622,365.74499115999953,368.0974289010253,373.2289944358956,370.5391249130698,364.12709609407943,366.70777283125585,368.7326810682885,372.2165740209788,369.79471907338814,370.9063993312227,372.21659261542385,370.916333723745,372.58383518172906],\"showlegend\":true,\"x\":[\"2023-09-29\",\"2023-10-02\",\"2023-10-03\",\"2023-10-04\",\"2023-10-05\",\"2023-10-06\",\"2023-10-09\",\"2023-10-10\",\"2023-10-11\",\"2023-10-13\",\"2023-10-16\",\"2023-10-17\",\"2023-10-18\",\"2023-10-19\",\"2023-10-20\",\"2023-10-23\",\"2023-10-24\",\"2023-10-25\",\"2023-10-26\",\"2023-10-27\",\"2023-10-30\",\"2023-10-31\",\"2023-11-01\",\"2023-11-03\",\"2023-11-06\",\"2023-11-07\",\"2023-11-08\",\"2023-11-09\",\"2023-11-10\",\"2023-11-13\",\"2023-11-14\",\"2023-11-16\",\"2023-11-17\",\"2023-11-20\",\"2023-11-21\",\"2023-11-22\",\"2023-11-24\",\"2023-11-27\",\"2023-11-28\",\"2023-11-29\",\"2023-11-30\",\"2023-12-01\",\"2023-12-04\",\"2023-12-05\",\"2023-12-06\",\"2023-12-07\",\"2023-12-08\",\"2023-12-11\",\"2023-12-12\",\"2023-12-13\",\"2023-12-14\",\"2023-12-15\",\"2023-12-18\",\"2023-12-19\",\"2023-12-20\",\"2023-12-21\",\"2023-12-22\",\"2023-12-26\",\"2023-12-27\",\"2023-12-28\"],\"type\":\"candlestick\"}],                        {\"height\":600,\"paper_bgcolor\":\"rgba(0,0,0,0)\",\"plot_bgcolor\":\"black\",\"template\":{\"data\":{\"histogram2dcontour\":[{\"type\":\"histogram2dcontour\",\"colorbar\":{\"outlinewidth\":0,\"ticks\":\"\"},\"colorscale\":[[0.0,\"#0d0887\"],[0.1111111111111111,\"#46039f\"],[0.2222222222222222,\"#7201a8\"],[0.3333333333333333,\"#9c179e\"],[0.4444444444444444,\"#bd3786\"],[0.5555555555555556,\"#d8576b\"],[0.6666666666666666,\"#ed7953\"],[0.7777777777777778,\"#fb9f3a\"],[0.8888888888888888,\"#fdca26\"],[1.0,\"#f0f921\"]]}],\"choropleth\":[{\"type\":\"choropleth\",\"colorbar\":{\"outlinewidth\":0,\"ticks\":\"\"}}],\"histogram2d\":[{\"type\":\"histogram2d\",\"colorbar\":{\"outlinewidth\":0,\"ticks\":\"\"},\"colorscale\":[[0.0,\"#0d0887\"],[0.1111111111111111,\"#46039f\"],[0.2222222222222222,\"#7201a8\"],[0.3333333333333333,\"#9c179e\"],[0.4444444444444444,\"#bd3786\"],[0.5555555555555556,\"#d8576b\"],[0.6666666666666666,\"#ed7953\"],[0.7777777777777778,\"#fb9f3a\"],[0.8888888888888888,\"#fdca26\"],[1.0,\"#f0f921\"]]}],\"heatmap\":[{\"type\":\"heatmap\",\"colorbar\":{\"outlinewidth\":0,\"ticks\":\"\"},\"colorscale\":[[0.0,\"#0d0887\"],[0.1111111111111111,\"#46039f\"],[0.2222222222222222,\"#7201a8\"],[0.3333333333333333,\"#9c179e\"],[0.4444444444444444,\"#bd3786\"],[0.5555555555555556,\"#d8576b\"],[0.6666666666666666,\"#ed7953\"],[0.7777777777777778,\"#fb9f3a\"],[0.8888888888888888,\"#fdca26\"],[1.0,\"#f0f921\"]]}],\"heatmapgl\":[{\"type\":\"heatmapgl\",\"colorbar\":{\"outlinewidth\":0,\"ticks\":\"\"},\"colorscale\":[[0.0,\"#0d0887\"],[0.1111111111111111,\"#46039f\"],[0.2222222222222222,\"#7201a8\"],[0.3333333333333333,\"#9c179e\"],[0.4444444444444444,\"#bd3786\"],[0.5555555555555556,\"#d8576b\"],[0.6666666666666666,\"#ed7953\"],[0.7777777777777778,\"#fb9f3a\"],[0.8888888888888888,\"#fdca26\"],[1.0,\"#f0f921\"]]}],\"contourcarpet\":[{\"type\":\"contourcarpet\",\"colorbar\":{\"outlinewidth\":0,\"ticks\":\"\"}}],\"contour\":[{\"type\":\"contour\",\"colorbar\":{\"outlinewidth\":0,\"ticks\":\"\"},\"colorscale\":[[0.0,\"#0d0887\"],[0.1111111111111111,\"#46039f\"],[0.2222222222222222,\"#7201a8\"],[0.3333333333333333,\"#9c179e\"],[0.4444444444444444,\"#bd3786\"],[0.5555555555555556,\"#d8576b\"],[0.6666666666666666,\"#ed7953\"],[0.7777777777777778,\"#fb9f3a\"],[0.8888888888888888,\"#fdca26\"],[1.0,\"#f0f921\"]]}],\"surface\":[{\"type\":\"surface\",\"colorbar\":{\"outlinewidth\":0,\"ticks\":\"\"},\"colorscale\":[[0.0,\"#0d0887\"],[0.1111111111111111,\"#46039f\"],[0.2222222222222222,\"#7201a8\"],[0.3333333333333333,\"#9c179e\"],[0.4444444444444444,\"#bd3786\"],[0.5555555555555556,\"#d8576b\"],[0.6666666666666666,\"#ed7953\"],[0.7777777777777778,\"#fb9f3a\"],[0.8888888888888888,\"#fdca26\"],[1.0,\"#f0f921\"]]}],\"mesh3d\":[{\"type\":\"mesh3d\",\"colorbar\":{\"outlinewidth\":0,\"ticks\":\"\"}}],\"scatter\":[{\"fillpattern\":{\"fillmode\":\"overlay\",\"size\":10,\"solidity\":0.2},\"type\":\"scatter\"}],\"parcoords\":[{\"type\":\"parcoords\",\"line\":{\"colorbar\":{\"outlinewidth\":0,\"ticks\":\"\"}}}],\"scatterpolargl\":[{\"type\":\"scatterpolargl\",\"marker\":{\"colorbar\":{\"outlinewidth\":0,\"ticks\":\"\"}}}],\"bar\":[{\"error_x\":{\"color\":\"#2a3f5f\"},\"error_y\":{\"color\":\"#2a3f5f\"},\"marker\":{\"line\":{\"color\":\"#E5ECF6\",\"width\":0.5},\"pattern\":{\"fillmode\":\"overlay\",\"size\":10,\"solidity\":0.2}},\"type\":\"bar\"}],\"scattergeo\":[{\"type\":\"scattergeo\",\"marker\":{\"colorbar\":{\"outlinewidth\":0,\"ticks\":\"\"}}}],\"scatterpolar\":[{\"type\":\"scatterpolar\",\"marker\":{\"colorbar\":{\"outlinewidth\":0,\"ticks\":\"\"}}}],\"histogram\":[{\"marker\":{\"pattern\":{\"fillmode\":\"overlay\",\"size\":10,\"solidity\":0.2}},\"type\":\"histogram\"}],\"scattergl\":[{\"type\":\"scattergl\",\"marker\":{\"colorbar\":{\"outlinewidth\":0,\"ticks\":\"\"}}}],\"scatter3d\":[{\"type\":\"scatter3d\",\"line\":{\"colorbar\":{\"outlinewidth\":0,\"ticks\":\"\"}},\"marker\":{\"colorbar\":{\"outlinewidth\":0,\"ticks\":\"\"}}}],\"scattermapbox\":[{\"type\":\"scattermapbox\",\"marker\":{\"colorbar\":{\"outlinewidth\":0,\"ticks\":\"\"}}}],\"scatterternary\":[{\"type\":\"scatterternary\",\"marker\":{\"colorbar\":{\"outlinewidth\":0,\"ticks\":\"\"}}}],\"scattercarpet\":[{\"type\":\"scattercarpet\",\"marker\":{\"colorbar\":{\"outlinewidth\":0,\"ticks\":\"\"}}}],\"carpet\":[{\"aaxis\":{\"endlinecolor\":\"#2a3f5f\",\"gridcolor\":\"white\",\"linecolor\":\"white\",\"minorgridcolor\":\"white\",\"startlinecolor\":\"#2a3f5f\"},\"baxis\":{\"endlinecolor\":\"#2a3f5f\",\"gridcolor\":\"white\",\"linecolor\":\"white\",\"minorgridcolor\":\"white\",\"startlinecolor\":\"#2a3f5f\"},\"type\":\"carpet\"}],\"table\":[{\"cells\":{\"fill\":{\"color\":\"#EBF0F8\"},\"line\":{\"color\":\"white\"}},\"header\":{\"fill\":{\"color\":\"#C8D4E3\"},\"line\":{\"color\":\"white\"}},\"type\":\"table\"}],\"barpolar\":[{\"marker\":{\"line\":{\"color\":\"#E5ECF6\",\"width\":0.5},\"pattern\":{\"fillmode\":\"overlay\",\"size\":10,\"solidity\":0.2}},\"type\":\"barpolar\"}],\"pie\":[{\"automargin\":true,\"type\":\"pie\"}]},\"layout\":{\"autotypenumbers\":\"strict\",\"colorway\":[\"#636efa\",\"#EF553B\",\"#00cc96\",\"#ab63fa\",\"#FFA15A\",\"#19d3f3\",\"#FF6692\",\"#B6E880\",\"#FF97FF\",\"#FECB52\"],\"font\":{\"color\":\"#2a3f5f\"},\"hovermode\":\"closest\",\"hoverlabel\":{\"align\":\"left\"},\"paper_bgcolor\":\"white\",\"plot_bgcolor\":\"#E5ECF6\",\"polar\":{\"bgcolor\":\"#E5ECF6\",\"angularaxis\":{\"gridcolor\":\"white\",\"linecolor\":\"white\",\"ticks\":\"\"},\"radialaxis\":{\"gridcolor\":\"white\",\"linecolor\":\"white\",\"ticks\":\"\"}},\"ternary\":{\"bgcolor\":\"#E5ECF6\",\"aaxis\":{\"gridcolor\":\"white\",\"linecolor\":\"white\",\"ticks\":\"\"},\"baxis\":{\"gridcolor\":\"white\",\"linecolor\":\"white\",\"ticks\":\"\"},\"caxis\":{\"gridcolor\":\"white\",\"linecolor\":\"white\",\"ticks\":\"\"}},\"coloraxis\":{\"colorbar\":{\"outlinewidth\":0,\"ticks\":\"\"}},\"colorscale\":{\"sequential\":[[0.0,\"#0d0887\"],[0.1111111111111111,\"#46039f\"],[0.2222222222222222,\"#7201a8\"],[0.3333333333333333,\"#9c179e\"],[0.4444444444444444,\"#bd3786\"],[0.5555555555555556,\"#d8576b\"],[0.6666666666666666,\"#ed7953\"],[0.7777777777777778,\"#fb9f3a\"],[0.8888888888888888,\"#fdca26\"],[1.0,\"#f0f921\"]],\"sequentialminus\":[[0.0,\"#0d0887\"],[0.1111111111111111,\"#46039f\"],[0.2222222222222222,\"#7201a8\"],[0.3333333333333333,\"#9c179e\"],[0.4444444444444444,\"#bd3786\"],[0.5555555555555556,\"#d8576b\"],[0.6666666666666666,\"#ed7953\"],[0.7777777777777778,\"#fb9f3a\"],[0.8888888888888888,\"#fdca26\"],[1.0,\"#f0f921\"]],\"diverging\":[[0,\"#8e0152\"],[0.1,\"#c51b7d\"],[0.2,\"#de77ae\"],[0.3,\"#f1b6da\"],[0.4,\"#fde0ef\"],[0.5,\"#f7f7f7\"],[0.6,\"#e6f5d0\"],[0.7,\"#b8e186\"],[0.8,\"#7fbc41\"],[0.9,\"#4d9221\"],[1,\"#276419\"]]},\"xaxis\":{\"gridcolor\":\"white\",\"linecolor\":\"white\",\"ticks\":\"\",\"title\":{\"standoff\":15},\"zerolinecolor\":\"white\",\"automargin\":true,\"zerolinewidth\":2},\"yaxis\":{\"gridcolor\":\"white\",\"linecolor\":\"white\",\"ticks\":\"\",\"title\":{\"standoff\":15},\"zerolinecolor\":\"white\",\"automargin\":true,\"zerolinewidth\":2},\"scene\":{\"xaxis\":{\"backgroundcolor\":\"#E5ECF6\",\"gridcolor\":\"white\",\"linecolor\":\"white\",\"showbackground\":true,\"ticks\":\"\",\"zerolinecolor\":\"white\",\"gridwidth\":2},\"yaxis\":{\"backgroundcolor\":\"#E5ECF6\",\"gridcolor\":\"white\",\"linecolor\":\"white\",\"showbackground\":true,\"ticks\":\"\",\"zerolinecolor\":\"white\",\"gridwidth\":2},\"zaxis\":{\"backgroundcolor\":\"#E5ECF6\",\"gridcolor\":\"white\",\"linecolor\":\"white\",\"showbackground\":true,\"ticks\":\"\",\"zerolinecolor\":\"white\",\"gridwidth\":2}},\"shapedefaults\":{\"line\":{\"color\":\"#2a3f5f\"}},\"annotationdefaults\":{\"arrowcolor\":\"#2a3f5f\",\"arrowhead\":0,\"arrowwidth\":1},\"geo\":{\"bgcolor\":\"white\",\"landcolor\":\"#E5ECF6\",\"subunitcolor\":\"white\",\"showland\":true,\"showlakes\":true,\"lakecolor\":\"white\"},\"title\":{\"x\":0.05},\"mapbox\":{\"style\":\"light\"}}},\"title\":{\"text\":\"\"},\"xaxis\":{\"showgrid\":true,\"gridwidth\":1,\"gridcolor\":\"LightGrey\"},\"yaxis\":{\"showgrid\":true,\"gridwidth\":1,\"gridcolor\":\"LightGrey\"}},                        {\"responsive\": true}                    ).then(function(){\n",
       "                            \n",
       "var gd = document.getElementById('b564cfc4-230b-429a-888d-51cafde52f26');\n",
       "var x = new MutationObserver(function (mutations, observer) {{\n",
       "        var display = window.getComputedStyle(gd).display;\n",
       "        if (!display || display === 'none') {{\n",
       "            console.log([gd, 'removed!']);\n",
       "            Plotly.purge(gd);\n",
       "            observer.disconnect();\n",
       "        }}\n",
       "}});\n",
       "\n",
       "// Listen for the removal of the full notebook cells\n",
       "var notebookContainer = gd.closest('#notebook-container');\n",
       "if (notebookContainer) {{\n",
       "    x.observe(notebookContainer, {childList: true});\n",
       "}}\n",
       "\n",
       "// Listen for the clearing of the current output cell\n",
       "var outputEl = gd.closest('.output');\n",
       "if (outputEl) {{\n",
       "    x.observe(outputEl, {childList: true});\n",
       "}}\n",
       "\n",
       "                        })                };                });            </script>        </div>"
      ]
     },
     "metadata": {},
     "output_type": "display_data"
    }
   ],
   "source": [
    "layout = Layout(paper_bgcolor='rgba(0,0,0,0)',\n",
    "                plot_bgcolor='black',\n",
    "                height=600)\n",
    "\n",
    "graph = {\n",
    "    'x': df_60.index,\n",
    "    'open': df_60.Open,\n",
    "    'close': df_60.Close,\n",
    "    'high': df_60.High,\n",
    "    'low': df_60.Low,\n",
    "    'type': 'candlestick',\n",
    "    'name': 'MSFT',\n",
    "    'showlegend': True\n",
    "}\n",
    "\n",
    "fig = graph_objects.Figure(data=[graph], layout_title='', layout=layout)\n",
    "\n",
    "fig.update_xaxes(showgrid=True, gridwidth=1, gridcolor='LightGrey')\n",
    "fig.update_yaxes(showgrid=True, gridwidth=1, gridcolor='LightGrey')\n",
    "\n",
    "fig"
   ]
  }
 ],
 "metadata": {
  "kernelspec": {
   "display_name": "Python [conda env:base] *",
   "language": "python",
   "name": "conda-base-py"
  },
  "language_info": {
   "codemirror_mode": {
    "name": "ipython",
    "version": 3
   },
   "file_extension": ".py",
   "mimetype": "text/x-python",
   "name": "python",
   "nbconvert_exporter": "python",
   "pygments_lexer": "ipython3",
   "version": "3.12.7"
  },
  "toc": {
   "base_numbering": 1,
   "nav_menu": {},
   "number_sections": false,
   "sideBar": true,
   "skip_h1_title": true,
   "title_cell": "Índice",
   "title_sidebar": "Conteúdo",
   "toc_cell": false,
   "toc_position": {},
   "toc_section_display": true,
   "toc_window_display": false
  },
  "varInspector": {
   "cols": {
    "lenName": 16,
    "lenType": 16,
    "lenVar": 40
   },
   "kernels_config": {
    "python": {
     "delete_cmd_postfix": "",
     "delete_cmd_prefix": "del ",
     "library": "var_list.py",
     "varRefreshCmd": "print(var_dic_list())"
    },
    "r": {
     "delete_cmd_postfix": ") ",
     "delete_cmd_prefix": "rm(",
     "library": "var_list.r",
     "varRefreshCmd": "cat(var_dic_list()) "
    }
   },
   "types_to_exclude": [
    "module",
    "function",
    "builtin_function_or_method",
    "instance",
    "_Feature"
   ],
   "window_display": false
  }
 },
 "nbformat": 4,
 "nbformat_minor": 4
}
